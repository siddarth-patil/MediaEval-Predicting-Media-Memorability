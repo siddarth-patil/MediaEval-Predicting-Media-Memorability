{
 "cells": [
  {
   "cell_type": "markdown",
   "metadata": {
    "id": "n0jrBxd_9lPb"
   },
   "source": [
    "# Setting up the enviroment\n"
   ]
  },
  {
   "cell_type": "code",
   "execution_count": null,
   "metadata": {
    "colab": {
     "base_uri": "https://localhost:8080/"
    },
    "id": "p2ENFE77CpuI",
    "outputId": "886565d1-2129-4438-fb77-fccc22a79c76"
   },
   "outputs": [
    {
     "name": "stdout",
     "output_type": "stream",
     "text": [
      "Requirement already satisfied: xgboost in /usr/local/lib/python3.7/dist-packages (0.90)\n",
      "Requirement already satisfied: numpy in /usr/local/lib/python3.7/dist-packages (from xgboost) (1.19.5)\n",
      "Requirement already satisfied: scipy in /usr/local/lib/python3.7/dist-packages (from xgboost) (1.4.1)\n"
     ]
    }
   ],
   "source": [
    "pip install xgboost"
   ]
  },
  {
   "cell_type": "code",
   "execution_count": null,
   "metadata": {
    "id": "RNhSvImX9sXy"
   },
   "outputs": [],
   "source": [
    "import glob\n",
    "\n",
    "import itertools\n",
    "\n",
    "import keras\n",
    "from keras.callbacks import EarlyStopping\n",
    "from keras.layers import Dense\n",
    "from keras.layers import Dropout\n",
    "from keras.models import Sequential\n",
    "\n",
    "import matplotlib.pyplot as plt\n",
    "\n",
    "from numpy import load\n",
    "import numpy as np\n",
    "from numpy import save\n",
    "import os\n",
    "import pandas as pd\n",
    "\n",
    "from sklearn.ensemble import RandomForestRegressor\n",
    "from sklearn.model_selection import train_test_split\n",
    "from sklearn.neighbors import KNeighborsRegressor\n",
    "from sklearn.preprocessing import StandardScaler\n",
    "from sklearn.svm import SVR\n",
    "\n",
    "from xgboost import XGBRegressor"
   ]
  },
  {
   "cell_type": "markdown",
   "metadata": {
    "id": "2TQZPIyoIhjp"
   },
   "source": [
    "# Loading features"
   ]
  },
  {
   "cell_type": "markdown",
   "metadata": {
    "id": "yX24QfN3bs9Q"
   },
   "source": [
    "## Defining Functions"
   ]
  },
  {
   "cell_type": "code",
   "execution_count": null,
   "metadata": {
    "id": "mbQp8Q2qbzrs"
   },
   "outputs": [],
   "source": [
    "## Defining the method for reading Aesthetic Features from a file\n",
    "\n",
    "def read_aesthetic_features(fname):\n",
    "    \"\"\"Scan vectors from file\"\"\"\n",
    "    with open(fname) as f:\n",
    "        for line in f:\n",
    "            asf =[float(item) for item in line.split(',')] # convert to float type, using \",\" separator\n",
    "    return asf"
   ]
  },
  {
   "cell_type": "code",
   "execution_count": null,
   "metadata": {
    "id": "J4eY3HG5qrOS"
   },
   "outputs": [],
   "source": [
    "## Defining the method for reading HMP Features from a file\n",
    "\n",
    "def read_HMP(fname):\n",
    "    \"\"\"Scan HMP(Histogram of Motion Patterns) features from file\"\"\"\n",
    "    with open(fname) as f:\n",
    "        for line in f:\n",
    "            pairs=line.split()\n",
    "            HMP_temp = { int(p.split(':')[0]) : float(p.split(':')[1]) for p in pairs}\n",
    "    # there are 6075 bins, fill zeros\n",
    "    HMP = np.zeros(6075)\n",
    "    for idx in HMP_temp.keys():\n",
    "        HMP[idx-1] = HMP_temp[idx]            \n",
    "    return HMP"
   ]
  },
  {
   "cell_type": "code",
   "execution_count": null,
   "metadata": {
    "id": "V1KD_7BJxDq8"
   },
   "outputs": [],
   "source": [
    "## Defining the method for reading LBP Features from a file\n",
    "def read_lbp(fname):\n",
    "    with open(fname) as f:\n",
    "        for line in f:\n",
    "            LBP = [float(item) for item in line.split()]\n",
    "    return LBP"
   ]
  },
  {
   "cell_type": "code",
   "execution_count": null,
   "metadata": {
    "id": "KEqWEF-N5Itt"
   },
   "outputs": [],
   "source": [
    "## Defining the method for reading ColorHistogram Features from a file\n",
    "\n",
    "def read_ColorHistogram(fname):\n",
    "    \"\"\"Scan Color Histogram from file\n",
    "    Input file contains RGB histogram,\n",
    "    Return a matrix of (3,256)\"\"\"\n",
    "    RGB_Hist = np.zeros((3,256))\n",
    "    with open(fname) as f:\n",
    "        i_l = 0 # line index\n",
    "        for line in f:\n",
    "            pairs = line.split()\n",
    "            hist_dict = {int(p.split(':')[0]):int(p.split(':')[1]) for p in pairs}\n",
    "            for idx in hist_dict.keys():\n",
    "                RGB_Hist[i_l,idx] = hist_dict[idx]\n",
    "            i_l += 1\n",
    "    return RGB_Hist"
   ]
  },
  {
   "cell_type": "code",
   "execution_count": null,
   "metadata": {
    "id": "U6p_1AvX5W4T"
   },
   "outputs": [],
   "source": [
    "## Defining the method for reading C3D Features from a file\n",
    "\n",
    "def read_C3D(fname):\n",
    "    \"\"\"Scan vectors from file\"\"\"\n",
    "    with open(fname) as f:\n",
    "        for line in f:\n",
    "            C3D =[float(item) for item in line.split()] # convert to float type, using default separator\n",
    "    return C3D"
   ]
  },
  {
   "cell_type": "code",
   "execution_count": null,
   "metadata": {
    "id": "Vuu3jum_3DsC"
   },
   "outputs": [],
   "source": [
    "## Defining the method for reading InceptionV3 Features from a file\n",
    "\n",
    "def read_InceptionV3(fname):\n",
    "    with open(fname) as f:\n",
    "        for line in f:\n",
    "            pairs=line.split()\n",
    "            InceptionV3_temp = { int(p.split(':')[0]) : float(p.split(':')[1]) for p in pairs}\n",
    "    # there are 1000 bins, fill zeros\n",
    "    InceptionV3 = np.zeros(1000)\n",
    "    for idx in InceptionV3_temp.keys():\n",
    "        InceptionV3[idx-1] = InceptionV3_temp[idx]            \n",
    "    return InceptionV3"
   ]
  },
  {
   "cell_type": "code",
   "execution_count": null,
   "metadata": {
    "id": "m1W9ySCA3Jue"
   },
   "outputs": [],
   "source": [
    "## Defining the method for reading HOG Features from a file\n",
    "def read_hog(fname):\n",
    "    with open(fname) as f:\n",
    "        for line in f:\n",
    "            HOG = [float(item) for item in line.split()]\n",
    "    return HOG"
   ]
  },
  {
   "cell_type": "markdown",
   "metadata": {
    "id": "t1iVtXPH3k-f"
   },
   "source": [
    "**NOTE:** All the features were loaded in Jupyter notebook in local machine and were saved and uploaded to drive in pickle format. \n",
    "\n",
    "These pickle format files were used to load the features in this Colab Notebook"
   ]
  },
  {
   "cell_type": "markdown",
   "metadata": {
    "id": "ZnZ6KVmXtZgd"
   },
   "source": [
    "## C3D Feature"
   ]
  },
  {
   "cell_type": "code",
   "execution_count": null,
   "metadata": {
    "id": "mxB4jQOg3Ulh"
   },
   "outputs": [],
   "source": [
    "## Code from local machine\n",
    "## Calling the method for fetching C3D features and storing them into a array list using loop\n",
    "\n",
    "my_numlist= [] # Creating new list to store the C3D features\n",
    "my_namelist = [] # Creating a new list to store the names of the videos\n",
    "for filename in glob.glob('Dev-set/C3D/*.txt'):\n",
    "    s= read_C3D(filename)\n",
    "    my_numlist.append(s)\n",
    "    my_namelist.append(((filename.split('\\\\')[-1]).split('.')[0])) ## Filename is \"Dev-set/C3D\\video10.txt\"\n",
    "\n",
    "## Adding ground truth to the dataframe\n",
    "ground_truth = pd.read_csv('Dev-set/Ground-truth/ground-truth.csv')\n",
    "#Dropping annotation coulumn from ground truth as we dont need them\n",
    "ground_truth = ground_truth.drop(['nb_short-term_annotations', 'nb_long-term_annotations'], axis=1)\n",
    "ground_truth.head()\n",
    "# Cleanig the video name\n",
    "ground_truth['video'] = ground_truth['video'].apply(lambda x : x.split('.')[0])\n",
    "ground_truth.head()\n",
    "\n",
    "## Creating dataframe for C3D feature\n",
    "c3d = pd.DataFrame()\n",
    "c3d[\"video\"] = ground_truth['video']\n",
    "c3d['c3d'] = ''\n",
    "c3d.head() \n",
    "\n",
    "## Merging C3D feature values with ground truth dataframe\n",
    "c3d = pd.merge(ground_truth, c3d , on='video')\n",
    "c3d.index = c3d.video\n",
    "del c3d['video']\n",
    "c3d.head()\n",
    "\n",
    "\n",
    "## Adding the list of values of C3D feature to appropriate column\n",
    "for i in c3d.index:\n",
    "    for j in my_namelist:\n",
    "        if (i == j):\n",
    "            c3d.at[i, 'c3d'] = my_numlist[my_namelist.index(j)]\n",
    "\n",
    "\n",
    "## Replacing missing values by 0\n",
    "c3d = c3d.replace(to_replace ='', value =0)\n",
    "\n",
    "## Saving the dataframe using Pickle\n",
    "c3d.to_pickle('Dev-loaded-features/c3d')"
   ]
  },
  {
   "cell_type": "code",
   "execution_count": null,
   "metadata": {
    "id": "R09NCHQw9vRM"
   },
   "outputs": [],
   "source": [
    "c3d = pd.read_pickle('/content/drive/MyDrive/ML Assignment/c3d')"
   ]
  },
  {
   "cell_type": "code",
   "execution_count": null,
   "metadata": {
    "colab": {
     "base_uri": "https://localhost:8080/",
     "height": 233
    },
    "id": "ou3QhS28-XT8",
    "outputId": "98930f51-c80d-469d-8e52-16ac4bb78e48"
   },
   "outputs": [
    {
     "data": {
      "text/html": [
       "<div>\n",
       "<style scoped>\n",
       "    .dataframe tbody tr th:only-of-type {\n",
       "        vertical-align: middle;\n",
       "    }\n",
       "\n",
       "    .dataframe tbody tr th {\n",
       "        vertical-align: top;\n",
       "    }\n",
       "\n",
       "    .dataframe thead th {\n",
       "        text-align: right;\n",
       "    }\n",
       "</style>\n",
       "<table border=\"1\" class=\"dataframe\">\n",
       "  <thead>\n",
       "    <tr style=\"text-align: right;\">\n",
       "      <th></th>\n",
       "      <th>short-term_memorability</th>\n",
       "      <th>long-term_memorability</th>\n",
       "      <th>c3d</th>\n",
       "    </tr>\n",
       "    <tr>\n",
       "      <th>video</th>\n",
       "      <th></th>\n",
       "      <th></th>\n",
       "      <th></th>\n",
       "    </tr>\n",
       "  </thead>\n",
       "  <tbody>\n",
       "    <tr>\n",
       "      <th>video3</th>\n",
       "      <td>0.924</td>\n",
       "      <td>0.846</td>\n",
       "      <td>[0.02024942, 0.0015778, 0.00082625, 0.00094509...</td>\n",
       "    </tr>\n",
       "    <tr>\n",
       "      <th>video4</th>\n",
       "      <td>0.923</td>\n",
       "      <td>0.667</td>\n",
       "      <td>[0.000118, 0.00089075, 0.00018769, 4.543e-05, ...</td>\n",
       "    </tr>\n",
       "    <tr>\n",
       "      <th>video6</th>\n",
       "      <td>0.863</td>\n",
       "      <td>0.700</td>\n",
       "      <td>[0.01176522, 0.00074577, 0.00078353, 1.328e-05...</td>\n",
       "    </tr>\n",
       "    <tr>\n",
       "      <th>video8</th>\n",
       "      <td>0.922</td>\n",
       "      <td>0.818</td>\n",
       "      <td>0</td>\n",
       "    </tr>\n",
       "    <tr>\n",
       "      <th>video10</th>\n",
       "      <td>0.950</td>\n",
       "      <td>0.900</td>\n",
       "      <td>[9.006e-05, 0.00061494, 0.00343634, 0.00128092...</td>\n",
       "    </tr>\n",
       "  </tbody>\n",
       "</table>\n",
       "</div>"
      ],
      "text/plain": [
       "         short-term_memorability  ...                                                c3d\n",
       "video                             ...                                                   \n",
       "video3                     0.924  ...  [0.02024942, 0.0015778, 0.00082625, 0.00094509...\n",
       "video4                     0.923  ...  [0.000118, 0.00089075, 0.00018769, 4.543e-05, ...\n",
       "video6                     0.863  ...  [0.01176522, 0.00074577, 0.00078353, 1.328e-05...\n",
       "video8                     0.922  ...                                                  0\n",
       "video10                    0.950  ...  [9.006e-05, 0.00061494, 0.00343634, 0.00128092...\n",
       "\n",
       "[5 rows x 3 columns]"
      ]
     },
     "execution_count": 4,
     "metadata": {
      "tags": []
     },
     "output_type": "execute_result"
    }
   ],
   "source": [
    "c3d.head()"
   ]
  },
  {
   "cell_type": "code",
   "execution_count": null,
   "metadata": {
    "colab": {
     "base_uri": "https://localhost:8080/"
    },
    "id": "_VwSXk7hK2az",
    "outputId": "44799a11-f1df-4bc7-9f6b-6f18b4910309"
   },
   "outputs": [
    {
     "data": {
      "text/plain": [
       "132"
      ]
     },
     "execution_count": 5,
     "metadata": {
      "tags": []
     },
     "output_type": "execute_result"
    }
   ],
   "source": [
    "## Finding rows with missing c3d values\n",
    "(c3d[c3d.c3d == 0]).count()[1]"
   ]
  },
  {
   "cell_type": "code",
   "execution_count": null,
   "metadata": {
    "id": "PAVbaSS9-Ht-"
   },
   "outputs": [],
   "source": [
    "## Dropping the rows with missing c3d values.\n",
    "c3d = c3d[c3d.c3d != 0]"
   ]
  },
  {
   "cell_type": "code",
   "execution_count": null,
   "metadata": {
    "colab": {
     "base_uri": "https://localhost:8080/"
    },
    "id": "vASrO6nkKIoY",
    "outputId": "a7a53c43-0240-4709-cc74-9a4c2c4f5308"
   },
   "outputs": [
    {
     "name": "stdout",
     "output_type": "stream",
     "text": [
      "<class 'pandas.core.frame.DataFrame'>\n",
      "Index: 5868 entries, video3 to video7493\n",
      "Data columns (total 3 columns):\n",
      " #   Column                   Non-Null Count  Dtype  \n",
      "---  ------                   --------------  -----  \n",
      " 0   short-term_memorability  5868 non-null   float64\n",
      " 1   long-term_memorability   5868 non-null   float64\n",
      " 2   c3d                      5868 non-null   object \n",
      "dtypes: float64(2), object(1)\n",
      "memory usage: 183.4+ KB\n"
     ]
    }
   ],
   "source": [
    "c3d.info()"
   ]
  },
  {
   "cell_type": "markdown",
   "metadata": {
    "id": "CrGaK4qntdQu"
   },
   "source": [
    "## HMP Feature"
   ]
  },
  {
   "cell_type": "code",
   "execution_count": null,
   "metadata": {
    "id": "lnQsOvdA4sx2"
   },
   "outputs": [],
   "source": [
    "## Code from local machine\n",
    "\n",
    "HMP_feature_list= []\n",
    "video_names_list = []\n",
    "for filename in glob.glob('Dev-set/HMP/*.txt'):\n",
    "    name = ((filename.split('\\\\')[-1]).split('.')[0])\n",
    "    video_names_list.append(name)\n",
    "    HMP_features = read_HMP(filename)\n",
    "    HMP_feature_list.append(HMP_features)\n",
    "\n",
    "## Adding ground truth to the dataframe\n",
    "ground_truth = pd.read_csv('Dev-set/Ground-truth/ground-truth.csv')\n",
    "#Dropping annotation coulumn from ground truth as we dont need them\n",
    "ground_truth = ground_truth.drop(['nb_short-term_annotations', 'nb_long-term_annotations'], axis=1)\n",
    "ground_truth.head()\n",
    "# Cleanig the video name\n",
    "ground_truth['video'] = ground_truth['video'].apply(lambda x : x.split('.')[0])\n",
    "ground_truth.head()\n",
    "\n",
    "## Creating HMP dataframe\n",
    "hmp = pd.DataFrame()\n",
    "hmp[\"video\"] = ground_truth['video']\n",
    "hmp['hmp'] = ''\n",
    "hmp.head() \n",
    "\n",
    "## Merging groundtruth and HMP dataframe\n",
    "hmp = pd.merge(ground_truth, hmp , on='video')\n",
    "hmp.index = hmp.video\n",
    "del hmp['video']\n",
    "hmp.head()\n",
    "\n",
    "## Filling HMP values in the appropriate columns\n",
    "for i in hmp.index:\n",
    "    for j in video_names_list:\n",
    "        if (i == j):\n",
    "            hmp.at[i, 'hmp'] = HMP_feature_list[video_names_list.index(j)]\n",
    "\n",
    "## Replacing missing values with 0 and saving the dataframe using picke\n",
    "hmp = hmp.replace(to_replace ='', value =0)\n",
    "hmp.to_pickle('Dev-loaded-features/hmp')"
   ]
  },
  {
   "cell_type": "code",
   "execution_count": null,
   "metadata": {
    "id": "rQ1C48xktgXL"
   },
   "outputs": [],
   "source": [
    "hmp = pd.read_pickle('/content/drive/MyDrive/ML Assignment/hmp')"
   ]
  },
  {
   "cell_type": "code",
   "execution_count": null,
   "metadata": {
    "colab": {
     "base_uri": "https://localhost:8080/",
     "height": 233
    },
    "id": "cSv4zmQ3tqF2",
    "outputId": "2f850a59-b9bd-47ca-a035-403ce9d44d5b"
   },
   "outputs": [
    {
     "data": {
      "text/html": [
       "<div>\n",
       "<style scoped>\n",
       "    .dataframe tbody tr th:only-of-type {\n",
       "        vertical-align: middle;\n",
       "    }\n",
       "\n",
       "    .dataframe tbody tr th {\n",
       "        vertical-align: top;\n",
       "    }\n",
       "\n",
       "    .dataframe thead th {\n",
       "        text-align: right;\n",
       "    }\n",
       "</style>\n",
       "<table border=\"1\" class=\"dataframe\">\n",
       "  <thead>\n",
       "    <tr style=\"text-align: right;\">\n",
       "      <th></th>\n",
       "      <th>short-term_memorability</th>\n",
       "      <th>long-term_memorability</th>\n",
       "      <th>hmp</th>\n",
       "    </tr>\n",
       "    <tr>\n",
       "      <th>video</th>\n",
       "      <th></th>\n",
       "      <th></th>\n",
       "      <th></th>\n",
       "    </tr>\n",
       "  </thead>\n",
       "  <tbody>\n",
       "    <tr>\n",
       "      <th>video3</th>\n",
       "      <td>0.924</td>\n",
       "      <td>0.846</td>\n",
       "      <td>[0.125563, 0.024036, 0.000314, 0.0, 0.015864, ...</td>\n",
       "    </tr>\n",
       "    <tr>\n",
       "      <th>video4</th>\n",
       "      <td>0.923</td>\n",
       "      <td>0.667</td>\n",
       "      <td>[0.007526, 0.001421, 6.8e-05, 0.0, 0.001184, 0...</td>\n",
       "    </tr>\n",
       "    <tr>\n",
       "      <th>video6</th>\n",
       "      <td>0.863</td>\n",
       "      <td>0.700</td>\n",
       "      <td>[0.109584, 0.018978, 0.000289, 0.0, 0.008774, ...</td>\n",
       "    </tr>\n",
       "    <tr>\n",
       "      <th>video8</th>\n",
       "      <td>0.922</td>\n",
       "      <td>0.818</td>\n",
       "      <td>[0.120431, 0.013561, 0.000277, 0.0, 0.018974, ...</td>\n",
       "    </tr>\n",
       "    <tr>\n",
       "      <th>video10</th>\n",
       "      <td>0.950</td>\n",
       "      <td>0.900</td>\n",
       "      <td>[0.005026, 0.001356, 5.5e-05, 0.0, 0.000665, 2...</td>\n",
       "    </tr>\n",
       "  </tbody>\n",
       "</table>\n",
       "</div>"
      ],
      "text/plain": [
       "         short-term_memorability  ...                                                hmp\n",
       "video                             ...                                                   \n",
       "video3                     0.924  ...  [0.125563, 0.024036, 0.000314, 0.0, 0.015864, ...\n",
       "video4                     0.923  ...  [0.007526, 0.001421, 6.8e-05, 0.0, 0.001184, 0...\n",
       "video6                     0.863  ...  [0.109584, 0.018978, 0.000289, 0.0, 0.008774, ...\n",
       "video8                     0.922  ...  [0.120431, 0.013561, 0.000277, 0.0, 0.018974, ...\n",
       "video10                    0.950  ...  [0.005026, 0.001356, 5.5e-05, 0.0, 0.000665, 2...\n",
       "\n",
       "[5 rows x 3 columns]"
      ]
     },
     "execution_count": 9,
     "metadata": {
      "tags": []
     },
     "output_type": "execute_result"
    }
   ],
   "source": [
    "hmp.head()"
   ]
  },
  {
   "cell_type": "code",
   "execution_count": null,
   "metadata": {
    "colab": {
     "base_uri": "https://localhost:8080/"
    },
    "id": "cOVopzJpzTI2",
    "outputId": "05ac8917-4fab-4c60-d54b-41e274337188"
   },
   "outputs": [
    {
     "name": "stdout",
     "output_type": "stream",
     "text": [
      "<class 'pandas.core.frame.DataFrame'>\n",
      "Index: 6000 entries, video3 to video7493\n",
      "Data columns (total 3 columns):\n",
      " #   Column                   Non-Null Count  Dtype  \n",
      "---  ------                   --------------  -----  \n",
      " 0   short-term_memorability  6000 non-null   float64\n",
      " 1   long-term_memorability   6000 non-null   float64\n",
      " 2   hmp                      6000 non-null   object \n",
      "dtypes: float64(2), object(1)\n",
      "memory usage: 187.5+ KB\n"
     ]
    }
   ],
   "source": [
    "hmp.info()"
   ]
  },
  {
   "cell_type": "code",
   "execution_count": null,
   "metadata": {
    "colab": {
     "base_uri": "https://localhost:8080/"
    },
    "id": "5ymEPbt70tu1",
    "outputId": "d07b3963-94c9-4a31-b362-5c72e40d3207"
   },
   "outputs": [
    {
     "name": "stdout",
     "output_type": "stream",
     "text": [
      "Total rows with no HMP Feature:  99\n",
      "Indexes of these rows are:  ['video26', 'video48', 'video166', 'video167', 'video239', 'video244', 'video260', 'video261', 'video412', 'video413', 'video656', 'video681', 'video1655', 'video1657', 'video1658', 'video1662', 'video1663', 'video1664', 'video1665', 'video1669', 'video2376', 'video2377', 'video2380', 'video2381', 'video2382', 'video2386', 'video2387', 'video2388', 'video2389', 'video2391', 'video2394', 'video2395', 'video2598', 'video2600', 'video2603', 'video2605', 'video2607', 'video2608', 'video2609', 'video2610', 'video2613', 'video2614', 'video2615', 'video2616', 'video2618', 'video2619', 'video2620', 'video2621', 'video2622', 'video2623', 'video2627', 'video2629', 'video4116', 'video4117', 'video4118', 'video4119', 'video4120', 'video4121', 'video4122', 'video4123', 'video4124', 'video4125', 'video4129', 'video4131', 'video4138', 'video4801', 'video4802', 'video4805', 'video4876', 'video4877', 'video6545', 'video6547', 'video6550', 'video6552', 'video6554', 'video6557', 'video6558', 'video6559', 'video6560', 'video6561', 'video6562', 'video6563', 'video6564', 'video6565', 'video6566', 'video6568', 'video6569', 'video6570', 'video6574', 'video6576', 'video6800', 'video6801', 'video6802', 'video6803', 'video6804', 'video6806', 'video6807', 'video6808', 'video6809']\n"
     ]
    }
   ],
   "source": [
    "## Finding rows with missing hmp values\n",
    "ind=[]\n",
    "for i in hmp.index:\n",
    "  if isinstance(hmp['hmp'][i],int):\n",
    "    ind.append(i)\n",
    "print(\"Total rows with no HMP Feature: \", len(ind))\n",
    "print(\"Indexes of these rows are: \", ind)"
   ]
  },
  {
   "cell_type": "code",
   "execution_count": null,
   "metadata": {
    "id": "4tPZ7e4_1VDH"
   },
   "outputs": [],
   "source": [
    "## Dropping rows with missing values\n",
    "hmp.drop(ind, inplace=True)"
   ]
  },
  {
   "cell_type": "code",
   "execution_count": null,
   "metadata": {
    "colab": {
     "base_uri": "https://localhost:8080/"
    },
    "id": "I7nkuZwtXLNH",
    "outputId": "dc19607a-2719-4f10-a7bf-9f145d24c24a"
   },
   "outputs": [
    {
     "name": "stdout",
     "output_type": "stream",
     "text": [
      "<class 'pandas.core.frame.DataFrame'>\n",
      "Index: 5901 entries, video3 to video7493\n",
      "Data columns (total 3 columns):\n",
      " #   Column                   Non-Null Count  Dtype  \n",
      "---  ------                   --------------  -----  \n",
      " 0   short-term_memorability  5901 non-null   float64\n",
      " 1   long-term_memorability   5901 non-null   float64\n",
      " 2   hmp                      5901 non-null   object \n",
      "dtypes: float64(2), object(1)\n",
      "memory usage: 184.4+ KB\n"
     ]
    }
   ],
   "source": [
    "hmp.info()"
   ]
  },
  {
   "cell_type": "markdown",
   "metadata": {
    "id": "BiRX-egT2sqE"
   },
   "source": [
    "## InceptionV3"
   ]
  },
  {
   "cell_type": "code",
   "execution_count": null,
   "metadata": {
    "id": "1Wp4xmn19tvp"
   },
   "outputs": [],
   "source": [
    "## Code from Local Machine\n",
    "## Calling the function\n",
    "my_numlist= []\n",
    "full_namelist = []\n",
    "my_namelist = []\n",
    "for filename in glob.glob('Dev-set/InceptionV3/*.txt'):\n",
    "    name = ((filename.split('\\\\')[-1]).split('.')[0])\n",
    "    full_namelist.append(name)\n",
    "    my_namelist.append(((filename.split('\\\\')[-1]).split('.')[0]).split('-')[0])\n",
    "    InceptionV3_features = read_InceptionV3(filename)\n",
    "    my_numlist.append(InceptionV3_features)\n",
    "\n",
    "\n",
    "## Adding ground truth to the dataframe\n",
    "ground_truth = pd.read_csv('Dev-set/Ground-truth/ground-truth.csv')\n",
    "#Dropping annotation coulumn from ground truth as we dont need them\n",
    "ground_truth = ground_truth.drop(['nb_short-term_annotations', 'nb_long-term_annotations'], axis=1)\n",
    "# Cleanig the video name\n",
    "ground_truth['video'] = ground_truth['video'].apply(lambda x : x.split('.')[0])\n",
    "\n",
    "\n",
    "## Creating InceptionV3 Dataframe\n",
    "InceptionV3 = pd.DataFrame()\n",
    "InceptionV3[\"video\"] = ground_truth['video']\n",
    "InceptionV3['video-0'] = ''\n",
    "InceptionV3['video-56'] = ''\n",
    "InceptionV3['video-112' ] = ''\n",
    "InceptionV3.head() \n",
    "\n",
    "\n",
    "## Merging ground truth with InceptionV3 dataframe\n",
    "InceptionV3 = pd.merge(ground_truth, InceptionV3 , on='video')\n",
    "InceptionV3.index = InceptionV3.video\n",
    "del InceptionV3['video']\n",
    "InceptionV3.head()\n",
    "\n",
    "\n",
    "## Filling in the values in appropriate column\n",
    "for i in InceptionV3.index:\n",
    "    for j in full_namelist:\n",
    "        if (i == j.split('-')[0]):\n",
    "            if (j.split('-')[-1] == \"0\"):\n",
    "                InceptionV3.at[i, 'video-0'] = my_numlist[full_namelist.index(j)]\n",
    "            elif (j.split('-')[-1] == \"56\"):\n",
    "                InceptionV3.at[i, 'video-56'] = my_numlist[full_namelist.index(j)]\n",
    "            elif (j.split('-')[-1] == \"112\"):\n",
    "                InceptionV3.at[i, 'video-112'] = my_numlist[full_namelist.index(j)]\n",
    "\n",
    "\n",
    "## Replacing missing values with 0 and saving the dataframe using pickle\n",
    "InceptionV3 = InceptionV3.replace(to_replace ='', value =0)\n",
    "InceptionV3.to_pickle('Dev-loaded-features/inception_v3')"
   ]
  },
  {
   "cell_type": "code",
   "execution_count": null,
   "metadata": {
    "id": "CxGxBj2M2v28"
   },
   "outputs": [],
   "source": [
    "inceptionv3 = pd.read_pickle('/content/drive/MyDrive/ML Assignment/inception_v3')"
   ]
  },
  {
   "cell_type": "code",
   "execution_count": null,
   "metadata": {
    "colab": {
     "base_uri": "https://localhost:8080/",
     "height": 302
    },
    "id": "6bWhBfdl4Ds-",
    "outputId": "1336f80b-cd95-4645-e5b9-3723fdf13936"
   },
   "outputs": [
    {
     "data": {
      "text/html": [
       "<div>\n",
       "<style scoped>\n",
       "    .dataframe tbody tr th:only-of-type {\n",
       "        vertical-align: middle;\n",
       "    }\n",
       "\n",
       "    .dataframe tbody tr th {\n",
       "        vertical-align: top;\n",
       "    }\n",
       "\n",
       "    .dataframe thead th {\n",
       "        text-align: right;\n",
       "    }\n",
       "</style>\n",
       "<table border=\"1\" class=\"dataframe\">\n",
       "  <thead>\n",
       "    <tr style=\"text-align: right;\">\n",
       "      <th></th>\n",
       "      <th>short-term_memorability</th>\n",
       "      <th>long-term_memorability</th>\n",
       "      <th>video-0</th>\n",
       "      <th>video-56</th>\n",
       "      <th>video-112</th>\n",
       "    </tr>\n",
       "    <tr>\n",
       "      <th>video</th>\n",
       "      <th></th>\n",
       "      <th></th>\n",
       "      <th></th>\n",
       "      <th></th>\n",
       "      <th></th>\n",
       "    </tr>\n",
       "  </thead>\n",
       "  <tbody>\n",
       "    <tr>\n",
       "      <th>video3</th>\n",
       "      <td>0.924</td>\n",
       "      <td>0.846</td>\n",
       "      <td>0</td>\n",
       "      <td>0</td>\n",
       "      <td>0</td>\n",
       "    </tr>\n",
       "    <tr>\n",
       "      <th>video4</th>\n",
       "      <td>0.923</td>\n",
       "      <td>0.667</td>\n",
       "      <td>0</td>\n",
       "      <td>0</td>\n",
       "      <td>0</td>\n",
       "    </tr>\n",
       "    <tr>\n",
       "      <th>video6</th>\n",
       "      <td>0.863</td>\n",
       "      <td>0.700</td>\n",
       "      <td>[2.926813e-18, 3.022254e-19, 4.139101e-19, 2.9...</td>\n",
       "      <td>[9.85284e-13, 3.953588e-18, 7.851983e-17, 2.91...</td>\n",
       "      <td>[1.93123e-18, 5.784305e-21, 3.029372e-20, 2.83...</td>\n",
       "    </tr>\n",
       "    <tr>\n",
       "      <th>video8</th>\n",
       "      <td>0.922</td>\n",
       "      <td>0.818</td>\n",
       "      <td>[0.0, 0.0, 0.0, 0.0, 0.0, 0.0, 0.0, 0.0, 0.0, ...</td>\n",
       "      <td>[0.0, 0.0, 0.0, 0.0, 0.0, 0.0, 0.0, 0.0, 0.0, ...</td>\n",
       "      <td>[0.0, 0.0, 0.0, 0.0, 0.0, 0.0, 0.0, 0.0, 0.0, ...</td>\n",
       "    </tr>\n",
       "    <tr>\n",
       "      <th>video10</th>\n",
       "      <td>0.950</td>\n",
       "      <td>0.900</td>\n",
       "      <td>0</td>\n",
       "      <td>0</td>\n",
       "      <td>0</td>\n",
       "    </tr>\n",
       "  </tbody>\n",
       "</table>\n",
       "</div>"
      ],
      "text/plain": [
       "         short-term_memorability  ...                                          video-112\n",
       "video                             ...                                                   \n",
       "video3                     0.924  ...                                                  0\n",
       "video4                     0.923  ...                                                  0\n",
       "video6                     0.863  ...  [1.93123e-18, 5.784305e-21, 3.029372e-20, 2.83...\n",
       "video8                     0.922  ...  [0.0, 0.0, 0.0, 0.0, 0.0, 0.0, 0.0, 0.0, 0.0, ...\n",
       "video10                    0.950  ...                                                  0\n",
       "\n",
       "[5 rows x 5 columns]"
      ]
     },
     "execution_count": 15,
     "metadata": {
      "tags": []
     },
     "output_type": "execute_result"
    }
   ],
   "source": [
    "inceptionv3.head()"
   ]
  },
  {
   "cell_type": "code",
   "execution_count": null,
   "metadata": {
    "colab": {
     "base_uri": "https://localhost:8080/"
    },
    "id": "dLWEDxJA4ucZ",
    "outputId": "3805f87c-d423-4fe1-d59f-a481b53c68ca"
   },
   "outputs": [
    {
     "name": "stdout",
     "output_type": "stream",
     "text": [
      "Total rows with no inception Feature for frame 0:  2730\n",
      "Total rows with no inception Feature for frame 56:  2724\n",
      "Total rows with no inception Feature for frame 112:  2730\n",
      "Selecting all indexed which are missing any of these features...\n",
      "Total rows with no inception Feature:  2751\n",
      "Indexes of these rows are:  ['video3150', 'video1997', 'video282', 'video3275', 'video3659', 'video3686', 'video3425', 'video1213', 'video133', 'video1656', 'video1152', 'video1039', 'video3387', 'video2445', 'video2414', 'video3654', 'video1022', 'video1184', 'video2052', 'video2638', 'video2974', 'video3348', 'video1021', 'video1050', 'video1527', 'video1877', 'video3750', 'video2239', 'video1741', 'video2087', 'video1857', 'video2399', 'video3101', 'video2203', 'video3817', 'video2583', 'video2801', 'video3192', 'video733', 'video1679', 'video2610', 'video1887', 'video2423', 'video1943', 'video3411', 'video3194', 'video2323', 'video2623', 'video2097', 'video1858', 'video2658', 'video1112', 'video2339', 'video3724', 'video2708', 'video1609', 'video387', 'video4018', 'video1174', 'video2742', 'video1411', 'video1595', 'video3173', 'video3434', 'video4028', 'video2193', 'video2897', 'video2667', 'video2143', 'video1899', 'video2424', 'video4014', 'video2003', 'video3451', 'video121', 'video3755', 'video2318', 'video2769', 'video2022', 'video2079', 'video2156', 'video2652', 'video2581', 'video277', 'video3401', 'video1684', 'video3749', 'video2373', 'video3122', 'video3319', 'video2236', 'video1188', 'video3668', 'video2901', 'video3223', 'video2212', 'video3120', 'video3055', 'video3177', 'video1170', 'video211', 'video6003', 'video5866', 'video2929', 'video2955', 'video1946', 'video3093', 'video3635', 'video3043', 'video2630', 'video2008', 'video237', 'video1217', 'video1312', 'video1399', 'video2495', 'video2948', 'video2419', 'video1118', 'video1905', 'video2562', 'video1861', 'video2914', 'video1661', 'video3187', 'video3624', 'video1210', 'video1763', 'video2141', 'video3268', 'video1145', 'video323', 'video1270', 'video1655', 'video2635', 'video164', 'video107', 'video3388', 'video3472', 'video1610', 'video2668', 'video2953', 'video2710', 'video3420', 'video1678', 'video2744', 'video2525', 'video1388', 'video1976', 'video2030', 'video3728', 'video1057', 'video3537', 'video1784', 'video394', 'video1085', 'video247', 'video2357', 'video1329', 'video1389', 'video2148', 'video2251', 'video2902', 'video1083', 'video2592', 'video1563', 'video1914', 'video2932', 'video3895', 'video196', 'video1833', 'video3574', 'video2712', 'video1330', 'video1488', 'video3269', 'video1410', 'video3084', 'video3499', 'video2535', 'video1482', 'video2515', 'video1041', 'video1811', 'video3525', 'video2787', 'video2640', 'video113', 'video1069', 'video1558', 'video1732', 'video2799', 'video2891', 'video4087', 'video1583', 'video3780', 'video2435', 'video3616', 'video1007', 'video1273', 'video248', 'video3617', 'video2603', 'video2843', 'video1838', 'video2703', 'video2116', 'video2259', 'video1832', 'video1297', 'video2848', 'video1604', 'video2970', 'video3509', 'video330', 'video2024', 'video1432', 'video3807', 'video3333', 'video1630', 'video2455', 'video1528', 'video2032', 'video3186', 'video1873', 'video130', 'video1255', 'video339', 'video156', 'video203', 'video2034', 'video3665', 'video3390', 'video3554', 'video3059', 'video3398', 'video1325', 'video3534', 'video3511', 'video1345', 'video3049', 'video1687', 'video2322', 'video2726', 'video2775', 'video313', 'video3642', 'video2984', 'video2627', 'video205', 'video3903', 'video2380', 'video2130', 'video2089', 'video3297', 'video2841', 'video1697', 'video926', 'video3094', 'video3612', 'video372', 'video3103', 'video1430', 'video1160', 'video243', 'video3734', 'video7147', 'video3262', 'video1516', 'video3596', 'video1866', 'video3732', 'video122', 'video2499', 'video3031', 'video1055', 'video2106', 'video3091', 'video3835', 'video1559', 'video151', 'video2908', 'video3427', 'video3466', 'video1955', 'video2478', 'video210', 'video1705', 'video2949', 'video1033', 'video1178', 'video305', 'video1414', 'video2737', 'video1477', 'video2319', 'video3328', 'video359', 'video2025', 'video1200', 'video7145', 'video132', 'video1569', 'video2514', 'video2303', 'video2677', 'video3090', 'video1535', 'video2063', 'video3529', 'video3849', 'video3983', 'video3339', 'video1009', 'video1247', 'video1001', 'video1727', 'video3127', 'video3510', 'video3539', 'video188', 'video3278', 'video2208', 'video171', 'video3926', 'video2449', 'video2791', 'video3896', 'video3515', 'video3765', 'video259', 'video1261', 'video146', 'video17', 'video3657', 'video3597', 'video3752', 'video3656', 'video3561', 'video1553', 'video3196', 'video3313', 'video1127', 'video208', 'video2883', 'video3324', 'video1129', 'video3163', 'video393', 'video2964', 'video2903', 'video2064', 'video1105', 'video2149', 'video2629', 'video3707', 'video3111', 'video3547', 'video1618', 'video1531', 'video3768', 'video173', 'video1533', 'video3367', 'video2598', 'video2136', 'video2879', 'video142', 'video2387', 'video2834', 'video2585', 'video3793', 'video2290', 'video1735', 'video1311', 'video2349', 'video4030', 'video1967', 'video3519', 'video1481', 'video2695', 'video1757', 'video3175', 'video2169', 'video2545', 'video3151', 'video2266', 'video3524', 'video2604', 'video3952', 'video112', 'video3516', 'video1051', 'video13', 'video1017', 'video2467', 'video3280', 'video1471', 'video267', 'video3325', 'video3679', 'video138', 'video1950', 'video2177', 'video3258', 'video1941', 'video1926', 'video2508', 'video193', 'video1024', 'video1286', 'video3551', 'video3214', 'video3491', 'video3089', 'video2425', 'video1228', 'video3386', 'video2293', 'video3212', 'video3263', 'video3563', 'video6289', 'video1301', 'video253', 'video1135', 'video2016', 'video1688', 'video5986', 'video1543', 'video317', 'video177', 'video3569', 'video3691', 'video2917', 'video1052', 'video2881', 'video2548', 'video3557', 'video3631', 'video1197', 'video7144', 'video2244', 'video1509', 'video1221', 'video2524', 'video2833', 'video3820', 'video3776', 'video1117', 'video1603', 'video3887', 'video1951', 'video2337', 'video2942', 'video1847', 'video3932', 'video2622', 'video3553', 'video2072', 'video3694', 'video1071', 'video3769', 'video3265', 'video3273', 'video1451', 'video3909', 'video182', 'video1908', 'video2013', 'video1711', 'video1012', 'video3128', 'video2813', 'video333', 'video3363', 'video5864', 'video3062', 'video2485', 'video2529', 'video345', 'video1225', 'video278', 'video3980', 'video2549', 'video1871', 'video3099', 'video2118', 'video4000', 'video1119', 'video3636', 'video2400', 'video1403', 'video2850', 'video3891', 'video3050', 'video2962', 'video3785', 'video1999', 'video150', 'video3696', 'video3742', 'video288', 'video3245', 'video3789', 'video2915', 'video224', 'video1571', 'video1300', 'video3346', 'video3361', 'video1195', 'video2386', 'video2682', 'video1613', 'video2447', 'video3160', 'video1962', 'video3286', 'video3795', 'video1258', 'video3604', 'video1505', 'video3218', 'video2186', 'video2381', 'video1996', 'video2591', 'video3370', 'video3489', 'video1296', 'video3252', 'video2649', 'video3371', 'video2471', 'video3881', 'video3968', 'video1889', 'video1576', 'video1483', 'video3208', 'video300', 'video168', 'video3854', 'video3974', 'video1335', 'video922', 'video1852', 'video2438', 'video1513', 'video3508', 'video3213', 'video2426', 'video3626', 'video3375', 'video2125', 'video2420', 'video3693', 'video1246', 'video3292', 'video3076', 'video3925', 'video2691', 'video1369', 'video1305', 'video1628', 'video1283', 'video3176', 'video3890', 'video2297', 'video1614', 'video2807', 'video3119', 'video274', 'video1693', 'video1067', 'video361', 'video3239', 'video3690', 'video2255', 'video3536', 'video1421', 'video145', 'video3442', 'video2759', 'video1855', 'video1675', 'video3798', 'video2183', 'video1744', 'video3015', 'video1473', 'video2988', 'video1968', 'video2402', 'video1637', 'video2379', 'video2046', 'video2507', 'video3711', 'video1756', 'video1778', 'video1806', 'video1088', 'video2396', 'video3314', 'video2464', 'video178', 'video2615', 'video3790', 'video1416', 'video2986', 'video3285', 'video2530', 'video1909', 'video2857', 'video1813', 'video1429', 'video2743', 'video2556', 'video2103', 'video1640', 'video1581', 'video2990', 'video3940', 'video153', 'video2738', 'video5991', 'video1395', 'video3255', 'video3277', 'video378', 'video1785', 'video6537', 'video6532', 'video1812', 'video3377', 'video1378', 'video365', 'video385', 'video1230', 'video2831', 'video3591', 'video3673', 'video1953', 'video3590', 'video3365', 'video2391', 'video3721', 'video3991', 'video390', 'video2593', 'video1383', 'video2512', 'video1164', 'video1544', 'video2112', 'video2214', 'video2907', 'video3713', 'video1919', 'video2761', 'video2945', 'video276', 'video1254', 'video1402', 'video3205', 'video331', 'video155', 'video1060', 'video1407', 'video6004', 'video1654', 'video2551', 'video3403', 'video3605', 'video3641', 'video2869', 'video2654', 'video1766', 'video244', 'video255', 'video2197', 'video2296', 'video2625', 'video2533', 'video3220', 'video3480', 'video3009', 'video2011', 'video1704', 'video395', 'video1444', 'video100', 'video2621', 'video2376', 'video3804', 'video207', 'video1747', 'video1288', 'video352', 'video1643', 'video1982', 'video2086', 'video2559', 'video2849', 'video1467', 'video1764', 'video3818', 'video3819', 'video189', 'video1615', 'video1966', 'video3264', 'video1343', 'video311', 'video2886', 'video3118', 'video1356', 'video2978', 'video1627', 'video3147', 'video129', 'video1337', 'video2994', 'video1293', 'video321', 'video3919', 'video2853', 'video222', 'video1502', 'video2796', 'video3886', 'video5990', 'video2283', 'video1143', 'video2291', 'video3137', 'video3556', 'video1366', 'video1110', 'video3643', 'video1539', 'video16', 'video1601', 'video2448', 'video3907', 'video3138', 'video3852', 'video2584', 'video2913', 'video2456', 'video3368', 'video3126', 'video1572', 'video1498', 'video2329', 'video3814', 'video2065', 'video3965', 'video5992', 'video3479', 'video2939', 'video3249', 'video3426', 'video400', 'video3922', 'video1983', 'video5871', 'video2835', 'video2828', 'video1633', 'video1714', 'video1681', 'video3855', 'video3610', 'video1004', 'video2763', 'video179', 'video3079', 'video1256', 'video1647', 'video3599', 'video1462', 'video3943', 'video2147', 'video2252', 'video1874', 'video2363', 'video1104', 'video3874', 'video3497', 'video316', 'video1594', 'video3168', 'video3683', 'video1420', 'video2233', 'video3501', 'video379', 'video2528', 'video2947', 'video3468', 'video3002', 'video2832', 'video1036', 'video3086', 'video3850', 'video2246', 'video1397', 'video2734', 'video1886', 'video3417', 'video3238', 'video2054', 'video3719', 'video1658', 'video2321', 'video3452', 'video1124', 'video1401', 'video3271', 'video3869', 'video1496', 'video2965', 'video1182', 'video1309', 'video2660', 'video1233', 'video2232', 'video1850', 'video1489', 'video3396', 'video1019', 'video2176', 'video3488', 'video3779', 'video3756', 'video2983', 'video2272', 'video1740', 'video2874', 'video34', 'video3535', 'video1769', 'video326', 'video2348', 'video2557', 'video1606', 'video396', 'video192', 'video2733', 'video4', 'video2804', 'video3107', 'video1243', 'video1121', 'video3532', 'video1676', 'video1915', 'video1494', 'video1974', 'video1109', 'video2826', 'video1709', 'video3816', 'video3448', 'video3022', 'video3254', 'video2961', 'video1020', 'video2075', 'video1078', 'video1644', 'video2405', 'video1547', 'video2093', 'video1404', 'video1938', 'video2443', 'video1435', 'video2058', 'video1590', 'video3231', 'video3815', 'video1199', 'video3496', 'video5995', 'video389', 'video2613', 'video2182', 'video3395', 'video3882', 'video1937', 'video340', 'video2647', 'video2875', 'video2029', 'video1934', 'video338', 'video2181', 'video22', 'video2227', 'video3129', 'video1522', 'video1805', 'video2431', 'video3583', 'video3672', 'video3702', 'video3783', 'video3868', 'video3588', 'video1422', 'video3762', 'video3824', 'video7364', 'video2124', 'video2863', 'video2061', 'video1973', 'video3182', 'video3513', 'video1759', 'video1115', 'video2306', 'video3799', 'video2999', 'video2516', 'video1605', 'video2042', 'video2274', 'video2934', 'video318', 'video1315', 'video1536', 'video1790', 'video3014', 'video1025', 'video3102', 'video1285', 'video3908', 'video1663', 'video3244', 'video3982', 'video1077', 'video1770', 'video3282', 'video2963', 'video3061', 'video143', 'video1891', 'video3871', 'video1175', 'video2482', 'video3373', 'video5989', 'video2369', 'video3453', 'video7143', 'video3851', 'video2403', 'video2256', 'video2461', 'video2704', 'video2803', 'video198', 'video354', 'video1584', 'video3243', 'video3662', 'video2304', 'video1839', 'video2326', 'video2238', 'video1548', 'video449', 'video2920', 'video3030', 'video3304', 'video228', 'video1564', 'video2041', 'video1476', 'video1995', 'video23', 'video1063', 'video924', 'video3813', 'video3843', 'video1879', 'video3323', 'video3113', 'video3270', 'video231', 'video2341', 'video2650', 'video2944', 'video160', 'video2501', 'video3503', 'video1347', 'video233', 'video1392', 'video2309', 'video1872', 'video1028', 'video2997', 'video1159', 'video115', 'video3628', 'video2973', 'video335', 'video3834', 'video1207', 'video2951', 'video3761', 'video1981', 'video3389', 'video2261', 'video1900', 'video187', 'video3570', 'video3747', 'video1607', 'video1049', 'video1449', 'video3504', 'video3028', 'video2736', 'video2956', 'video2991', 'video3667', 'video280', 'video3787', 'video3362', 'video1097', 'video1053', 'video2546', 'video3189', 'video125', 'video214', 'video7328', 'video2707', 'video2201', 'video3913', 'video2805', 'video1942', 'video273', 'video2673', 'video3685', 'video1214', 'video2860', 'video920', 'video3844', 'video1459', 'video1355', 'video3993', 'video3155', 'video1393', 'video2750', 'video3571', 'video391', 'video2469', 'video1385', 'video3211', 'video1168', 'video1993', 'video2693', 'video3197', 'video1484', 'video6010', 'video3904', 'video19', 'video2705', 'video1294', 'video3042', 'video2237', 'video1134', 'video2035', 'video1341', 'video3215', 'video2892', 'video1807', 'video1239', 'video1340', 'video2711', 'video1032', 'video3025', 'video2500', 'video1090', 'video1338', 'video1075', 'video3097', 'video3697', 'video4085', 'video1801', 'video1824', 'video5993', 'video1758', 'video106', 'video3528', 'video1278', 'video1504', 'video2709', 'video3688', 'video2634', 'video1846', 'video2207', 'video3836', 'video6011', 'video1079', 'video1944', 'video1734', 'video3261', 'video1777', 'video1817', 'video2463', 'video3810', 'video1677', 'video6024', 'video348', 'video3124', 'video1080', 'video2018', 'video120', 'video6284', 'video3006', 'video2100', 'video2444', 'video281', 'video2523', 'video1457', 'video154', 'video1295', 'video1131', 'video1153', 'video1753', 'video2354', 'video2642', 'video2779', 'video1841', 'video3217', 'video2685', 'video1064', 'video295', 'video2519', 'video1507', 'video1540', 'video3572', 'video7138', 'video3893', 'video2133', 'video1508', 'video1065', 'video1888', 'video4004', 'video3704', 'video3839', 'video2729', 'video3036', 'video1869', 'video3359', 'video3294', 'video6280', 'video1272', 'video2977', 'video3073', 'video241', 'video3331', 'video200', 'video4007', 'video1794', 'video3975', 'video3608', 'video1821', 'video294', 'video1147', 'video3000', 'video2458', 'video1070', 'video2144', 'video2184', 'video3465', 'video1189', 'video1111', 'video1474', 'video1565', 'video2187', 'video1664', 'video3490', 'video2687', 'video3063', 'video3178', 'video186', 'video3861', 'video3971', 'video1265', 'video1573', 'video1893', 'video306', 'video3474', 'video2513', 'video1929', 'video2958', 'video2792', 'video3338', 'video3414', 'video1042', 'video2599', 'video1733', 'video2360', 'video102', 'video382', 'video1837', 'video1848', 'video3986', 'video1721', 'video2437', 'video3994', 'video3012', 'video251', 'video5867', 'video2045', 'video4026', 'video2069', 'video3074', 'video114', 'video1146', 'video2594', 'video3098', 'video1695', 'video3184', 'video3032', 'video3266', 'video2866', 'video183', 'video3010', 'video140', 'video3299', 'video1046', 'video1317', 'video1592', 'video1394', 'video2489', 'video3639', 'video157', 'video1639', 'video2899', 'video1699', 'video2830', 'video3618', 'video367', 'video3179', 'video2050', 'video1386', 'video1472', 'video2794', 'video3048', 'video1353', 'video1575', 'video3632', 'video1625', 'video1799', 'video2861', 'video401', 'video1611', 'video2135', 'video3029', 'video3905', 'video1106', 'video2797', 'video3040', 'video2185', 'video1186', 'video3200', 'video1044', 'video2001', 'video3995', 'video3748', 'video322', 'video1670', 'video1964', 'video2472', 'video2900', 'video2575', 'video2933', 'video2771', 'video1357', 'video3335', 'video272', 'video2036', 'video1490', 'video3318', 'video2641', 'video2971', 'video1289', 'video227', 'video1291', 'video2770', 'video1499', 'video123', 'video2509', 'video3327', 'video4009', 'video2539', 'video1463', 'video2774', 'video1965', 'video2552', 'video32', 'video3112', 'video3477', 'video3842', 'video1718', 'video298', 'video1031', 'video2702', 'video2005', 'video1266', 'video3407', 'video1176', 'video1550', 'video1074', 'video275', 'video2395', 'video1208', 'video1722', 'video2310', 'video3917', 'video2433', 'video3976', 'video2656', 'video2880', 'video3629', 'video1823', 'video1843', 'video25', 'video3288', 'video2168', 'video3506', 'video2213', 'video2286', 'video10', 'video30', 'video1299', 'video3677', 'video1412', 'video3322', 'video1674', 'video2867', 'video3454', 'video3858', 'video1409', 'video2972', 'video927', 'video1835', 'video1860', 'video1076', 'video2220', 'video3669', 'video2609', 'video2782', 'video3867', 'video2924', 'video1441', 'video2724', 'video35', 'video3132', 'video1834', 'video3720', 'video2959', 'video2520', 'video3832', 'video302', 'video1761', 'video2470', 'video2862', 'video1809', 'video1517', 'video3682', 'video3760', 'video2713', 'video1144', 'video239', 'video2620', 'video1920', 'video3193', 'video1894', 'video2531', 'video1911', 'video1487', 'video1014', 'video6748', 'video3546', 'video20', 'video3283', 'video319', 'video2440', 'video3399', 'video3354', 'video3358', 'video2909', 'video3912', 'video373', 'video2345', 'video3495', 'video3846', 'video1612', 'video2601', 'video2218', 'video3773', 'video176', 'video2760', 'video1649', 'video2927', 'video1979', 'video4003', 'video1185', 'video2091', 'video2680', 'video3165', 'video290', 'video1956', 'video3482', 'video3984', 'video1810', 'video329', 'video1990', 'video1091', 'video3738', 'video170', 'video1045', 'video2410', 'video1689', 'video1434', 'video5994', 'video2777', 'video3828', 'video175', 'video353', 'video1586', 'video3763', 'video3117', 'video1669', 'video3700', 'video3771', 'video3202', 'video2375', 'video2569', 'video3057', 'video3712', 'video2364', 'video2441', 'video261', 'video1885', 'video1310', 'video1646', 'video2076', 'video2262', 'video1524', 'video1107', 'video3606', 'video3308', 'video2829', 'video3020', 'video1878', 'video2073', 'video1551', 'video1826', 'video3041', 'video216', 'video1975', 'video2597', 'video2632', 'video191', 'video287', 'video3792', 'video2793', 'video2200', 'video2209', 'video2502', 'video2199', 'video3622', 'video105', 'video3201', 'video2120', 'video2798', 'video265', 'video2538', 'video1427', 'video3972', 'video1602', 'video2314', 'video2411', 'video2070', 'video1715', 'video3770', 'video3803', 'video3003', 'video2876', 'video3230', 'video2361', 'video3104', 'video1148', 'video2839', 'video39', 'video3970', 'video2664', 'video2895', 'video3459', 'video2543', 'video2221', 'video2422', 'video2722', 'video1249', 'video2484', 'video3533', 'video3953', 'video1936', 'video2095', 'video1154', 'video3833', 'video3416', 'video1922', 'video3457', 'video3471', 'video3172', 'video1201', 'video1162', 'video2282', 'video2938', 'video3698', 'video315', 'video3941', 'video2574', 'video220', 'video234', 'video6007', 'video190', 'video3757', 'video5984', 'video3680', 'video2919', 'video1828', 'video1364', 'video256', 'video1815', 'video1506', 'video2111', 'video2967', 'video1132', 'video3242', 'video3067', 'video1223', 'video1275', 'video2028', 'video3167', 'video1561', 'video2132', 'video137', 'video1529', 'video2566', 'video1328', 'video3910', 'video3764', 'video1743', 'video7146', 'video2645', 'video2393', 'video3837', 'video3517', 'video1426', 'video2840', 'video223', 'video1673', 'video2153', 'video2446', 'video3251', 'video3478', 'video1181', 'video1215', 'video2217', 'video7141', 'video1518', 'video1163', 'video325', 'video3154', 'video3692', 'video1530', 'video7365', 'video2352', 'video3007', 'video3989', 'video1931', 'video2802', 'video1685', 'video291', 'video2646', 'video2031', 'video1216', 'video2192', 'video3977', 'video1680', 'video3393', 'video1193', 'video3602', 'video1264', 'video3576', 'video3766', 'video3236', 'video3575', 'video622', 'video2542', 'video12', 'video2108', 'video1880', 'video2280', 'video3199', 'video2432', 'video3139', 'video3188', 'video2336', 'video2731', 'video3068', 'video3923', 'video1466', 'video2175', 'video2772', 'video2823', 'video1882', 'video3402', 'video1928', 'video1428', 'video1480', 'video2413', 'video2923', 'video1333', 'video1632', 'video2607', 'video2800', 'video2845', 'video2179', 'video1493', 'video3960', 'video3784', 'video3024', 'video3149', 'video37', 'video2748', 'video1638', 'video1103', 'video1933', 'video1460', 'video1373', 'video2616', 'video3730', 'video2700', 'video1648', 'video1896', 'video1358', 'video1156', 'video2457', 'video2659', 'video2374', 'video1280', 'video2151', 'video1884', 'video369', 'video2651', 'video1485', 'video1921', 'video921', 'video3794', 'video2911', 'video3741', 'video2674', 'video3447', 'video1779', 'video1851', 'video1737', 'video2020', 'video3523', 'video3914', 'video2389', 'video3637', 'video3105', 'video2019', 'video1901', 'video2342', 'video3435', 'video324', 'video3353', 'video3607', 'video209', 'video2996', 'video2062', 'video2122', 'video3047', 'video1555', 'video1211', 'video3859', 'video3967', 'video346', 'video3123', 'video3146', 'video1173', 'video3307', 'video2397', 'video1203', 'video3180', 'video3439', 'video3964', 'video2311', 'video1084', 'video2982', 'video3777', 'video1652', 'video3340', 'video2479', 'video2012', 'video1510', 'video3207', 'video3351', 'video2234', 'video3301', 'video3287', 'video283', 'video1445', 'video2264', 'video3969', 'video3997', 'video2202', 'video1819', 'video2910', 'video3894', 'video2789', 'video2580', 'video3831', 'video2222', 'video240', 'video3379', 'video364', 'video1139', 'video3227', 'video1478', 'video599', 'video1645', 'video3250', 'video3540', 'video3928', 'video3470', 'video3423', 'video1765', 'video141', 'video1739', 'video1598', 'video3019', 'video3376', 'video1219', 'video3715', 'video3225', 'video2206', 'video3130', 'video1797', 'video2295', 'video1989', 'video3840', 'video1729', 'video1519', 'video1789', 'video3754', 'video2383', 'video1957', 'video3580', 'video2412', 'video1196', 'video2755', 'video2254', 'video1043', 'video3247', 'video2078', 'video1470', 'video1534', 'video2408', 'video4024', 'video221', 'video1238', 'video2490', 'video2155', 'video3352', 'video2670', 'video2224', 'video3169', 'video1883', 'video1913', 'video2026', 'video3317', 'video3555', 'video1849', 'video3739', 'video2191', 'video2398', 'video1771', 'video2859', 'video3100', 'video1700', 'video2811', 'video1241', 'video2786', 'video2639', 'video1040', 'video344', 'video3195', 'video1259', 'video3946', 'video1260', 'video3053', 'video357', 'video269', 'video2764', 'video180', 'video2928', 'video2071', 'video3877', 'video1947', 'video1458', 'video1242', 'video3864', 'video2587', 'video2105', 'video1686', 'video2694', 'video1662', 'video3593', 'video1257', 'video2344', 'video1114', 'video3125', 'video3500', 'video1245', 'video1006', 'video3054', 'video1035', 'video1319', 'video2643', 'video3', 'video158', 'video1464', 'video1277', 'video1375', 'video1234', 'video2762', 'video3206', 'video2568', 'video1447', 'video2356', 'video2816', 'video1048', 'video2765', 'video2527', 'video3142', 'video2285', 'video6286', 'video2253', 'video2758', 'video1438', 'video1419', 'video1736', 'video3723', 'video381', 'video2273', 'video2681', 'video2696', 'video3152', 'video2325', 'video2946', 'video1719', 'video3037', 'video2210', 'video1804', 'video3224', 'video1960', 'video7136', 'video1525', 'video1570', 'video1854', 'video2718', 'video215', 'video1514', 'video1707', 'video2540', 'video2298', 'video6005', 'video104', 'video2178', 'video1549', 'video2228', 'video2074', 'video4015', 'video2701', 'video3918', 'video4020', 'video2757', 'video2954', 'video225', 'video3802', 'video1359', 'video1702', 'video3676', 'video2180', 'video2300', 'video2554', 'video3121', 'video3884', 'video1047', 'video4005', 'video1904', 'video3311', 'video2240', 'video195', 'video3526', 'video2429', 'video3507', 'video1768', 'video2728', 'video3145', 'video1015', 'video3058', 'video1991', 'video1336', 'video3159', 'video1862', 'video3481', 'video3538', 'video1619', 'video3404', 'video1985', 'video2107', 'video3400', 'video2292', 'video29', 'video1634', 'video1667', 'video6539', 'video1235', 'video2301', 'video1906', 'video2998', 'video1600', 'video6022', 'video2223', 'video3476', 'video1593', 'video1760', 'video4492', 'video327', 'video1750', 'video3134', 'video1730', 'video1382', 'video1136', 'video119', 'video334', 'video2655', 'video2868', 'video3072', 'video3408', 'video3666', 'video403', 'video2936', 'video249', 'video2385', 'video2550', 'video2745', 'video2051', 'video3039', 'video3745', 'video3675', 'video3611', 'video3726', 'video1150', 'video5865', 'video3493', 'video6006', 'video199', 'video1698', 'video3649', 'video2570', 'video101', 'video1952', 'video3161', 'video3866', 'video3701', 'video3305', 'video1749', 'video2126', 'video1597', 'video1322', 'video2327', 'video1844', 'video6536', 'video2242', 'video1924', 'video3487', 'video2987', 'video3592', 'video128', 'video1244', 'video2215', 'video1171', 'video2104', 'video3767', 'video3873', 'video358', 'video3652', 'video1073', 'video1665', 'video1461', 'video3653', 'video3444', 'video1562', 'video3191', 'video2808', 'video1782', 'video2267', 'video2114', 'video4010', 'video2009', 'video2014', 'video3412', 'video2059', 'video1631', 'video1903', 'video1793', 'video1984', 'video2672', 'video1701', 'video218', 'video3185', 'video2115', 'video162', 'video1491', 'video166', 'video1166', 'video2002', 'video1348', 'video3246', 'video2334', 'video31', 'video4493', 'video2088', 'video2480', 'video3931', 'video2985', 'video3811', 'video2226', 'video2596', 'video3051', 'video1745', 'video2741', 'video2614', 'video4029', 'video2173', 'video3957', 'video1479', 'video2547', 'video3343', 'video2353', 'video2836', 'video2060', 'video3759', 'video3927', 'video1738', 'video2809', 'video2335', 'video375', 'video3578', 'video3933', 'video1455', 'video185', 'video2931', 'video1465', 'video1660', 'video2367', 'video3216', 'video2600', 'video1377', 'video2628', 'video1980', 'video1774', 'video2588', 'video1212', 'video3344', 'video167', 'video3065', 'video3171', 'video2838', 'video1546', 'video2714', 'video1439', 'video2893', 'video2925', 'video3863', 'video3620', 'video2260', 'video2884', 'video1971', 'video1253', 'video2564', 'video1224', 'video1864', 'video2666', 'video1440', 'video3647', 'video1961', 'video2137', 'video1089', 'video2044', 'video1220', 'video1363', 'video3822', 'video3096', 'video301', 'video351', 'video3492', 'video3450', 'video1086', 'video1780', 'video3558', 'video1672', 'video1742', 'video2719', 'video1751', 'video6535', 'video3979', 'video2317', 'video1093', 'video3560', 'video1724', 'video2302', 'video3456', 'video2715', 'video2887', 'video3845', 'video3463', 'video3204', 'video1515', 'video3577', 'video1580', 'video1503', 'video6533', 'video2688', 'video3330', 'video928', 'video7140', 'video3860', 'video28', 'video2904', 'video1177', 'video3380', 'video1814', 'video2276', 'video1786', 'video1895', 'video3391', 'video1367', 'video3614', 'video2889', 'video3714', 'video1596', 'video1332', 'video1431', 'video2747', 'video3235', 'video1205', 'video303', 'video2636', 'video3080', 'video206', 'video1865', 'video1538', 'video3405', 'video6009', 'video172', 'video1371', 'video3825', 'video304', 'video3937', 'video2653', 'video3248', 'video2404', 'video1867', 'video3585', 'video2249', 'video2756', 'video3237', 'video1497', 'video201', 'video1191', 'video2960', 'video3862', 'video3005', 'video1716', 'video2586', 'video1636', 'video2882', 'video2727', 'video3276', 'video6012', 'video2671', 'video2129', 'video2532', 'video2979', 'video2166', 'video1825', 'video3564', 'video1054', 'video3109', 'video3601', 'video3044', 'video2476', 'video1731', 'video3650', 'video38', 'video2536', 'video2382', 'video2952', 'video2027', 'video1433', 'video1822', 'video3026', 'video2888', 'video370', 'video1408', 'video3232', 'video165', 'video386', 'video2372', 'video3988', 'video1725', 'video184', 'video2077', 'video3087', 'video1708', 'video1030', 'video3942', 'video2573', 'video3847', 'video284', 'video3663', 'video2004', 'video2576', 'video2618', 'video2968', 'video2263', 'video3341', 'video3880', 'video2235', 'video3746', 'video3778', 'video341', 'video2421', 'video4017', 'video3737', 'video2211', 'video2689', 'video1204', 'video3316', 'video2270', 'video124', 'video1830', 'video4012', 'video245', 'video356', 'video1183', 'video1918', 'video33', 'video1027', 'video3582', 'video3800', 'video1099', 'video1542', 'video3705', 'video1365', 'video3949', 'video258', 'video3740', 'video299', 'video1526', 'video3924', 'video2937', 'video149', 'video3717', 'video1998', 'video342', 'video1100', 'video3872', 'video4008', 'video2749', 'video3309', 'video2450', 'video136', 'video1122', 'video2491', 'video2555', 'video2289', 'video3382', 'video1939', 'video2245', 'video2370', 'video1642', 'video310', 'video3181', 'video1133', 'video1916', 'video2941', 'video217', 'video3441', 'video3133', 'video392', 'video1137', 'video2935', 'video1446', 'video293', 'video1398', 'video3046', 'video1406', 'video2145', 'video2146', 'video3530', 'video257', 'video1161', 'video3066', 'video1977', 'video1423', 'video1236', 'video1492', 'video3440', 'video3603', 'video4011', 'video279', 'video3821', 'video3394', 'video3436', 'video1969', 'video3428', 'video1229', 'video1802', 'video3449', 'video1803', 'video2138', 'video3619', 'video1081', 'video2906', 'video1102', 'video1125', 'video126', 'video3710', 'video7142', 'video1703', 'video1202', 'video2351', 'video4022', 'video1038', 'video2359', 'video2921', 'video3727', 'video3758', 'video2068', 'video3956', 'video2589', 'video2812', 'video3981', 'video271', 'video3136', 'video3004', 'video3431', 'video2871', 'video1881', 'video1541', 'video27', 'video1413', 'video3733', 'video399', 'video2637', 'video1963', 'video1537', 'video2780', 'video1452', 'video1251', 'video2665', 'video1767', 'video159', 'video2163', 'video3955', 'video4016', 'video3069', 'video2865', 'video1307', 'video2454', 'video2101', 'video131', 'video238', 'video250', 'video1456', 'video1554', 'video1694', 'video254', 'video2517', 'video3418', 'video3857', 'video2582', 'video3001', 'video3801', 'video3095', 'video3512', 'video3455', 'video1454', 'video2316', 'video2992', 'video1486', 'video2377', 'video3077', 'video3392', 'video2355', 'video1591', 'video2740', 'video2785', 'video2388', 'video2466', 'video2434', 'video2188', 'video2150', 'video1342', 'video366', 'video3735', 'video2394', 'video4491', 'video1556', 'video1128', 'video2896', 'video308', 'video2159', 'video3144', 'video3183', 'video2315', 'video1683', 'video2788', 'video3131', 'video36', 'video3985', 'video384', 'video4006', 'video2038', 'video3809', 'video349', 'video3284', 'video2324', 'video2930', 'video2278', 'video2082', 'video2846', 'video26', 'video1023', 'video3410', 'video3901', 'video2496', 'video3334', 'video2162', 'video3664', 'video3406', 'video6285', 'video4086', 'video2669', 'video1222', 'video3929', 'video1321', 'video2498', 'video2784', 'video1284', 'video2878', 'video2497', 'video3462', 'video3415', 'video3409', 'video2037', 'video3259', 'video3797', 'video2284', 'video2172', 'video1167', 'video2981', 'video6288', 'video1907', 'video3023', 'video1795', 'video3430', 'video3329', 'video1354', 'video3078', 'video1324', 'video2152', 'video1405', 'video368', 'video3116', 'video2343', 'video3256', 'video2121', 'video3114', 'video1368', 'video3936', 'video3598', 'video2418', 'video1818', 'video2127', 'video1436', 'video2312', 'video3498', 'video1912', 'video1827', 'video3357', 'video3899', 'video3545', 'video2268', 'video297', 'video2844', 'video3567', 'video161', 'video3944', 'video2608', 'video3021', 'video2330', 'video2483', 'video1351', 'video1954', 'video2690', 'video2571', 'video3718', 'video925', 'video2131', 'video1629', 'video1453', 'video3889', 'video3736', 'video3543', 'video398', 'video3897', 'video3460', 'video2767', 'video1003', 'video1690', 'video1190', 'video1116', 'video2505', 'video2916', 'video3527', 'video1005', 'video2898', 'video1682', 'video3162', 'video1231', 'video2453', 'video7367', 'video3829', 'video1165', 'video1282', 'video3838', 'video2190', 'video1560', 'video1352', 'video3892', 'video1717', 'video3056', 'video3786', 'video2258', 'video1437', 'video212', 'video1696', 'video2257', 'video3962', 'video2365', 'video3655', 'video2605', 'video923', 'video2157', 'video3938', 'video296', 'video2817', 'video1772', 'video2494', 'video18', 'video2128', 'video3384', 'video3961', 'video7329', 'video2855', 'video1948', 'video2567', 'video2894', 'video377', 'video3291', 'video2819', 'video402', 'video3153', 'video2066', 'video2663', 'video2171', 'video3321', 'video2486', 'video2475', 'video3634', 'video1599', 'video2347', 'video2488', 'video2117', 'video1746', 'video1066', 'video2706', 'video3433', 'video292', 'video355', 'video40', 'video1194', 'video1290', 'video3221', 'video1898', 'video6021', 'video2248', 'video2140', 'video3092', 'video1608', 'video2049', 'video3584', 'video108', 'video3190', 'video2474', 'video3082', 'video3627', 'video2477', 'video3397', 'video236', 'video1897', 'video2098', 'video336', 'video1511', 'video1755', 'video260', 'video3421', 'video3751', 'video1387', 'video1800', 'video2436', 'video3035', 'video2362', 'video3158', 'video2943', 'video1198', 'video1868', 'video2553', 'video1056', 'video1250', 'video2686', 'video1988', 'video3505', 'video347', 'video2602', 'video1657', 'video2340', 'video3018', 'video3885', 'video1095', 'video362', 'video2678', 'video2250', 'video3060', 'video2473', 'video1863', 'video2358', 'video2732', 'video2460', 'video2561', 'video3595', 'video2541', 'video2332', 'video1346', 'video1298', 'video1415', 'video2492', 'video2825', 'video3579', 'video2717', 'video3772', 'video3281', 'video2922', 'video163', 'video2619', 'video3788', 'video2189', 'video2275', 'video6538', 'video1061', 'video3106', 'video1829', 'video3699', 'video2430', 'video2773', 'video2781', 'video1274', 'video2119', 'video1263', 'video1574', 'video2558', 'video1380', 'video2406', 'video3518', 'video2205', 'video1986', 'video3315', 'video3898', 'video2684', 'video1940', 'video371', 'video2033', 'video1267', 'video1923', 'video1958', 'video1149', 'video1281', 'video2827', 'video1691', 'video21', 'video2328', 'video1859', 'video2165', 'video1417', 'video2739', 'video1443', 'video2308', 'video3135', 'video3731', 'video332', 'video1781', 'video3812', 'video1748', 'video1192', 'video2055', 'video3853', 'video2459', 'video3791', 'video1762']\n"
     ]
    }
   ],
   "source": [
    "## Finding rows with missing hmp values\n",
    "ind_0=[]\n",
    "ind_56=[]\n",
    "ind_112=[]\n",
    "for i in inceptionv3.index:\n",
    "  if isinstance(inceptionv3['video-0'][i],int):\n",
    "    ind_0.append(i)\n",
    "  if isinstance(inceptionv3['video-56'][i],int):\n",
    "    ind_56.append(i)\n",
    "  if isinstance(inceptionv3['video-112'][i],int):\n",
    "    ind_112.append(i)\n",
    "print(\"Total rows with no inception Feature for frame 0: \", len(ind_0))\n",
    "print(\"Total rows with no inception Feature for frame 56: \", len(ind_56))\n",
    "print(\"Total rows with no inception Feature for frame 112: \", len(ind_112))\n",
    "print(\"Selecting all indexed which are missing any of these features...\")\n",
    "\n",
    "ind = ind_0 + ind_56 + ind_112\n",
    "ind_final = list(set(ind))\n",
    "print(\"Total rows with no inception Feature: \", len(ind_final))\n",
    "print(\"Indexes of these rows are: \", ind_final)"
   ]
  },
  {
   "cell_type": "code",
   "execution_count": null,
   "metadata": {
    "id": "teQwcRhJ7HjB"
   },
   "outputs": [],
   "source": [
    "## Dropping rows with missing values\n",
    "inceptionv3.drop(ind_final, inplace=True)"
   ]
  },
  {
   "cell_type": "code",
   "execution_count": null,
   "metadata": {
    "colab": {
     "base_uri": "https://localhost:8080/"
    },
    "id": "eFogOukI7UQW",
    "outputId": "0c62eb6a-7617-48f8-97b6-f1e422891e7f"
   },
   "outputs": [
    {
     "name": "stdout",
     "output_type": "stream",
     "text": [
      "<class 'pandas.core.frame.DataFrame'>\n",
      "Index: 3249 entries, video6 to video7493\n",
      "Data columns (total 5 columns):\n",
      " #   Column                   Non-Null Count  Dtype  \n",
      "---  ------                   --------------  -----  \n",
      " 0   short-term_memorability  3249 non-null   float64\n",
      " 1   long-term_memorability   3249 non-null   float64\n",
      " 2   video-0                  3249 non-null   object \n",
      " 3   video-56                 3249 non-null   object \n",
      " 4   video-112                3249 non-null   object \n",
      "dtypes: float64(2), object(3)\n",
      "memory usage: 152.3+ KB\n"
     ]
    }
   ],
   "source": [
    "inceptionv3.info()"
   ]
  },
  {
   "cell_type": "markdown",
   "metadata": {
    "id": "8iplp46jz9-Y"
   },
   "source": [
    "## LBP"
   ]
  },
  {
   "cell_type": "code",
   "execution_count": null,
   "metadata": {
    "id": "-LMItlq7-9ZD"
   },
   "outputs": [],
   "source": [
    "## Code from Local Machine\n",
    "## Calling the method for fetching LBP features and storing them into a array list using loop\n",
    "\n",
    "my_numlist= [] # Creating new list to store the LBP features\n",
    "my_namelist = [] # Creating a new list to store the names of the videos\n",
    "full_namelist = []\n",
    "for filename in glob.glob('Dev-set/LBP/*.txt'):\n",
    "    s = read_lbp(filename)\n",
    "    my_numlist.append(s)\n",
    "    full_namelist.append(((filename.split('\\\\')[-1]).split('.')[0])) \n",
    "    my_namelist.append(((filename.split('\\\\')[-1]).split('.')[0]).split('-')[0])\n",
    "\n",
    "\n",
    "## Adding ground truth to the dataframe\n",
    "ground_truth = pd.read_csv('Dev-set/Ground-truth/ground-truth.csv')\n",
    "#Dropping annotation coulumn from ground truth as we dont need them\n",
    "ground_truth = ground_truth.drop(['nb_short-term_annotations', 'nb_long-term_annotations'], axis=1)\n",
    "# Cleanig the video name\n",
    "ground_truth['video'] = ground_truth['video'].apply(lambda x : x.split('.')[0])\n",
    "\n",
    "\n",
    "## Creating empty dataframe for LBP\n",
    "lbp = pd.DataFrame()\n",
    "lbp[\"video\"] = ground_truth['video']\n",
    "lbp['video-0'] = ''\n",
    "lbp['video-56'] = ''\n",
    "lbp['video-112' ] = ''\n",
    "lbp.head() \n",
    "\n",
    "## Merging dataframe with ground truth\n",
    "lbp = pd.merge(ground_truth, lbp , on='video')\n",
    "lbp.index = lbp.video\n",
    "del lbp['video']\n",
    "lbp.head()\n",
    "\n",
    "## Filling the values in appropriate columns\n",
    "for i in lbp.index:\n",
    "    for j in full_namelist:\n",
    "        if (i == j.split('-')[0]):\n",
    "            if (j.split('-')[-1] == \"0\"):\n",
    "                lbp.at[i, 'video-0'] = my_numlist[full_namelist.index(j)]\n",
    "            elif (j.split('-')[-1] == \"56\"):\n",
    "                lbp.at[i, 'video-56'] = my_numlist[full_namelist.index(j)]\n",
    "            elif (j.split('-')[-1] == \"112\"):\n",
    "                lbp.at[i, 'video-112'] = my_numlist[full_namelist.index(j)]\n",
    "\n",
    "\n",
    "## Replacing missing values with 0 and saving the dataframe using pickle\n",
    "lbp = lbp.replace(to_replace ='', value =0)\n",
    "lbp.to_pickle('Dev-loaded-features/lbp')"
   ]
  },
  {
   "cell_type": "code",
   "execution_count": null,
   "metadata": {
    "id": "aUCo_SZq0Coa"
   },
   "outputs": [],
   "source": [
    "lbp = pd.read_pickle('/content/drive/MyDrive/ML Assignment/lbp')"
   ]
  },
  {
   "cell_type": "code",
   "execution_count": null,
   "metadata": {
    "colab": {
     "base_uri": "https://localhost:8080/",
     "height": 406
    },
    "id": "7OnLUAoX0JsU",
    "outputId": "ed83f2d4-4f3a-4db8-c24f-122d4f5805ba"
   },
   "outputs": [
    {
     "data": {
      "text/html": [
       "<div>\n",
       "<style scoped>\n",
       "    .dataframe tbody tr th:only-of-type {\n",
       "        vertical-align: middle;\n",
       "    }\n",
       "\n",
       "    .dataframe tbody tr th {\n",
       "        vertical-align: top;\n",
       "    }\n",
       "\n",
       "    .dataframe thead th {\n",
       "        text-align: right;\n",
       "    }\n",
       "</style>\n",
       "<table border=\"1\" class=\"dataframe\">\n",
       "  <thead>\n",
       "    <tr style=\"text-align: right;\">\n",
       "      <th></th>\n",
       "      <th>short-term_memorability</th>\n",
       "      <th>long-term_memorability</th>\n",
       "      <th>video-0</th>\n",
       "      <th>video-56</th>\n",
       "      <th>video-112</th>\n",
       "    </tr>\n",
       "    <tr>\n",
       "      <th>video</th>\n",
       "      <th></th>\n",
       "      <th></th>\n",
       "      <th></th>\n",
       "      <th></th>\n",
       "      <th></th>\n",
       "    </tr>\n",
       "  </thead>\n",
       "  <tbody>\n",
       "    <tr>\n",
       "      <th>video3</th>\n",
       "      <td>0.924</td>\n",
       "      <td>0.846</td>\n",
       "      <td>0</td>\n",
       "      <td>0</td>\n",
       "      <td>0</td>\n",
       "    </tr>\n",
       "    <tr>\n",
       "      <th>video4</th>\n",
       "      <td>0.923</td>\n",
       "      <td>0.667</td>\n",
       "      <td>[0.00966435, 0.00291811, 0.00219425, 0.0018682...</td>\n",
       "      <td>[0.01016445, 0.00291377, 0.00232832, 0.0020452...</td>\n",
       "      <td>[0.00991127, 0.00292679, 0.00233845, 0.0020862...</td>\n",
       "    </tr>\n",
       "    <tr>\n",
       "      <th>video6</th>\n",
       "      <td>0.863</td>\n",
       "      <td>0.700</td>\n",
       "      <td>[0.01084008, 0.00189525, 0.00154128, 0.0009606...</td>\n",
       "      <td>[0.00749759, 0.00117043, 0.00096595, 0.0007257...</td>\n",
       "      <td>[0.00782986, 0.00120563, 0.00085166, 0.0006939...</td>\n",
       "    </tr>\n",
       "    <tr>\n",
       "      <th>video8</th>\n",
       "      <td>0.922</td>\n",
       "      <td>0.818</td>\n",
       "      <td>[0.01163436, 0.00431472, 0.00321277, 0.0019121...</td>\n",
       "      <td>[0.01338397, 0.00459394, 0.00335214, 0.0026601...</td>\n",
       "      <td>[0.01097222, 0.00419367, 0.0028178, 0.00211709...</td>\n",
       "    </tr>\n",
       "    <tr>\n",
       "      <th>video10</th>\n",
       "      <td>0.950</td>\n",
       "      <td>0.900</td>\n",
       "      <td>0</td>\n",
       "      <td>0</td>\n",
       "      <td>0</td>\n",
       "    </tr>\n",
       "  </tbody>\n",
       "</table>\n",
       "</div>"
      ],
      "text/plain": [
       "         short-term_memorability  ...                                          video-112\n",
       "video                             ...                                                   \n",
       "video3                     0.924  ...                                                  0\n",
       "video4                     0.923  ...  [0.00991127, 0.00292679, 0.00233845, 0.0020862...\n",
       "video6                     0.863  ...  [0.00782986, 0.00120563, 0.00085166, 0.0006939...\n",
       "video8                     0.922  ...  [0.01097222, 0.00419367, 0.0028178, 0.00211709...\n",
       "video10                    0.950  ...                                                  0\n",
       "\n",
       "[5 rows x 5 columns]"
      ]
     },
     "execution_count": 20,
     "metadata": {
      "tags": []
     },
     "output_type": "execute_result"
    }
   ],
   "source": [
    "lbp.head()"
   ]
  },
  {
   "cell_type": "code",
   "execution_count": null,
   "metadata": {
    "colab": {
     "base_uri": "https://localhost:8080/"
    },
    "id": "v3iT8qyk0O0M",
    "outputId": "34256221-bff1-42a4-c748-c93d12f83627"
   },
   "outputs": [
    {
     "name": "stdout",
     "output_type": "stream",
     "text": [
      "Total rows with no inception Feature for frame 0:  2507\n",
      "Total rows with no inception Feature for frame 56:  2511\n",
      "Total rows with no inception Feature for frame 112:  2509\n",
      "Selecting all indexed which are missing any of these features...\n",
      "Total rows with no inception Feature:  2534\n",
      "Indexes of these rows are:  ['video3150', 'video1997', 'video282', 'video3275', 'video3659', 'video3686', 'video3425', 'video1213', 'video133', 'video1656', 'video1152', 'video1039', 'video3387', 'video2445', 'video2414', 'video3654', 'video1022', 'video1184', 'video2052', 'video2638', 'video2974', 'video3348', 'video1021', 'video1050', 'video1527', 'video1877', 'video3750', 'video2239', 'video1741', 'video2087', 'video1857', 'video2399', 'video3101', 'video2203', 'video2583', 'video2801', 'video3192', 'video1679', 'video2610', 'video1887', 'video2423', 'video1943', 'video3411', 'video3194', 'video2323', 'video2623', 'video2097', 'video1858', 'video2658', 'video1112', 'video2339', 'video3724', 'video2708', 'video1609', 'video6887', 'video1174', 'video2742', 'video1411', 'video1595', 'video3173', 'video3434', 'video2193', 'video2897', 'video2667', 'video2143', 'video1899', 'video2424', 'video6880', 'video2003', 'video3451', 'video121', 'video3755', 'video2318', 'video2769', 'video2022', 'video2079', 'video2156', 'video2652', 'video2581', 'video277', 'video6036', 'video3401', 'video1684', 'video3749', 'video2373', 'video3122', 'video3319', 'video2236', 'video1188', 'video3668', 'video2901', 'video3223', 'video2212', 'video3120', 'video3055', 'video3177', 'video1170', 'video211', 'video2929', 'video2955', 'video1946', 'video3093', 'video3635', 'video3043', 'video2630', 'video2008', 'video237', 'video1217', 'video1312', 'video1399', 'video2495', 'video2948', 'video2419', 'video1118', 'video1905', 'video2562', 'video1861', 'video2914', 'video1661', 'video3187', 'video3624', 'video1210', 'video1763', 'video2141', 'video3268', 'video1145', 'video323', 'video1270', 'video1655', 'video2635', 'video164', 'video107', 'video3388', 'video3472', 'video1610', 'video2668', 'video2953', 'video2710', 'video3420', 'video1678', 'video2744', 'video2525', 'video1388', 'video1976', 'video2030', 'video3728', 'video1057', 'video3537', 'video1784', 'video1085', 'video247', 'video2357', 'video1329', 'video1389', 'video2148', 'video2251', 'video2902', 'video1083', 'video2592', 'video1563', 'video1914', 'video2932', 'video196', 'video1833', 'video3574', 'video2712', 'video1330', 'video1488', 'video3269', 'video1410', 'video3084', 'video3499', 'video2535', 'video1482', 'video2515', 'video1041', 'video1811', 'video3525', 'video2787', 'video2640', 'video113', 'video1069', 'video1558', 'video1732', 'video2799', 'video2891', 'video7034', 'video1583', 'video3780', 'video2435', 'video3616', 'video1007', 'video1273', 'video248', 'video3617', 'video2603', 'video2843', 'video1838', 'video2703', 'video2116', 'video2259', 'video1832', 'video1297', 'video2848', 'video1604', 'video2970', 'video3509', 'video330', 'video2024', 'video1432', 'video3333', 'video1630', 'video2455', 'video1528', 'video2032', 'video3186', 'video1873', 'video130', 'video1255', 'video339', 'video156', 'video203', 'video2034', 'video3665', 'video3390', 'video3554', 'video3059', 'video3398', 'video1325', 'video3534', 'video3511', 'video1345', 'video3049', 'video1687', 'video2322', 'video2726', 'video2775', 'video313', 'video3642', 'video2984', 'video2627', 'video205', 'video2380', 'video2130', 'video2089', 'video3297', 'video2841', 'video1697', 'video3094', 'video3612', 'video372', 'video3103', 'video1430', 'video1160', 'video243', 'video3734', 'video3262', 'video1516', 'video3596', 'video1866', 'video3732', 'video6877', 'video122', 'video2499', 'video3031', 'video1055', 'video2106', 'video3091', 'video1559', 'video151', 'video2908', 'video3427', 'video3466', 'video1955', 'video2478', 'video210', 'video1705', 'video2949', 'video1033', 'video1178', 'video305', 'video1414', 'video2737', 'video1477', 'video6875', 'video2319', 'video3328', 'video359', 'video4079', 'video2025', 'video1200', 'video132', 'video1569', 'video2514', 'video2303', 'video2677', 'video3090', 'video1535', 'video6546', 'video2063', 'video3529', 'video3339', 'video1009', 'video1247', 'video1001', 'video1727', 'video3127', 'video3510', 'video3539', 'video188', 'video3278', 'video2208', 'video171', 'video2449', 'video2791', 'video5854', 'video3515', 'video259', 'video1261', 'video146', 'video17', 'video3657', 'video3597', 'video3752', 'video3656', 'video3561', 'video1553', 'video3196', 'video3313', 'video1127', 'video208', 'video2883', 'video3324', 'video1129', 'video3163', 'video2964', 'video2903', 'video2064', 'video1105', 'video2149', 'video2629', 'video3707', 'video3111', 'video3547', 'video1618', 'video1531', 'video173', 'video1533', 'video3367', 'video2598', 'video2136', 'video2879', 'video142', 'video2387', 'video2834', 'video2585', 'video2290', 'video1735', 'video1311', 'video2349', 'video1967', 'video3519', 'video1481', 'video2695', 'video1757', 'video3175', 'video2169', 'video2545', 'video3151', 'video2266', 'video3524', 'video2604', 'video112', 'video3516', 'video1051', 'video13', 'video1017', 'video2467', 'video3280', 'video1471', 'video267', 'video3325', 'video3679', 'video138', 'video1950', 'video2177', 'video3258', 'video1941', 'video1926', 'video2508', 'video193', 'video1024', 'video1286', 'video3551', 'video3214', 'video3491', 'video3089', 'video2425', 'video1228', 'video3386', 'video2293', 'video3212', 'video3263', 'video3563', 'video1301', 'video253', 'video1135', 'video2016', 'video1688', 'video581', 'video1543', 'video317', 'video177', 'video3569', 'video3691', 'video2917', 'video1052', 'video2881', 'video2548', 'video3557', 'video3631', 'video6032', 'video1197', 'video2244', 'video1509', 'video1221', 'video6886', 'video2524', 'video2833', 'video1117', 'video1603', 'video1951', 'video2337', 'video2942', 'video1847', 'video2622', 'video3553', 'video2072', 'video3694', 'video1071', 'video3265', 'video3273', 'video1451', 'video182', 'video1908', 'video2013', 'video1711', 'video1012', 'video3128', 'video2813', 'video333', 'video3363', 'video5864', 'video3062', 'video2485', 'video2529', 'video345', 'video1225', 'video278', 'video2549', 'video1871', 'video3099', 'video2118', 'video1119', 'video6038', 'video5890', 'video3636', 'video2400', 'video1403', 'video2850', 'video3050', 'video2962', 'video3785', 'video1999', 'video150', 'video3696', 'video3742', 'video288', 'video3245', 'video2915', 'video224', 'video1571', 'video1300', 'video3346', 'video3361', 'video1195', 'video2386', 'video2682', 'video1613', 'video7243', 'video2447', 'video3160', 'video1962', 'video6543', 'video3286', 'video1258', 'video3604', 'video1505', 'video3218', 'video2186', 'video2381', 'video1996', 'video2591', 'video3370', 'video3489', 'video1296', 'video3252', 'video2649', 'video3371', 'video2471', 'video1889', 'video1576', 'video1483', 'video3208', 'video5883', 'video300', 'video168', 'video1335', 'video1852', 'video2438', 'video1513', 'video3508', 'video3213', 'video2426', 'video3626', 'video3375', 'video2125', 'video2420', 'video3693', 'video1246', 'video3292', 'video3076', 'video2691', 'video1369', 'video1305', 'video1628', 'video1283', 'video3176', 'video2297', 'video1614', 'video2807', 'video3119', 'video274', 'video1693', 'video1067', 'video361', 'video3239', 'video3690', 'video2255', 'video3536', 'video1421', 'video145', 'video3442', 'video2759', 'video1855', 'video1675', 'video2183', 'video1744', 'video3015', 'video1473', 'video2988', 'video1968', 'video2402', 'video1637', 'video2379', 'video2046', 'video2507', 'video3711', 'video1756', 'video1778', 'video1806', 'video1088', 'video2396', 'video3314', 'video2464', 'video178', 'video2615', 'video1416', 'video2986', 'video3285', 'video2530', 'video1909', 'video2857', 'video1813', 'video1429', 'video2743', 'video2556', 'video2103', 'video1640', 'video1581', 'video2990', 'video153', 'video2738', 'video1395', 'video3255', 'video3277', 'video1785', 'video378', 'video1812', 'video3377', 'video1378', 'video365', 'video1230', 'video2831', 'video3591', 'video3673', 'video1953', 'video3590', 'video3365', 'video2391', 'video3721', 'video2593', 'video1383', 'video2512', 'video1164', 'video1544', 'video2112', 'video2214', 'video2907', 'video3713', 'video6106', 'video1919', 'video688', 'video2761', 'video2945', 'video276', 'video1254', 'video1402', 'video3205', 'video331', 'video155', 'video1060', 'video1407', 'video1654', 'video2551', 'video3403', 'video3605', 'video3641', 'video2869', 'video2654', 'video1766', 'video244', 'video2197', 'video255', 'video2296', 'video2625', 'video2533', 'video3220', 'video3480', 'video3009', 'video2011', 'video1704', 'video1444', 'video100', 'video2621', 'video2376', 'video207', 'video1747', 'video1288', 'video352', 'video1643', 'video1982', 'video2086', 'video2559', 'video2849', 'video1467', 'video1764', 'video189', 'video1615', 'video1966', 'video3264', 'video1343', 'video311', 'video2886', 'video3118', 'video1356', 'video2978', 'video1627', 'video3147', 'video129', 'video1337', 'video2994', 'video1293', 'video321', 'video2853', 'video222', 'video1502', 'video2796', 'video2283', 'video1143', 'video2291', 'video3137', 'video3556', 'video1366', 'video1110', 'video3643', 'video1539', 'video16', 'video1601', 'video2448', 'video3138', 'video2584', 'video2913', 'video2456', 'video3368', 'video3126', 'video1572', 'video1498', 'video2329', 'video2065', 'video3479', 'video2939', 'video3249', 'video3426', 'video1983', 'video2835', 'video2828', 'video1633', 'video1714', 'video1681', 'video3610', 'video1004', 'video2763', 'video179', 'video3079', 'video1256', 'video1647', 'video3599', 'video1462', 'video2147', 'video2252', 'video1874', 'video2363', 'video1104', 'video5862', 'video3497', 'video316', 'video1594', 'video3168', 'video3683', 'video1420', 'video2233', 'video3501', 'video2528', 'video2947', 'video3468', 'video3002', 'video2832', 'video1036', 'video3086', 'video2246', 'video1397', 'video2734', 'video1886', 'video3417', 'video3238', 'video2054', 'video3719', 'video1658', 'video2321', 'video3452', 'video1124', 'video1401', 'video3271', 'video1496', 'video2965', 'video1182', 'video1309', 'video5809', 'video2660', 'video1233', 'video2232', 'video1850', 'video1489', 'video3396', 'video1019', 'video2176', 'video3488', 'video3779', 'video3756', 'video2983', 'video2272', 'video1740', 'video2874', 'video34', 'video3535', 'video1769', 'video326', 'video2348', 'video2557', 'video1606', 'video3107', 'video192', 'video2733', 'video2804', 'video1243', 'video1121', 'video3532', 'video1676', 'video1915', 'video1494', 'video1974', 'video1109', 'video2826', 'video1709', 'video3448', 'video3022', 'video3254', 'video2961', 'video1020', 'video2075', 'video1078', 'video1644', 'video2405', 'video1547', 'video2093', 'video1404', 'video1938', 'video2443', 'video1435', 'video2058', 'video1590', 'video3231', 'video1199', 'video3496', 'video2613', 'video2182', 'video3395', 'video1937', 'video340', 'video2647', 'video2875', 'video7040', 'video2029', 'video1934', 'video338', 'video2181', 'video22', 'video2227', 'video3129', 'video1522', 'video1805', 'video2431', 'video3583', 'video3672', 'video3702', 'video3783', 'video3588', 'video1422', 'video3762', 'video2124', 'video2863', 'video2061', 'video1973', 'video3182', 'video3513', 'video1759', 'video1115', 'video2306', 'video2999', 'video2516', 'video1605', 'video2042', 'video2274', 'video2934', 'video318', 'video1315', 'video7246', 'video1536', 'video1790', 'video3014', 'video1025', 'video3102', 'video1285', 'video1663', 'video3244', 'video1077', 'video1770', 'video3282', 'video2963', 'video3061', 'video143', 'video1891', 'video1175', 'video2482', 'video3373', 'video6876', 'video2369', 'video3453', 'video2403', 'video2256', 'video2461', 'video2704', 'video2803', 'video198', 'video354', 'video1584', 'video3243', 'video3662', 'video2304', 'video1839', 'video2326', 'video2238', 'video1548', 'video2920', 'video3030', 'video3304', 'video228', 'video1564', 'video2041', 'video1476', 'video1995', 'video23', 'video1063', 'video5888', 'video1879', 'video3323', 'video3113', 'video3270', 'video231', 'video2341', 'video2650', 'video2944', 'video160', 'video2501', 'video3503', 'video1347', 'video233', 'video1392', 'video2309', 'video1872', 'video1028', 'video2997', 'video1159', 'video115', 'video3628', 'video2973', 'video335', 'video1207', 'video2951', 'video3761', 'video1981', 'video3389', 'video2261', 'video1900', 'video187', 'video3570', 'video3747', 'video1607', 'video1049', 'video1449', 'video3504', 'video3028', 'video2736', 'video2956', 'video2991', 'video3667', 'video280', 'video3362', 'video1097', 'video1053', 'video2546', 'video3189', 'video125', 'video214', 'video2707', 'video2201', 'video2805', 'video1942', 'video273', 'video2673', 'video3685', 'video1214', 'video2860', 'video1459', 'video1355', 'video3155', 'video1393', 'video2750', 'video3571', 'video2469', 'video1385', 'video3211', 'video1168', 'video1993', 'video2693', 'video3197', 'video1484', 'video19', 'video2705', 'video1294', 'video3042', 'video2237', 'video1134', 'video2035', 'video1341', 'video3215', 'video2892', 'video1807', 'video1239', 'video1340', 'video2711', 'video1032', 'video3025', 'video2500', 'video1090', 'video1338', 'video1075', 'video3097', 'video3697', 'video1801', 'video1824', 'video1758', 'video106', 'video3528', 'video1278', 'video1504', 'video2709', 'video3688', 'video2634', 'video1846', 'video2207', 'video1079', 'video1944', 'video1734', 'video3261', 'video1777', 'video1817', 'video2463', 'video1677', 'video348', 'video3124', 'video1080', 'video2018', 'video120', 'video3006', 'video2100', 'video2444', 'video281', 'video2523', 'video1457', 'video154', 'video1295', 'video1131', 'video1153', 'video1753', 'video2354', 'video2642', 'video2779', 'video1841', 'video3217', 'video2685', 'video1064', 'video295', 'video2519', 'video1507', 'video1540', 'video3572', 'video2133', 'video1508', 'video1065', 'video1888', 'video3704', 'video2729', 'video3036', 'video1869', 'video3359', 'video3294', 'video7245', 'video1272', 'video2977', 'video3073', 'video241', 'video3331', 'video200', 'video1794', 'video3608', 'video1821', 'video294', 'video1147', 'video3000', 'video2458', 'video1070', 'video2144', 'video2184', 'video3465', 'video1189', 'video1111', 'video1474', 'video1565', 'video2187', 'video1664', 'video3490', 'video2687', 'video3063', 'video3178', 'video186', 'video1265', 'video1573', 'video1893', 'video306', 'video3474', 'video2513', 'video1929', 'video2958', 'video2792', 'video3338', 'video3414', 'video1042', 'video2599', 'video1733', 'video2360', 'video102', 'video1848', 'video1837', 'video1721', 'video2437', 'video3012', 'video251', 'video2045', 'video2069', 'video3074', 'video114', 'video1146', 'video2594', 'video3098', 'video1695', 'video3184', 'video3032', 'video6033', 'video3266', 'video2866', 'video183', 'video3010', 'video140', 'video3299', 'video1046', 'video1317', 'video1592', 'video1394', 'video2489', 'video3639', 'video157', 'video5886', 'video1639', 'video2899', 'video1699', 'video2830', 'video3618', 'video367', 'video3179', 'video2050', 'video1386', 'video1472', 'video2794', 'video3048', 'video1353', 'video1575', 'video3632', 'video1625', 'video1799', 'video2861', 'video1611', 'video2135', 'video3029', 'video1106', 'video2797', 'video3040', 'video7244', 'video2185', 'video1186', 'video3200', 'video1044', 'video2001', 'video3748', 'video322', 'video1670', 'video1964', 'video2472', 'video2900', 'video2575', 'video2933', 'video2771', 'video1357', 'video3335', 'video272', 'video2036', 'video1490', 'video3318', 'video2641', 'video2971', 'video1289', 'video227', 'video1291', 'video2770', 'video1499', 'video123', 'video2509', 'video3327', 'video2539', 'video1463', 'video2774', 'video1965', 'video2552', 'video32', 'video3112', 'video3477', 'video1718', 'video298', 'video1031', 'video2702', 'video2005', 'video1266', 'video3407', 'video1176', 'video1550', 'video1074', 'video275', 'video2395', 'video1208', 'video1722', 'video2310', 'video2433', 'video2656', 'video2880', 'video3629', 'video1823', 'video1843', 'video25', 'video3288', 'video2168', 'video3506', 'video2213', 'video2286', 'video10', 'video30', 'video1299', 'video3677', 'video1412', 'video3322', 'video1674', 'video2867', 'video3454', 'video1409', 'video2972', 'video1835', 'video1860', 'video1076', 'video2220', 'video3669', 'video2609', 'video2782', 'video2924', 'video1441', 'video5810', 'video2724', 'video35', 'video3132', 'video1834', 'video3720', 'video2959', 'video2520', 'video302', 'video1761', 'video2470', 'video2862', 'video1809', 'video1517', 'video3682', 'video3760', 'video2713', 'video1144', 'video239', 'video2620', 'video1920', 'video3193', 'video1894', 'video2531', 'video6883', 'video1911', 'video1487', 'video1014', 'video3546', 'video20', 'video3283', 'video319', 'video2440', 'video3399', 'video3354', 'video3358', 'video2909', 'video373', 'video2345', 'video3495', 'video1612', 'video2601', 'video6034', 'video2218', 'video3773', 'video176', 'video2760', 'video1649', 'video2927', 'video1979', 'video1185', 'video2091', 'video2680', 'video3165', 'video6879', 'video290', 'video1956', 'video3482', 'video1810', 'video329', 'video1990', 'video1091', 'video3738', 'video170', 'video1045', 'video2410', 'video1689', 'video1434', 'video2777', 'video175', 'video353', 'video1586', 'video3763', 'video3117', 'video1669', 'video4099', 'video3700', 'video3202', 'video2375', 'video2569', 'video3057', 'video3712', 'video2364', 'video2441', 'video6105', 'video261', 'video1885', 'video1310', 'video1646', 'video4075', 'video2076', 'video2262', 'video1524', 'video1107', 'video3606', 'video3308', 'video2829', 'video3020', 'video1878', 'video2073', 'video1551', 'video1826', 'video3041', 'video216', 'video1975', 'video2597', 'video2632', 'video191', 'video287', 'video2793', 'video2200', 'video2209', 'video2502', 'video2199', 'video3622', 'video105', 'video3201', 'video2120', 'video2798', 'video5859', 'video265', 'video2538', 'video1427', 'video1602', 'video6037', 'video2314', 'video2411', 'video2070', 'video1715', 'video3770', 'video3003', 'video2876', 'video3230', 'video2361', 'video3104', 'video1148', 'video2839', 'video2664', 'video2895', 'video3459', 'video2543', 'video2221', 'video2422', 'video2722', 'video1249', 'video2484', 'video3533', 'video1936', 'video2095', 'video1154', 'video3416', 'video1922', 'video3457', 'video3471', 'video3172', 'video1201', 'video1162', 'video2282', 'video2938', 'video3698', 'video315', 'video5889', 'video2574', 'video220', 'video234', 'video190', 'video3757', 'video3680', 'video2919', 'video1828', 'video1364', 'video256', 'video1815', 'video1506', 'video2111', 'video2967', 'video1132', 'video3242', 'video3067', 'video1223', 'video1275', 'video2028', 'video3167', 'video1561', 'video2132', 'video137', 'video1529', 'video2566', 'video1328', 'video3764', 'video1743', 'video2645', 'video2393', 'video3517', 'video1426', 'video2840', 'video223', 'video1673', 'video2153', 'video2446', 'video3251', 'video3478', 'video1181', 'video1215', 'video2217', 'video1518', 'video1163', 'video325', 'video6542', 'video3154', 'video3692', 'video7242', 'video1530', 'video2352', 'video3007', 'video1931', 'video2802', 'video1685', 'video291', 'video2646', 'video2031', 'video1216', 'video2192', 'video1680', 'video3393', 'video1193', 'video3602', 'video1264', 'video3576', 'video3766', 'video3236', 'video3575', 'video2542', 'video12', 'video2108', 'video1880', 'video2280', 'video3199', 'video2432', 'video3139', 'video3188', 'video6878', 'video2336', 'video2731', 'video3068', 'video1466', 'video2175', 'video2772', 'video2823', 'video1882', 'video6885', 'video3402', 'video1928', 'video1428', 'video1480', 'video2413', 'video2923', 'video1333', 'video1632', 'video2607', 'video2800', 'video2845', 'video2179', 'video1493', 'video3784', 'video3024', 'video3149', 'video37', 'video2748', 'video1638', 'video1103', 'video1933', 'video1460', 'video1373', 'video2616', 'video3730', 'video2700', 'video1648', 'video1896', 'video1358', 'video6540', 'video1156', 'video2457', 'video2659', 'video2374', 'video1280', 'video2151', 'video1884', 'video369', 'video2651', 'video1485', 'video1921', 'video4078', 'video2911', 'video3741', 'video2674', 'video3447', 'video1779', 'video1851', 'video1737', 'video2020', 'video3523', 'video2389', 'video3637', 'video3105', 'video2019', 'video1901', 'video2342', 'video3435', 'video324', 'video3353', 'video3607', 'video209', 'video2996', 'video2062', 'video2122', 'video3047', 'video1555', 'video6039', 'video5808', 'video1211', 'video6550', 'video346', 'video3123', 'video3146', 'video1173', 'video3307', 'video2397', 'video1203', 'video3180', 'video3439', 'video2311', 'video1084', 'video2982', 'video3777', 'video1652', 'video3340', 'video2479', 'video2012', 'video1510', 'video3207', 'video3351', 'video2234', 'video3301', 'video3287', 'video283', 'video1445', 'video2264', 'video2202', 'video1819', 'video2910', 'video2789', 'video5887', 'video2580', 'video2222', 'video240', 'video3379', 'video364', 'video1139', 'video3227', 'video1478', 'video1645', 'video3250', 'video3540', 'video3470', 'video3423', 'video1765', 'video141', 'video1739', 'video1598', 'video3019', 'video3376', 'video1219', 'video3715', 'video3225', 'video2206', 'video3130', 'video1797', 'video2295', 'video1989', 'video1729', 'video1519', 'video1789', 'video3754', 'video2383', 'video1957', 'video3580', 'video2412', 'video1196', 'video2755', 'video2254', 'video1043', 'video3247', 'video2078', 'video1470', 'video1534', 'video2408', 'video221', 'video1238', 'video2490', 'video2155', 'video3352', 'video2670', 'video2224', 'video3169', 'video1883', 'video1913', 'video2026', 'video3317', 'video3555', 'video1849', 'video3739', 'video2191', 'video2398', 'video1771', 'video2859', 'video3100', 'video1700', 'video2811', 'video1241', 'video2786', 'video2639', 'video6882', 'video1040', 'video344', 'video3195', 'video1259', 'video1260', 'video3053', 'video357', 'video269', 'video2764', 'video5811', 'video180', 'video2928', 'video2071', 'video1947', 'video1458', 'video1242', 'video2587', 'video2105', 'video1686', 'video2694', 'video1662', 'video3593', 'video1257', 'video2344', 'video1114', 'video3125', 'video3500', 'video1245', 'video1006', 'video3054', 'video1035', 'video1319', 'video2643', 'video3', 'video158', 'video1464', 'video1277', 'video1375', 'video1234', 'video2762', 'video3206', 'video2568', 'video1447', 'video2356', 'video2816', 'video1048', 'video2765', 'video2527', 'video3142', 'video2285', 'video2253', 'video2758', 'video1438', 'video1419', 'video5881', 'video1736', 'video3723', 'video2273', 'video2681', 'video2696', 'video3152', 'video816', 'video2325', 'video2946', 'video6544', 'video1719', 'video3037', 'video2210', 'video1804', 'video3224', 'video1960', 'video1525', 'video1570', 'video1854', 'video2718', 'video215', 'video1514', 'video1707', 'video2540', 'video2298', 'video104', 'video2178', 'video1549', 'video2228', 'video2074', 'video2701', 'video2757', 'video2954', 'video225', 'video1359', 'video1702', 'video3676', 'video2180', 'video2300', 'video2554', 'video6104', 'video3121', 'video1047', 'video1904', 'video3311', 'video2240', 'video195', 'video3526', 'video2429', 'video3507', 'video1768', 'video2728', 'video3145', 'video1015', 'video3058', 'video1991', 'video1336', 'video3159', 'video1862', 'video3481', 'video3538', 'video1619', 'video3404', 'video1985', 'video2107', 'video3400', 'video2292', 'video7241', 'video29', 'video1634', 'video1667', 'video1235', 'video2301', 'video1906', 'video2998', 'video1600', 'video2223', 'video3476', 'video1593', 'video1760', 'video327', 'video1750', 'video3134', 'video1730', 'video1382', 'video1136', 'video119', 'video334', 'video2655', 'video2868', 'video3072', 'video3408', 'video3666', 'video5815', 'video2936', 'video249', 'video2385', 'video2550', 'video2745', 'video2051', 'video3039', 'video3745', 'video3675', 'video3611', 'video3726', 'video1150', 'video3493', 'video199', 'video7037', 'video1698', 'video3649', 'video2570', 'video101', 'video1952', 'video3161', 'video3701', 'video3305', 'video1749', 'video2126', 'video1597', 'video1322', 'video2327', 'video1844', 'video2242', 'video1924', 'video3487', 'video2987', 'video3592', 'video128', 'video1244', 'video2215', 'video1171', 'video2104', 'video358', 'video3652', 'video1073', 'video1665', 'video1461', 'video3653', 'video3444', 'video1562', 'video3191', 'video704', 'video2808', 'video1782', 'video2267', 'video2114', 'video2009', 'video2014', 'video3412', 'video2059', 'video1631', 'video1903', 'video1793', 'video1984', 'video2672', 'video1701', 'video218', 'video3185', 'video2115', 'video162', 'video1491', 'video166', 'video1166', 'video2002', 'video1348', 'video3246', 'video2334', 'video31', 'video2088', 'video2480', 'video2985', 'video2226', 'video2596', 'video3051', 'video1745', 'video2741', 'video2614', 'video2173', 'video1479', 'video2547', 'video3343', 'video2353', 'video2836', 'video2060', 'video3759', 'video1738', 'video2809', 'video2335', 'video375', 'video3578', 'video1455', 'video185', 'video2931', 'video1465', 'video1660', 'video2367', 'video3216', 'video2600', 'video1377', 'video2628', 'video1774', 'video1980', 'video2588', 'video41', 'video1212', 'video3344', 'video167', 'video3065', 'video3171', 'video2838', 'video1546', 'video2714', 'video1439', 'video2893', 'video2925', 'video3620', 'video2260', 'video2884', 'video1971', 'video1253', 'video2564', 'video1224', 'video1864', 'video2666', 'video1440', 'video3647', 'video1961', 'video2137', 'video1089', 'video2044', 'video1220', 'video1363', 'video3096', 'video301', 'video6103', 'video351', 'video3492', 'video3450', 'video1086', 'video1780', 'video3558', 'video1672', 'video1742', 'video2719', 'video1751', 'video2317', 'video1093', 'video3560', 'video1724', 'video2302', 'video3456', 'video2715', 'video2887', 'video3463', 'video3204', 'video1515', 'video3577', 'video1580', 'video1503', 'video2688', 'video3330', 'video28', 'video2904', 'video1177', 'video3380', 'video1814', 'video2276', 'video1786', 'video1895', 'video3391', 'video1367', 'video3614', 'video2889', 'video3714', 'video1596', 'video1332', 'video1431', 'video2747', 'video3235', 'video6040', 'video1205', 'video303', 'video2636', 'video3080', 'video206', 'video1865', 'video1538', 'video3405', 'video172', 'video1371', 'video304', 'video2653', 'video3248', 'video2404', 'video1867', 'video3585', 'video2249', 'video2756', 'video3237', 'video1497', 'video201', 'video1191', 'video2960', 'video3005', 'video1716', 'video2586', 'video1636', 'video2882', 'video2727', 'video3276', 'video2671', 'video2129', 'video2532', 'video2979', 'video2166', 'video1825', 'video3564', 'video1054', 'video3109', 'video3601', 'video3044', 'video2476', 'video1731', 'video3650', 'video2536', 'video2382', 'video2952', 'video2027', 'video1433', 'video1822', 'video3026', 'video2888', 'video370', 'video1408', 'video3232', 'video165', 'video2372', 'video1725', 'video184', 'video2077', 'video3087', 'video1708', 'video1030', 'video2573', 'video284', 'video3663', 'video2004', 'video2576', 'video2618', 'video2968', 'video2263', 'video3341', 'video2235', 'video3746', 'video3778', 'video341', 'video2421', 'video6547', 'video3737', 'video2211', 'video2689', 'video1204', 'video3316', 'video2270', 'video124', 'video1830', 'video245', 'video356', 'video1183', 'video1918', 'video33', 'video1027', 'video3582', 'video654', 'video1099', 'video1542', 'video3705', 'video1365', 'video258', 'video3740', 'video299', 'video1526', 'video2937', 'video149', 'video3717', 'video1998', 'video342', 'video1100', 'video2749', 'video3309', 'video2450', 'video136', 'video1122', 'video586', 'video2491', 'video2555', 'video2289', 'video3382', 'video1939', 'video2245', 'video2370', 'video1642', 'video310', 'video3181', 'video1133', 'video1916', 'video2941', 'video217', 'video3441', 'video3133', 'video1137', 'video2935', 'video1446', 'video293', 'video1398', 'video3046', 'video1406', 'video2145', 'video2146', 'video3530', 'video257', 'video1161', 'video3066', 'video1977', 'video1423', 'video1236', 'video1492', 'video3440', 'video3603', 'video279', 'video3394', 'video3436', 'video1969', 'video3428', 'video1229', 'video1802', 'video3449', 'video1803', 'video604', 'video2138', 'video3619', 'video1081', 'video2906', 'video1102', 'video1125', 'video126', 'video3710', 'video1703', 'video1202', 'video2351', 'video1038', 'video2359', 'video2921', 'video5861', 'video3727', 'video3758', 'video2068', 'video2589', 'video2812', 'video271', 'video3136', 'video3004', 'video3431', 'video2871', 'video1881', 'video6541', 'video1541', 'video27', 'video1413', 'video3733', 'video2637', 'video1963', 'video1537', 'video2780', 'video1452', 'video1251', 'video2665', 'video1767', 'video159', 'video2163', 'video3069', 'video2865', 'video1307', 'video2454', 'video2101', 'video131', 'video238', 'video250', 'video1456', 'video1554', 'video1694', 'video254', 'video2517', 'video3418', 'video2582', 'video3001', 'video3095', 'video3512', 'video3455', 'video1454', 'video2316', 'video2992', 'video1486', 'video2377', 'video3077', 'video3392', 'video2355', 'video1591', 'video2740', 'video2785', 'video2388', 'video2466', 'video2434', 'video2188', 'video2150', 'video1342', 'video366', 'video3735', 'video2394', 'video1556', 'video1128', 'video2896', 'video308', 'video2159', 'video3144', 'video3183', 'video2315', 'video1683', 'video2788', 'video3131', 'video36', 'video2038', 'video349', 'video3284', 'video2324', 'video2930', 'video2278', 'video2082', 'video2846', 'video26', 'video1023', 'video3410', 'video2496', 'video3334', 'video2162', 'video3664', 'video3406', 'video2669', 'video1222', 'video1321', 'video2498', 'video2784', 'video1284', 'video2878', 'video2497', 'video3462', 'video3415', 'video6107', 'video3409', 'video2037', 'video3259', 'video2284', 'video2172', 'video1167', 'video2981', 'video1907', 'video3023', 'video1795', 'video3430', 'video3329', 'video1354', 'video3078', 'video1324', 'video2152', 'video1405', 'video368', 'video3116', 'video2343', 'video3256', 'video2121', 'video3114', 'video1368', 'video3598', 'video2418', 'video1818', 'video2127', 'video1436', 'video2312', 'video3498', 'video1912', 'video1827', 'video3357', 'video3545', 'video2268', 'video5863', 'video297', 'video2844', 'video3567', 'video161', 'video2608', 'video3021', 'video2330', 'video2483', 'video1351', 'video1954', 'video2690', 'video2571', 'video3718', 'video2131', 'video1629', 'video1453', 'video3736', 'video3543', 'video3460', 'video2767', 'video1003', 'video1690', 'video1190', 'video1116', 'video2505', 'video2916', 'video3527', 'video5860', 'video1005', 'video2898', 'video1682', 'video3162', 'video1231', 'video2453', 'video6545', 'video1165', 'video1282', 'video2190', 'video1560', 'video1352', 'video1717', 'video3056', 'video3786', 'video2258', 'video1437', 'video212', 'video1696', 'video2257', 'video2365', 'video3655', 'video2605', 'video2157', 'video296', 'video2817', 'video1772', 'video2494', 'video18', 'video2128', 'video3384', 'video2855', 'video1948', 'video2567', 'video2894', 'video377', 'video3291', 'video2819', 'video3153', 'video2066', 'video2663', 'video2171', 'video3321', 'video2486', 'video589', 'video2475', 'video3634', 'video1599', 'video2347', 'video2488', 'video2117', 'video1746', 'video1066', 'video2706', 'video3433', 'video292', 'video355', 'video1194', 'video1290', 'video3221', 'video1898', 'video2248', 'video2140', 'video3092', 'video1608', 'video2049', 'video3584', 'video108', 'video3190', 'video2474', 'video3082', 'video3627', 'video2477', 'video3397', 'video236', 'video1897', 'video2098', 'video336', 'video1511', 'video1755', 'video260', 'video3421', 'video3751', 'video1387', 'video1800', 'video2436', 'video3035', 'video2362', 'video3158', 'video2943', 'video1198', 'video1868', 'video2553', 'video1056', 'video1250', 'video2686', 'video1988', 'video3505', 'video347', 'video2602', 'video1657', 'video2340', 'video3018', 'video1095', 'video362', 'video2678', 'video2250', 'video3060', 'video2473', 'video1863', 'video2358', 'video2732', 'video2460', 'video2561', 'video3595', 'video2541', 'video2332', 'video1346', 'video1298', 'video1415', 'video2492', 'video2825', 'video3579', 'video2717', 'video3281', 'video2922', 'video163', 'video2619', 'video2189', 'video2275', 'video1061', 'video3106', 'video1829', 'video3699', 'video2430', 'video2773', 'video2781', 'video1274', 'video2119', 'video1263', 'video1574', 'video2558', 'video1380', 'video2406', 'video3518', 'video2205', 'video1986', 'video3315', 'video2684', 'video1940', 'video371', 'video1267', 'video2033', 'video1923', 'video1149', 'video1958', 'video1281', 'video2827', 'video1691', 'video21', 'video2328', 'video1859', 'video2165', 'video1417', 'video2739', 'video1443', 'video2308', 'video3135', 'video5812', 'video3731', 'video332', 'video1781', 'video1748', 'video1192', 'video2055', 'video5856', 'video2459', 'video1762']\n"
     ]
    }
   ],
   "source": [
    "## Finding rows with missing lbp values\n",
    "ind_0=[]\n",
    "ind_56=[]\n",
    "ind_112=[]\n",
    "for i in lbp.index:\n",
    "  if isinstance(lbp['video-0'][i],int):\n",
    "    ind_0.append(i)\n",
    "  if isinstance(lbp['video-56'][i],int):\n",
    "    ind_56.append(i)\n",
    "  if isinstance(lbp['video-112'][i],int):\n",
    "    ind_112.append(i)\n",
    "print(\"Total rows with no inception Feature for frame 0: \", len(ind_0))\n",
    "print(\"Total rows with no inception Feature for frame 56: \", len(ind_56))\n",
    "print(\"Total rows with no inception Feature for frame 112: \", len(ind_112))\n",
    "print(\"Selecting all indexed which are missing any of these features...\")\n",
    "\n",
    "ind = ind_0 + ind_56 + ind_112\n",
    "ind_final = list(set(ind))\n",
    "print(\"Total rows with no inception Feature: \", len(ind_final))\n",
    "print(\"Indexes of these rows are: \", ind_final)"
   ]
  },
  {
   "cell_type": "code",
   "execution_count": null,
   "metadata": {
    "id": "ZcWnp7jL0agU"
   },
   "outputs": [],
   "source": [
    "## Dropping rows with missing values\n",
    "lbp.drop(ind_final, inplace=True)"
   ]
  },
  {
   "cell_type": "code",
   "execution_count": null,
   "metadata": {
    "colab": {
     "base_uri": "https://localhost:8080/"
    },
    "id": "MdFhonD10jiy",
    "outputId": "d560a413-d17f-48d7-c0af-1cc2618a34f5"
   },
   "outputs": [
    {
     "name": "stdout",
     "output_type": "stream",
     "text": [
      "<class 'pandas.core.frame.DataFrame'>\n",
      "Index: 3466 entries, video4 to video7493\n",
      "Data columns (total 5 columns):\n",
      " #   Column                   Non-Null Count  Dtype  \n",
      "---  ------                   --------------  -----  \n",
      " 0   short-term_memorability  3466 non-null   float64\n",
      " 1   long-term_memorability   3466 non-null   float64\n",
      " 2   video-0                  3466 non-null   object \n",
      " 3   video-56                 3466 non-null   object \n",
      " 4   video-112                3466 non-null   object \n",
      "dtypes: float64(2), object(3)\n",
      "memory usage: 162.5+ KB\n"
     ]
    }
   ],
   "source": [
    "lbp.info()"
   ]
  },
  {
   "cell_type": "code",
   "execution_count": null,
   "metadata": {
    "colab": {
     "base_uri": "https://localhost:8080/"
    },
    "id": "331Ze6xx1D7u",
    "outputId": "02dfe756-9245-41e5-f4bb-9d3613c486ee"
   },
   "outputs": [
    {
     "name": "stdout",
     "output_type": "stream",
     "text": [
      "Maximum number of features are:  122\n"
     ]
    }
   ],
   "source": [
    "## Finding maximum number of features in LBP\n",
    "max_f = 0\n",
    "for i in lbp.index:\n",
    "  if max_f < len(lbp['video-0'][i]):\n",
    "    max_f = len(lbp['video-0'][i])\n",
    "  if max_f < len(lbp['video-56'][i]):\n",
    "    max_f = len(lbp['video-56'][i])\n",
    "  if max_f < len(lbp['video-112'][i]):\n",
    "    max_f = len(lbp['video-112'][i])\n",
    "\n",
    "print(\"Maximum number of features are: \", max_f)"
   ]
  },
  {
   "cell_type": "markdown",
   "metadata": {
    "id": "jAh421i8u6ZG"
   },
   "source": [
    "## Aesthetics"
   ]
  },
  {
   "cell_type": "code",
   "execution_count": null,
   "metadata": {
    "id": "lMBZBMfk_c35"
   },
   "outputs": [],
   "source": [
    "## Code from Local Machine\n",
    "\n",
    "## Calling the method for fetching Aesthetic features and storing them into a array list using loop\n",
    "\n",
    "my_numlist= [] # Creating new list to store the Aesthetic features\n",
    "my_namelist = [] # Creating a new list to store the names of the videos\n",
    "for filename in glob.glob('Dev-set/Aesthetic_Features/aesthetic_feat_dev-set_mean/*.txt'):\n",
    "    s= read_aesthetic_features(filename)\n",
    "    my_numlist.append(s)\n",
    "    my_namelist.append(((filename.split('\\\\')[-1]).split('.')[0])) ## Filename is \"Dev-set/aesthetic\\video10.txt\"\n",
    "\n",
    "\n",
    "## Adding ground truth to the dataframe\n",
    "ground_truth = pd.read_csv('Dev-set/Ground-truth/ground-truth.csv')\n",
    "#Dropping annotation coulumn from ground truth as we dont need them\n",
    "ground_truth = ground_truth.drop(['nb_short-term_annotations', 'nb_long-term_annotations'], axis=1)\n",
    "ground_truth.head()\n",
    "# Cleanig the video name\n",
    "ground_truth['video'] = ground_truth['video'].apply(lambda x : x.split('.')[0])\n",
    "ground_truth.head()\n",
    "\n",
    "## Creating empty dataframe for aesthetic Feature\n",
    "asf = pd.DataFrame()\n",
    "asf[\"video\"] = ground_truth['video']\n",
    "asf['aesthetic_feat_dev-set_mean'] = ''\n",
    "asf['aesthetic_feat_dev-set_median'] = ''\n",
    "asf.head() \n",
    "\n",
    "## Merging dataframe with ground truth\n",
    "asf = pd.merge(ground_truth, asf , on='video')\n",
    "asf.index = asf.video\n",
    "del asf['video']\n",
    "asf.head()\n",
    "\n",
    "## Adding mean values to dataframe\n",
    "for i in asf.index:\n",
    "    for j in my_namelist:\n",
    "        if (i == j):\n",
    "            asf.at[i, 'aesthetic_feat_dev-set_mean'] = my_numlist[my_namelist.index(j)]\n",
    "\n",
    "\n",
    "## Adding Median Values to the dataframe\n",
    "my_numlist= [] # Creating new list to store the aesthetic features\n",
    "my_namelist = [] # Creating a new list to store the names of the videos\n",
    "for filename in glob.glob('Dev-set/Aesthetic_Features/aesthetic_feat_dev-set_median/*.txt'):\n",
    "    s= read_aesthetic_features(filename)\n",
    "    my_numlist.append(s)\n",
    "    my_namelist.append(((filename.split('\\\\')[-1]).split('.')[0])) ## Filename is \"Dev-set/aesthetic\\video10.txt\"\n",
    "\n",
    "for i in asf.index:\n",
    "    for j in my_namelist:\n",
    "        if (i == j):\n",
    "            asf.at[i, 'aesthetic_feat_dev-set_median'] = my_numlist[my_namelist.index(j)]\n",
    "\n",
    "\n",
    "asf = asf.replace(to_replace ='', value =0)\n",
    "asf.to_pickle('Dev-loaded-features/aesthetic_feature')"
   ]
  },
  {
   "cell_type": "code",
   "execution_count": null,
   "metadata": {
    "colab": {
     "base_uri": "https://localhost:8080/",
     "height": 337
    },
    "id": "ZTpkCb2NvQ6Z",
    "outputId": "9716c8b8-4f8c-4041-b5b3-2b057bca8d90"
   },
   "outputs": [
    {
     "data": {
      "text/html": [
       "<div>\n",
       "<style scoped>\n",
       "    .dataframe tbody tr th:only-of-type {\n",
       "        vertical-align: middle;\n",
       "    }\n",
       "\n",
       "    .dataframe tbody tr th {\n",
       "        vertical-align: top;\n",
       "    }\n",
       "\n",
       "    .dataframe thead th {\n",
       "        text-align: right;\n",
       "    }\n",
       "</style>\n",
       "<table border=\"1\" class=\"dataframe\">\n",
       "  <thead>\n",
       "    <tr style=\"text-align: right;\">\n",
       "      <th></th>\n",
       "      <th>short-term_memorability</th>\n",
       "      <th>long-term_memorability</th>\n",
       "      <th>aesthetic_feat_dev-set_mean</th>\n",
       "      <th>aesthetic_feat_dev-set_median</th>\n",
       "    </tr>\n",
       "    <tr>\n",
       "      <th>video</th>\n",
       "      <th></th>\n",
       "      <th></th>\n",
       "      <th></th>\n",
       "      <th></th>\n",
       "    </tr>\n",
       "  </thead>\n",
       "  <tbody>\n",
       "    <tr>\n",
       "      <th>video3</th>\n",
       "      <td>0.924</td>\n",
       "      <td>0.846</td>\n",
       "      <td>[0.18389, 0.713733, 0.202302, 0.610132, 0.1242...</td>\n",
       "      <td>[0.180874, 0.715626, 0.19893, 0.610453, 0.1216...</td>\n",
       "    </tr>\n",
       "    <tr>\n",
       "      <th>video4</th>\n",
       "      <td>0.923</td>\n",
       "      <td>0.667</td>\n",
       "      <td>[0.147255, 0.550718, 0.460299, 0.424981, 0.341...</td>\n",
       "      <td>[0.146076, 0.55007, 0.460729, 0.424397, 0.3418...</td>\n",
       "    </tr>\n",
       "    <tr>\n",
       "      <th>video6</th>\n",
       "      <td>0.863</td>\n",
       "      <td>0.700</td>\n",
       "      <td>[0.063933, 0.826933, 0.214129, 0.719341, 0.130...</td>\n",
       "      <td>[0.063898, 0.827439, 0.211925, 0.720297, 0.129...</td>\n",
       "    </tr>\n",
       "    <tr>\n",
       "      <th>video8</th>\n",
       "      <td>0.922</td>\n",
       "      <td>0.818</td>\n",
       "      <td>[0.367527, 0.133869, 0.746074, 0.169317, 0.696...</td>\n",
       "      <td>[0.380539, 0.134683, 0.746891, 0.171604, 0.697...</td>\n",
       "    </tr>\n",
       "    <tr>\n",
       "      <th>video10</th>\n",
       "      <td>0.950</td>\n",
       "      <td>0.900</td>\n",
       "      <td>[0.402878, 0.389358, 0.564687, 0.400378, 0.471...</td>\n",
       "      <td>[0.427258, 0.381448, 0.582746, 0.409475, 0.489...</td>\n",
       "    </tr>\n",
       "  </tbody>\n",
       "</table>\n",
       "</div>"
      ],
      "text/plain": [
       "         short-term_memorability  ...                      aesthetic_feat_dev-set_median\n",
       "video                             ...                                                   \n",
       "video3                     0.924  ...  [0.180874, 0.715626, 0.19893, 0.610453, 0.1216...\n",
       "video4                     0.923  ...  [0.146076, 0.55007, 0.460729, 0.424397, 0.3418...\n",
       "video6                     0.863  ...  [0.063898, 0.827439, 0.211925, 0.720297, 0.129...\n",
       "video8                     0.922  ...  [0.380539, 0.134683, 0.746891, 0.171604, 0.697...\n",
       "video10                    0.950  ...  [0.427258, 0.381448, 0.582746, 0.409475, 0.489...\n",
       "\n",
       "[5 rows x 4 columns]"
      ]
     },
     "execution_count": 25,
     "metadata": {
      "tags": []
     },
     "output_type": "execute_result"
    }
   ],
   "source": [
    "aesthetics = pd.read_pickle('/content/drive/MyDrive/ML Assignment/aesthetic_feature')\n",
    "aesthetics.head()"
   ]
  },
  {
   "cell_type": "code",
   "execution_count": null,
   "metadata": {
    "colab": {
     "base_uri": "https://localhost:8080/"
    },
    "id": "Ut6Z7jICwXTA",
    "outputId": "67521e52-4316-499c-e878-b5844217b931"
   },
   "outputs": [
    {
     "name": "stdout",
     "output_type": "stream",
     "text": [
      "Total rows with no inception Feature for mean:  0\n",
      "Total rows with no inception Feature for median:  0\n",
      "Selecting all indexed which are missing any of these features...\n",
      "Total rows with no inception Feature:  0\n",
      "Indexes of these rows are:  []\n"
     ]
    }
   ],
   "source": [
    "## Finding rows with missing lbp values\n",
    "ind_mean=[]\n",
    "ind_median=[]\n",
    "for i in aesthetics.index:\n",
    "  if isinstance(aesthetics['aesthetic_feat_dev-set_mean'][i],int):\n",
    "    ind_mean.append(i)\n",
    "  if isinstance(aesthetics['aesthetic_feat_dev-set_median'][i],int):\n",
    "    ind_median.append(i)\n",
    "print(\"Total rows with no inception Feature for mean: \", len(ind_mean))\n",
    "print(\"Total rows with no inception Feature for median: \", len(ind_median))\n",
    "print(\"Selecting all indexed which are missing any of these features...\")\n",
    "\n",
    "ind = ind_mean + ind_median\n",
    "ind_final = list(set(ind))\n",
    "print(\"Total rows with no inception Feature: \", len(ind_final))\n",
    "print(\"Indexes of these rows are: \", ind_final)"
   ]
  },
  {
   "cell_type": "markdown",
   "metadata": {
    "id": "6sq91zGGxRcE"
   },
   "source": [
    "NOTE: There are no missing values for Aesthetics Feature"
   ]
  },
  {
   "cell_type": "markdown",
   "metadata": {
    "id": "NIGcDfhsvFi7"
   },
   "source": [
    "## ColorHistogram"
   ]
  },
  {
   "cell_type": "code",
   "execution_count": null,
   "metadata": {
    "id": "IN1R-J8S6gie"
   },
   "outputs": [],
   "source": [
    "## Code from Local Machine\n",
    "\n",
    "## Calling the method for fetching ColorHistogram features and storing them into a array list using loop\n",
    "\n",
    "my_numlist= [] # Creating new list to store the ColorHistogram features\n",
    "my_namelist = [] # Creating a new list to store the names of the videos\n",
    "full_namelist = []\n",
    "for filename in glob.glob('Dev-set/ColorHistogram/*.txt'):\n",
    "    s= read_ColorHistogram(filename)\n",
    "    my_numlist.append(s)\n",
    "    my_namelist.append(((filename.split('\\\\')[-1]).split('.')[0]).split('-')[0]) ## Filename is \"Dev-set/ColorHistogram\\video4-0.txt\"\n",
    "    full_namelist.append(((filename.split('\\\\')[-1]).split('.')[0]))\n",
    "\n",
    "\n",
    "## Adding ground truth to the dataframe\n",
    "ground_truth = pd.read_csv('Dev-set/Ground-truth/ground-truth.csv')\n",
    "#Dropping annotation coulumn from ground truth as we dont need them\n",
    "ground_truth = ground_truth.drop(['nb_short-term_annotations', 'nb_long-term_annotations'], axis=1)\n",
    "# Cleanig the video name\n",
    "ground_truth['video'] = ground_truth['video'].apply(lambda x : x.split('.')[0])\n",
    "CH_features = pd.DataFrame()\n",
    "CH_features[\"video\"] = ground_truth['video']\n",
    "CH_features.info()\n",
    "\n",
    "## Adding new columns to CH_Feature\n",
    "CH_features['video-0'] = ''\n",
    "CH_features['video-56'] = ''\n",
    "CH_features['video-112' ] = ''\n",
    "CH_features.head()\n",
    "\n",
    "## Merging dataframe with Ground Truth\n",
    "CH_features = pd.merge(ground_truth, CH_features , on='video')\n",
    "CH_features.index = CH_features.video\n",
    "del CH_features['video']\n",
    "CH_features.head()\n",
    "\n",
    "## Filling the values to appropriate columns\n",
    "for i in CH_features.index:\n",
    "    for j in full_namelist:\n",
    "        if (i == j.split('-')[0]):\n",
    "            if (j.split('-')[-1] == \"0\"):\n",
    "                CH_features.at[i, 'video-0'] = my_numlist[full_namelist.index(j)]\n",
    "            elif (j.split('-')[-1] == \"56\"):\n",
    "                CH_features.at[i, 'video-56'] = my_numlist[full_namelist.index(j)]\n",
    "            elif (j.split('-')[-1] == \"112\"):\n",
    "                CH_features.at[i, 'video-112'] = my_numlist[full_namelist.index(j)]\n",
    "\n",
    "\n",
    "## Replacing missing values with 0\n",
    "CH_features = CH_features.replace(to_replace ='', value =0)\n",
    "CH_features.to_pickle('Dev-loaded-features/color_histogram')"
   ]
  },
  {
   "cell_type": "code",
   "execution_count": null,
   "metadata": {
    "id": "-YY4-C-Kpfb6"
   },
   "outputs": [],
   "source": [
    "ch = pd.read_pickle('/content/drive/MyDrive/ML Assignment/color_histogram')"
   ]
  },
  {
   "cell_type": "code",
   "execution_count": null,
   "metadata": {
    "colab": {
     "base_uri": "https://localhost:8080/",
     "height": 337
    },
    "id": "kVutE9xUpmlq",
    "outputId": "f0e098a2-a94b-40ba-9c3e-c34327fc2bf7"
   },
   "outputs": [
    {
     "data": {
      "text/html": [
       "<div>\n",
       "<style scoped>\n",
       "    .dataframe tbody tr th:only-of-type {\n",
       "        vertical-align: middle;\n",
       "    }\n",
       "\n",
       "    .dataframe tbody tr th {\n",
       "        vertical-align: top;\n",
       "    }\n",
       "\n",
       "    .dataframe thead th {\n",
       "        text-align: right;\n",
       "    }\n",
       "</style>\n",
       "<table border=\"1\" class=\"dataframe\">\n",
       "  <thead>\n",
       "    <tr style=\"text-align: right;\">\n",
       "      <th></th>\n",
       "      <th>short-term_memorability</th>\n",
       "      <th>long-term_memorability</th>\n",
       "      <th>video-0</th>\n",
       "      <th>video-56</th>\n",
       "      <th>video-112</th>\n",
       "    </tr>\n",
       "    <tr>\n",
       "      <th>video</th>\n",
       "      <th></th>\n",
       "      <th></th>\n",
       "      <th></th>\n",
       "      <th></th>\n",
       "      <th></th>\n",
       "    </tr>\n",
       "  </thead>\n",
       "  <tbody>\n",
       "    <tr>\n",
       "      <th>video3</th>\n",
       "      <td>0.924</td>\n",
       "      <td>0.846</td>\n",
       "      <td>0</td>\n",
       "      <td>0</td>\n",
       "      <td>0</td>\n",
       "    </tr>\n",
       "    <tr>\n",
       "      <th>video4</th>\n",
       "      <td>0.923</td>\n",
       "      <td>0.667</td>\n",
       "      <td>[[21542.0, 5063.0, 9901.0, 6499.0, 11245.0, 88...</td>\n",
       "      <td>[[16911.0, 5276.0, 10181.0, 7367.0, 9852.0, 99...</td>\n",
       "      <td>[[19416.0, 5417.0, 9368.0, 7555.0, 9377.0, 859...</td>\n",
       "    </tr>\n",
       "    <tr>\n",
       "      <th>video6</th>\n",
       "      <td>0.863</td>\n",
       "      <td>0.700</td>\n",
       "      <td>[[458836.0, 65035.0, 39208.0, 21082.0, 31064.0...</td>\n",
       "      <td>[[542409.0, 94466.0, 79806.0, 37750.0, 56638.0...</td>\n",
       "      <td>[[543149.0, 89806.0, 70010.0, 33146.0, 55169.0...</td>\n",
       "    </tr>\n",
       "    <tr>\n",
       "      <th>video8</th>\n",
       "      <td>0.922</td>\n",
       "      <td>0.818</td>\n",
       "      <td>[[42.0, 11.0, 14.0, 13.0, 27.0, 30.0, 83.0, 10...</td>\n",
       "      <td>[[0.0, 5.0, 5.0, 10.0, 5.0, 19.0, 21.0, 48.0, ...</td>\n",
       "      <td>[[8.0, 3.0, 6.0, 7.0, 28.0, 48.0, 88.0, 135.0,...</td>\n",
       "    </tr>\n",
       "    <tr>\n",
       "      <th>video10</th>\n",
       "      <td>0.950</td>\n",
       "      <td>0.900</td>\n",
       "      <td>0</td>\n",
       "      <td>0</td>\n",
       "      <td>0</td>\n",
       "    </tr>\n",
       "  </tbody>\n",
       "</table>\n",
       "</div>"
      ],
      "text/plain": [
       "         short-term_memorability  ...                                          video-112\n",
       "video                             ...                                                   \n",
       "video3                     0.924  ...                                                  0\n",
       "video4                     0.923  ...  [[19416.0, 5417.0, 9368.0, 7555.0, 9377.0, 859...\n",
       "video6                     0.863  ...  [[543149.0, 89806.0, 70010.0, 33146.0, 55169.0...\n",
       "video8                     0.922  ...  [[8.0, 3.0, 6.0, 7.0, 28.0, 48.0, 88.0, 135.0,...\n",
       "video10                    0.950  ...                                                  0\n",
       "\n",
       "[5 rows x 5 columns]"
      ]
     },
     "execution_count": 28,
     "metadata": {
      "tags": []
     },
     "output_type": "execute_result"
    }
   ],
   "source": [
    "ch.head()"
   ]
  },
  {
   "cell_type": "code",
   "execution_count": null,
   "metadata": {
    "colab": {
     "base_uri": "https://localhost:8080/"
    },
    "id": "GVRaX-CLpyES",
    "outputId": "8555bef1-eb2d-4e42-fd10-a3456871c695"
   },
   "outputs": [
    {
     "name": "stdout",
     "output_type": "stream",
     "text": [
      "Total rows with no inception Feature for frame 0:  2329\n",
      "Total rows with no inception Feature for frame 56:  2326\n",
      "Total rows with no inception Feature for frame 112:  2327\n",
      "Selecting all indexed which are missing any of these features...\n",
      "Total rows with no inception Feature:  2347\n",
      "Indexes of these rows are:  ['video3150', 'video1997', 'video282', 'video3275', 'video3425', 'video1213', 'video133', 'video1656', 'video1152', 'video1039', 'video6702', 'video3387', 'video2445', 'video2414', 'video1022', 'video1184', 'video2052', 'video2638', 'video2974', 'video3348', 'video1021', 'video1050', 'video1527', 'video1877', 'video906', 'video2239', 'video1741', 'video2087', 'video1857', 'video2399', 'video3101', 'video2203', 'video2583', 'video2801', 'video3192', 'video1679', 'video2610', 'video1887', 'video2423', 'video1943', 'video3411', 'video3194', 'video2323', 'video2623', 'video2097', 'video1858', 'video2658', 'video1112', 'video2339', 'video2708', 'video1609', 'video1174', 'video2742', 'video1411', 'video1595', 'video3173', 'video3434', 'video2193', 'video2897', 'video2667', 'video2143', 'video1899', 'video2424', 'video2003', 'video3451', 'video121', 'video2318', 'video2769', 'video2022', 'video2079', 'video2156', 'video2652', 'video2581', 'video277', 'video3401', 'video1684', 'video2373', 'video3122', 'video3319', 'video2236', 'video1188', 'video7224', 'video2901', 'video6406', 'video3223', 'video2212', 'video3120', 'video3055', 'video3177', 'video1170', 'video211', 'video2929', 'video2955', 'video1946', 'video3093', 'video3635', 'video3043', 'video2630', 'video2008', 'video237', 'video1217', 'video1312', 'video1399', 'video2495', 'video2948', 'video2419', 'video1118', 'video1905', 'video2562', 'video1861', 'video2914', 'video1661', 'video3187', 'video1210', 'video1763', 'video2141', 'video3268', 'video1145', 'video323', 'video1270', 'video1655', 'video2635', 'video164', 'video107', 'video3388', 'video3472', 'video1610', 'video2668', 'video2953', 'video2710', 'video3420', 'video1678', 'video2744', 'video2525', 'video1388', 'video1976', 'video2030', 'video1057', 'video3537', 'video1784', 'video1085', 'video247', 'video2357', 'video1329', 'video1389', 'video2148', 'video2251', 'video2902', 'video1083', 'video2592', 'video1563', 'video1914', 'video2932', 'video196', 'video1833', 'video2712', 'video1330', 'video1488', 'video3269', 'video1410', 'video3084', 'video3499', 'video2535', 'video1482', 'video2515', 'video1041', 'video1811', 'video3525', 'video2787', 'video2640', 'video113', 'video1069', 'video1558', 'video1732', 'video2799', 'video2891', 'video1583', 'video2435', 'video1007', 'video1273', 'video248', 'video2603', 'video2843', 'video1838', 'video2703', 'video2116', 'video2259', 'video1832', 'video1297', 'video2848', 'video1604', 'video2970', 'video3509', 'video330', 'video2024', 'video1432', 'video3333', 'video1630', 'video2455', 'video1528', 'video2032', 'video3186', 'video1873', 'video130', 'video1255', 'video339', 'video156', 'video203', 'video2034', 'video3390', 'video3554', 'video3059', 'video3398', 'video1325', 'video3534', 'video3511', 'video1345', 'video3049', 'video1687', 'video2322', 'video2726', 'video2775', 'video313', 'video3642', 'video2984', 'video2627', 'video205', 'video2380', 'video2130', 'video2089', 'video3297', 'video2841', 'video1697', 'video3094', 'video3103', 'video1430', 'video1160', 'video243', 'video3262', 'video1516', 'video1866', 'video122', 'video2499', 'video3031', 'video1055', 'video2106', 'video3091', 'video1559', 'video151', 'video2908', 'video3427', 'video3466', 'video1955', 'video2478', 'video210', 'video1705', 'video2949', 'video1033', 'video1178', 'video305', 'video1414', 'video2737', 'video1477', 'video2319', 'video3328', 'video2025', 'video1200', 'video132', 'video1569', 'video2514', 'video2303', 'video2677', 'video3090', 'video1535', 'video7261', 'video2063', 'video3529', 'video3339', 'video1009', 'video1247', 'video1001', 'video1727', 'video3127', 'video3510', 'video3539', 'video188', 'video3278', 'video2208', 'video171', 'video2449', 'video2791', 'video3515', 'video259', 'video1261', 'video146', 'video17', 'video3561', 'video1553', 'video3196', 'video3313', 'video1127', 'video208', 'video2883', 'video3324', 'video1129', 'video3163', 'video2964', 'video2903', 'video2064', 'video1105', 'video2149', 'video2629', 'video7471', 'video3111', 'video3547', 'video1618', 'video1531', 'video173', 'video1533', 'video3367', 'video2598', 'video2136', 'video2879', 'video142', 'video2387', 'video2834', 'video2585', 'video2290', 'video1735', 'video1311', 'video2349', 'video1967', 'video3519', 'video1481', 'video2695', 'video1757', 'video3175', 'video2169', 'video2545', 'video3151', 'video2266', 'video3524', 'video2604', 'video112', 'video3516', 'video1051', 'video13', 'video1017', 'video2467', 'video3280', 'video1471', 'video267', 'video3325', 'video138', 'video1950', 'video2177', 'video3258', 'video1941', 'video1926', 'video2508', 'video193', 'video1024', 'video1286', 'video3551', 'video3214', 'video3491', 'video3089', 'video2425', 'video1228', 'video3386', 'video2293', 'video3212', 'video6413', 'video3263', 'video3563', 'video1301', 'video253', 'video1135', 'video2016', 'video1688', 'video1543', 'video317', 'video177', 'video2917', 'video1052', 'video2881', 'video2548', 'video3557', 'video1197', 'video2244', 'video1509', 'video1221', 'video2524', 'video2833', 'video1117', 'video1603', 'video1951', 'video2337', 'video2942', 'video1847', 'video2622', 'video3553', 'video2072', 'video1071', 'video3769', 'video3265', 'video3273', 'video1451', 'video182', 'video1908', 'video2013', 'video1711', 'video1012', 'video3128', 'video2813', 'video333', 'video3363', 'video3062', 'video2485', 'video2529', 'video345', 'video1225', 'video278', 'video2549', 'video1871', 'video3099', 'video2118', 'video1119', 'video3636', 'video2400', 'video1403', 'video2850', 'video3050', 'video2962', 'video1999', 'video150', 'video288', 'video3245', 'video2915', 'video224', 'video1571', 'video1300', 'video3346', 'video3361', 'video1195', 'video2386', 'video2682', 'video1613', 'video2447', 'video3160', 'video1962', 'video3286', 'video1258', 'video1505', 'video3218', 'video2186', 'video2381', 'video1996', 'video2591', 'video3370', 'video3489', 'video1296', 'video3252', 'video2649', 'video3371', 'video2471', 'video1889', 'video1576', 'video1483', 'video3208', 'video300', 'video168', 'video1335', 'video6779', 'video6784', 'video1852', 'video2438', 'video6410', 'video1513', 'video3508', 'video3213', 'video2426', 'video3375', 'video2125', 'video2420', 'video1246', 'video3292', 'video3076', 'video2691', 'video1369', 'video1305', 'video1628', 'video1283', 'video3176', 'video2297', 'video1614', 'video2807', 'video3119', 'video274', 'video1693', 'video1067', 'video3239', 'video2255', 'video3536', 'video1421', 'video145', 'video3442', 'video2759', 'video1855', 'video1675', 'video2183', 'video1744', 'video3015', 'video1473', 'video2988', 'video1968', 'video2402', 'video1637', 'video2379', 'video2046', 'video2507', 'video6001', 'video6404', 'video1756', 'video1778', 'video1806', 'video1088', 'video2396', 'video3314', 'video2464', 'video178', 'video2615', 'video1416', 'video2986', 'video3285', 'video2530', 'video1909', 'video2857', 'video1813', 'video1429', 'video2743', 'video2556', 'video2103', 'video1640', 'video1581', 'video2990', 'video153', 'video2738', 'video1395', 'video3255', 'video3277', 'video1785', 'video1812', 'video3377', 'video1378', 'video1230', 'video2831', 'video1953', 'video3365', 'video2391', 'video2593', 'video1383', 'video2512', 'video1164', 'video1544', 'video2112', 'video2214', 'video2907', 'video6699', 'video1919', 'video2761', 'video2945', 'video276', 'video1254', 'video1402', 'video3205', 'video331', 'video155', 'video1060', 'video1407', 'video6004', 'video1654', 'video2551', 'video3403', 'video3641', 'video2869', 'video2654', 'video1766', 'video244', 'video2197', 'video255', 'video2296', 'video2625', 'video2533', 'video3220', 'video3480', 'video3009', 'video2011', 'video1704', 'video1444', 'video100', 'video2621', 'video2376', 'video207', 'video1747', 'video1288', 'video352', 'video1643', 'video1982', 'video2086', 'video2559', 'video2849', 'video1467', 'video1764', 'video189', 'video1615', 'video1966', 'video3264', 'video1343', 'video311', 'video2886', 'video3118', 'video7472', 'video1356', 'video2978', 'video1627', 'video3147', 'video129', 'video1337', 'video2994', 'video1293', 'video321', 'video2853', 'video222', 'video1502', 'video2796', 'video2283', 'video1143', 'video2291', 'video3137', 'video3556', 'video1366', 'video1110', 'video3643', 'video1539', 'video16', 'video1601', 'video2448', 'video3138', 'video2584', 'video2913', 'video2456', 'video3368', 'video3126', 'video1572', 'video1498', 'video2329', 'video2065', 'video3479', 'video2939', 'video3249', 'video3426', 'video1983', 'video2835', 'video2828', 'video1633', 'video1714', 'video1681', 'video6415', 'video1004', 'video2763', 'video179', 'video3079', 'video1256', 'video1647', 'video1462', 'video2147', 'video2252', 'video1874', 'video2363', 'video1104', 'video3497', 'video316', 'video1594', 'video3168', 'video1420', 'video2233', 'video3501', 'video2528', 'video2947', 'video3468', 'video3002', 'video2832', 'video1036', 'video3086', 'video2246', 'video1397', 'video2734', 'video1886', 'video3417', 'video3238', 'video2054', 'video1658', 'video2321', 'video3452', 'video1124', 'video1401', 'video3271', 'video1496', 'video2965', 'video1182', 'video1309', 'video2660', 'video1233', 'video2232', 'video1850', 'video1489', 'video3396', 'video1019', 'video2176', 'video3488', 'video2983', 'video2272', 'video1740', 'video2874', 'video34', 'video3535', 'video1769', 'video326', 'video2348', 'video2557', 'video1606', 'video3107', 'video192', 'video2733', 'video2804', 'video1243', 'video1121', 'video3532', 'video1676', 'video1915', 'video1494', 'video1974', 'video1109', 'video2826', 'video1709', 'video3448', 'video3022', 'video3254', 'video2961', 'video1020', 'video2075', 'video1078', 'video1644', 'video2405', 'video1547', 'video2093', 'video1404', 'video1938', 'video2443', 'video1435', 'video2058', 'video1590', 'video3231', 'video1199', 'video3496', 'video2613', 'video2182', 'video3395', 'video1937', 'video340', 'video2647', 'video2875', 'video2029', 'video1934', 'video338', 'video2181', 'video22', 'video2227', 'video3129', 'video1522', 'video1805', 'video2431', 'video1422', 'video2124', 'video2863', 'video2061', 'video1973', 'video3182', 'video3513', 'video1759', 'video1115', 'video2306', 'video2999', 'video2516', 'video1605', 'video2042', 'video2274', 'video2934', 'video318', 'video1315', 'video1536', 'video1790', 'video3014', 'video1025', 'video3102', 'video7265', 'video1285', 'video1663', 'video3244', 'video1077', 'video1770', 'video3282', 'video2963', 'video3061', 'video143', 'video1891', 'video7264', 'video1175', 'video2482', 'video3373', 'video2369', 'video3453', 'video2403', 'video2256', 'video2461', 'video2704', 'video2803', 'video198', 'video354', 'video1584', 'video3243', 'video2304', 'video1839', 'video2326', 'video2238', 'video1548', 'video2920', 'video3030', 'video3304', 'video228', 'video1564', 'video2041', 'video1476', 'video1995', 'video23', 'video1063', 'video1879', 'video3323', 'video3113', 'video3270', 'video231', 'video2341', 'video2650', 'video2944', 'video160', 'video2501', 'video3503', 'video1347', 'video233', 'video1392', 'video2309', 'video1872', 'video1028', 'video2997', 'video1159', 'video115', 'video2973', 'video335', 'video1207', 'video2951', 'video1981', 'video3389', 'video2261', 'video1900', 'video187', 'video1607', 'video1049', 'video1449', 'video3504', 'video3028', 'video2736', 'video2956', 'video2991', 'video280', 'video3362', 'video1097', 'video1053', 'video2546', 'video3189', 'video125', 'video214', 'video2707', 'video2201', 'video2805', 'video833', 'video273', 'video1942', 'video2673', 'video1214', 'video2860', 'video1459', 'video7259', 'video1355', 'video3155', 'video1393', 'video2750', 'video2469', 'video1385', 'video3211', 'video1168', 'video1993', 'video2693', 'video3197', 'video1484', 'video19', 'video2705', 'video1294', 'video3042', 'video2237', 'video1134', 'video2035', 'video1341', 'video3215', 'video2892', 'video1807', 'video1239', 'video1340', 'video2711', 'video1032', 'video3025', 'video2500', 'video1090', 'video1338', 'video1075', 'video3097', 'video1801', 'video1824', 'video1758', 'video106', 'video3528', 'video1278', 'video1504', 'video2709', 'video2634', 'video1846', 'video2207', 'video1079', 'video1944', 'video1734', 'video3261', 'video1777', 'video6696', 'video1817', 'video2463', 'video1677', 'video348', 'video3124', 'video1080', 'video2018', 'video7220', 'video120', 'video7267', 'video3006', 'video2100', 'video2444', 'video7260', 'video281', 'video2523', 'video1457', 'video154', 'video1295', 'video1131', 'video1153', 'video1753', 'video2354', 'video2642', 'video2779', 'video1841', 'video3217', 'video2685', 'video1064', 'video295', 'video2519', 'video1507', 'video1540', 'video2133', 'video1508', 'video1065', 'video1888', 'video2729', 'video3036', 'video1869', 'video3359', 'video3294', 'video1272', 'video2977', 'video3073', 'video241', 'video3331', 'video200', 'video6408', 'video1794', 'video1821', 'video294', 'video1147', 'video3000', 'video2458', 'video1070', 'video2144', 'video2184', 'video3465', 'video1189', 'video1111', 'video1474', 'video1565', 'video2187', 'video1664', 'video3490', 'video2687', 'video3063', 'video3178', 'video186', 'video912', 'video1265', 'video1573', 'video1893', 'video306', 'video3474', 'video2513', 'video1929', 'video2958', 'video2792', 'video3338', 'video3414', 'video1042', 'video2599', 'video1733', 'video2360', 'video6407', 'video102', 'video1848', 'video1837', 'video1721', 'video2437', 'video3012', 'video251', 'video2045', 'video2069', 'video3074', 'video114', 'video1146', 'video2594', 'video3098', 'video1695', 'video3184', 'video3032', 'video3266', 'video2866', 'video183', 'video3010', 'video140', 'video3299', 'video1046', 'video727', 'video1317', 'video1592', 'video1394', 'video2489', 'video3639', 'video157', 'video1639', 'video2899', 'video1699', 'video2830', 'video3179', 'video2050', 'video1386', 'video1472', 'video2794', 'video3048', 'video1353', 'video1575', 'video1625', 'video1799', 'video2861', 'video1611', 'video2135', 'video3029', 'video1106', 'video2797', 'video3040', 'video2185', 'video1186', 'video3200', 'video1044', 'video2001', 'video322', 'video1670', 'video1964', 'video2472', 'video2900', 'video2575', 'video2933', 'video2771', 'video1357', 'video3335', 'video272', 'video2036', 'video1490', 'video3318', 'video2641', 'video2971', 'video1289', 'video227', 'video1291', 'video2770', 'video1499', 'video123', 'video2509', 'video3327', 'video2539', 'video1463', 'video2774', 'video1965', 'video2552', 'video32', 'video3112', 'video3477', 'video1718', 'video298', 'video1031', 'video2702', 'video2005', 'video1266', 'video3407', 'video1176', 'video1550', 'video915', 'video1074', 'video275', 'video2395', 'video1208', 'video1722', 'video2310', 'video2433', 'video2656', 'video2880', 'video1823', 'video1843', 'video25', 'video3288', 'video2168', 'video3506', 'video2213', 'video2286', 'video10', 'video30', 'video1299', 'video1412', 'video3322', 'video1674', 'video2867', 'video3454', 'video1409', 'video2972', 'video1835', 'video1860', 'video1076', 'video2220', 'video2609', 'video2782', 'video2924', 'video1441', 'video2724', 'video35', 'video3132', 'video1834', 'video2959', 'video2520', 'video302', 'video1761', 'video2470', 'video2862', 'video1809', 'video1517', 'video2713', 'video1144', 'video239', 'video2620', 'video1920', 'video3193', 'video1894', 'video2531', 'video1911', 'video1487', 'video1014', 'video907', 'video3546', 'video20', 'video3283', 'video319', 'video2440', 'video3399', 'video3354', 'video3358', 'video2909', 'video2345', 'video3495', 'video1612', 'video2601', 'video2218', 'video176', 'video2760', 'video1649', 'video2927', 'video1979', 'video1185', 'video2091', 'video2680', 'video3165', 'video290', 'video1956', 'video3482', 'video1810', 'video329', 'video1990', 'video1091', 'video170', 'video1045', 'video2410', 'video1689', 'video1434', 'video2777', 'video175', 'video353', 'video1586', 'video3117', 'video1669', 'video7266', 'video3202', 'video2375', 'video2569', 'video3057', 'video2364', 'video2441', 'video261', 'video1885', 'video1310', 'video1646', 'video2076', 'video2262', 'video1524', 'video1107', 'video3308', 'video2829', 'video3020', 'video1878', 'video2073', 'video1551', 'video1826', 'video3041', 'video216', 'video1975', 'video2597', 'video2632', 'video191', 'video287', 'video2793', 'video2200', 'video2209', 'video2502', 'video2199', 'video105', 'video3201', 'video2120', 'video2798', 'video7262', 'video265', 'video2538', 'video1427', 'video1602', 'video2314', 'video2411', 'video2070', 'video1715', 'video3770', 'video3003', 'video900', 'video2876', 'video3230', 'video2361', 'video909', 'video1148', 'video3104', 'video6782', 'video2839', 'video2664', 'video2895', 'video3459', 'video2543', 'video2221', 'video2422', 'video2722', 'video1249', 'video2484', 'video3533', 'video1936', 'video2095', 'video1154', 'video3416', 'video1922', 'video3457', 'video3471', 'video3172', 'video1201', 'video1162', 'video2282', 'video2938', 'video315', 'video2574', 'video220', 'video234', 'video190', 'video2919', 'video1828', 'video1364', 'video256', 'video7221', 'video1815', 'video1506', 'video2111', 'video2967', 'video1132', 'video3242', 'video3067', 'video1223', 'video641', 'video1275', 'video2028', 'video3167', 'video1561', 'video2132', 'video137', 'video1529', 'video2566', 'video1328', 'video1743', 'video2645', 'video2393', 'video3517', 'video1426', 'video2840', 'video223', 'video1673', 'video2153', 'video2446', 'video3251', 'video3478', 'video1181', 'video1215', 'video2217', 'video1518', 'video1163', 'video325', 'video3154', 'video905', 'video1530', 'video2352', 'video3007', 'video1931', 'video6781', 'video2802', 'video1685', 'video291', 'video2646', 'video2031', 'video1216', 'video2192', 'video1680', 'video3393', 'video1193', 'video1264', 'video3236', 'video2542', 'video12', 'video2108', 'video1880', 'video2280', 'video3199', 'video2432', 'video3139', 'video3188', 'video2336', 'video2731', 'video3068', 'video1466', 'video2175', 'video2772', 'video2823', 'video1882', 'video3402', 'video1928', 'video1428', 'video1480', 'video2413', 'video2923', 'video1333', 'video1632', 'video2607', 'video2800', 'video2845', 'video2179', 'video1493', 'video3024', 'video3149', 'video2748', 'video1638', 'video1103', 'video1933', 'video1460', 'video1373', 'video2616', 'video2700', 'video1648', 'video1896', 'video1358', 'video1156', 'video2457', 'video2659', 'video2374', 'video1280', 'video2151', 'video678', 'video1884', 'video2651', 'video1485', 'video1921', 'video726', 'video2911', 'video2674', 'video3447', 'video1779', 'video1851', 'video1737', 'video2020', 'video3523', 'video2389', 'video3637', 'video3105', 'video2019', 'video1901', 'video2342', 'video3435', 'video324', 'video3353', 'video209', 'video2996', 'video2062', 'video2122', 'video3047', 'video1555', 'video1211', 'video346', 'video3123', 'video3146', 'video1173', 'video3307', 'video2397', 'video1203', 'video3180', 'video3439', 'video2311', 'video1084', 'video2982', 'video1652', 'video3340', 'video2479', 'video2012', 'video1510', 'video3207', 'video3351', 'video2234', 'video3301', 'video3287', 'video283', 'video1445', 'video2264', 'video2202', 'video1819', 'video2910', 'video2789', 'video6700', 'video2580', 'video2222', 'video240', 'video3379', 'video364', 'video1139', 'video3227', 'video1478', 'video1645', 'video3250', 'video3540', 'video3470', 'video3423', 'video1765', 'video141', 'video1739', 'video1598', 'video3019', 'video3376', 'video1219', 'video3225', 'video2206', 'video3130', 'video1797', 'video2295', 'video1989', 'video1729', 'video1519', 'video1789', 'video2383', 'video1957', 'video2412', 'video1196', 'video2755', 'video2254', 'video1043', 'video3247', 'video2078', 'video1470', 'video1534', 'video2408', 'video221', 'video1238', 'video2490', 'video2155', 'video3352', 'video2670', 'video2224', 'video3169', 'video1883', 'video1913', 'video2026', 'video3317', 'video3555', 'video1849', 'video7263', 'video2191', 'video2398', 'video1771', 'video7470', 'video2859', 'video3100', 'video1700', 'video2811', 'video1241', 'video2786', 'video2639', 'video1040', 'video344', 'video3195', 'video1259', 'video1260', 'video3053', 'video269', 'video2764', 'video180', 'video2928', 'video2071', 'video1947', 'video1458', 'video1242', 'video2587', 'video2105', 'video1686', 'video2694', 'video1662', 'video1257', 'video2344', 'video1114', 'video3125', 'video3500', 'video1245', 'video1006', 'video3054', 'video1035', 'video1319', 'video2643', 'video3', 'video158', 'video1464', 'video908', 'video1277', 'video1375', 'video1234', 'video2762', 'video3206', 'video2568', 'video1447', 'video2356', 'video2816', 'video1048', 'video2765', 'video2527', 'video3142', 'video2285', 'video2253', 'video2758', 'video1438', 'video1419', 'video1736', 'video2273', 'video2681', 'video2696', 'video3152', 'video2325', 'video2946', 'video1719', 'video3037', 'video2210', 'video1804', 'video3224', 'video1960', 'video1525', 'video1570', 'video1854', 'video2718', 'video215', 'video1514', 'video1707', 'video2540', 'video2298', 'video104', 'video2178', 'video1549', 'video2228', 'video2074', 'video2701', 'video2757', 'video2954', 'video225', 'video1359', 'video1702', 'video2180', 'video2300', 'video2554', 'video3121', 'video1047', 'video1904', 'video3311', 'video2240', 'video195', 'video3526', 'video2429', 'video3507', 'video1768', 'video2728', 'video3145', 'video1015', 'video3058', 'video1991', 'video1336', 'video3159', 'video1862', 'video3481', 'video3538', 'video1619', 'video3404', 'video7473', 'video1985', 'video2107', 'video3400', 'video2292', 'video29', 'video1634', 'video1667', 'video1235', 'video2301', 'video1906', 'video2998', 'video1600', 'video2223', 'video3476', 'video1593', 'video1760', 'video327', 'video1750', 'video3134', 'video1730', 'video1382', 'video1136', 'video119', 'video334', 'video2655', 'video2868', 'video3072', 'video3408', 'video6777', 'video2936', 'video249', 'video2385', 'video2550', 'video2745', 'video2051', 'video3039', 'video1150', 'video3493', 'video199', 'video1698', 'video2570', 'video101', 'video1952', 'video3161', 'video3305', 'video1749', 'video2126', 'video1597', 'video1322', 'video2327', 'video1844', 'video2242', 'video1924', 'video3487', 'video2987', 'video128', 'video1244', 'video2215', 'video1171', 'video2104', 'video6780', 'video1073', 'video1665', 'video1461', 'video3444', 'video1562', 'video3191', 'video2808', 'video1782', 'video2267', 'video2114', 'video2009', 'video2014', 'video3412', 'video2059', 'video1631', 'video1903', 'video1793', 'video1984', 'video2672', 'video1701', 'video218', 'video3185', 'video2115', 'video162', 'video1491', 'video166', 'video1166', 'video2002', 'video1348', 'video3246', 'video2334', 'video31', 'video2088', 'video2480', 'video6704', 'video2985', 'video2226', 'video2596', 'video3051', 'video1745', 'video2741', 'video2614', 'video2173', 'video6416', 'video1479', 'video2547', 'video3343', 'video2353', 'video2836', 'video2060', 'video1738', 'video2809', 'video2335', 'video1455', 'video185', 'video2931', 'video7223', 'video1465', 'video1660', 'video2367', 'video3216', 'video2600', 'video1377', 'video2628', 'video1774', 'video1980', 'video2588', 'video1212', 'video3344', 'video167', 'video3065', 'video3171', 'video2838', 'video1546', 'video2714', 'video1439', 'video2893', 'video2925', 'video2260', 'video2884', 'video1971', 'video1253', 'video2564', 'video1224', 'video1864', 'video2666', 'video1440', 'video3647', 'video1961', 'video2137', 'video1089', 'video2044', 'video1220', 'video1363', 'video3096', 'video301', 'video351', 'video3492', 'video3450', 'video1086', 'video1780', 'video3558', 'video1672', 'video1742', 'video2719', 'video1751', 'video2317', 'video1093', 'video3560', 'video1724', 'video2302', 'video3456', 'video2715', 'video2887', 'video3463', 'video3204', 'video1515', 'video1580', 'video1503', 'video2688', 'video3330', 'video28', 'video2904', 'video1177', 'video3380', 'video1814', 'video2276', 'video1786', 'video1895', 'video3391', 'video1367', 'video902', 'video2889', 'video1596', 'video1332', 'video1431', 'video2747', 'video3235', 'video1205', 'video303', 'video2636', 'video3080', 'video206', 'video1865', 'video1538', 'video3405', 'video172', 'video1371', 'video304', 'video2653', 'video3248', 'video2404', 'video1867', 'video2249', 'video2756', 'video3237', 'video1497', 'video201', 'video1191', 'video2960', 'video3005', 'video1716', 'video2586', 'video1636', 'video2882', 'video2727', 'video3276', 'video2671', 'video2129', 'video2532', 'video2979', 'video2166', 'video1825', 'video3564', 'video1054', 'video3109', 'video3044', 'video2476', 'video1731', 'video2536', 'video2382', 'video2952', 'video2027', 'video1433', 'video1822', 'video3026', 'video2888', 'video1408', 'video3232', 'video165', 'video2372', 'video1725', 'video184', 'video2077', 'video3087', 'video1708', 'video1030', 'video2573', 'video284', 'video2004', 'video2576', 'video2618', 'video2968', 'video2263', 'video3341', 'video2235', 'video341', 'video2421', 'video2211', 'video2689', 'video1204', 'video3316', 'video2270', 'video124', 'video1830', 'video245', 'video356', 'video1183', 'video1918', 'video33', 'video1027', 'video1099', 'video1542', 'video1365', 'video258', 'video299', 'video1526', 'video2937', 'video149', 'video1998', 'video342', 'video1100', 'video2749', 'video3309', 'video2450', 'video136', 'video1122', 'video2491', 'video2555', 'video2289', 'video3382', 'video1939', 'video2245', 'video2370', 'video1642', 'video310', 'video3181', 'video1133', 'video1916', 'video2941', 'video217', 'video3441', 'video3133', 'video1137', 'video2935', 'video1446', 'video293', 'video1398', 'video3046', 'video1406', 'video2145', 'video2146', 'video3530', 'video257', 'video1161', 'video3066', 'video1977', 'video1423', 'video1236', 'video1492', 'video3440', 'video279', 'video3394', 'video3436', 'video1969', 'video3428', 'video1229', 'video1802', 'video3449', 'video1803', 'video2138', 'video1081', 'video2906', 'video1102', 'video1125', 'video126', 'video1703', 'video1202', 'video2351', 'video1038', 'video2359', 'video2921', 'video90', 'video2068', 'video2589', 'video2812', 'video271', 'video3136', 'video3004', 'video3431', 'video2871', 'video1881', 'video1541', 'video27', 'video1413', 'video2637', 'video6783', 'video1963', 'video1537', 'video2780', 'video1452', 'video6707', 'video6412', 'video1251', 'video2665', 'video1767', 'video159', 'video2163', 'video3069', 'video2865', 'video1307', 'video2454', 'video2101', 'video131', 'video238', 'video250', 'video1456', 'video1554', 'video1694', 'video254', 'video2517', 'video3418', 'video2582', 'video3001', 'video3095', 'video3512', 'video3455', 'video1454', 'video2316', 'video7222', 'video2992', 'video1486', 'video2377', 'video3077', 'video3392', 'video2355', 'video1591', 'video2740', 'video2785', 'video2388', 'video2466', 'video2434', 'video2188', 'video2150', 'video1342', 'video2394', 'video1556', 'video1128', 'video2896', 'video308', 'video2159', 'video3144', 'video3183', 'video2315', 'video1683', 'video2788', 'video3131', 'video2038', 'video349', 'video3284', 'video2324', 'video2930', 'video2278', 'video2082', 'video2846', 'video26', 'video1023', 'video3410', 'video2496', 'video3334', 'video2162', 'video3406', 'video2669', 'video1222', 'video1321', 'video2498', 'video2784', 'video1284', 'video2878', 'video2497', 'video3462', 'video3415', 'video3409', 'video2037', 'video3259', 'video2284', 'video2172', 'video1167', 'video2981', 'video1907', 'video3023', 'video1795', 'video3430', 'video3329', 'video1354', 'video3078', 'video1324', 'video2152', 'video1405', 'video3116', 'video2343', 'video3256', 'video2121', 'video3114', 'video1368', 'video2418', 'video1818', 'video2127', 'video6703', 'video1436', 'video2312', 'video3498', 'video1912', 'video1827', 'video3357', 'video3545', 'video2268', 'video297', 'video2844', 'video161', 'video2608', 'video3021', 'video2330', 'video2483', 'video1351', 'video1954', 'video2690', 'video2571', 'video2131', 'video1629', 'video1453', 'video3543', 'video3460', 'video2767', 'video1003', 'video1690', 'video1190', 'video1116', 'video2505', 'video2916', 'video3527', 'video1005', 'video2898', 'video1682', 'video3162', 'video1231', 'video2453', 'video1165', 'video1282', 'video2190', 'video1560', 'video1352', 'video1717', 'video3056', 'video2258', 'video1437', 'video212', 'video1696', 'video2257', 'video2365', 'video2605', 'video2157', 'video296', 'video2817', 'video1772', 'video2494', 'video18', 'video2128', 'video3384', 'video2855', 'video1948', 'video2567', 'video2894', 'video3291', 'video2819', 'video3153', 'video2066', 'video2663', 'video2171', 'video3321', 'video2486', 'video2475', 'video3634', 'video1599', 'video2347', 'video2488', 'video2117', 'video1746', 'video1066', 'video2706', 'video3433', 'video292', 'video355', 'video1194', 'video1290', 'video3221', 'video1898', 'video2248', 'video2140', 'video3092', 'video1608', 'video2049', 'video108', 'video3190', 'video2474', 'video3082', 'video67', 'video2477', 'video3397', 'video236', 'video1897', 'video2098', 'video336', 'video1511', 'video1755', 'video260', 'video3421', 'video1387', 'video1800', 'video2436', 'video3035', 'video2362', 'video3158', 'video2943', 'video1198', 'video1868', 'video2553', 'video1056', 'video1250', 'video2686', 'video1988', 'video3505', 'video347', 'video2602', 'video6409', 'video1657', 'video2340', 'video3018', 'video1095', 'video2678', 'video2250', 'video3060', 'video2473', 'video1863', 'video2358', 'video2732', 'video2460', 'video2561', 'video2541', 'video2332', 'video1346', 'video1298', 'video1415', 'video2492', 'video2825', 'video2717', 'video3281', 'video2922', 'video163', 'video2619', 'video2189', 'video2275', 'video1061', 'video3106', 'video1829', 'video2430', 'video2773', 'video2781', 'video1274', 'video2119', 'video1263', 'video1574', 'video2558', 'video1380', 'video2406', 'video3518', 'video2205', 'video1986', 'video3315', 'video2684', 'video1940', 'video1267', 'video2033', 'video1923', 'video1149', 'video1958', 'video1281', 'video2827', 'video1691', 'video21', 'video2328', 'video1859', 'video2165', 'video1417', 'video2739', 'video1443', 'video2308', 'video3135', 'video332', 'video1781', 'video1748', 'video1192', 'video2055', 'video2459', 'video1762']\n"
     ]
    }
   ],
   "source": [
    "## Finding rows with missing hmp values\n",
    "ind_0=[]\n",
    "ind_56=[]\n",
    "ind_112=[]\n",
    "for i in ch.index:\n",
    "  if isinstance(ch['video-0'][i],int):\n",
    "    ind_0.append(i)\n",
    "  if isinstance(ch['video-56'][i],int):\n",
    "    ind_56.append(i)\n",
    "  if isinstance(ch['video-112'][i],int):\n",
    "    ind_112.append(i)\n",
    "print(\"Total rows with no inception Feature for frame 0: \", len(ind_0))\n",
    "print(\"Total rows with no inception Feature for frame 56: \", len(ind_56))\n",
    "print(\"Total rows with no inception Feature for frame 112: \", len(ind_112))\n",
    "print(\"Selecting all indexed which are missing any of these features...\")\n",
    "\n",
    "ind = ind_0 + ind_56 + ind_112\n",
    "ind_final = list(set(ind))\n",
    "print(\"Total rows with no inception Feature: \", len(ind_final))\n",
    "print(\"Indexes of these rows are: \", ind_final)"
   ]
  },
  {
   "cell_type": "code",
   "execution_count": null,
   "metadata": {
    "id": "b7liTtsKqFuZ"
   },
   "outputs": [],
   "source": [
    "## Dropping rows with missing values\n",
    "ch.drop(ind_final, inplace=True)"
   ]
  },
  {
   "cell_type": "code",
   "execution_count": null,
   "metadata": {
    "colab": {
     "base_uri": "https://localhost:8080/"
    },
    "id": "dQSgp9YhqLrs",
    "outputId": "c2f182c2-6690-48f2-a256-166fb97010e0"
   },
   "outputs": [
    {
     "name": "stdout",
     "output_type": "stream",
     "text": [
      "<class 'pandas.core.frame.DataFrame'>\n",
      "Index: 3653 entries, video4 to video7493\n",
      "Data columns (total 5 columns):\n",
      " #   Column                   Non-Null Count  Dtype  \n",
      "---  ------                   --------------  -----  \n",
      " 0   short-term_memorability  3653 non-null   float64\n",
      " 1   long-term_memorability   3653 non-null   float64\n",
      " 2   video-0                  3653 non-null   object \n",
      " 3   video-56                 3653 non-null   object \n",
      " 4   video-112                3653 non-null   object \n",
      "dtypes: float64(2), object(3)\n",
      "memory usage: 171.2+ KB\n"
     ]
    }
   ],
   "source": [
    "ch.info()"
   ]
  },
  {
   "cell_type": "markdown",
   "metadata": {
    "id": "D3ZzQj8J-baF"
   },
   "source": [
    "## HOG"
   ]
  },
  {
   "cell_type": "code",
   "execution_count": null,
   "metadata": {
    "id": "i-UpcDhC-aeB"
   },
   "outputs": [],
   "source": [
    "## Code from Local Machine\n",
    "## Calling the method for fetching HOG features and storing them into a array list using loop\n",
    "\n",
    "my_numlist= [] # Creating new list to store the HOG features\n",
    "my_namelist = [] # Creating a new list to store the names of the videos\n",
    "full_namelist = []\n",
    "for filename in glob.glob('Dev-set/HOG/*.txt'):\n",
    "    s= read_hog(filename)\n",
    "    my_numlist.append(s)\n",
    "    full_namelist.append(((filename.split('\\\\')[-1]).split('.')[0])) \n",
    "    my_namelist.append(((filename.split('\\\\')[-1]).split('.')[0]).split('-')[0])\n",
    "\n",
    "\n",
    "\n",
    "## Adding ground truth to the dataframe\n",
    "ground_truth = pd.read_csv('Dev-set/Ground-truth/ground-truth.csv')\n",
    "#Dropping annotation coulumn from ground truth as we dont need them\n",
    "ground_truth = ground_truth.drop(['nb_short-term_annotations', 'nb_long-term_annotations'], axis=1)\n",
    "# Cleanig the video name\n",
    "ground_truth['video'] = ground_truth['video'].apply(lambda x : x.split('.')[0])\n",
    "\n",
    "\n",
    "## Creating new dataframe for HOG\n",
    "hog = pd.DataFrame()\n",
    "hog[\"video\"] = ground_truth['video']\n",
    "hog['video-0'] = ''\n",
    "hog['video-56'] = ''\n",
    "hog['video-112' ] = ''\n",
    "hog.head() \n",
    "\n",
    "## Merging HOG with Ground truth\n",
    "hog = pd.merge(ground_truth, hog , on='video')\n",
    "hog.index = hog.video\n",
    "del hog['video']\n",
    "hog.head()\n",
    "\n",
    "\n",
    "## Filling in the values in the dataframe at appropriate columns\n",
    "for i in hog.index:\n",
    "    for j in full_namelist:\n",
    "        if (i == j.split('-')[0]):\n",
    "            if (j.split('-')[-1] == \"0\"):\n",
    "                hog.at[i, 'video-0'] = my_numlist[full_namelist.index(j)]\n",
    "            elif (j.split('-')[-1] == \"56\"):\n",
    "                hog.at[i, 'video-56'] = my_numlist[full_namelist.index(j)]\n",
    "            elif (j.split('-')[-1] == \"112\"):\n",
    "                hog.at[i, 'video-112'] = my_numlist[full_namelist.index(j)]\n",
    "\n",
    "## Replacing missing values with 0 and saving them using pickle\n",
    "hog = hog.replace(to_replace ='', value =0)\n",
    "hog.to_pickle('Dev-loaded-features/hog')"
   ]
  },
  {
   "cell_type": "markdown",
   "metadata": {
    "id": "8Qlfbk-XrxZI"
   },
   "source": [
    "# Spearman Coefficient Function"
   ]
  },
  {
   "cell_type": "code",
   "execution_count": null,
   "metadata": {
    "id": "wSRIVvsur1tr"
   },
   "outputs": [],
   "source": [
    "## Function definition to get Spearman Coefficient score\n",
    "def Get_score(Y_pred,Y_true):\n",
    "    '''Calculate the Spearmann\"s correlation coefficient'''\n",
    "    Y_pred = np.squeeze(Y_pred)\n",
    "    Y_true = np.squeeze(Y_true)\n",
    "    if Y_pred.shape != Y_true.shape:\n",
    "        print('Input shapes don\\'t match!')\n",
    "    else:\n",
    "        if len(Y_pred.shape) == 1:\n",
    "            Res = pd.DataFrame({'Y_true':Y_true,'Y_pred':Y_pred})\n",
    "            score_mat = Res[['Y_true','Y_pred']].corr(method='spearman',min_periods=1)\n",
    "            print('The Spearman\\'s correlation coefficient is: %.3f' % score_mat.iloc[1][0])\n",
    "        else:\n",
    "            for ii in range(Y_pred.shape[1]):\n",
    "                Get_score(Y_pred[:,ii],Y_true[:,ii])"
   ]
  },
  {
   "cell_type": "markdown",
   "metadata": {
    "id": "P5nALkpFMIpD"
   },
   "source": [
    "# Model 1: Neural Network implemented using Keras\n",
    "\n",
    "Reference - Multi-modal Ensemble Models for Predicting Video\n",
    "Memorability\n",
    "\n",
    "\n",
    "Conveting the featured into a numpy array for dense networks."
   ]
  },
  {
   "cell_type": "markdown",
   "metadata": {
    "id": "I1inkbHH6Cac"
   },
   "source": [
    "## Convolution 3D Feature"
   ]
  },
  {
   "cell_type": "code",
   "execution_count": null,
   "metadata": {
    "id": "uf4OPjpRNqx3"
   },
   "outputs": [],
   "source": [
    "## Length of C3D feature is 101\n",
    "result_array = np.empty((0, 101))\n",
    "for line in c3d['c3d']:\n",
    "    result_array = np.append(result_array, np.array([line]), axis = 0)"
   ]
  },
  {
   "cell_type": "code",
   "execution_count": null,
   "metadata": {
    "colab": {
     "base_uri": "https://localhost:8080/"
    },
    "id": "Q1ZD72YJ9fm5",
    "outputId": "a6d025ee-03f2-46ec-a586-fa7f453ec37e"
   },
   "outputs": [
    {
     "data": {
      "text/plain": [
       "(5868, 101)"
      ]
     },
     "execution_count": 69,
     "metadata": {
      "tags": []
     },
     "output_type": "execute_result"
    }
   ],
   "source": [
    "result_array.shape"
   ]
  },
  {
   "cell_type": "code",
   "execution_count": null,
   "metadata": {
    "colab": {
     "base_uri": "https://localhost:8080/"
    },
    "id": "k6O9MZHzQZSi",
    "outputId": "d832f2cb-6ec5-4053-d011-f2f08ef8aceb"
   },
   "outputs": [
    {
     "name": "stdout",
     "output_type": "stream",
     "text": [
      "<class 'numpy.ndarray'>\n"
     ]
    },
    {
     "data": {
      "text/plain": [
       "array([[2.0249420e-02, 1.5778000e-03, 8.2625000e-04, ..., 3.3907000e-04,\n",
       "        8.4368300e-03, 4.7004000e-04],\n",
       "       [1.1800000e-04, 8.9075000e-04, 1.8769000e-04, ..., 1.5891000e-04,\n",
       "        1.0252100e-03, 2.0460000e-05],\n",
       "       [1.1765220e-02, 7.4577000e-04, 7.8353000e-04, ..., 5.3803300e-03,\n",
       "        1.0274800e-03, 1.3844800e-03],\n",
       "       ...,\n",
       "       [2.5890000e-05, 1.2192000e-04, 2.7810000e-05, ..., 7.1593200e-03,\n",
       "        4.9575200e-03, 8.9156000e-04],\n",
       "       [2.6509121e-01, 9.6539180e-02, 5.9710000e-05, ..., 1.0834000e-04,\n",
       "        1.2682000e-03, 7.1027000e-04],\n",
       "       [2.0589490e-02, 1.2214100e-03, 2.0660700e-03, ..., 8.2839000e-04,\n",
       "        4.9012800e-03, 1.1848300e-03]])"
      ]
     },
     "execution_count": 303,
     "metadata": {
      "tags": []
     },
     "output_type": "execute_result"
    }
   ],
   "source": [
    "X_arrC3D = result_array\n",
    "del result_array\n",
    "print(type(X_arrC3D))\n",
    "X_arrC3D\n"
   ]
  },
  {
   "cell_type": "code",
   "execution_count": null,
   "metadata": {
    "colab": {
     "base_uri": "https://localhost:8080/"
    },
    "id": "DA9IBb7-QVxo",
    "outputId": "18f5b937-e59a-4c0e-8333-33bf8d3da372"
   },
   "outputs": [
    {
     "data": {
      "text/plain": [
       "(5868, 101)"
      ]
     },
     "execution_count": 304,
     "metadata": {
      "tags": []
     },
     "output_type": "execute_result"
    }
   ],
   "source": [
    "X_arrC3D.shape"
   ]
  },
  {
   "cell_type": "code",
   "execution_count": null,
   "metadata": {
    "id": "Q3ga_4YgQ5Lr"
   },
   "outputs": [],
   "source": [
    "y = c3d[['short-term_memorability','long-term_memorability']].values"
   ]
  },
  {
   "cell_type": "code",
   "execution_count": null,
   "metadata": {
    "id": "floP_bEl-24S"
   },
   "outputs": [],
   "source": [
    "x_train, x_test, y_train, y_test = train_test_split(X_arrC3D, y, test_size=0.2, random_state=42)"
   ]
  },
  {
   "cell_type": "code",
   "execution_count": null,
   "metadata": {
    "colab": {
     "base_uri": "https://localhost:8080/"
    },
    "id": "Xdawixwp_F2k",
    "outputId": "a6a3049a-97a0-4550-8a6b-b8a8a137498b"
   },
   "outputs": [
    {
     "name": "stdout",
     "output_type": "stream",
     "text": [
      "Train set has total 4694\n",
      "Test set has total 1174\n",
      "Y_Test set has total 1174\n",
      "Y_Train set has total 4694\n"
     ]
    }
   ],
   "source": [
    "print(\"Train set has total {0}\".format(len(x_train)))\n",
    "print(\"Test set has total {0}\".format(len(x_test)))\n",
    "print(\"Y_Test set has total {0}\".format(len(y_test)))\n",
    "print(\"Y_Train set has total {0}\".format(len(y_train)))"
   ]
  },
  {
   "cell_type": "code",
   "execution_count": null,
   "metadata": {
    "colab": {
     "base_uri": "https://localhost:8080/"
    },
    "id": "20o1N957SkMj",
    "outputId": "e351d4b7-124d-4621-c802-f2a42963a426"
   },
   "outputs": [
    {
     "name": "stdout",
     "output_type": "stream",
     "text": [
      "(4694, 101)\n"
     ]
    }
   ],
   "source": [
    "print(x_train.shape)"
   ]
  },
  {
   "cell_type": "code",
   "execution_count": null,
   "metadata": {
    "colab": {
     "base_uri": "https://localhost:8080/"
    },
    "id": "x0XyWGzNp3NS",
    "outputId": "a9430007-80a6-4b66-9839-e2bffacaf402"
   },
   "outputs": [
    {
     "data": {
      "text/plain": [
       "101"
      ]
     },
     "execution_count": 309,
     "metadata": {
      "tags": []
     },
     "output_type": "execute_result"
    }
   ],
   "source": [
    "n_cols = x_train.shape[1]\n",
    "n_cols"
   ]
  },
  {
   "cell_type": "code",
   "execution_count": null,
   "metadata": {
    "id": "N2vMV8cLSq7j"
   },
   "outputs": [],
   "source": [
    "model = Sequential()\n",
    "model.add(Dense(100, activation='relu', input_shape=(n_cols,)))\n",
    "model.add(Dropout(0.5))\n",
    "# Add the second layer\n",
    "model.add(Dense(100, activation='relu'))\n",
    "model.add(Dropout(0.5))\n",
    "# Add the output layer\n",
    "model.add(Dense(2))"
   ]
  },
  {
   "cell_type": "code",
   "execution_count": null,
   "metadata": {
    "id": "jzwXzXUgqRVx"
   },
   "outputs": [],
   "source": [
    "# Compile the model\n",
    "model.compile(optimizer='adam', loss='mean_squared_error', metrics=['accuracy'])\n",
    "   \n",
    "# Define early_stopping_monitor\n",
    "early_stopping_monitor = EarlyStopping(patience=2)"
   ]
  },
  {
   "cell_type": "code",
   "execution_count": null,
   "metadata": {
    "colab": {
     "base_uri": "https://localhost:8080/"
    },
    "id": "jzorvBR5qqYN",
    "outputId": "0ac652f8-8394-4c06-f9c7-2dd533a80546"
   },
   "outputs": [
    {
     "name": "stdout",
     "output_type": "stream",
     "text": [
      "Epoch 1/30\n",
      "103/103 [==============================] - 1s 4ms/step - loss: 0.2851 - accuracy: 0.5875 - val_loss: 0.0211 - val_accuracy: 0.7090\n",
      "Epoch 2/30\n",
      "103/103 [==============================] - 0s 3ms/step - loss: 0.0527 - accuracy: 0.5423 - val_loss: 0.0174 - val_accuracy: 0.7111\n",
      "Epoch 3/30\n",
      "103/103 [==============================] - 0s 3ms/step - loss: 0.0422 - accuracy: 0.5851 - val_loss: 0.0146 - val_accuracy: 0.7197\n",
      "Epoch 4/30\n",
      "103/103 [==============================] - 0s 3ms/step - loss: 0.0373 - accuracy: 0.5984 - val_loss: 0.0142 - val_accuracy: 0.7211\n",
      "Epoch 5/30\n",
      "103/103 [==============================] - 0s 3ms/step - loss: 0.0338 - accuracy: 0.6301 - val_loss: 0.0136 - val_accuracy: 0.7211\n",
      "Epoch 6/30\n",
      "103/103 [==============================] - 0s 3ms/step - loss: 0.0291 - accuracy: 0.6243 - val_loss: 0.0149 - val_accuracy: 0.7211\n",
      "Epoch 7/30\n",
      "103/103 [==============================] - 0s 3ms/step - loss: 0.0287 - accuracy: 0.6516 - val_loss: 0.0142 - val_accuracy: 0.7211\n"
     ]
    }
   ],
   "source": [
    "# Fit the model\n",
    "history=model.fit(x_train, y_train, validation_split=0.3, epochs=30, callbacks= [early_stopping_monitor])"
   ]
  },
  {
   "cell_type": "code",
   "execution_count": null,
   "metadata": {
    "colab": {
     "base_uri": "https://localhost:8080/",
     "height": 295
    },
    "id": "s9VG4onkrEEn",
    "outputId": "9710ab14-5b47-447b-b553-db00a9573c38"
   },
   "outputs": [
    {
     "data": {
      "image/png": "[encoded data removed]",
      "text/plain": [
       "<Figure size 432x288 with 1 Axes>"
      ]
     },
     "metadata": {
      "needs_background": "light",
      "tags": []
     },
     "output_type": "display_data"
    }
   ],
   "source": [
    "loss = history.history['loss']\n",
    "val_loss = history.history['val_loss']\n",
    "\n",
    "epochs = range(1,len(loss)+1)\n",
    "\n",
    "plt.plot(epochs,loss,'bo',label='Training loss')\n",
    "plt.plot(epochs,val_loss,'b',label='Validation loss')\n",
    "plt.title('Training and validation loss')\n",
    "plt.xlabel('Epochs')\n",
    "plt.ylabel('Loss')\n",
    "plt.legend()\n",
    "plt.show()"
   ]
  },
  {
   "cell_type": "code",
   "execution_count": null,
   "metadata": {
    "colab": {
     "base_uri": "https://localhost:8080/"
    },
    "id": "BvTyBU5QrcBn",
    "outputId": "358171c4-f999-4157-bdbe-d19d2ee851c9"
   },
   "outputs": [
    {
     "name": "stdout",
     "output_type": "stream",
     "text": [
      "[[0.8366022  0.7619962 ]\n",
      " [0.7964587  0.74390304]\n",
      " [0.81275034 0.74645895]\n",
      " ...\n",
      " [0.78030384 0.72025114]\n",
      " [0.80327356 0.740795  ]\n",
      " [0.8182596  0.7534857 ]]\n"
     ]
    }
   ],
   "source": [
    "#test set predictions\n",
    "predictions_test = model.predict(x_test)\n",
    "print(predictions_test)"
   ]
  },
  {
   "cell_type": "code",
   "execution_count": null,
   "metadata": {
    "colab": {
     "base_uri": "https://localhost:8080/"
    },
    "id": "LBqG8cP2rpW4",
    "outputId": "2eba879f-edd3-4359-8ac8-b397dfeed069"
   },
   "outputs": [
    {
     "name": "stdout",
     "output_type": "stream",
     "text": [
      "The Spearman's correlation coefficient is: 0.237\n",
      "The Spearman's correlation coefficient is: 0.064\n"
     ]
    }
   ],
   "source": [
    "Get_score(predictions_test, y_test)"
   ]
  },
  {
   "cell_type": "code",
   "execution_count": null,
   "metadata": {
    "id": "xYqJw7RI0Uo4"
   },
   "outputs": [],
   "source": [
    "# Saving the model\n",
    "model.save('/content/drive/MyDrive/ML Assignment/Trained_Models/C3D_NN.h5')"
   ]
  },
  {
   "cell_type": "markdown",
   "metadata": {
    "id": "VWpM4v22suyl"
   },
   "source": [
    "## HMP Feature"
   ]
  },
  {
   "cell_type": "code",
   "execution_count": null,
   "metadata": {
    "id": "g8JFKdOtstvr"
   },
   "outputs": [],
   "source": [
    "# Reusing same variable names to reduce memory.\n",
    "result_array = np.empty((0, 6075))\n",
    "for line in hmp['hmp']:\n",
    "    result_array = np.append(result_array, np.array([line]), axis = 0)"
   ]
  },
  {
   "cell_type": "code",
   "execution_count": null,
   "metadata": {
    "colab": {
     "base_uri": "https://localhost:8080/"
    },
    "id": "6c_952G9X4co",
    "outputId": "a8b249af-e2f3-43b2-b342-a2b446577140"
   },
   "outputs": [
    {
     "name": "stdout",
     "output_type": "stream",
     "text": [
      "<class 'numpy.ndarray'>\n"
     ]
    },
    {
     "data": {
      "text/plain": [
       "array([[1.25563e-01, 2.40360e-02, 3.14000e-04, ..., 8.60000e-05,\n",
       "        5.80000e-04, 0.00000e+00],\n",
       "       [7.52600e-03, 1.42100e-03, 6.80000e-05, ..., 2.20000e-04,\n",
       "        7.62000e-04, 1.22400e-03],\n",
       "       [1.09584e-01, 1.89780e-02, 2.89000e-04, ..., 5.20000e-05,\n",
       "        2.58000e-04, 2.15000e-04],\n",
       "       ...,\n",
       "       [2.31390e-02, 7.43500e-03, 3.22000e-04, ..., 7.56000e-04,\n",
       "        7.38000e-04, 2.14000e-04],\n",
       "       [1.49000e-02, 4.60700e-03, 9.90000e-05, ..., 6.40000e-05,\n",
       "        6.40000e-05, 1.10000e-05],\n",
       "       [4.15920e-02, 1.30470e-02, 4.48000e-04, ..., 2.89000e-04,\n",
       "        9.88000e-04, 1.61000e-04]])"
      ]
     },
     "execution_count": 255,
     "metadata": {
      "tags": []
     },
     "output_type": "execute_result"
    }
   ],
   "source": [
    "X_arrHMP = result_array\n",
    "del result_array\n",
    "print(type(X_arrHMP))\n",
    "X_arrHMP"
   ]
  },
  {
   "cell_type": "code",
   "execution_count": null,
   "metadata": {
    "id": "GoaALmWuYWMk"
   },
   "outputs": [],
   "source": [
    "y = hmp[['short-term_memorability','long-term_memorability']].values"
   ]
  },
  {
   "cell_type": "code",
   "execution_count": null,
   "metadata": {
    "id": "bQ8PGI0aYiND"
   },
   "outputs": [],
   "source": [
    "from sklearn.model_selection import train_test_split\n",
    "x_train, x_test, y_train, y_test = train_test_split(X_arrHMP, y, test_size=0.2, random_state=42)"
   ]
  },
  {
   "cell_type": "code",
   "execution_count": null,
   "metadata": {
    "colab": {
     "base_uri": "https://localhost:8080/"
    },
    "id": "BogV46IzZSG6",
    "outputId": "ee1c263c-bbc4-44df-b727-8882c86b81a3"
   },
   "outputs": [
    {
     "data": {
      "text/plain": [
       "6075"
      ]
     },
     "execution_count": 259,
     "metadata": {
      "tags": []
     },
     "output_type": "execute_result"
    }
   ],
   "source": [
    "n_cols = x_train.shape[1]\n",
    "n_cols"
   ]
  },
  {
   "cell_type": "code",
   "execution_count": null,
   "metadata": {
    "id": "f-gm296uZYC_"
   },
   "outputs": [],
   "source": [
    "model = Sequential()\n",
    "model.add(Dense(100, activation='relu', input_shape=(n_cols,)))\n",
    "model.add(Dropout(0.5))\n",
    "# Add the second layer\n",
    "model.add(Dense(100, activation='relu'))\n",
    "model.add(Dropout(0.5))\n",
    "# Add the output layer\n",
    "model.add(Dense(2))"
   ]
  },
  {
   "cell_type": "code",
   "execution_count": null,
   "metadata": {
    "id": "xZ1gZfpCZb_Y"
   },
   "outputs": [],
   "source": [
    "# Compile the model\n",
    "model.compile(optimizer='adam', loss='mean_squared_error', metrics=['accuracy'])\n",
    "   \n",
    "# Define early_stopping_monitor\n",
    "early_stopping_monitor = EarlyStopping(patience=2)"
   ]
  },
  {
   "cell_type": "code",
   "execution_count": null,
   "metadata": {
    "colab": {
     "base_uri": "https://localhost:8080/"
    },
    "id": "yPaodME5Zfst",
    "outputId": "3338eb45-70fe-43aa-f7ca-6d81512fb99b"
   },
   "outputs": [
    {
     "name": "stdout",
     "output_type": "stream",
     "text": [
      "Epoch 1/30\n",
      "104/104 [==============================] - 1s 10ms/step - loss: 0.0132 - accuracy: 0.7049 - val_loss: 0.0139 - val_accuracy: 0.7062\n",
      "Epoch 2/30\n",
      "104/104 [==============================] - 1s 8ms/step - loss: 0.0131 - accuracy: 0.7049 - val_loss: 0.0139 - val_accuracy: 0.7062\n",
      "Epoch 3/30\n",
      "104/104 [==============================] - 1s 9ms/step - loss: 0.0132 - accuracy: 0.7049 - val_loss: 0.0140 - val_accuracy: 0.7062\n"
     ]
    }
   ],
   "source": [
    "# Fit the model\n",
    "history=model.fit(x_train, y_train, validation_split=0.3, epochs=30, callbacks= [early_stopping_monitor])"
   ]
  },
  {
   "cell_type": "code",
   "execution_count": null,
   "metadata": {
    "colab": {
     "base_uri": "https://localhost:8080/",
     "height": 295
    },
    "id": "suDDKe10Zkjq",
    "outputId": "30b84c8c-7a1d-4730-e80e-bf1b1f19dfd1"
   },
   "outputs": [
    {
     "data": {
      "image/png": "[encoded data removed]",
      "text/plain": [
       "<Figure size 432x288 with 1 Axes>"
      ]
     },
     "metadata": {
      "needs_background": "light",
      "tags": []
     },
     "output_type": "display_data"
    }
   ],
   "source": [
    "loss = history.history['loss']\n",
    "val_loss = history.history['val_loss']\n",
    "\n",
    "epochs = range(1,len(loss)+1)\n",
    "\n",
    "plt.plot(epochs,loss,'bo',label='Training loss')\n",
    "plt.plot(epochs,val_loss,'b',label='Validation loss')\n",
    "plt.title('Training and validation loss')\n",
    "plt.xlabel('Epochs')\n",
    "plt.ylabel('Loss')\n",
    "plt.legend()\n",
    "plt.show()"
   ]
  },
  {
   "cell_type": "code",
   "execution_count": null,
   "metadata": {
    "colab": {
     "base_uri": "https://localhost:8080/"
    },
    "id": "lQD59OkVZrny",
    "outputId": "d584df65-3f0d-42d3-a6a9-5449105419cc"
   },
   "outputs": [
    {
     "name": "stdout",
     "output_type": "stream",
     "text": [
      "[[0.8778858  0.8026577 ]\n",
      " [0.88393414 0.8094818 ]\n",
      " [0.8666573  0.78971577]\n",
      " ...\n",
      " [0.8795675  0.80386794]\n",
      " [0.8412963  0.7595017 ]\n",
      " [0.8629156  0.7849977 ]]\n"
     ]
    }
   ],
   "source": [
    "#test set predictions\n",
    "predictions_test = model.predict(x_test)\n",
    "print(predictions_test)"
   ]
  },
  {
   "cell_type": "code",
   "execution_count": null,
   "metadata": {
    "colab": {
     "base_uri": "https://localhost:8080/"
    },
    "id": "1ia99OtCZwsc",
    "outputId": "5d1b9919-a48c-44d8-b85a-ceb30ad898dd"
   },
   "outputs": [
    {
     "name": "stdout",
     "output_type": "stream",
     "text": [
      "The Spearman's correlation coefficient is: 0.254\n",
      "The Spearman's correlation coefficient is: 0.113\n"
     ]
    }
   ],
   "source": [
    "Get_score(predictions_test, y_test)"
   ]
  },
  {
   "cell_type": "code",
   "execution_count": null,
   "metadata": {
    "id": "NlJPSaYnw-l2"
   },
   "outputs": [],
   "source": [
    "# Saving the model\n",
    "model.save('/content/drive/MyDrive/ML Assignment/Trained_Models/HMP_NN.h5')  # creates a HDF5 file 'my_model.h5'"
   ]
  },
  {
   "cell_type": "markdown",
   "metadata": {
    "id": "aySRYzGLzwab"
   },
   "source": [
    "## LBP Feature"
   ]
  },
  {
   "cell_type": "code",
   "execution_count": null,
   "metadata": {
    "id": "af2WXP1Dz8eD"
   },
   "outputs": [],
   "source": [
    "# Reusing same variable names to reduce memory.\n",
    "result_array = np.empty((0, 366))\n",
    "\n",
    "for i in lbp.index:\n",
    "  while len(lbp['video-0'][i]) < 122:\n",
    "    lbp['video-0'][i] = np.append((lbp['video-0'][i]), 0)\n",
    "  while len(lbp['video-56'][i]) < 122:\n",
    "    lbp['video-56'][i] = np.append((lbp['video-56'][i]), 0)\n",
    "  while len(lbp['video-112'][i]) < 122:\n",
    "    lbp['video-112'][i] = np.append((lbp['video-112'][i]), 0)\n",
    "  res = np.hstack((lbp['video-0'][i], lbp['video-56'][i], lbp['video-112'][i]))\n",
    "  result_array = np.append(result_array, np.array([res]), axis = 0)"
   ]
  },
  {
   "cell_type": "code",
   "execution_count": null,
   "metadata": {
    "id": "7tqaQ5Cb3QLk"
   },
   "outputs": [],
   "source": [
    "X_arrLBP = result_array\n",
    "del result_array\n",
    "print(type(X_arrLBP))\n",
    "X_arrLBP"
   ]
  },
  {
   "cell_type": "code",
   "execution_count": null,
   "metadata": {
    "id": "ljImD4y6Gfq5"
   },
   "outputs": [],
   "source": [
    "y = lbp[['short-term_memorability','long-term_memorability']].values"
   ]
  },
  {
   "cell_type": "code",
   "execution_count": null,
   "metadata": {
    "id": "vd1LPhw_Gx5R"
   },
   "outputs": [],
   "source": [
    "from sklearn.model_selection import train_test_split\n",
    "x_train, x_test, y_train, y_test = train_test_split(X_arrLBP, y, test_size=0.2, random_state=42)"
   ]
  },
  {
   "cell_type": "code",
   "execution_count": null,
   "metadata": {
    "id": "yGdfk9asG0ui"
   },
   "outputs": [],
   "source": [
    "n_cols = x_train.shape[1]\n",
    "n_cols"
   ]
  },
  {
   "cell_type": "code",
   "execution_count": null,
   "metadata": {
    "id": "HuwxSenRG5IN"
   },
   "outputs": [],
   "source": [
    "model = Sequential()\n",
    "model.add(Dense(100, activation='relu', input_shape=(n_cols,)))\n",
    "model.add(Dropout(0.5))\n",
    "# Add the second layer\n",
    "model.add(Dense(100, activation='relu'))\n",
    "model.add(Dropout(0.5))\n",
    "# Add the output layer\n",
    "model.add(Dense(2))"
   ]
  },
  {
   "cell_type": "code",
   "execution_count": null,
   "metadata": {
    "id": "_KpFu0-eG7rx"
   },
   "outputs": [],
   "source": [
    "# Compile the model\n",
    "model.compile(optimizer='adam', loss='mean_squared_error', metrics=['accuracy'])\n",
    "   \n",
    "# Define early_stopping_monitor\n",
    "early_stopping_monitor = EarlyStopping(patience=2)"
   ]
  },
  {
   "cell_type": "code",
   "execution_count": null,
   "metadata": {
    "id": "5Gl_NNSUG-yy"
   },
   "outputs": [],
   "source": [
    "# Fit the model\n",
    "history=model.fit(x_train, y_train, validation_split=0.3, epochs=30, callbacks= [early_stopping_monitor])"
   ]
  },
  {
   "cell_type": "code",
   "execution_count": null,
   "metadata": {
    "id": "rcaaUo1ZHBkM"
   },
   "outputs": [],
   "source": [
    "loss = history.history['loss']\n",
    "val_loss = history.history['val_loss']\n",
    "\n",
    "epochs = range(1,len(loss)+1)\n",
    "\n",
    "plt.plot(epochs,loss,'bo',label='Training loss')\n",
    "plt.plot(epochs,val_loss,'b',label='Validation loss')\n",
    "plt.title('Training and validation loss')\n",
    "plt.xlabel('Epochs')\n",
    "plt.ylabel('Loss')\n",
    "plt.legend()\n",
    "plt.show()"
   ]
  },
  {
   "cell_type": "code",
   "execution_count": null,
   "metadata": {
    "id": "HAc6fYheHFNK"
   },
   "outputs": [],
   "source": [
    "#test set predictions\n",
    "predictions_test = model.predict(x_test)\n",
    "print(predictions_test)"
   ]
  },
  {
   "cell_type": "code",
   "execution_count": null,
   "metadata": {
    "id": "QHb_Q7R8HLrH"
   },
   "outputs": [],
   "source": [
    "Get_score(predictions_test, y_test)"
   ]
  },
  {
   "cell_type": "code",
   "execution_count": null,
   "metadata": {
    "id": "f5IQCCmJHOux"
   },
   "outputs": [],
   "source": [
    "# Saving the model\n",
    "model.save('/content/drive/MyDrive/ML Assignment/Trained_Models/LBP_NN.h5')  # creates a HDF5 file 'my_model.h5'"
   ]
  },
  {
   "cell_type": "markdown",
   "metadata": {
    "id": "6azh3HAQ7ZqJ"
   },
   "source": [
    "## InceptionV3"
   ]
  },
  {
   "cell_type": "code",
   "execution_count": null,
   "metadata": {
    "id": "53ykAg1q78MB"
   },
   "outputs": [],
   "source": [
    "# Reusing same variable names to reduce memory.\n",
    "result_array = np.empty((0, 3000))\n",
    "\n",
    "for i in inceptionv3.index:\n",
    "  while len(inceptionv3['video-0'][i]) < 1000:\n",
    "    inceptionv3['video-0'][i] = np.append((inceptionv3['video-0'][i]), 0)\n",
    "  while len(inceptionv3['video-56'][i]) < 1000:\n",
    "    inceptionv3['video-56'][i] = np.append((inceptionv3['video-56'][i]), 0)\n",
    "  while len(inceptionv3['video-112'][i]) < 1000:\n",
    "    inceptionv3['video-112'][i] = np.append((inceptionv3['video-112'][i]), 0)\n",
    "  res = np.hstack((inceptionv3['video-0'][i], inceptionv3['video-56'][i], inceptionv3['video-112'][i]))\n",
    "  result_array = np.append(result_array, np.array([res]), axis = 0)"
   ]
  },
  {
   "cell_type": "code",
   "execution_count": null,
   "metadata": {
    "colab": {
     "base_uri": "https://localhost:8080/"
    },
    "id": "Xgl1Y8lxDWZ8",
    "outputId": "2ff71a3e-6f8c-453c-f9b5-1766f511e623"
   },
   "outputs": [
    {
     "name": "stdout",
     "output_type": "stream",
     "text": [
      "<class 'numpy.ndarray'>\n"
     ]
    },
    {
     "data": {
      "text/plain": [
       "array([[2.926813e-18, 3.022254e-19, 4.139101e-19, ..., 3.913046e-23,\n",
       "        2.295526e-20, 2.015046e-17],\n",
       "       [0.000000e+00, 0.000000e+00, 0.000000e+00, ..., 0.000000e+00,\n",
       "        0.000000e+00, 0.000000e+00],\n",
       "       [1.619819e-33, 0.000000e+00, 0.000000e+00, ..., 0.000000e+00,\n",
       "        0.000000e+00, 0.000000e+00],\n",
       "       ...,\n",
       "       [0.000000e+00, 0.000000e+00, 0.000000e+00, ..., 0.000000e+00,\n",
       "        0.000000e+00, 0.000000e+00],\n",
       "       [7.332495e-25, 2.549710e-34, 7.246693e-37, ..., 0.000000e+00,\n",
       "        0.000000e+00, 6.700695e-37],\n",
       "       [0.000000e+00, 0.000000e+00, 0.000000e+00, ..., 0.000000e+00,\n",
       "        0.000000e+00, 0.000000e+00]])"
      ]
     },
     "execution_count": 106,
     "metadata": {
      "tags": []
     },
     "output_type": "execute_result"
    }
   ],
   "source": [
    "X_arr_inception = result_array\n",
    "del result_array\n",
    "print(type(X_arr_inception))\n",
    "X_arr_inception"
   ]
  },
  {
   "cell_type": "code",
   "execution_count": null,
   "metadata": {
    "id": "JhEXdMGoDjt9"
   },
   "outputs": [],
   "source": [
    "y = inceptionv3[['short-term_memorability','long-term_memorability']].values"
   ]
  },
  {
   "cell_type": "code",
   "execution_count": null,
   "metadata": {
    "id": "dO88PuSIDqTJ"
   },
   "outputs": [],
   "source": [
    "x_train, x_test, y_train, y_test = train_test_split(X_arr_inception, y, test_size=0.2, random_state=42)"
   ]
  },
  {
   "cell_type": "code",
   "execution_count": null,
   "metadata": {
    "colab": {
     "base_uri": "https://localhost:8080/"
    },
    "id": "0fLUI30aEkOJ",
    "outputId": "cfc7e61b-78ea-4b32-db30-95ffe62ccf9c"
   },
   "outputs": [
    {
     "data": {
      "text/plain": [
       "3000"
      ]
     },
     "execution_count": 109,
     "metadata": {
      "tags": []
     },
     "output_type": "execute_result"
    }
   ],
   "source": [
    "n_cols = x_train.shape[1]\n",
    "n_cols"
   ]
  },
  {
   "cell_type": "code",
   "execution_count": null,
   "metadata": {
    "id": "auxp0hALIFz8"
   },
   "outputs": [],
   "source": [
    "model = Sequential()\n",
    "model.add(Dense(100, activation='relu', input_shape=(n_cols,)))\n",
    "model.add(Dropout(0.5))\n",
    "# Add the second layer\n",
    "model.add(Dense(100, activation='relu'))\n",
    "model.add(Dropout(0.5))\n",
    "# Add the output layer\n",
    "model.add(Dense(2))"
   ]
  },
  {
   "cell_type": "code",
   "execution_count": null,
   "metadata": {
    "id": "TuwSaEz-IILB"
   },
   "outputs": [],
   "source": [
    "# Compile the model\n",
    "model.compile(optimizer='adam', loss='mean_squared_error', metrics=['accuracy'])\n",
    "   \n",
    "# Define early_stopping_monitor\n",
    "early_stopping_monitor = EarlyStopping(patience=2)"
   ]
  },
  {
   "cell_type": "code",
   "execution_count": null,
   "metadata": {
    "colab": {
     "base_uri": "https://localhost:8080/"
    },
    "id": "c12HqcLhILM2",
    "outputId": "687a41c4-5a8a-4c42-c745-531f051e1cc7"
   },
   "outputs": [
    {
     "name": "stdout",
     "output_type": "stream",
     "text": [
      "Epoch 1/30\n",
      "57/57 [==============================] - 1s 9ms/step - loss: 0.2931 - accuracy: 0.5832 - val_loss: 0.0180 - val_accuracy: 0.6744\n",
      "Epoch 2/30\n",
      "57/57 [==============================] - 0s 6ms/step - loss: 0.0514 - accuracy: 0.5957 - val_loss: 0.0200 - val_accuracy: 0.6949\n",
      "Epoch 3/30\n",
      "57/57 [==============================] - 0s 6ms/step - loss: 0.0416 - accuracy: 0.6062 - val_loss: 0.0150 - val_accuracy: 0.6949\n",
      "Epoch 4/30\n",
      "57/57 [==============================] - 0s 7ms/step - loss: 0.0354 - accuracy: 0.6057 - val_loss: 0.0151 - val_accuracy: 0.6974\n",
      "Epoch 5/30\n",
      "57/57 [==============================] - 0s 6ms/step - loss: 0.0331 - accuracy: 0.5884 - val_loss: 0.0135 - val_accuracy: 0.6974\n",
      "Epoch 6/30\n",
      "57/57 [==============================] - 0s 7ms/step - loss: 0.0288 - accuracy: 0.6553 - val_loss: 0.0160 - val_accuracy: 0.6974\n",
      "Epoch 7/30\n",
      "57/57 [==============================] - 0s 6ms/step - loss: 0.0306 - accuracy: 0.6389 - val_loss: 0.0158 - val_accuracy: 0.6974\n"
     ]
    }
   ],
   "source": [
    "# Fit the model\n",
    "history=model.fit(x_train, y_train, validation_split=0.3, epochs=30, callbacks= [early_stopping_monitor])"
   ]
  },
  {
   "cell_type": "code",
   "execution_count": null,
   "metadata": {
    "colab": {
     "base_uri": "https://localhost:8080/",
     "height": 295
    },
    "id": "RiaLEnY2IOXf",
    "outputId": "8fbd4de4-7a63-4f7e-c3c8-470bb7e97242"
   },
   "outputs": [
    {
     "data": {
      "image/png": "[encoded data removed]",
      "text/plain": [
       "<Figure size 432x288 with 1 Axes>"
      ]
     },
     "metadata": {
      "needs_background": "light",
      "tags": []
     },
     "output_type": "display_data"
    }
   ],
   "source": [
    "loss = history.history['loss']\n",
    "val_loss = history.history['val_loss']\n",
    "\n",
    "epochs = range(1,len(loss)+1)\n",
    "\n",
    "plt.plot(epochs,loss,'bo',label='Training loss')\n",
    "plt.plot(epochs,val_loss,'b',label='Validation loss')\n",
    "plt.title('Training and validation loss')\n",
    "plt.xlabel('Epochs')\n",
    "plt.ylabel('Loss')\n",
    "plt.legend()\n",
    "plt.show()"
   ]
  },
  {
   "cell_type": "code",
   "execution_count": null,
   "metadata": {
    "colab": {
     "base_uri": "https://localhost:8080/"
    },
    "id": "Gc1UHPiZIRIH",
    "outputId": "2aa88c1b-1414-4991-9dd8-5a92b48ca7a4"
   },
   "outputs": [
    {
     "name": "stdout",
     "output_type": "stream",
     "text": [
      "[[0.81174576 0.729572  ]\n",
      " [0.783605   0.70397735]\n",
      " [0.7510061  0.67485523]\n",
      " ...\n",
      " [0.80956614 0.7267721 ]\n",
      " [0.8117459  0.72957206]\n",
      " [0.81352055 0.723455  ]]\n"
     ]
    }
   ],
   "source": [
    "#test set predictions\n",
    "predictions_test = model.predict(x_test)\n",
    "print(predictions_test)"
   ]
  },
  {
   "cell_type": "code",
   "execution_count": null,
   "metadata": {
    "colab": {
     "base_uri": "https://localhost:8080/"
    },
    "id": "RAf1XO5FITMp",
    "outputId": "af79af0f-eb8d-4836-9f4e-137e79a46d8a"
   },
   "outputs": [
    {
     "name": "stdout",
     "output_type": "stream",
     "text": [
      "The Spearman's correlation coefficient is: 0.099\n",
      "The Spearman's correlation coefficient is: 0.023\n"
     ]
    }
   ],
   "source": [
    "Get_score(predictions_test, y_test)"
   ]
  },
  {
   "cell_type": "code",
   "execution_count": null,
   "metadata": {
    "colab": {
     "base_uri": "https://localhost:8080/"
    },
    "id": "W4uBZoAAcbAS",
    "outputId": "f7bd0437-af9c-4600-a0ca-e3b61eac6ae1"
   },
   "outputs": [
    {
     "data": {
      "text/plain": [
       "(650, 2)"
      ]
     },
     "execution_count": 116,
     "metadata": {
      "tags": []
     },
     "output_type": "execute_result"
    }
   ],
   "source": [
    "y_test.shape"
   ]
  },
  {
   "cell_type": "code",
   "execution_count": null,
   "metadata": {
    "id": "LUmj04-JIVa_"
   },
   "outputs": [],
   "source": [
    "# Saving the model\n",
    "model.save('/content/drive/MyDrive/ML Assignment/Trained_Models/InceptionV3_NN.h5')  # creates a HDF5 file 'my_model.h5'"
   ]
  },
  {
   "cell_type": "markdown",
   "metadata": {
    "id": "5Id25yanxhMu"
   },
   "source": [
    "## Aesthetics"
   ]
  },
  {
   "cell_type": "code",
   "execution_count": null,
   "metadata": {
    "id": "C_H9oX5uybxX"
   },
   "outputs": [],
   "source": [
    "result_array = np.empty((0, 218))\n",
    "\n",
    "for i in aesthetics.index:\n",
    "  while len(aesthetics['aesthetic_feat_dev-set_mean'][i]) < 109:\n",
    "    aesthetics['aesthetic_feat_dev-set_mean'][i] = np.append((aesthetics['aesthetic_feat_dev-set_mean'][i]), 0)\n",
    "  while len(aesthetics['aesthetic_feat_dev-set_median'][i]) < 109:\n",
    "    aesthetics['aesthetic_feat_dev-set_median'][i] = np.append((aesthetics['aesthetic_feat_dev-set_median'][i]), 0)\n",
    "  res = np.hstack((aesthetics['aesthetic_feat_dev-set_mean'][i], aesthetics['aesthetic_feat_dev-set_median'][i]))\n",
    "  result_array = np.append(result_array, np.array([res]), axis = 0)"
   ]
  },
  {
   "cell_type": "code",
   "execution_count": null,
   "metadata": {
    "colab": {
     "base_uri": "https://localhost:8080/"
    },
    "id": "J1n2vBGJzQ0L",
    "outputId": "4d5f7e8c-60bd-4ec8-a951-faea8805ec02"
   },
   "outputs": [
    {
     "name": "stdout",
     "output_type": "stream",
     "text": [
      "<class 'numpy.ndarray'>\n"
     ]
    },
    {
     "data": {
      "text/plain": [
       "array([[ 0.18389 ,  0.713733,  0.202302, ...,  0.129661,  0.412381,\n",
       "         0.788761],\n",
       "       [ 0.147255,  0.550718,  0.460299, ...,  0.692224,  0.762354,\n",
       "        -0.561793],\n",
       "       [ 0.063933,  0.826933,  0.214129, ...,  0.438261, -0.21956 ,\n",
       "         0.276687],\n",
       "       ...,\n",
       "       [ 0.178087,  0.220956,  0.671676, ...,  0.38719 ,  0.244293,\n",
       "         0.341741],\n",
       "       [ 0.113677,  0.585402,  0.496425, ...,  0.00308 ,  0.365075,\n",
       "        -1.04308 ],\n",
       "       [ 0.554591,  0.134659,  0.691026, ...,  0.783961,  0.621886,\n",
       "        -0.569049]])"
      ]
     },
     "execution_count": 7,
     "metadata": {
      "tags": []
     },
     "output_type": "execute_result"
    }
   ],
   "source": [
    "X_arr_aesthetics = result_array\n",
    "del result_array\n",
    "print(type(X_arr_aesthetics))\n",
    "X_arr_aesthetics"
   ]
  },
  {
   "cell_type": "code",
   "execution_count": null,
   "metadata": {
    "id": "ADEbPAmQzZJP"
   },
   "outputs": [],
   "source": [
    "y = aesthetics[['short-term_memorability','long-term_memorability']].values\n",
    "x_train, x_test, y_train, y_test = train_test_split(X_arr_aesthetics, y, test_size=0.2, random_state=42)"
   ]
  },
  {
   "cell_type": "code",
   "execution_count": null,
   "metadata": {
    "colab": {
     "base_uri": "https://localhost:8080/"
    },
    "id": "oxqD8W-fze_G",
    "outputId": "3232feef-24e6-4a3f-ec1f-3bae06e5bac3"
   },
   "outputs": [
    {
     "data": {
      "text/plain": [
       "218"
      ]
     },
     "execution_count": 9,
     "metadata": {
      "tags": []
     },
     "output_type": "execute_result"
    }
   ],
   "source": [
    "n_cols = x_train.shape[1]\n",
    "n_cols"
   ]
  },
  {
   "cell_type": "code",
   "execution_count": null,
   "metadata": {
    "id": "6xLLcxmtzhWN"
   },
   "outputs": [],
   "source": [
    "model = Sequential()\n",
    "model.add(Dense(100, activation='relu', input_shape=(n_cols,)))\n",
    "model.add(Dropout(0.5))\n",
    "# Add the second layer\n",
    "model.add(Dense(100, activation='relu'))\n",
    "model.add(Dropout(0.5))\n",
    "# Add the output layer\n",
    "model.add(Dense(2))"
   ]
  },
  {
   "cell_type": "code",
   "execution_count": null,
   "metadata": {
    "id": "tn19uFuzzkxf"
   },
   "outputs": [],
   "source": [
    "# Compile the model\n",
    "model.compile(optimizer='adam', loss='mean_squared_error', metrics=['accuracy'])\n",
    "   \n",
    "# Define early_stopping_monitor\n",
    "early_stopping_monitor = EarlyStopping(patience=2)"
   ]
  },
  {
   "cell_type": "code",
   "execution_count": null,
   "metadata": {
    "colab": {
     "base_uri": "https://localhost:8080/"
    },
    "id": "iCriiOjAzq4d",
    "outputId": "7e515787-918b-48ff-d0b7-ceccf714aaa4"
   },
   "outputs": [
    {
     "name": "stdout",
     "output_type": "stream",
     "text": [
      "Epoch 1/30\n",
      "105/105 [==============================] - 1s 6ms/step - loss: 906.8740 - accuracy: 0.4928 - val_loss: 7.3312 - val_accuracy: 0.6229\n",
      "Epoch 2/30\n",
      "105/105 [==============================] - 0s 2ms/step - loss: 78.4835 - accuracy: 0.4843 - val_loss: 3.5446 - val_accuracy: 0.5701\n",
      "Epoch 3/30\n",
      "105/105 [==============================] - 0s 2ms/step - loss: 33.3082 - accuracy: 0.4678 - val_loss: 0.9724 - val_accuracy: 0.5924\n",
      "Epoch 4/30\n",
      "105/105 [==============================] - 0s 3ms/step - loss: 9.6470 - accuracy: 0.4700 - val_loss: 0.7858 - val_accuracy: 0.5729\n",
      "Epoch 5/30\n",
      "105/105 [==============================] - 0s 2ms/step - loss: 10.1552 - accuracy: 0.5133 - val_loss: 0.8284 - val_accuracy: 0.6007\n",
      "Epoch 6/30\n",
      "105/105 [==============================] - 0s 2ms/step - loss: 4.4409 - accuracy: 0.5279 - val_loss: 0.8701 - val_accuracy: 0.6431\n"
     ]
    }
   ],
   "source": [
    "# Fit the model\n",
    "history=model.fit(x_train, y_train, validation_split=0.3, epochs=30, callbacks= [early_stopping_monitor])"
   ]
  },
  {
   "cell_type": "code",
   "execution_count": null,
   "metadata": {
    "colab": {
     "base_uri": "https://localhost:8080/",
     "height": 295
    },
    "id": "crq5wBltzvB8",
    "outputId": "cab51c1b-b1c3-4ac2-bc1b-cfe7dae14484"
   },
   "outputs": [
    {
     "data": {
      "image/png": "[encoded data removed]",
      "text/plain": [
       "<Figure size 432x288 with 1 Axes>"
      ]
     },
     "metadata": {
      "needs_background": "light",
      "tags": []
     },
     "output_type": "display_data"
    }
   ],
   "source": [
    "loss = history.history['loss']\n",
    "val_loss = history.history['val_loss']\n",
    "\n",
    "epochs = range(1,len(loss)+1)\n",
    "\n",
    "plt.plot(epochs,loss,'bo',label='Training loss')\n",
    "plt.plot(epochs,val_loss,'b',label='Validation loss')\n",
    "plt.title('Training and validation loss')\n",
    "plt.xlabel('Epochs')\n",
    "plt.ylabel('Loss')\n",
    "plt.legend()\n",
    "plt.show()"
   ]
  },
  {
   "cell_type": "code",
   "execution_count": null,
   "metadata": {
    "colab": {
     "base_uri": "https://localhost:8080/"
    },
    "id": "_dvSdoKMzy2O",
    "outputId": "ba515af5-9b7c-4441-c5dd-42f79bc5dab6"
   },
   "outputs": [
    {
     "name": "stdout",
     "output_type": "stream",
     "text": [
      "[[-0.00308903  0.44256908]\n",
      " [ 0.2524665   0.16084741]\n",
      " [ 0.46107054  0.27058324]\n",
      " ...\n",
      " [ 0.34989014  0.09826875]\n",
      " [ 0.24295093  0.18214126]\n",
      " [ 0.3483007   0.20864114]]\n"
     ]
    }
   ],
   "source": [
    "#test set predictions\n",
    "predictions_test = model.predict(x_test)\n",
    "print(predictions_test)"
   ]
  },
  {
   "cell_type": "code",
   "execution_count": null,
   "metadata": {
    "colab": {
     "base_uri": "https://localhost:8080/"
    },
    "id": "J7tgGpeez1IJ",
    "outputId": "773fa4de-d56c-4277-94fe-33bd433d6845"
   },
   "outputs": [
    {
     "name": "stdout",
     "output_type": "stream",
     "text": [
      "The Spearman's correlation coefficient is: -0.034\n",
      "The Spearman's correlation coefficient is: -0.027\n"
     ]
    }
   ],
   "source": [
    "Get_score(predictions_test, y_test)"
   ]
  },
  {
   "cell_type": "code",
   "execution_count": null,
   "metadata": {
    "id": "aw0jjbs8z3GA"
   },
   "outputs": [],
   "source": [
    "# Saving the model\n",
    "model.save('/content/drive/MyDrive/ML Assignment/Trained_Models/Aesthetics_NN.h5')  # creates a HDF5 file 'my_model.h5'"
   ]
  },
  {
   "cell_type": "markdown",
   "metadata": {
    "id": "SoPQ35alqQdS"
   },
   "source": [
    "## ColorHistogram"
   ]
  },
  {
   "cell_type": "code",
   "execution_count": null,
   "metadata": {
    "colab": {
     "base_uri": "https://localhost:8080/"
    },
    "id": "_7xYH3hsszp8",
    "outputId": "f81cd066-9163-4353-b305-693b71260911"
   },
   "outputs": [
    {
     "name": "stderr",
     "output_type": "stream",
     "text": [
      "/usr/local/lib/python3.7/dist-packages/ipykernel_launcher.py:5: SettingWithCopyWarning: \n",
      "A value is trying to be set on a copy of a slice from a DataFrame\n",
      "\n",
      "See the caveats in the documentation: https://pandas.pydata.org/pandas-docs/stable/user_guide/indexing.html#returning-a-view-versus-a-copy\n",
      "  \"\"\"\n",
      "/usr/local/lib/python3.7/dist-packages/ipykernel_launcher.py:6: SettingWithCopyWarning: \n",
      "A value is trying to be set on a copy of a slice from a DataFrame\n",
      "\n",
      "See the caveats in the documentation: https://pandas.pydata.org/pandas-docs/stable/user_guide/indexing.html#returning-a-view-versus-a-copy\n",
      "  \n",
      "/usr/local/lib/python3.7/dist-packages/ipykernel_launcher.py:7: SettingWithCopyWarning: \n",
      "A value is trying to be set on a copy of a slice from a DataFrame\n",
      "\n",
      "See the caveats in the documentation: https://pandas.pydata.org/pandas-docs/stable/user_guide/indexing.html#returning-a-view-versus-a-copy\n",
      "  import sys\n"
     ]
    }
   ],
   "source": [
    "# Reusing same variable names to reduce memory.\n",
    "result_array = np.empty((0, 768))\n",
    "\n",
    "for i in ch.index:\n",
    "  ch['video-0'][i] = ch['video-0'][i][0] + ch['video-0'][i][1] + ch['video-0'][i][2]\n",
    "  ch['video-56'][i] = ch['video-56'][i][0] + ch['video-56'][i][1] + ch['video-56'][i][2]\n",
    "  ch['video-112'][i] = ch['video-112'][i][0] + ch['video-112'][i][1] + ch['video-112'][i][2]\n",
    "  res = np.hstack((ch['video-0'][i], ch['video-56'][i], ch['video-112'][i]))\n",
    "  result_array = np.append(result_array, np.array([res]), axis = 0)"
   ]
  },
  {
   "cell_type": "code",
   "execution_count": null,
   "metadata": {
    "colab": {
     "base_uri": "https://localhost:8080/"
    },
    "id": "qHXXmEDktUHk",
    "outputId": "afba4c49-791b-4f1f-ea1a-4d58dbbef8c0"
   },
   "outputs": [
    {
     "name": "stdout",
     "output_type": "stream",
     "text": [
      "<class 'numpy.ndarray'>\n"
     ]
    },
    {
     "data": {
      "text/plain": [
       "array([[8.54550e+04, 1.74820e+04, 1.61940e+04, ..., 1.43900e+04,\n",
       "        2.09500e+03, 3.16360e+04],\n",
       "       [6.51922e+05, 2.05142e+05, 2.40695e+05, ..., 0.00000e+00,\n",
       "        0.00000e+00, 0.00000e+00],\n",
       "       [1.56000e+02, 6.40000e+01, 9.30000e+01, ..., 1.02950e+04,\n",
       "        1.99100e+03, 1.16530e+04],\n",
       "       ...,\n",
       "       [2.00000e+01, 7.00000e+00, 1.70000e+01, ..., 7.18000e+02,\n",
       "        2.31000e+02, 1.67000e+02],\n",
       "       [7.02000e+02, 2.59000e+02, 3.56000e+02, ..., 2.58900e+03,\n",
       "        7.32000e+02, 1.39610e+04],\n",
       "       [0.00000e+00, 0.00000e+00, 0.00000e+00, ..., 1.91000e+02,\n",
       "        1.47000e+02, 8.82000e+02]])"
      ]
     },
     "execution_count": 153,
     "metadata": {
      "tags": []
     },
     "output_type": "execute_result"
    }
   ],
   "source": [
    "X_arr_ch = result_array\n",
    "del result_array\n",
    "print(type(X_arr_ch))\n",
    "X_arr_ch"
   ]
  },
  {
   "cell_type": "code",
   "execution_count": null,
   "metadata": {
    "colab": {
     "base_uri": "https://localhost:8080/"
    },
    "id": "j4RVRQ5Ztgxh",
    "outputId": "aca377b7-e98d-4289-eca2-5b4631552715"
   },
   "outputs": [
    {
     "data": {
      "text/plain": [
       "768"
      ]
     },
     "execution_count": 154,
     "metadata": {
      "tags": []
     },
     "output_type": "execute_result"
    }
   ],
   "source": [
    "y = ch[['short-term_memorability','long-term_memorability']].values\n",
    "x_train, x_test, y_train, y_test = train_test_split(X_arr_ch, y, test_size=0.2, random_state=42)\n",
    "n_cols = x_train.shape[1]\n",
    "n_cols"
   ]
  },
  {
   "cell_type": "code",
   "execution_count": null,
   "metadata": {
    "id": "KJixFRidtxuI"
   },
   "outputs": [],
   "source": [
    "model = Sequential()\n",
    "model.add(Dense(100, activation='relu', input_shape=(n_cols,)))\n",
    "model.add(Dropout(0.5))\n",
    "# Add the second layer\n",
    "model.add(Dense(100, activation='relu'))\n",
    "model.add(Dropout(0.5))\n",
    "# Add the output layer\n",
    "model.add(Dense(2))"
   ]
  },
  {
   "cell_type": "code",
   "execution_count": null,
   "metadata": {
    "id": "j6x0CKzzt0rr"
   },
   "outputs": [],
   "source": [
    "# Compile the model\n",
    "model.compile(optimizer='adam', loss='mean_squared_error', metrics=['accuracy'])\n",
    "   \n",
    "# Define early_stopping_monitor\n",
    "early_stopping_monitor = EarlyStopping(patience=2)"
   ]
  },
  {
   "cell_type": "code",
   "execution_count": null,
   "metadata": {
    "colab": {
     "base_uri": "https://localhost:8080/"
    },
    "id": "2OzDrbA7t4HP",
    "outputId": "d4f840f1-b94c-4f64-bb69-30bb0a1465de"
   },
   "outputs": [
    {
     "name": "stdout",
     "output_type": "stream",
     "text": [
      "Epoch 1/30\n",
      "64/64 [==============================] - 1s 6ms/step - loss: 2254417449.3538 - accuracy: 0.4744 - val_loss: 25778334.0000 - val_accuracy: 0.4014\n",
      "Epoch 2/30\n",
      "64/64 [==============================] - 0s 3ms/step - loss: 402422132.4308 - accuracy: 0.3322 - val_loss: 25167018.0000 - val_accuracy: 0.3352\n",
      "Epoch 3/30\n",
      "64/64 [==============================] - 0s 3ms/step - loss: 172329871.2385 - accuracy: 0.3453 - val_loss: 9316964.0000 - val_accuracy: 0.3216\n",
      "Epoch 4/30\n",
      "64/64 [==============================] - 0s 3ms/step - loss: 109155523.3522 - accuracy: 0.3274 - val_loss: 7744589.5000 - val_accuracy: 0.3101\n",
      "Epoch 5/30\n",
      "64/64 [==============================] - 0s 4ms/step - loss: 84294494.8923 - accuracy: 0.3105 - val_loss: 6106508.0000 - val_accuracy: 0.3158\n",
      "Epoch 6/30\n",
      "64/64 [==============================] - 0s 3ms/step - loss: 178140362.4615 - accuracy: 0.3275 - val_loss: 4182412.0000 - val_accuracy: 0.3261\n",
      "Epoch 7/30\n",
      "64/64 [==============================] - 0s 3ms/step - loss: 30319281.8942 - accuracy: 0.3125 - val_loss: 2403350.2500 - val_accuracy: 0.3124\n",
      "Epoch 8/30\n",
      "64/64 [==============================] - 0s 3ms/step - loss: 226714149.6769 - accuracy: 0.3256 - val_loss: 3601843.5000 - val_accuracy: 0.3101\n",
      "Epoch 9/30\n",
      "64/64 [==============================] - 0s 3ms/step - loss: 75882202.8410 - accuracy: 0.3069 - val_loss: 1419360.3750 - val_accuracy: 0.3113\n",
      "Epoch 10/30\n",
      "64/64 [==============================] - 0s 3ms/step - loss: 29677503.7231 - accuracy: 0.3018 - val_loss: 1392533.7500 - val_accuracy: 0.3090\n",
      "Epoch 11/30\n",
      "64/64 [==============================] - 0s 3ms/step - loss: 67104346.0389 - accuracy: 0.3075 - val_loss: 1391171.3750 - val_accuracy: 0.3056\n",
      "Epoch 12/30\n",
      "64/64 [==============================] - 0s 4ms/step - loss: 13092832.9501 - accuracy: 0.2965 - val_loss: 1035036.8125 - val_accuracy: 0.3022\n",
      "Epoch 13/30\n",
      "64/64 [==============================] - 0s 3ms/step - loss: 37252075.7571 - accuracy: 0.2979 - val_loss: 997279.6875 - val_accuracy: 0.3056\n",
      "Epoch 14/30\n",
      "64/64 [==============================] - 0s 3ms/step - loss: 43907527.8563 - accuracy: 0.3234 - val_loss: 844995.7500 - val_accuracy: 0.3101\n",
      "Epoch 15/30\n",
      "64/64 [==============================] - 0s 3ms/step - loss: 13961077.5060 - accuracy: 0.3062 - val_loss: 594842.1250 - val_accuracy: 0.3056\n",
      "Epoch 16/30\n",
      "64/64 [==============================] - 0s 3ms/step - loss: 26200353.2176 - accuracy: 0.3080 - val_loss: 488746.2812 - val_accuracy: 0.3079\n",
      "Epoch 17/30\n",
      "64/64 [==============================] - 0s 3ms/step - loss: 25745587.7647 - accuracy: 0.2858 - val_loss: 459114.3750 - val_accuracy: 0.3067\n",
      "Epoch 18/30\n",
      "64/64 [==============================] - 0s 3ms/step - loss: 24524369.4615 - accuracy: 0.3023 - val_loss: 492286.0625 - val_accuracy: 0.3044\n",
      "Epoch 19/30\n",
      "64/64 [==============================] - 0s 4ms/step - loss: 3719233.6117 - accuracy: 0.3050 - val_loss: 353385.8750 - val_accuracy: 0.3010\n",
      "Epoch 20/30\n",
      "64/64 [==============================] - 0s 3ms/step - loss: 2599375.1165 - accuracy: 0.3084 - val_loss: 276643.7188 - val_accuracy: 0.3022\n",
      "Epoch 21/30\n",
      "64/64 [==============================] - 0s 3ms/step - loss: 14168870.9077 - accuracy: 0.2896 - val_loss: 340685.0312 - val_accuracy: 0.3033\n",
      "Epoch 22/30\n",
      "64/64 [==============================] - 0s 3ms/step - loss: 21267359.1621 - accuracy: 0.3257 - val_loss: 385340.9375 - val_accuracy: 0.3010\n"
     ]
    }
   ],
   "source": [
    "# Fit the model\n",
    "history=model.fit(x_train, y_train, validation_split=0.3, epochs=30, callbacks= [early_stopping_monitor])"
   ]
  },
  {
   "cell_type": "code",
   "execution_count": null,
   "metadata": {
    "colab": {
     "base_uri": "https://localhost:8080/",
     "height": 295
    },
    "id": "xx2h2MN1t9hR",
    "outputId": "de61906e-e9ff-4b9a-d455-682411ca8420"
   },
   "outputs": [
    {
     "data": {
      "image/png": "[encoded data removed]",
      "text/plain": [
       "<Figure size 432x288 with 1 Axes>"
      ]
     },
     "metadata": {
      "needs_background": "light",
      "tags": []
     },
     "output_type": "display_data"
    }
   ],
   "source": [
    "loss = history.history['loss']\n",
    "val_loss = history.history['val_loss']\n",
    "\n",
    "epochs = range(1,len(loss)+1)\n",
    "\n",
    "plt.plot(epochs,loss,'bo',label='Training loss')\n",
    "plt.plot(epochs,val_loss,'b',label='Validation loss')\n",
    "plt.title('Training and validation loss')\n",
    "plt.xlabel('Epochs')\n",
    "plt.ylabel('Loss')\n",
    "plt.legend()\n",
    "plt.show()"
   ]
  },
  {
   "cell_type": "code",
   "execution_count": null,
   "metadata": {
    "colab": {
     "base_uri": "https://localhost:8080/"
    },
    "id": "aDacEGMQuGAU",
    "outputId": "3bdb205f-1ef3-402c-8ce1-7586449f6ee1"
   },
   "outputs": [
    {
     "name": "stdout",
     "output_type": "stream",
     "text": [
      "[[-1.7617805e-02  8.2256505e-03]\n",
      " [-1.7617805e-02  8.2256505e-03]\n",
      " [-1.7617805e-02  8.2256505e-03]\n",
      " ...\n",
      " [-1.7617805e-02  8.2256505e-03]\n",
      " [-1.7617805e-02  8.2256505e-03]\n",
      " [-4.6696147e+03  2.9286653e+03]]\n"
     ]
    }
   ],
   "source": [
    "#test set predictions\n",
    "predictions_test = model.predict(x_test)\n",
    "print(predictions_test)"
   ]
  },
  {
   "cell_type": "code",
   "execution_count": null,
   "metadata": {
    "colab": {
     "base_uri": "https://localhost:8080/"
    },
    "id": "x1pTP4OTuKDv",
    "outputId": "7059dff4-dcd2-42f4-9492-64ea593ffce4"
   },
   "outputs": [
    {
     "name": "stdout",
     "output_type": "stream",
     "text": [
      "The Spearman's correlation coefficient is: -0.030\n",
      "The Spearman's correlation coefficient is: -0.007\n"
     ]
    }
   ],
   "source": [
    "Get_score(predictions_test, y_test)"
   ]
  },
  {
   "cell_type": "markdown",
   "metadata": {
    "id": "wB416Jb16Qkx"
   },
   "source": [
    "# Model 2: Support Vector Regressor implemented using Scikit-Learn"
   ]
  },
  {
   "cell_type": "markdown",
   "metadata": {
    "id": "HYn3Fya86aiV"
   },
   "source": [
    "## Convolution 3D Feature"
   ]
  },
  {
   "cell_type": "code",
   "execution_count": null,
   "metadata": {
    "id": "9ZJjAZXn6eML"
   },
   "outputs": [],
   "source": [
    "## Length of C3D feature is 101\n",
    "result_array = np.empty((0, 101))\n",
    "for line in c3d['c3d']:\n",
    "    result_array = np.append(result_array, np.array([line]), axis = 0)"
   ]
  },
  {
   "cell_type": "code",
   "execution_count": null,
   "metadata": {
    "colab": {
     "base_uri": "https://localhost:8080/"
    },
    "id": "4AulhzlE6y-N",
    "outputId": "52587b0c-74e8-42b7-8da7-b91d37cf8a1a"
   },
   "outputs": [
    {
     "name": "stdout",
     "output_type": "stream",
     "text": [
      "<class 'numpy.ndarray'>\n"
     ]
    },
    {
     "data": {
      "text/plain": [
       "array([[2.0249420e-02, 1.5778000e-03, 8.2625000e-04, ..., 3.3907000e-04,\n",
       "        8.4368300e-03, 4.7004000e-04],\n",
       "       [1.1800000e-04, 8.9075000e-04, 1.8769000e-04, ..., 1.5891000e-04,\n",
       "        1.0252100e-03, 2.0460000e-05],\n",
       "       [1.1765220e-02, 7.4577000e-04, 7.8353000e-04, ..., 5.3803300e-03,\n",
       "        1.0274800e-03, 1.3844800e-03],\n",
       "       ...,\n",
       "       [2.5890000e-05, 1.2192000e-04, 2.7810000e-05, ..., 7.1593200e-03,\n",
       "        4.9575200e-03, 8.9156000e-04],\n",
       "       [2.6509121e-01, 9.6539180e-02, 5.9710000e-05, ..., 1.0834000e-04,\n",
       "        1.2682000e-03, 7.1027000e-04],\n",
       "       [2.0589490e-02, 1.2214100e-03, 2.0660700e-03, ..., 8.2839000e-04,\n",
       "        4.9012800e-03, 1.1848300e-03]])"
      ]
     },
     "execution_count": 34,
     "metadata": {
      "tags": []
     },
     "output_type": "execute_result"
    }
   ],
   "source": [
    "X_arrC3D = result_array\n",
    "del result_array\n",
    "print(type(X_arrC3D))\n",
    "X_arrC3D"
   ]
  },
  {
   "cell_type": "code",
   "execution_count": null,
   "metadata": {
    "id": "qxa2_hOD7yzB"
   },
   "outputs": [],
   "source": [
    "y_short = c3d[['short-term_memorability']].values\n",
    "y_long = c3d[['long-term_memorability']].values"
   ]
  },
  {
   "cell_type": "code",
   "execution_count": null,
   "metadata": {
    "id": "Fcl12Wup9IFA"
   },
   "outputs": [],
   "source": [
    "# Splitting the dataset into the Training set and Test set\n",
    "short_x_train,short_x_test,short_y_train,short_y_test = train_test_split(X_arrC3D,y_short,test_size=0.2,random_state=42)\n",
    "long_x_train,long_x_test,long_y_train,long_y_test = train_test_split(X_arrC3D,y_long,test_size=0.2,random_state=42)"
   ]
  },
  {
   "cell_type": "markdown",
   "metadata": {
    "id": "If81DcMBAXtN"
   },
   "source": [
    "Standardizing the input.\n",
    "https://statisticsbyjim.com/regression/standardize-variables-regression/"
   ]
  },
  {
   "cell_type": "code",
   "execution_count": null,
   "metadata": {
    "id": "1JfPA6HGAkhN"
   },
   "outputs": [],
   "source": [
    "short_X = StandardScaler()\n",
    "short_y = StandardScaler()\n",
    "short_x_train = short_X.fit_transform(short_x_train)\n",
    "short_y_train = short_y.fit_transform(short_y_train)\n",
    "long_X = StandardScaler()\n",
    "long_y = StandardScaler()\n",
    "long_x_train = long_X.fit_transform(long_x_train)\n",
    "long_y_train = long_y.fit_transform(long_y_train)"
   ]
  },
  {
   "cell_type": "code",
   "execution_count": null,
   "metadata": {
    "colab": {
     "base_uri": "https://localhost:8080/"
    },
    "id": "gicEFw18A3KG",
    "outputId": "60e6835b-9a51-42dc-d19b-99afa63d9e17"
   },
   "outputs": [
    {
     "name": "stderr",
     "output_type": "stream",
     "text": [
      "/usr/local/lib/python3.7/dist-packages/sklearn/utils/validation.py:760: DataConversionWarning: A column-vector y was passed when a 1d array was expected. Please change the shape of y to (n_samples, ), for example using ravel().\n",
      "  y = column_or_1d(y, warn=True)\n",
      "/usr/local/lib/python3.7/dist-packages/sklearn/utils/validation.py:760: DataConversionWarning: A column-vector y was passed when a 1d array was expected. Please change the shape of y to (n_samples, ), for example using ravel().\n",
      "  y = column_or_1d(y, warn=True)\n"
     ]
    },
    {
     "data": {
      "text/plain": [
       "SVR(C=1.0, cache_size=200, coef0=0.0, degree=3, epsilon=0.1, gamma='scale',\n",
       "    kernel='rbf', max_iter=-1, shrinking=True, tol=0.001, verbose=False)"
      ]
     },
     "execution_count": 38,
     "metadata": {
      "tags": []
     },
     "output_type": "execute_result"
    }
   ],
   "source": [
    "short_regressor = SVR(kernel = 'rbf')\n",
    "long_regressor = SVR(kernel = 'rbf')\n",
    "short_regressor.fit(short_x_train, short_y_train)\n",
    "long_regressor.fit(long_x_train,long_y_train)"
   ]
  },
  {
   "cell_type": "code",
   "execution_count": null,
   "metadata": {
    "id": "zYKUkdfiA_DT"
   },
   "outputs": [],
   "source": [
    "short_pred = short_regressor.predict(short_x_test)\n",
    "short_pred = short_y.inverse_transform(short_pred)\n",
    "long_pred = long_regressor.predict(long_x_test)\n",
    "long_pred = long_y.inverse_transform(long_pred)"
   ]
  },
  {
   "cell_type": "code",
   "execution_count": null,
   "metadata": {
    "colab": {
     "base_uri": "https://localhost:8080/"
    },
    "id": "fq2dyEUxBIEF",
    "outputId": "9d5d4056-2826-4232-b052-5619af984c64"
   },
   "outputs": [
    {
     "name": "stdout",
     "output_type": "stream",
     "text": [
      "The Spearman's correlation coefficient is: 0.207\n",
      "The Spearman's correlation coefficient is: 0.075\n"
     ]
    }
   ],
   "source": [
    "Get_score(short_pred, short_y_test)\n",
    "Get_score(long_pred, long_y_test)"
   ]
  },
  {
   "cell_type": "markdown",
   "metadata": {
    "id": "4H50mtdSBZVy"
   },
   "source": [
    "## HMP Feature"
   ]
  },
  {
   "cell_type": "code",
   "execution_count": null,
   "metadata": {
    "id": "vwwVFkeYBg3G"
   },
   "outputs": [],
   "source": [
    "# Reusing same variable names to reduce memory.\n",
    "result_array = np.empty((0, 6075))\n",
    "for line in hmp['hmp']:\n",
    "    result_array = np.append(result_array, np.array([line]), axis = 0)"
   ]
  },
  {
   "cell_type": "code",
   "execution_count": null,
   "metadata": {
    "colab": {
     "base_uri": "https://localhost:8080/"
    },
    "id": "mM_PYYFbBhe1",
    "outputId": "f94c9c77-8d3f-485b-9f6a-25cec2d3699d"
   },
   "outputs": [
    {
     "name": "stdout",
     "output_type": "stream",
     "text": [
      "<class 'numpy.ndarray'>\n"
     ]
    },
    {
     "data": {
      "text/plain": [
       "array([[1.25563e-01, 2.40360e-02, 3.14000e-04, ..., 8.60000e-05,\n",
       "        5.80000e-04, 0.00000e+00],\n",
       "       [7.52600e-03, 1.42100e-03, 6.80000e-05, ..., 2.20000e-04,\n",
       "        7.62000e-04, 1.22400e-03],\n",
       "       [1.09584e-01, 1.89780e-02, 2.89000e-04, ..., 5.20000e-05,\n",
       "        2.58000e-04, 2.15000e-04],\n",
       "       ...,\n",
       "       [2.31390e-02, 7.43500e-03, 3.22000e-04, ..., 7.56000e-04,\n",
       "        7.38000e-04, 2.14000e-04],\n",
       "       [1.49000e-02, 4.60700e-03, 9.90000e-05, ..., 6.40000e-05,\n",
       "        6.40000e-05, 1.10000e-05],\n",
       "       [4.15920e-02, 1.30470e-02, 4.48000e-04, ..., 2.89000e-04,\n",
       "        9.88000e-04, 1.61000e-04]])"
      ]
     },
     "execution_count": 42,
     "metadata": {
      "tags": []
     },
     "output_type": "execute_result"
    }
   ],
   "source": [
    "X_arrHMP = result_array\n",
    "del result_array\n",
    "print(type(X_arrHMP))\n",
    "X_arrHMP"
   ]
  },
  {
   "cell_type": "code",
   "execution_count": null,
   "metadata": {
    "id": "-BcVypirBnZg"
   },
   "outputs": [],
   "source": [
    "y_short = hmp[['short-term_memorability']].values\n",
    "y_long = hmp[['long-term_memorability']].values"
   ]
  },
  {
   "cell_type": "code",
   "execution_count": null,
   "metadata": {
    "id": "8C_0lDsrBrk-"
   },
   "outputs": [],
   "source": [
    "# Splitting the dataset into the Training set and Test set\n",
    "short_x_train,short_x_test,short_y_train,short_y_test = train_test_split(X_arrHMP,y_short,test_size=0.2,random_state=42)\n",
    "long_x_train,long_x_test,long_y_train,long_y_test = train_test_split(X_arrHMP,y_long,test_size=0.2,random_state=42)"
   ]
  },
  {
   "cell_type": "code",
   "execution_count": null,
   "metadata": {
    "id": "1M617gTQBtq6"
   },
   "outputs": [],
   "source": [
    "short_X = StandardScaler()\n",
    "short_y = StandardScaler()\n",
    "short_x_train = short_X.fit_transform(short_x_train)\n",
    "short_y_train = short_y.fit_transform(short_y_train)\n",
    "long_X = StandardScaler()\n",
    "long_y = StandardScaler()\n",
    "long_x_train = long_X.fit_transform(long_x_train)\n",
    "long_y_train = long_y.fit_transform(long_y_train)"
   ]
  },
  {
   "cell_type": "code",
   "execution_count": null,
   "metadata": {
    "colab": {
     "base_uri": "https://localhost:8080/"
    },
    "id": "Klm-nONUBzDd",
    "outputId": "c8d58409-569e-4054-94c6-ae5f2ba76411"
   },
   "outputs": [
    {
     "name": "stderr",
     "output_type": "stream",
     "text": [
      "/usr/local/lib/python3.7/dist-packages/sklearn/utils/validation.py:760: DataConversionWarning: A column-vector y was passed when a 1d array was expected. Please change the shape of y to (n_samples, ), for example using ravel().\n",
      "  y = column_or_1d(y, warn=True)\n",
      "/usr/local/lib/python3.7/dist-packages/sklearn/utils/validation.py:760: DataConversionWarning: A column-vector y was passed when a 1d array was expected. Please change the shape of y to (n_samples, ), for example using ravel().\n",
      "  y = column_or_1d(y, warn=True)\n"
     ]
    },
    {
     "data": {
      "text/plain": [
       "SVR(C=1.0, cache_size=200, coef0=0.0, degree=3, epsilon=0.1, gamma='scale',\n",
       "    kernel='rbf', max_iter=-1, shrinking=True, tol=0.001, verbose=False)"
      ]
     },
     "execution_count": 46,
     "metadata": {
      "tags": []
     },
     "output_type": "execute_result"
    }
   ],
   "source": [
    "short_regressor = SVR(kernel = 'rbf')\n",
    "long_regressor = SVR(kernel = 'rbf')\n",
    "short_regressor.fit(short_x_train, short_y_train)\n",
    "long_regressor.fit(long_x_train,long_y_train)"
   ]
  },
  {
   "cell_type": "code",
   "execution_count": null,
   "metadata": {
    "id": "UdfWixptB1_s"
   },
   "outputs": [],
   "source": [
    "short_pred = short_regressor.predict(short_x_test)\n",
    "short_pred = short_y.inverse_transform(short_pred)\n",
    "long_pred = long_regressor.predict(long_x_test)\n",
    "long_pred = long_y.inverse_transform(long_pred)"
   ]
  },
  {
   "cell_type": "code",
   "execution_count": null,
   "metadata": {
    "colab": {
     "base_uri": "https://localhost:8080/"
    },
    "id": "cm5LMZlhB4AD",
    "outputId": "dbab15ee-32ad-48d9-ee09-6c5b48a99c81"
   },
   "outputs": [
    {
     "name": "stdout",
     "output_type": "stream",
     "text": [
      "The Spearman's correlation coefficient is: 0.145\n",
      "The Spearman's correlation coefficient is: 0.063\n"
     ]
    }
   ],
   "source": [
    "Get_score(short_pred, short_y_test)\n",
    "Get_score(long_pred, long_y_test)"
   ]
  },
  {
   "cell_type": "markdown",
   "metadata": {
    "id": "fbEhRiyMDj25"
   },
   "source": [
    "## LBP Feature"
   ]
  },
  {
   "cell_type": "code",
   "execution_count": null,
   "metadata": {
    "colab": {
     "base_uri": "https://localhost:8080/"
    },
    "id": "AJS21Yu6DpFY",
    "outputId": "f3b398dd-9883-469e-fdc2-ee508363adf2"
   },
   "outputs": [
    {
     "name": "stderr",
     "output_type": "stream",
     "text": [
      "/usr/local/lib/python3.7/dist-packages/ipykernel_launcher.py:6: SettingWithCopyWarning: \n",
      "A value is trying to be set on a copy of a slice from a DataFrame\n",
      "\n",
      "See the caveats in the documentation: https://pandas.pydata.org/pandas-docs/stable/user_guide/indexing.html#returning-a-view-versus-a-copy\n",
      "  \n"
     ]
    }
   ],
   "source": [
    "# Reusing same variable names to reduce memory.\n",
    "result_array = np.empty((0, 366))\n",
    "\n",
    "for i in lbp.index:\n",
    "  while len(lbp['video-0'][i]) < 122:\n",
    "    lbp['video-0'][i] = np.append((lbp['video-0'][i]), 0)\n",
    "  while len(lbp['video-56'][i]) < 122:\n",
    "    lbp['video-56'][i] = np.append((lbp['video-56'][i]), 0)\n",
    "  while len(lbp['video-112'][i]) < 122:\n",
    "    lbp['video-112'][i] = np.append((lbp['video-112'][i]), 0)\n",
    "  res = np.hstack((lbp['video-0'][i], lbp['video-56'][i], lbp['video-112'][i]))\n",
    "  result_array = np.append(result_array, np.array([res]), axis = 0)"
   ]
  },
  {
   "cell_type": "code",
   "execution_count": null,
   "metadata": {
    "colab": {
     "base_uri": "https://localhost:8080/"
    },
    "id": "yzptiDQvDrOd",
    "outputId": "9ab5896d-2c56-43de-a06b-b52bff43a212"
   },
   "outputs": [
    {
     "name": "stdout",
     "output_type": "stream",
     "text": [
      "<class 'numpy.ndarray'>\n"
     ]
    },
    {
     "data": {
      "text/plain": [
       "array([[0.00966435, 0.00291811, 0.00219425, ..., 0.00153356, 0.02053385,\n",
       "        0.46106385],\n",
       "       [0.01084008, 0.00189525, 0.00154128, ..., 0.00201196, 0.1233642 ,\n",
       "        0.48225502],\n",
       "       [0.01163436, 0.00431472, 0.00321277, ..., 0.00585455, 0.22441985,\n",
       "        0.53576003],\n",
       "       ...,\n",
       "       [0.01986834, 0.00499807, 0.00462867, ..., 0.00459732, 0.02559655,\n",
       "        0.77324701],\n",
       "       [0.01122299, 0.00182677, 0.00189284, ..., 0.00292197, 0.03341098,\n",
       "        0.53772618],\n",
       "       [0.00933883, 0.00161941, 0.00137346, ..., 0.00222029, 0.03523389,\n",
       "        0.49374518]])"
      ]
     },
     "execution_count": 50,
     "metadata": {
      "tags": []
     },
     "output_type": "execute_result"
    }
   ],
   "source": [
    "X_arrLBP = result_array\n",
    "del result_array\n",
    "print(type(X_arrLBP))\n",
    "X_arrLBP"
   ]
  },
  {
   "cell_type": "code",
   "execution_count": null,
   "metadata": {
    "id": "g5RGN65NDvHT"
   },
   "outputs": [],
   "source": [
    "y_short = lbp[['short-term_memorability']].values\n",
    "y_long = lbp[['long-term_memorability']].values"
   ]
  },
  {
   "cell_type": "code",
   "execution_count": null,
   "metadata": {
    "id": "f5gEFR8kD1XT"
   },
   "outputs": [],
   "source": [
    "# Splitting the dataset into the Training set and Test set\n",
    "short_x_train,short_x_test,short_y_train,short_y_test = train_test_split(X_arrLBP,y_short,test_size=0.2,random_state=42)\n",
    "long_x_train,long_x_test,long_y_train,long_y_test = train_test_split(X_arrLBP,y_long,test_size=0.2,random_state=42)"
   ]
  },
  {
   "cell_type": "code",
   "execution_count": null,
   "metadata": {
    "id": "5MhrGNkXD4vv"
   },
   "outputs": [],
   "source": [
    "short_X = StandardScaler()\n",
    "short_y = StandardScaler()\n",
    "short_x_train = short_X.fit_transform(short_x_train)\n",
    "short_y_train = short_y.fit_transform(short_y_train)\n",
    "long_X = StandardScaler()\n",
    "long_y = StandardScaler()\n",
    "long_x_train = long_X.fit_transform(long_x_train)\n",
    "long_y_train = long_y.fit_transform(long_y_train)"
   ]
  },
  {
   "cell_type": "code",
   "execution_count": null,
   "metadata": {
    "colab": {
     "base_uri": "https://localhost:8080/"
    },
    "id": "iwx7-stLD7Mz",
    "outputId": "40d315eb-5dee-49c8-b68f-4400a88e4088"
   },
   "outputs": [
    {
     "name": "stderr",
     "output_type": "stream",
     "text": [
      "/usr/local/lib/python3.7/dist-packages/sklearn/utils/validation.py:760: DataConversionWarning: A column-vector y was passed when a 1d array was expected. Please change the shape of y to (n_samples, ), for example using ravel().\n",
      "  y = column_or_1d(y, warn=True)\n",
      "/usr/local/lib/python3.7/dist-packages/sklearn/utils/validation.py:760: DataConversionWarning: A column-vector y was passed when a 1d array was expected. Please change the shape of y to (n_samples, ), for example using ravel().\n",
      "  y = column_or_1d(y, warn=True)\n"
     ]
    },
    {
     "data": {
      "text/plain": [
       "SVR(C=1.0, cache_size=200, coef0=0.0, degree=3, epsilon=0.1, gamma='scale',\n",
       "    kernel='rbf', max_iter=-1, shrinking=True, tol=0.001, verbose=False)"
      ]
     },
     "execution_count": 54,
     "metadata": {
      "tags": []
     },
     "output_type": "execute_result"
    }
   ],
   "source": [
    "short_regressor = SVR(kernel = 'rbf')\n",
    "long_regressor = SVR(kernel = 'rbf')\n",
    "short_regressor.fit(short_x_train, short_y_train)\n",
    "long_regressor.fit(long_x_train,long_y_train)"
   ]
  },
  {
   "cell_type": "code",
   "execution_count": null,
   "metadata": {
    "id": "mTKCdwoAD9Io"
   },
   "outputs": [],
   "source": [
    "short_pred = short_regressor.predict(short_x_test)\n",
    "short_pred = short_y.inverse_transform(short_pred)\n",
    "long_pred = long_regressor.predict(long_x_test)\n",
    "long_pred = long_y.inverse_transform(long_pred)"
   ]
  },
  {
   "cell_type": "code",
   "execution_count": null,
   "metadata": {
    "colab": {
     "base_uri": "https://localhost:8080/"
    },
    "id": "U7HFF5t1D_8_",
    "outputId": "f6c3f8c3-c425-4df2-e511-d9777d66e0aa"
   },
   "outputs": [
    {
     "name": "stdout",
     "output_type": "stream",
     "text": [
      "The Spearman's correlation coefficient is: 0.211\n",
      "The Spearman's correlation coefficient is: 0.074\n"
     ]
    }
   ],
   "source": [
    "Get_score(short_pred, short_y_test)\n",
    "Get_score(long_pred, long_y_test)"
   ]
  },
  {
   "cell_type": "markdown",
   "metadata": {
    "id": "SKg_6_nyECVT"
   },
   "source": [
    "## InceptionV3"
   ]
  },
  {
   "cell_type": "code",
   "execution_count": null,
   "metadata": {
    "id": "4bX7ztqsEEqm"
   },
   "outputs": [],
   "source": [
    "# Reusing same variable names to reduce memory.\n",
    "# Reusing same variable names to reduce memory.\n",
    "result_array = np.empty((0, 3000))\n",
    "\n",
    "for i in inceptionv3.index:\n",
    "  while len(inceptionv3['video-0'][i]) < 1000:\n",
    "    inceptionv3['video-0'][i] = np.append((inceptionv3['video-0'][i]), 0)\n",
    "  while len(inceptionv3['video-56'][i]) < 1000:\n",
    "    inceptionv3['video-56'][i] = np.append((inceptionv3['video-56'][i]), 0)\n",
    "  while len(inceptionv3['video-112'][i]) < 1000:\n",
    "    inceptionv3['video-112'][i] = np.append((inceptionv3['video-112'][i]), 0)\n",
    "  res = np.hstack((inceptionv3['video-0'][i], inceptionv3['video-56'][i], inceptionv3['video-112'][i]))\n",
    "  result_array = np.append(result_array, np.array([res]), axis = 0)"
   ]
  },
  {
   "cell_type": "code",
   "execution_count": null,
   "metadata": {
    "colab": {
     "base_uri": "https://localhost:8080/"
    },
    "id": "zh6t9mM3EJ75",
    "outputId": "9502a2dc-f560-4469-9068-150d868f816f"
   },
   "outputs": [
    {
     "name": "stdout",
     "output_type": "stream",
     "text": [
      "<class 'numpy.ndarray'>\n"
     ]
    },
    {
     "data": {
      "text/plain": [
       "array([[2.926813e-18, 3.022254e-19, 4.139101e-19, ..., 3.913046e-23,\n",
       "        2.295526e-20, 2.015046e-17],\n",
       "       [0.000000e+00, 0.000000e+00, 0.000000e+00, ..., 0.000000e+00,\n",
       "        0.000000e+00, 0.000000e+00],\n",
       "       [1.619819e-33, 0.000000e+00, 0.000000e+00, ..., 0.000000e+00,\n",
       "        0.000000e+00, 0.000000e+00],\n",
       "       ...,\n",
       "       [0.000000e+00, 0.000000e+00, 0.000000e+00, ..., 0.000000e+00,\n",
       "        0.000000e+00, 0.000000e+00],\n",
       "       [7.332495e-25, 2.549710e-34, 7.246693e-37, ..., 0.000000e+00,\n",
       "        0.000000e+00, 6.700695e-37],\n",
       "       [0.000000e+00, 0.000000e+00, 0.000000e+00, ..., 0.000000e+00,\n",
       "        0.000000e+00, 0.000000e+00]])"
      ]
     },
     "execution_count": 58,
     "metadata": {
      "tags": []
     },
     "output_type": "execute_result"
    }
   ],
   "source": [
    "X_arr_inception = result_array\n",
    "del result_array\n",
    "print(type(X_arr_inception))\n",
    "X_arr_inception"
   ]
  },
  {
   "cell_type": "code",
   "execution_count": null,
   "metadata": {
    "id": "0jPBdiMLEODM"
   },
   "outputs": [],
   "source": [
    "y_short = inceptionv3[['short-term_memorability']].values\n",
    "y_long = inceptionv3[['long-term_memorability']].values"
   ]
  },
  {
   "cell_type": "code",
   "execution_count": null,
   "metadata": {
    "id": "tZcfecUqET9s"
   },
   "outputs": [],
   "source": [
    "# Splitting the dataset into the Training set and Test set\n",
    "short_x_train,short_x_test,short_y_train,short_y_test = train_test_split(X_arr_inception,y_short,test_size=0.2,random_state=42)\n",
    "long_x_train,long_x_test,long_y_train,long_y_test = train_test_split(X_arr_inception,y_long,test_size=0.2,random_state=42)"
   ]
  },
  {
   "cell_type": "code",
   "execution_count": null,
   "metadata": {
    "id": "LuJI62YzEX1p"
   },
   "outputs": [],
   "source": [
    "short_X = StandardScaler()\n",
    "short_y = StandardScaler()\n",
    "short_x_train = short_X.fit_transform(short_x_train)\n",
    "short_y_train = short_y.fit_transform(short_y_train)\n",
    "long_X = StandardScaler()\n",
    "long_y = StandardScaler()\n",
    "long_x_train = long_X.fit_transform(long_x_train)\n",
    "long_y_train = long_y.fit_transform(long_y_train)"
   ]
  },
  {
   "cell_type": "code",
   "execution_count": null,
   "metadata": {
    "colab": {
     "base_uri": "https://localhost:8080/"
    },
    "id": "4iQPQlAYEZ-X",
    "outputId": "648b3e80-1835-450e-9879-d5b8ed215000"
   },
   "outputs": [
    {
     "name": "stderr",
     "output_type": "stream",
     "text": [
      "/usr/local/lib/python3.7/dist-packages/sklearn/utils/validation.py:760: DataConversionWarning: A column-vector y was passed when a 1d array was expected. Please change the shape of y to (n_samples, ), for example using ravel().\n",
      "  y = column_or_1d(y, warn=True)\n",
      "/usr/local/lib/python3.7/dist-packages/sklearn/utils/validation.py:760: DataConversionWarning: A column-vector y was passed when a 1d array was expected. Please change the shape of y to (n_samples, ), for example using ravel().\n",
      "  y = column_or_1d(y, warn=True)\n"
     ]
    },
    {
     "data": {
      "text/plain": [
       "SVR(C=1.0, cache_size=200, coef0=0.0, degree=3, epsilon=0.1, gamma='scale',\n",
       "    kernel='rbf', max_iter=-1, shrinking=True, tol=0.001, verbose=False)"
      ]
     },
     "execution_count": 62,
     "metadata": {
      "tags": []
     },
     "output_type": "execute_result"
    }
   ],
   "source": [
    "short_regressor = SVR(kernel = 'rbf')\n",
    "long_regressor = SVR(kernel = 'rbf')\n",
    "short_regressor.fit(short_x_train, short_y_train)\n",
    "long_regressor.fit(long_x_train,long_y_train)"
   ]
  },
  {
   "cell_type": "code",
   "execution_count": null,
   "metadata": {
    "id": "BnaOv2n6EeTf"
   },
   "outputs": [],
   "source": [
    "short_pred = short_regressor.predict(short_x_test)\n",
    "short_pred = short_y.inverse_transform(short_pred)\n",
    "long_pred = long_regressor.predict(long_x_test)\n",
    "long_pred = long_y.inverse_transform(long_pred)"
   ]
  },
  {
   "cell_type": "code",
   "execution_count": null,
   "metadata": {
    "colab": {
     "base_uri": "https://localhost:8080/"
    },
    "id": "lmKcFhL0EgN6",
    "outputId": "22eecb7b-e92b-4b23-a152-22af7478716f"
   },
   "outputs": [
    {
     "name": "stdout",
     "output_type": "stream",
     "text": [
      "The Spearman's correlation coefficient is: 0.143\n",
      "The Spearman's correlation coefficient is: 0.029\n"
     ]
    }
   ],
   "source": [
    "Get_score(short_pred, short_y_test)\n",
    "Get_score(long_pred, long_y_test)"
   ]
  },
  {
   "cell_type": "markdown",
   "metadata": {
    "id": "rJARvEBm0dT_"
   },
   "source": [
    "## Aesthetics"
   ]
  },
  {
   "cell_type": "code",
   "execution_count": null,
   "metadata": {
    "id": "wM4dXqWVmLbM"
   },
   "outputs": [],
   "source": [
    "result_array = np.empty((0, 218))\n",
    "\n",
    "for i in aesthetics.index:\n",
    "  while len(aesthetics['aesthetic_feat_dev-set_mean'][i]) < 109:\n",
    "    aesthetics['aesthetic_feat_dev-set_mean'][i] = np.append((aesthetics['aesthetic_feat_dev-set_mean'][i]), 0)\n",
    "  while len(aesthetics['aesthetic_feat_dev-set_median'][i]) < 109:\n",
    "    aesthetics['aesthetic_feat_dev-set_median'][i] = np.append((aesthetics['aesthetic_feat_dev-set_median'][i]), 0)\n",
    "  res = np.hstack((aesthetics['aesthetic_feat_dev-set_mean'][i], aesthetics['aesthetic_feat_dev-set_median'][i]))\n",
    "  result_array = np.append(result_array, np.array([res]), axis = 0)"
   ]
  },
  {
   "cell_type": "code",
   "execution_count": null,
   "metadata": {
    "colab": {
     "base_uri": "https://localhost:8080/"
    },
    "id": "Dpen6BIomOXs",
    "outputId": "428aca3f-ac63-4ebf-81a8-1361b92287d1"
   },
   "outputs": [
    {
     "name": "stdout",
     "output_type": "stream",
     "text": [
      "<class 'numpy.ndarray'>\n"
     ]
    },
    {
     "data": {
      "text/plain": [
       "array([[ 0.18389 ,  0.713733,  0.202302, ...,  0.129661,  0.412381,\n",
       "         0.788761],\n",
       "       [ 0.147255,  0.550718,  0.460299, ...,  0.692224,  0.762354,\n",
       "        -0.561793],\n",
       "       [ 0.063933,  0.826933,  0.214129, ...,  0.438261, -0.21956 ,\n",
       "         0.276687],\n",
       "       ...,\n",
       "       [ 0.178087,  0.220956,  0.671676, ...,  0.38719 ,  0.244293,\n",
       "         0.341741],\n",
       "       [ 0.113677,  0.585402,  0.496425, ...,  0.00308 ,  0.365075,\n",
       "        -1.04308 ],\n",
       "       [ 0.554591,  0.134659,  0.691026, ...,  0.783961,  0.621886,\n",
       "        -0.569049]])"
      ]
     },
     "execution_count": 82,
     "metadata": {
      "tags": []
     },
     "output_type": "execute_result"
    }
   ],
   "source": [
    "X_arr_aesthetics = result_array\n",
    "del result_array\n",
    "print(type(X_arr_aesthetics))\n",
    "X_arr_aesthetics"
   ]
  },
  {
   "cell_type": "code",
   "execution_count": null,
   "metadata": {
    "colab": {
     "base_uri": "https://localhost:8080/"
    },
    "id": "cq7hR-Qa-hXP",
    "outputId": "fdd0d24a-e0dd-4f45-a315-fe9c6e444000"
   },
   "outputs": [
    {
     "data": {
      "text/plain": [
       "array([[0.924],\n",
       "       [0.923],\n",
       "       [0.863],\n",
       "       ...,\n",
       "       [0.713],\n",
       "       [0.954],\n",
       "       [0.953]])"
      ]
     },
     "execution_count": 83,
     "metadata": {
      "tags": []
     },
     "output_type": "execute_result"
    }
   ],
   "source": [
    "aesthetics[['short-term_memorability']].values"
   ]
  },
  {
   "cell_type": "code",
   "execution_count": null,
   "metadata": {
    "id": "rtZYakfimR7T"
   },
   "outputs": [],
   "source": [
    "y_short = aesthetics[['short-term_memorability']].values\n",
    "y_long = aesthetics[['long-term_memorability']].values"
   ]
  },
  {
   "cell_type": "code",
   "execution_count": null,
   "metadata": {
    "id": "TgxdXaGumXgC"
   },
   "outputs": [],
   "source": [
    "# Splitting the dataset into the Training set and Test set\n",
    "short_x_train,short_x_test,short_y_train,short_y_test = train_test_split(X_arr_aesthetics,y_short,test_size=0.2,random_state=42)\n",
    "long_x_train,long_x_test,long_y_train,long_y_test = train_test_split(X_arr_aesthetics,y_long,test_size=0.2,random_state=42)"
   ]
  },
  {
   "cell_type": "code",
   "execution_count": null,
   "metadata": {
    "id": "TrrYE6RemePo"
   },
   "outputs": [],
   "source": [
    "short_X = StandardScaler()\n",
    "short_y = StandardScaler()\n",
    "short_x_train = short_X.fit_transform(short_x_train)\n",
    "short_y_train = short_y.fit_transform(short_y_train)\n",
    "long_X = StandardScaler()\n",
    "long_y = StandardScaler()\n",
    "long_x_train = long_X.fit_transform(long_x_train)\n",
    "long_y_train = long_y.fit_transform(long_y_train)"
   ]
  },
  {
   "cell_type": "code",
   "execution_count": null,
   "metadata": {
    "colab": {
     "base_uri": "https://localhost:8080/"
    },
    "id": "rvq5w9UPmhWP",
    "outputId": "3ea642fe-e78c-4171-c542-d773deaaeb95"
   },
   "outputs": [
    {
     "data": {
      "text/plain": [
       "SVR(C=1.0, cache_size=200, coef0=0.0, degree=3, epsilon=0.1, gamma='scale',\n",
       "    kernel='rbf', max_iter=-1, shrinking=True, tol=0.001, verbose=False)"
      ]
     },
     "execution_count": 96,
     "metadata": {
      "tags": []
     },
     "output_type": "execute_result"
    }
   ],
   "source": [
    "short_regressor = SVR(kernel = 'rbf')\n",
    "long_regressor = SVR(kernel = 'rbf')\n",
    "short_regressor.fit(short_x_train, short_y_train.ravel())\n",
    "long_regressor.fit(long_x_train,long_y_train.ravel())"
   ]
  },
  {
   "cell_type": "code",
   "execution_count": null,
   "metadata": {
    "id": "SLonlaezmov2"
   },
   "outputs": [],
   "source": [
    "short_pred = short_regressor.predict(short_x_test)\n",
    "short_pred = short_y.inverse_transform(short_pred)\n",
    "long_pred = long_regressor.predict(long_x_test)\n",
    "long_pred = long_y.inverse_transform(long_pred)"
   ]
  },
  {
   "cell_type": "code",
   "execution_count": null,
   "metadata": {
    "colab": {
     "base_uri": "https://localhost:8080/"
    },
    "id": "HgGp14j8mlAh",
    "outputId": "41e2f697-d07f-42f5-b2df-b565630ad4ae"
   },
   "outputs": [
    {
     "name": "stdout",
     "output_type": "stream",
     "text": [
      "The Spearman's correlation coefficient is: nan\n",
      "The Spearman's correlation coefficient is: nan\n"
     ]
    }
   ],
   "source": [
    "Get_score(short_pred, short_y_test)\n",
    "Get_score(long_pred, long_y_test)"
   ]
  },
  {
   "cell_type": "markdown",
   "metadata": {
    "id": "u-Uz5uaiuq-i"
   },
   "source": [
    "## ColorHistogram"
   ]
  },
  {
   "cell_type": "code",
   "execution_count": null,
   "metadata": {
    "colab": {
     "base_uri": "https://localhost:8080/"
    },
    "id": "yCNRYDFguxEZ",
    "outputId": "262181bc-6772-4252-9ebe-fa897cbfd5af"
   },
   "outputs": [
    {
     "name": "stderr",
     "output_type": "stream",
     "text": [
      "/usr/local/lib/python3.7/dist-packages/ipykernel_launcher.py:5: SettingWithCopyWarning: \n",
      "A value is trying to be set on a copy of a slice from a DataFrame\n",
      "\n",
      "See the caveats in the documentation: https://pandas.pydata.org/pandas-docs/stable/user_guide/indexing.html#returning-a-view-versus-a-copy\n",
      "  \"\"\"\n",
      "/usr/local/lib/python3.7/dist-packages/ipykernel_launcher.py:6: SettingWithCopyWarning: \n",
      "A value is trying to be set on a copy of a slice from a DataFrame\n",
      "\n",
      "See the caveats in the documentation: https://pandas.pydata.org/pandas-docs/stable/user_guide/indexing.html#returning-a-view-versus-a-copy\n",
      "  \n",
      "/usr/local/lib/python3.7/dist-packages/ipykernel_launcher.py:7: SettingWithCopyWarning: \n",
      "A value is trying to be set on a copy of a slice from a DataFrame\n",
      "\n",
      "See the caveats in the documentation: https://pandas.pydata.org/pandas-docs/stable/user_guide/indexing.html#returning-a-view-versus-a-copy\n",
      "  import sys\n"
     ]
    }
   ],
   "source": [
    "# Reusing same variable names to reduce memory.\n",
    "result_array = np.empty((0, 768))\n",
    "\n",
    "for i in ch.index:\n",
    "  ch['video-0'][i] = ch['video-0'][i][0] + ch['video-0'][i][1] + ch['video-0'][i][2]\n",
    "  ch['video-56'][i] = ch['video-56'][i][0] + ch['video-56'][i][1] + ch['video-56'][i][2]\n",
    "  ch['video-112'][i] = ch['video-112'][i][0] + ch['video-112'][i][1] + ch['video-112'][i][2]\n",
    "  res = np.hstack((ch['video-0'][i], ch['video-56'][i], ch['video-112'][i]))\n",
    "  result_array = np.append(result_array, np.array([res]), axis = 0)"
   ]
  },
  {
   "cell_type": "code",
   "execution_count": null,
   "metadata": {
    "colab": {
     "base_uri": "https://localhost:8080/"
    },
    "id": "ESHZxtDUu0Kj",
    "outputId": "a005ad71-d0bb-489f-d337-60692674c460"
   },
   "outputs": [
    {
     "name": "stdout",
     "output_type": "stream",
     "text": [
      "<class 'numpy.ndarray'>\n"
     ]
    },
    {
     "data": {
      "text/plain": [
       "array([[8.54550e+04, 1.74820e+04, 1.61940e+04, ..., 1.43900e+04,\n",
       "        2.09500e+03, 3.16360e+04],\n",
       "       [6.51922e+05, 2.05142e+05, 2.40695e+05, ..., 0.00000e+00,\n",
       "        0.00000e+00, 0.00000e+00],\n",
       "       [1.56000e+02, 6.40000e+01, 9.30000e+01, ..., 1.02950e+04,\n",
       "        1.99100e+03, 1.16530e+04],\n",
       "       ...,\n",
       "       [2.00000e+01, 7.00000e+00, 1.70000e+01, ..., 7.18000e+02,\n",
       "        2.31000e+02, 1.67000e+02],\n",
       "       [7.02000e+02, 2.59000e+02, 3.56000e+02, ..., 2.58900e+03,\n",
       "        7.32000e+02, 1.39610e+04],\n",
       "       [0.00000e+00, 0.00000e+00, 0.00000e+00, ..., 1.91000e+02,\n",
       "        1.47000e+02, 8.82000e+02]])"
      ]
     },
     "execution_count": 74,
     "metadata": {
      "tags": []
     },
     "output_type": "execute_result"
    }
   ],
   "source": [
    "X_arr_ch = result_array\n",
    "del result_array\n",
    "print(type(X_arr_ch))\n",
    "X_arr_ch"
   ]
  },
  {
   "cell_type": "code",
   "execution_count": null,
   "metadata": {
    "id": "0xRGkFWUvEXO"
   },
   "outputs": [],
   "source": [
    "y_short = ch[['short-term_memorability']].values\n",
    "y_long = ch[['long-term_memorability']].values"
   ]
  },
  {
   "cell_type": "code",
   "execution_count": null,
   "metadata": {
    "id": "mEE9h9cZvJeI"
   },
   "outputs": [],
   "source": [
    "# Splitting the dataset into the Training set and Test set\n",
    "short_x_train,short_x_test,short_y_train,short_y_test = train_test_split(X_arr_ch,y_short,test_size=0.2,random_state=42)\n",
    "long_x_train,long_x_test,long_y_train,long_y_test = train_test_split(X_arr_ch,y_long,test_size=0.2,random_state=42)"
   ]
  },
  {
   "cell_type": "code",
   "execution_count": null,
   "metadata": {
    "id": "eHxbWIUKvNRb"
   },
   "outputs": [],
   "source": [
    "short_X = StandardScaler()\n",
    "short_y = StandardScaler()\n",
    "short_x_train = short_X.fit_transform(short_x_train)\n",
    "short_y_train = short_y.fit_transform(short_y_train)\n",
    "long_X = StandardScaler()\n",
    "long_y = StandardScaler()\n",
    "long_x_train = long_X.fit_transform(long_x_train)\n",
    "long_y_train = long_y.fit_transform(long_y_train)"
   ]
  },
  {
   "cell_type": "code",
   "execution_count": null,
   "metadata": {
    "colab": {
     "base_uri": "https://localhost:8080/"
    },
    "id": "6-ByuXEkvQgJ",
    "outputId": "4e81e0ac-4ccf-4c59-bbdf-feba012524d1"
   },
   "outputs": [
    {
     "name": "stderr",
     "output_type": "stream",
     "text": [
      "/usr/local/lib/python3.7/dist-packages/sklearn/utils/validation.py:760: DataConversionWarning: A column-vector y was passed when a 1d array was expected. Please change the shape of y to (n_samples, ), for example using ravel().\n",
      "  y = column_or_1d(y, warn=True)\n",
      "/usr/local/lib/python3.7/dist-packages/sklearn/utils/validation.py:760: DataConversionWarning: A column-vector y was passed when a 1d array was expected. Please change the shape of y to (n_samples, ), for example using ravel().\n",
      "  y = column_or_1d(y, warn=True)\n"
     ]
    },
    {
     "data": {
      "text/plain": [
       "SVR(C=1.0, cache_size=200, coef0=0.0, degree=3, epsilon=0.1, gamma='scale',\n",
       "    kernel='rbf', max_iter=-1, shrinking=True, tol=0.001, verbose=False)"
      ]
     },
     "execution_count": 78,
     "metadata": {
      "tags": []
     },
     "output_type": "execute_result"
    }
   ],
   "source": [
    "short_regressor = SVR(kernel = 'rbf')\n",
    "long_regressor = SVR(kernel = 'rbf')\n",
    "short_regressor.fit(short_x_train, short_y_train)\n",
    "long_regressor.fit(long_x_train,long_y_train)"
   ]
  },
  {
   "cell_type": "code",
   "execution_count": null,
   "metadata": {
    "id": "NVoc6YRpvUsn"
   },
   "outputs": [],
   "source": [
    "short_pred = short_regressor.predict(short_x_test)\n",
    "short_pred = short_y.inverse_transform(short_pred)\n",
    "long_pred = long_regressor.predict(long_x_test)\n",
    "long_pred = long_y.inverse_transform(long_pred)"
   ]
  },
  {
   "cell_type": "code",
   "execution_count": null,
   "metadata": {
    "colab": {
     "base_uri": "https://localhost:8080/"
    },
    "id": "6opVHzZHvX5U",
    "outputId": "aceedee2-6a1f-472c-a5ba-782accf5a3f8"
   },
   "outputs": [
    {
     "name": "stdout",
     "output_type": "stream",
     "text": [
      "The Spearman's correlation coefficient is: nan\n",
      "The Spearman's correlation coefficient is: nan\n"
     ]
    }
   ],
   "source": [
    "Get_score(short_pred, short_y_test)\n",
    "Get_score(long_pred, long_y_test)"
   ]
  },
  {
   "cell_type": "markdown",
   "metadata": {
    "id": "pcie_WlkayNJ"
   },
   "source": [
    "# Model 3: Random Forest Regressor with n-estimator = 100 using Scikit-Learn"
   ]
  },
  {
   "cell_type": "markdown",
   "metadata": {
    "id": "lE3HT7iPa--G"
   },
   "source": [
    "## Convolution 3D Feature"
   ]
  },
  {
   "cell_type": "code",
   "execution_count": null,
   "metadata": {
    "id": "A0hCGHYbbZZc"
   },
   "outputs": [],
   "source": [
    "## Length of C3D feature is 101\n",
    "result_array = np.empty((0, 101))\n",
    "for line in c3d['c3d']:\n",
    "    result_array = np.append(result_array, np.array([line]), axis = 0)"
   ]
  },
  {
   "cell_type": "code",
   "execution_count": null,
   "metadata": {
    "colab": {
     "base_uri": "https://localhost:8080/"
    },
    "id": "fn0e1X_ZbbCa",
    "outputId": "48aca92f-54b3-4347-fb5e-c98265fe3f64"
   },
   "outputs": [
    {
     "name": "stdout",
     "output_type": "stream",
     "text": [
      "<class 'numpy.ndarray'>\n"
     ]
    },
    {
     "data": {
      "text/plain": [
       "array([[2.0249420e-02, 1.5778000e-03, 8.2625000e-04, ..., 3.3907000e-04,\n",
       "        8.4368300e-03, 4.7004000e-04],\n",
       "       [1.1800000e-04, 8.9075000e-04, 1.8769000e-04, ..., 1.5891000e-04,\n",
       "        1.0252100e-03, 2.0460000e-05],\n",
       "       [1.1765220e-02, 7.4577000e-04, 7.8353000e-04, ..., 5.3803300e-03,\n",
       "        1.0274800e-03, 1.3844800e-03],\n",
       "       ...,\n",
       "       [2.5890000e-05, 1.2192000e-04, 2.7810000e-05, ..., 7.1593200e-03,\n",
       "        4.9575200e-03, 8.9156000e-04],\n",
       "       [2.6509121e-01, 9.6539180e-02, 5.9710000e-05, ..., 1.0834000e-04,\n",
       "        1.2682000e-03, 7.1027000e-04],\n",
       "       [2.0589490e-02, 1.2214100e-03, 2.0660700e-03, ..., 8.2839000e-04,\n",
       "        4.9012800e-03, 1.1848300e-03]])"
      ]
     },
     "execution_count": 102,
     "metadata": {
      "tags": []
     },
     "output_type": "execute_result"
    }
   ],
   "source": [
    "X_arrC3D = result_array\n",
    "del result_array\n",
    "print(type(X_arrC3D))\n",
    "X_arrC3D"
   ]
  },
  {
   "cell_type": "code",
   "execution_count": null,
   "metadata": {
    "id": "j25K9Cv1_vB1"
   },
   "outputs": [],
   "source": [
    "y = c3d[['short-term_memorability','long-term_memorability']].values"
   ]
  },
  {
   "cell_type": "code",
   "execution_count": null,
   "metadata": {
    "id": "fuNjwOyD_ymH"
   },
   "outputs": [],
   "source": [
    "x_train, x_test, y_train, y_test = train_test_split(X_arrC3D, y, test_size=0.2, random_state=42)"
   ]
  },
  {
   "cell_type": "code",
   "execution_count": null,
   "metadata": {
    "colab": {
     "base_uri": "https://localhost:8080/"
    },
    "id": "1Rc9O2BgbpY0",
    "outputId": "18e58b98-0b19-4604-95bb-7c9f0ac49d67"
   },
   "outputs": [
    {
     "data": {
      "text/plain": [
       "RandomForestRegressor(bootstrap=True, ccp_alpha=0.0, criterion='mse',\n",
       "                      max_depth=None, max_features='auto', max_leaf_nodes=None,\n",
       "                      max_samples=None, min_impurity_decrease=0.0,\n",
       "                      min_impurity_split=None, min_samples_leaf=1,\n",
       "                      min_samples_split=2, min_weight_fraction_leaf=0.0,\n",
       "                      n_estimators=100, n_jobs=None, oob_score=False,\n",
       "                      random_state=None, verbose=0, warm_start=False)"
      ]
     },
     "execution_count": 105,
     "metadata": {
      "tags": []
     },
     "output_type": "execute_result"
    }
   ],
   "source": [
    "random_forest = RandomForestRegressor(n_estimators=100)\n",
    "random_forest.fit(x_train, y_train)"
   ]
  },
  {
   "cell_type": "code",
   "execution_count": null,
   "metadata": {
    "id": "xr7812Gnb9rD"
   },
   "outputs": [],
   "source": [
    "predictions_test = random_forest.predict(x_test)"
   ]
  },
  {
   "cell_type": "code",
   "execution_count": null,
   "metadata": {
    "colab": {
     "base_uri": "https://localhost:8080/"
    },
    "id": "UQpajYFGa0OU",
    "outputId": "3d5e4d85-435e-4116-8aab-1fcd4ddbc45a"
   },
   "outputs": [
    {
     "data": {
      "text/plain": [
       "array([[0.87748   , 0.7558325 ],\n",
       "       [0.78574833, 0.66925   ],\n",
       "       [0.86152   , 0.77589   ],\n",
       "       ...,\n",
       "       [0.8363    , 0.75413   ],\n",
       "       [0.82682   , 0.69745   ],\n",
       "       [0.8337325 , 0.74701   ]])"
      ]
     },
     "execution_count": 107,
     "metadata": {
      "tags": []
     },
     "output_type": "execute_result"
    }
   ],
   "source": [
    "c3d_pred = predictions_test\n",
    "c3d_pred"
   ]
  },
  {
   "cell_type": "code",
   "execution_count": null,
   "metadata": {
    "colab": {
     "base_uri": "https://localhost:8080/"
    },
    "id": "UH0ydma6cHKW",
    "outputId": "60da3beb-066b-4ec0-a3a9-091fe668d6bb"
   },
   "outputs": [
    {
     "name": "stdout",
     "output_type": "stream",
     "text": [
      "The Spearman's correlation coefficient is: 0.283\n",
      "The Spearman's correlation coefficient is: 0.103\n"
     ]
    }
   ],
   "source": [
    "Get_score(predictions_test, y_test)"
   ]
  },
  {
   "cell_type": "markdown",
   "metadata": {
    "id": "sR5vzn4gbDNa"
   },
   "source": [
    "## HMP Feature"
   ]
  },
  {
   "cell_type": "code",
   "execution_count": null,
   "metadata": {
    "id": "bpYAG7pnAkys"
   },
   "outputs": [],
   "source": [
    "# Reusing same variable names to reduce memory.\n",
    "result_array = np.empty((0, 6075))\n",
    "for line in hmp['hmp']:\n",
    "    result_array = np.append(result_array, np.array([line]), axis = 0)"
   ]
  },
  {
   "cell_type": "code",
   "execution_count": null,
   "metadata": {
    "colab": {
     "base_uri": "https://localhost:8080/"
    },
    "id": "9UlDPqQPAoyp",
    "outputId": "a2f3fb3a-e993-498c-ab48-51860c9ec374"
   },
   "outputs": [
    {
     "name": "stdout",
     "output_type": "stream",
     "text": [
      "<class 'numpy.ndarray'>\n"
     ]
    },
    {
     "data": {
      "text/plain": [
       "array([[1.25563e-01, 2.40360e-02, 3.14000e-04, ..., 8.60000e-05,\n",
       "        5.80000e-04, 0.00000e+00],\n",
       "       [7.52600e-03, 1.42100e-03, 6.80000e-05, ..., 2.20000e-04,\n",
       "        7.62000e-04, 1.22400e-03],\n",
       "       [1.09584e-01, 1.89780e-02, 2.89000e-04, ..., 5.20000e-05,\n",
       "        2.58000e-04, 2.15000e-04],\n",
       "       ...,\n",
       "       [2.31390e-02, 7.43500e-03, 3.22000e-04, ..., 7.56000e-04,\n",
       "        7.38000e-04, 2.14000e-04],\n",
       "       [1.49000e-02, 4.60700e-03, 9.90000e-05, ..., 6.40000e-05,\n",
       "        6.40000e-05, 1.10000e-05],\n",
       "       [4.15920e-02, 1.30470e-02, 4.48000e-04, ..., 2.89000e-04,\n",
       "        9.88000e-04, 1.61000e-04]])"
      ]
     },
     "execution_count": 23,
     "metadata": {
      "tags": []
     },
     "output_type": "execute_result"
    }
   ],
   "source": [
    "X_arrHMP = result_array\n",
    "del result_array\n",
    "print(type(X_arrHMP))\n",
    "X_arrHMP"
   ]
  },
  {
   "cell_type": "code",
   "execution_count": null,
   "metadata": {
    "id": "0wh52c_oAqqu"
   },
   "outputs": [],
   "source": [
    "y = hmp[['short-term_memorability','long-term_memorability']].values"
   ]
  },
  {
   "cell_type": "code",
   "execution_count": null,
   "metadata": {
    "id": "l4StLNoDAtFP"
   },
   "outputs": [],
   "source": [
    "from sklearn.model_selection import train_test_split\n",
    "x_train, x_test, y_train, y_test = train_test_split(X_arrHMP, y, test_size=0.2, random_state=42)"
   ]
  },
  {
   "cell_type": "code",
   "execution_count": null,
   "metadata": {
    "colab": {
     "base_uri": "https://localhost:8080/"
    },
    "id": "5ZywFaGfAx97",
    "outputId": "7f5638a2-a127-4678-b06d-af95b2f7f80d"
   },
   "outputs": [
    {
     "data": {
      "text/plain": [
       "RandomForestRegressor(bootstrap=True, ccp_alpha=0.0, criterion='mse',\n",
       "                      max_depth=None, max_features='auto', max_leaf_nodes=None,\n",
       "                      max_samples=None, min_impurity_decrease=0.0,\n",
       "                      min_impurity_split=None, min_samples_leaf=1,\n",
       "                      min_samples_split=2, min_weight_fraction_leaf=0.0,\n",
       "                      n_estimators=100, n_jobs=None, oob_score=False,\n",
       "                      random_state=None, verbose=0, warm_start=False)"
      ]
     },
     "execution_count": 26,
     "metadata": {
      "tags": []
     },
     "output_type": "execute_result"
    }
   ],
   "source": [
    "random_forest = RandomForestRegressor(n_estimators=100)\n",
    "random_forest.fit(x_train, y_train)"
   ]
  },
  {
   "cell_type": "code",
   "execution_count": null,
   "metadata": {
    "id": "7KgIamPCAzyO"
   },
   "outputs": [],
   "source": [
    "predictions_test = random_forest.predict(x_test)"
   ]
  },
  {
   "cell_type": "code",
   "execution_count": null,
   "metadata": {
    "colab": {
     "base_uri": "https://localhost:8080/"
    },
    "id": "kbpqdivCA1kT",
    "outputId": "ef3948c3-471c-4e13-ff04-615486673b5a"
   },
   "outputs": [
    {
     "name": "stdout",
     "output_type": "stream",
     "text": [
      "The Spearman's correlation coefficient is: 0.259\n",
      "The Spearman's correlation coefficient is: 0.100\n"
     ]
    }
   ],
   "source": [
    "Get_score(predictions_test, y_test)"
   ]
  },
  {
   "cell_type": "markdown",
   "metadata": {
    "id": "B_ENVVfVbFU1"
   },
   "source": [
    "## LBP Feature"
   ]
  },
  {
   "cell_type": "code",
   "execution_count": null,
   "metadata": {
    "colab": {
     "base_uri": "https://localhost:8080/"
    },
    "id": "NlG33QtoBcMu",
    "outputId": "d3be77ac-a9de-4c56-a8ab-7e203e9d5f9a"
   },
   "outputs": [
    {
     "name": "stderr",
     "output_type": "stream",
     "text": [
      "/usr/local/lib/python3.7/dist-packages/ipykernel_launcher.py:6: SettingWithCopyWarning: \n",
      "A value is trying to be set on a copy of a slice from a DataFrame\n",
      "\n",
      "See the caveats in the documentation: https://pandas.pydata.org/pandas-docs/stable/user_guide/indexing.html#returning-a-view-versus-a-copy\n",
      "  \n"
     ]
    }
   ],
   "source": [
    "# Reusing same variable names to reduce memory.\n",
    "result_array = np.empty((0, 366))\n",
    "\n",
    "for i in lbp.index:\n",
    "  while len(lbp['video-0'][i]) < 122:\n",
    "    lbp['video-0'][i] = np.append((lbp['video-0'][i]), 0)\n",
    "  while len(lbp['video-56'][i]) < 122:\n",
    "    lbp['video-56'][i] = np.append((lbp['video-56'][i]), 0)\n",
    "  while len(lbp['video-112'][i]) < 122:\n",
    "    lbp['video-112'][i] = np.append((lbp['video-112'][i]), 0)\n",
    "  res = np.hstack((lbp['video-0'][i], lbp['video-56'][i], lbp['video-112'][i]))\n",
    "  result_array = np.append(result_array, np.array([res]), axis = 0)"
   ]
  },
  {
   "cell_type": "code",
   "execution_count": null,
   "metadata": {
    "colab": {
     "base_uri": "https://localhost:8080/"
    },
    "id": "hSFMCWqxBelf",
    "outputId": "cd387ab8-8840-4842-8e5d-b45106a9f52c"
   },
   "outputs": [
    {
     "name": "stdout",
     "output_type": "stream",
     "text": [
      "<class 'numpy.ndarray'>\n"
     ]
    },
    {
     "data": {
      "text/plain": [
       "array([[0.00966435, 0.00291811, 0.00219425, ..., 0.00153356, 0.02053385,\n",
       "        0.46106385],\n",
       "       [0.01084008, 0.00189525, 0.00154128, ..., 0.00201196, 0.1233642 ,\n",
       "        0.48225502],\n",
       "       [0.01163436, 0.00431472, 0.00321277, ..., 0.00585455, 0.22441985,\n",
       "        0.53576003],\n",
       "       ...,\n",
       "       [0.01986834, 0.00499807, 0.00462867, ..., 0.00459732, 0.02559655,\n",
       "        0.77324701],\n",
       "       [0.01122299, 0.00182677, 0.00189284, ..., 0.00292197, 0.03341098,\n",
       "        0.53772618],\n",
       "       [0.00933883, 0.00161941, 0.00137346, ..., 0.00222029, 0.03523389,\n",
       "        0.49374518]])"
      ]
     },
     "execution_count": 36,
     "metadata": {
      "tags": []
     },
     "output_type": "execute_result"
    }
   ],
   "source": [
    "X_arrLBP = result_array\n",
    "del result_array\n",
    "print(type(X_arrLBP))\n",
    "X_arrLBP"
   ]
  },
  {
   "cell_type": "code",
   "execution_count": null,
   "metadata": {
    "id": "JjLDRlfsBg13"
   },
   "outputs": [],
   "source": [
    "y = lbp[['short-term_memorability','long-term_memorability']].values"
   ]
  },
  {
   "cell_type": "code",
   "execution_count": null,
   "metadata": {
    "id": "3zcT6nGQBjPl"
   },
   "outputs": [],
   "source": [
    "x_train, x_test, y_train, y_test = train_test_split(X_arrLBP, y, test_size=0.2, random_state=42)"
   ]
  },
  {
   "cell_type": "code",
   "execution_count": null,
   "metadata": {
    "colab": {
     "base_uri": "https://localhost:8080/"
    },
    "id": "X1Bd1YpZBoJz",
    "outputId": "2c9cafb1-e3e2-4a83-f52e-ef5bb358c04e"
   },
   "outputs": [
    {
     "data": {
      "text/plain": [
       "RandomForestRegressor(bootstrap=True, ccp_alpha=0.0, criterion='mse',\n",
       "                      max_depth=None, max_features='auto', max_leaf_nodes=None,\n",
       "                      max_samples=None, min_impurity_decrease=0.0,\n",
       "                      min_impurity_split=None, min_samples_leaf=1,\n",
       "                      min_samples_split=2, min_weight_fraction_leaf=0.0,\n",
       "                      n_estimators=100, n_jobs=None, oob_score=False,\n",
       "                      random_state=None, verbose=0, warm_start=False)"
      ]
     },
     "execution_count": 39,
     "metadata": {
      "tags": []
     },
     "output_type": "execute_result"
    }
   ],
   "source": [
    "random_forest = RandomForestRegressor(n_estimators=100)\n",
    "random_forest.fit(x_train, y_train)"
   ]
  },
  {
   "cell_type": "code",
   "execution_count": null,
   "metadata": {
    "id": "97xTki8XBp9K"
   },
   "outputs": [],
   "source": [
    "predictions_test = random_forest.predict(x_test)"
   ]
  },
  {
   "cell_type": "code",
   "execution_count": null,
   "metadata": {
    "colab": {
     "base_uri": "https://localhost:8080/"
    },
    "id": "aa2Sg7mrBrcH",
    "outputId": "425e6043-d812-45f9-95c0-8f11c3efe2ac"
   },
   "outputs": [
    {
     "name": "stdout",
     "output_type": "stream",
     "text": [
      "The Spearman's correlation coefficient is: 0.248\n",
      "The Spearman's correlation coefficient is: 0.105\n"
     ]
    }
   ],
   "source": [
    "Get_score(predictions_test, y_test)"
   ]
  },
  {
   "cell_type": "markdown",
   "metadata": {
    "id": "EFELnPZpbFRb"
   },
   "source": [
    "## InceptionV3"
   ]
  },
  {
   "cell_type": "code",
   "execution_count": null,
   "metadata": {
    "id": "iEN_06AiBxKm"
   },
   "outputs": [],
   "source": [
    "# Reusing same variable names to reduce memory.\n",
    "result_array = np.empty((0, 3000))\n",
    "\n",
    "for i in inceptionv3.index:\n",
    "  while len(inceptionv3['video-0'][i]) < 1000:\n",
    "    inceptionv3['video-0'][i] = np.append((inceptionv3['video-0'][i]), 0)\n",
    "  while len(inceptionv3['video-56'][i]) < 1000:\n",
    "    inceptionv3['video-56'][i] = np.append((inceptionv3['video-56'][i]), 0)\n",
    "  while len(inceptionv3['video-112'][i]) < 1000:\n",
    "    inceptionv3['video-112'][i] = np.append((inceptionv3['video-112'][i]), 0)\n",
    "  res = np.hstack((inceptionv3['video-0'][i], inceptionv3['video-56'][i], inceptionv3['video-112'][i]))\n",
    "  result_array = np.append(result_array, np.array([res]), axis = 0)"
   ]
  },
  {
   "cell_type": "code",
   "execution_count": null,
   "metadata": {
    "colab": {
     "base_uri": "https://localhost:8080/"
    },
    "id": "SGGc2JhYB2Ug",
    "outputId": "0c53b06c-4497-416b-9e5f-fc16a1052807"
   },
   "outputs": [
    {
     "name": "stdout",
     "output_type": "stream",
     "text": [
      "<class 'numpy.ndarray'>\n"
     ]
    },
    {
     "data": {
      "text/plain": [
       "array([[2.926813e-18, 3.022254e-19, 4.139101e-19, ..., 3.913046e-23,\n",
       "        2.295526e-20, 2.015046e-17],\n",
       "       [0.000000e+00, 0.000000e+00, 0.000000e+00, ..., 0.000000e+00,\n",
       "        0.000000e+00, 0.000000e+00],\n",
       "       [1.619819e-33, 0.000000e+00, 0.000000e+00, ..., 0.000000e+00,\n",
       "        0.000000e+00, 0.000000e+00],\n",
       "       ...,\n",
       "       [0.000000e+00, 0.000000e+00, 0.000000e+00, ..., 0.000000e+00,\n",
       "        0.000000e+00, 0.000000e+00],\n",
       "       [7.332495e-25, 2.549710e-34, 7.246693e-37, ..., 0.000000e+00,\n",
       "        0.000000e+00, 6.700695e-37],\n",
       "       [0.000000e+00, 0.000000e+00, 0.000000e+00, ..., 0.000000e+00,\n",
       "        0.000000e+00, 0.000000e+00]])"
      ]
     },
     "execution_count": 48,
     "metadata": {
      "tags": []
     },
     "output_type": "execute_result"
    }
   ],
   "source": [
    "X_arr_inception = result_array\n",
    "del result_array\n",
    "print(type(X_arr_inception))\n",
    "X_arr_inception"
   ]
  },
  {
   "cell_type": "code",
   "execution_count": null,
   "metadata": {
    "id": "yb5rELPgB45m"
   },
   "outputs": [],
   "source": [
    "y = inceptionv3[['short-term_memorability','long-term_memorability']].values"
   ]
  },
  {
   "cell_type": "code",
   "execution_count": null,
   "metadata": {
    "id": "92_SY_p_B8je"
   },
   "outputs": [],
   "source": [
    "x_train, x_test, y_train, y_test = train_test_split(X_arr_inception, y, test_size=0.2, random_state=42)"
   ]
  },
  {
   "cell_type": "code",
   "execution_count": null,
   "metadata": {
    "colab": {
     "base_uri": "https://localhost:8080/"
    },
    "id": "PhMya9w8B_QR",
    "outputId": "60c1520f-846f-456c-e732-5cd7a16e1f6b"
   },
   "outputs": [
    {
     "data": {
      "text/plain": [
       "RandomForestRegressor(bootstrap=True, ccp_alpha=0.0, criterion='mse',\n",
       "                      max_depth=None, max_features='auto', max_leaf_nodes=None,\n",
       "                      max_samples=None, min_impurity_decrease=0.0,\n",
       "                      min_impurity_split=None, min_samples_leaf=1,\n",
       "                      min_samples_split=2, min_weight_fraction_leaf=0.0,\n",
       "                      n_estimators=100, n_jobs=None, oob_score=False,\n",
       "                      random_state=None, verbose=0, warm_start=False)"
      ]
     },
     "execution_count": 51,
     "metadata": {
      "tags": []
     },
     "output_type": "execute_result"
    }
   ],
   "source": [
    "random_forest = RandomForestRegressor(n_estimators=100)\n",
    "random_forest.fit(x_train, y_train)"
   ]
  },
  {
   "cell_type": "code",
   "execution_count": null,
   "metadata": {
    "id": "QB7-piD9CBLI"
   },
   "outputs": [],
   "source": [
    "predictions_test = random_forest.predict(x_test)"
   ]
  },
  {
   "cell_type": "code",
   "execution_count": null,
   "metadata": {
    "colab": {
     "base_uri": "https://localhost:8080/"
    },
    "id": "iq2nrluDCCzP",
    "outputId": "ec87831d-bb1f-432d-8fd9-dca61daca238"
   },
   "outputs": [
    {
     "name": "stdout",
     "output_type": "stream",
     "text": [
      "The Spearman's correlation coefficient is: 0.118\n",
      "The Spearman's correlation coefficient is: 0.032\n"
     ]
    }
   ],
   "source": [
    "Get_score(predictions_test, y_test)"
   ]
  },
  {
   "cell_type": "markdown",
   "metadata": {
    "id": "RFunpqDohTAw"
   },
   "source": [
    "## Aesthetics"
   ]
  },
  {
   "cell_type": "code",
   "execution_count": null,
   "metadata": {
    "id": "2Ewez7hrhVlK"
   },
   "outputs": [],
   "source": [
    "result_array = np.empty((0, 218))\n",
    "\n",
    "for i in aesthetics.index:\n",
    "  while len(aesthetics['aesthetic_feat_dev-set_mean'][i]) < 109:\n",
    "    aesthetics['aesthetic_feat_dev-set_mean'][i] = np.append((aesthetics['aesthetic_feat_dev-set_mean'][i]), 0)\n",
    "  while len(aesthetics['aesthetic_feat_dev-set_median'][i]) < 109:\n",
    "    aesthetics['aesthetic_feat_dev-set_median'][i] = np.append((aesthetics['aesthetic_feat_dev-set_median'][i]), 0)\n",
    "  res = np.hstack((aesthetics['aesthetic_feat_dev-set_mean'][i], aesthetics['aesthetic_feat_dev-set_median'][i]))\n",
    "  result_array = np.append(result_array, np.array([res]), axis = 0)"
   ]
  },
  {
   "cell_type": "code",
   "execution_count": null,
   "metadata": {
    "colab": {
     "base_uri": "https://localhost:8080/"
    },
    "id": "jTQIKU6BhcEV",
    "outputId": "d83d75e8-29f0-404a-adde-24b6a11a73ae"
   },
   "outputs": [
    {
     "name": "stdout",
     "output_type": "stream",
     "text": [
      "<class 'numpy.ndarray'>\n"
     ]
    },
    {
     "data": {
      "text/plain": [
       "array([[ 0.18389 ,  0.713733,  0.202302, ...,  0.129661,  0.412381,\n",
       "         0.788761],\n",
       "       [ 0.147255,  0.550718,  0.460299, ...,  0.692224,  0.762354,\n",
       "        -0.561793],\n",
       "       [ 0.063933,  0.826933,  0.214129, ...,  0.438261, -0.21956 ,\n",
       "         0.276687],\n",
       "       ...,\n",
       "       [ 0.178087,  0.220956,  0.671676, ...,  0.38719 ,  0.244293,\n",
       "         0.341741],\n",
       "       [ 0.113677,  0.585402,  0.496425, ...,  0.00308 ,  0.365075,\n",
       "        -1.04308 ],\n",
       "       [ 0.554591,  0.134659,  0.691026, ...,  0.783961,  0.621886,\n",
       "        -0.569049]])"
      ]
     },
     "execution_count": 33,
     "metadata": {
      "tags": []
     },
     "output_type": "execute_result"
    }
   ],
   "source": [
    "X_arr_aesthetics = result_array\n",
    "del result_array\n",
    "print(type(X_arr_aesthetics))\n",
    "X_arr_aesthetics"
   ]
  },
  {
   "cell_type": "code",
   "execution_count": null,
   "metadata": {
    "id": "M4rsbxtbhe-x"
   },
   "outputs": [],
   "source": [
    "y = aesthetics[['short-term_memorability','long-term_memorability']].values\n",
    "x_train, x_test, y_train, y_test = train_test_split(X_arr_aesthetics, y, test_size=0.2, random_state=42)"
   ]
  },
  {
   "cell_type": "code",
   "execution_count": null,
   "metadata": {
    "colab": {
     "base_uri": "https://localhost:8080/"
    },
    "id": "1DIrdvvMhh2J",
    "outputId": "89be4ff6-7415-4333-c2bd-ee71821d39e3"
   },
   "outputs": [
    {
     "data": {
      "text/plain": [
       "RandomForestRegressor(bootstrap=True, ccp_alpha=0.0, criterion='mse',\n",
       "                      max_depth=None, max_features='auto', max_leaf_nodes=None,\n",
       "                      max_samples=None, min_impurity_decrease=0.0,\n",
       "                      min_impurity_split=None, min_samples_leaf=1,\n",
       "                      min_samples_split=2, min_weight_fraction_leaf=0.0,\n",
       "                      n_estimators=100, n_jobs=None, oob_score=False,\n",
       "                      random_state=None, verbose=0, warm_start=False)"
      ]
     },
     "execution_count": 35,
     "metadata": {
      "tags": []
     },
     "output_type": "execute_result"
    }
   ],
   "source": [
    "random_forest = RandomForestRegressor(n_estimators=100)\n",
    "random_forest.fit(x_train, y_train)"
   ]
  },
  {
   "cell_type": "code",
   "execution_count": null,
   "metadata": {
    "id": "_eDb6hJQhmMh"
   },
   "outputs": [],
   "source": [
    "predictions_test = random_forest.predict(x_test)"
   ]
  },
  {
   "cell_type": "code",
   "execution_count": null,
   "metadata": {
    "colab": {
     "base_uri": "https://localhost:8080/"
    },
    "id": "iZpzWM4ihoO9",
    "outputId": "becb6888-530a-4523-ccaa-dcdc79d89801"
   },
   "outputs": [
    {
     "name": "stdout",
     "output_type": "stream",
     "text": [
      "The Spearman's correlation coefficient is: 0.285\n",
      "The Spearman's correlation coefficient is: 0.116\n"
     ]
    }
   ],
   "source": [
    "Get_score(predictions_test, y_test)"
   ]
  },
  {
   "cell_type": "markdown",
   "metadata": {
    "id": "brravsNwwc9X"
   },
   "source": [
    "## ColorHistogram"
   ]
  },
  {
   "cell_type": "code",
   "execution_count": null,
   "metadata": {
    "colab": {
     "base_uri": "https://localhost:8080/"
    },
    "id": "pxs7X5Auwjng",
    "outputId": "f6086b51-3384-48b0-fab8-5066299acfef"
   },
   "outputs": [
    {
     "name": "stderr",
     "output_type": "stream",
     "text": [
      "/usr/local/lib/python3.7/dist-packages/ipykernel_launcher.py:5: SettingWithCopyWarning: \n",
      "A value is trying to be set on a copy of a slice from a DataFrame\n",
      "\n",
      "See the caveats in the documentation: https://pandas.pydata.org/pandas-docs/stable/user_guide/indexing.html#returning-a-view-versus-a-copy\n",
      "  \"\"\"\n",
      "/usr/local/lib/python3.7/dist-packages/ipykernel_launcher.py:6: SettingWithCopyWarning: \n",
      "A value is trying to be set on a copy of a slice from a DataFrame\n",
      "\n",
      "See the caveats in the documentation: https://pandas.pydata.org/pandas-docs/stable/user_guide/indexing.html#returning-a-view-versus-a-copy\n",
      "  \n",
      "/usr/local/lib/python3.7/dist-packages/ipykernel_launcher.py:7: SettingWithCopyWarning: \n",
      "A value is trying to be set on a copy of a slice from a DataFrame\n",
      "\n",
      "See the caveats in the documentation: https://pandas.pydata.org/pandas-docs/stable/user_guide/indexing.html#returning-a-view-versus-a-copy\n",
      "  import sys\n"
     ]
    }
   ],
   "source": [
    "# Reusing same variable names to reduce memory.\n",
    "result_array = np.empty((0, 768))\n",
    "\n",
    "for i in ch.index:\n",
    "  ch['video-0'][i] = ch['video-0'][i][0] + ch['video-0'][i][1] + ch['video-0'][i][2]\n",
    "  ch['video-56'][i] = ch['video-56'][i][0] + ch['video-56'][i][1] + ch['video-56'][i][2]\n",
    "  ch['video-112'][i] = ch['video-112'][i][0] + ch['video-112'][i][1] + ch['video-112'][i][2]\n",
    "  res = np.hstack((ch['video-0'][i], ch['video-56'][i], ch['video-112'][i]))\n",
    "  result_array = np.append(result_array, np.array([res]), axis = 0)"
   ]
  },
  {
   "cell_type": "code",
   "execution_count": null,
   "metadata": {
    "colab": {
     "base_uri": "https://localhost:8080/"
    },
    "id": "9dEVjqiJwmIV",
    "outputId": "995ac96d-0c98-4fb5-a067-8519c3e4fec2"
   },
   "outputs": [
    {
     "name": "stdout",
     "output_type": "stream",
     "text": [
      "<class 'numpy.ndarray'>\n"
     ]
    },
    {
     "data": {
      "text/plain": [
       "array([[8.54550e+04, 1.74820e+04, 1.61940e+04, ..., 1.43900e+04,\n",
       "        2.09500e+03, 3.16360e+04],\n",
       "       [6.51922e+05, 2.05142e+05, 2.40695e+05, ..., 0.00000e+00,\n",
       "        0.00000e+00, 0.00000e+00],\n",
       "       [1.56000e+02, 6.40000e+01, 9.30000e+01, ..., 1.02950e+04,\n",
       "        1.99100e+03, 1.16530e+04],\n",
       "       ...,\n",
       "       [2.00000e+01, 7.00000e+00, 1.70000e+01, ..., 7.18000e+02,\n",
       "        2.31000e+02, 1.67000e+02],\n",
       "       [7.02000e+02, 2.59000e+02, 3.56000e+02, ..., 2.58900e+03,\n",
       "        7.32000e+02, 1.39610e+04],\n",
       "       [0.00000e+00, 0.00000e+00, 0.00000e+00, ..., 1.91000e+02,\n",
       "        1.47000e+02, 8.82000e+02]])"
      ]
     },
     "execution_count": 182,
     "metadata": {
      "tags": []
     },
     "output_type": "execute_result"
    }
   ],
   "source": [
    "X_arr_ch = result_array\n",
    "del result_array\n",
    "print(type(X_arr_ch))\n",
    "X_arr_ch"
   ]
  },
  {
   "cell_type": "code",
   "execution_count": null,
   "metadata": {
    "id": "fqF7IyI-wpEM"
   },
   "outputs": [],
   "source": [
    "y = ch[['short-term_memorability','long-term_memorability']].values\n",
    "x_train, x_test, y_train, y_test = train_test_split(X_arr_ch, y, test_size=0.2, random_state=42)"
   ]
  },
  {
   "cell_type": "code",
   "execution_count": null,
   "metadata": {
    "colab": {
     "base_uri": "https://localhost:8080/"
    },
    "id": "rsEPlhcPwzR4",
    "outputId": "d2a37e9e-0041-4643-961f-54dd56236557"
   },
   "outputs": [
    {
     "data": {
      "text/plain": [
       "RandomForestRegressor(bootstrap=True, ccp_alpha=0.0, criterion='mse',\n",
       "                      max_depth=None, max_features='auto', max_leaf_nodes=None,\n",
       "                      max_samples=None, min_impurity_decrease=0.0,\n",
       "                      min_impurity_split=None, min_samples_leaf=1,\n",
       "                      min_samples_split=2, min_weight_fraction_leaf=0.0,\n",
       "                      n_estimators=100, n_jobs=None, oob_score=False,\n",
       "                      random_state=None, verbose=0, warm_start=False)"
      ]
     },
     "execution_count": 184,
     "metadata": {
      "tags": []
     },
     "output_type": "execute_result"
    }
   ],
   "source": [
    "random_forest = RandomForestRegressor(n_estimators=100)\n",
    "random_forest.fit(x_train, y_train)"
   ]
  },
  {
   "cell_type": "code",
   "execution_count": null,
   "metadata": {
    "colab": {
     "base_uri": "https://localhost:8080/"
    },
    "id": "sCp01m5Hw2Kz",
    "outputId": "0b1aef96-14e3-4589-bc63-7c0e2a6005fd"
   },
   "outputs": [
    {
     "name": "stdout",
     "output_type": "stream",
     "text": [
      "The Spearman's correlation coefficient is: 0.169\n",
      "The Spearman's correlation coefficient is: 0.075\n"
     ]
    }
   ],
   "source": [
    "predictions_test = random_forest.predict(x_test)\n",
    "Get_score(predictions_test, y_test)"
   ]
  },
  {
   "cell_type": "markdown",
   "metadata": {
    "id": "jPRw31wR3Vxq"
   },
   "source": [
    "# Model 4: K-nearest neighbors using Scikit-Learn"
   ]
  },
  {
   "cell_type": "markdown",
   "metadata": {
    "id": "Tckv6mT57CQS"
   },
   "source": [
    "## With n_neighbors=5"
   ]
  },
  {
   "cell_type": "markdown",
   "metadata": {
    "id": "DhWwcSPU3owC"
   },
   "source": [
    "### Convolution 3D Feature"
   ]
  },
  {
   "cell_type": "code",
   "execution_count": null,
   "metadata": {
    "id": "BSKnPjFN3zy0"
   },
   "outputs": [],
   "source": [
    "## Length of C3D feature is 101\n",
    "result_array = np.empty((0, 101))\n",
    "for line in c3d['c3d']:\n",
    "    result_array = np.append(result_array, np.array([line]), axis = 0)"
   ]
  },
  {
   "cell_type": "code",
   "execution_count": null,
   "metadata": {
    "colab": {
     "base_uri": "https://localhost:8080/"
    },
    "id": "HdWhRPzT39EP",
    "outputId": "97a10dc6-5a03-43cc-de95-d74bde79472f"
   },
   "outputs": [
    {
     "name": "stdout",
     "output_type": "stream",
     "text": [
      "<class 'numpy.ndarray'>\n"
     ]
    },
    {
     "data": {
      "text/plain": [
       "array([[2.0249420e-02, 1.5778000e-03, 8.2625000e-04, ..., 3.3907000e-04,\n",
       "        8.4368300e-03, 4.7004000e-04],\n",
       "       [1.1800000e-04, 8.9075000e-04, 1.8769000e-04, ..., 1.5891000e-04,\n",
       "        1.0252100e-03, 2.0460000e-05],\n",
       "       [1.1765220e-02, 7.4577000e-04, 7.8353000e-04, ..., 5.3803300e-03,\n",
       "        1.0274800e-03, 1.3844800e-03],\n",
       "       ...,\n",
       "       [2.5890000e-05, 1.2192000e-04, 2.7810000e-05, ..., 7.1593200e-03,\n",
       "        4.9575200e-03, 8.9156000e-04],\n",
       "       [2.6509121e-01, 9.6539180e-02, 5.9710000e-05, ..., 1.0834000e-04,\n",
       "        1.2682000e-03, 7.1027000e-04],\n",
       "       [2.0589490e-02, 1.2214100e-03, 2.0660700e-03, ..., 8.2839000e-04,\n",
       "        4.9012800e-03, 1.1848300e-03]])"
      ]
     },
     "execution_count": 26,
     "metadata": {
      "tags": []
     },
     "output_type": "execute_result"
    }
   ],
   "source": [
    "X_arrC3D = result_array\n",
    "del result_array\n",
    "print(type(X_arrC3D))\n",
    "X_arrC3D"
   ]
  },
  {
   "cell_type": "code",
   "execution_count": null,
   "metadata": {
    "id": "U1u6FPq_3_IH"
   },
   "outputs": [],
   "source": [
    "y = c3d[['short-term_memorability','long-term_memorability']].values"
   ]
  },
  {
   "cell_type": "code",
   "execution_count": null,
   "metadata": {
    "id": "3ze-mozv4Bt9"
   },
   "outputs": [],
   "source": [
    "x_train, x_test, y_train, y_test = train_test_split(X_arrC3D, y, test_size=0.2, random_state=42)"
   ]
  },
  {
   "cell_type": "code",
   "execution_count": null,
   "metadata": {
    "colab": {
     "base_uri": "https://localhost:8080/"
    },
    "id": "JXUOaTbK4D0w",
    "outputId": "b025803e-f743-4d36-f395-fe48fa08f66b"
   },
   "outputs": [
    {
     "data": {
      "text/plain": [
       "KNeighborsRegressor(algorithm='auto', leaf_size=30, metric='minkowski',\n",
       "                    metric_params=None, n_jobs=None, n_neighbors=5, p=2,\n",
       "                    weights='uniform')"
      ]
     },
     "execution_count": 29,
     "metadata": {
      "tags": []
     },
     "output_type": "execute_result"
    }
   ],
   "source": [
    "knn = KNeighborsRegressor(n_neighbors=5)\n",
    "knn.fit(x_train, y_train)"
   ]
  },
  {
   "cell_type": "code",
   "execution_count": null,
   "metadata": {
    "id": "V9KjPXD34PH1"
   },
   "outputs": [],
   "source": [
    "predictions_test = knn.predict(x_test)"
   ]
  },
  {
   "cell_type": "code",
   "execution_count": null,
   "metadata": {
    "colab": {
     "base_uri": "https://localhost:8080/"
    },
    "id": "FK-rZrV94RKN",
    "outputId": "b09aabb9-b8f2-4803-8bfa-c751bfb86c8f"
   },
   "outputs": [
    {
     "name": "stdout",
     "output_type": "stream",
     "text": [
      "The Spearman's correlation coefficient is: 0.185\n",
      "The Spearman's correlation coefficient is: 0.039\n"
     ]
    }
   ],
   "source": [
    "Get_score(predictions_test, y_test)"
   ]
  },
  {
   "cell_type": "markdown",
   "metadata": {
    "id": "0Ctr3rRQ3sTL"
   },
   "source": [
    "### HMP Feature"
   ]
  },
  {
   "cell_type": "code",
   "execution_count": null,
   "metadata": {
    "id": "oF6Ff-DJ4TQN"
   },
   "outputs": [],
   "source": [
    "# Reusing same variable names to reduce memory.\n",
    "result_array = np.empty((0, 6075))\n",
    "for line in hmp['hmp']:\n",
    "    result_array = np.append(result_array, np.array([line]), axis = 0)"
   ]
  },
  {
   "cell_type": "code",
   "execution_count": null,
   "metadata": {
    "colab": {
     "base_uri": "https://localhost:8080/"
    },
    "id": "DFl5R6XD4UoE",
    "outputId": "bd88a239-8af2-442f-c642-63520bdecfd1"
   },
   "outputs": [
    {
     "name": "stdout",
     "output_type": "stream",
     "text": [
      "<class 'numpy.ndarray'>\n"
     ]
    },
    {
     "data": {
      "text/plain": [
       "array([[1.25563e-01, 2.40360e-02, 3.14000e-04, ..., 8.60000e-05,\n",
       "        5.80000e-04, 0.00000e+00],\n",
       "       [7.52600e-03, 1.42100e-03, 6.80000e-05, ..., 2.20000e-04,\n",
       "        7.62000e-04, 1.22400e-03],\n",
       "       [1.09584e-01, 1.89780e-02, 2.89000e-04, ..., 5.20000e-05,\n",
       "        2.58000e-04, 2.15000e-04],\n",
       "       ...,\n",
       "       [2.31390e-02, 7.43500e-03, 3.22000e-04, ..., 7.56000e-04,\n",
       "        7.38000e-04, 2.14000e-04],\n",
       "       [1.49000e-02, 4.60700e-03, 9.90000e-05, ..., 6.40000e-05,\n",
       "        6.40000e-05, 1.10000e-05],\n",
       "       [4.15920e-02, 1.30470e-02, 4.48000e-04, ..., 2.89000e-04,\n",
       "        9.88000e-04, 1.61000e-04]])"
      ]
     },
     "execution_count": 33,
     "metadata": {
      "tags": []
     },
     "output_type": "execute_result"
    }
   ],
   "source": [
    "X_arrHMP = result_array\n",
    "del result_array\n",
    "print(type(X_arrHMP))\n",
    "X_arrHMP"
   ]
  },
  {
   "cell_type": "code",
   "execution_count": null,
   "metadata": {
    "id": "Y0p6Aq6Y4WkH"
   },
   "outputs": [],
   "source": [
    "y = hmp[['short-term_memorability','long-term_memorability']].values"
   ]
  },
  {
   "cell_type": "code",
   "execution_count": null,
   "metadata": {
    "id": "w1Zxi6t-4Yix"
   },
   "outputs": [],
   "source": [
    "x_train, x_test, y_train, y_test = train_test_split(X_arrHMP, y, test_size=0.2, random_state=42)"
   ]
  },
  {
   "cell_type": "code",
   "execution_count": null,
   "metadata": {
    "colab": {
     "base_uri": "https://localhost:8080/"
    },
    "id": "_QJ04FEH4fbi",
    "outputId": "eb5a43ab-f241-424f-b1e3-252c34379645"
   },
   "outputs": [
    {
     "data": {
      "text/plain": [
       "KNeighborsRegressor(algorithm='auto', leaf_size=30, metric='minkowski',\n",
       "                    metric_params=None, n_jobs=None, n_neighbors=5, p=2,\n",
       "                    weights='uniform')"
      ]
     },
     "execution_count": 36,
     "metadata": {
      "tags": []
     },
     "output_type": "execute_result"
    }
   ],
   "source": [
    "knn = KNeighborsRegressor(n_neighbors=5)\n",
    "knn.fit(x_train, y_train)"
   ]
  },
  {
   "cell_type": "code",
   "execution_count": null,
   "metadata": {
    "id": "JNjg07zf4iVp"
   },
   "outputs": [],
   "source": [
    "predictions_test = knn.predict(x_test)"
   ]
  },
  {
   "cell_type": "code",
   "execution_count": null,
   "metadata": {
    "colab": {
     "base_uri": "https://localhost:8080/"
    },
    "id": "jiVVvjSL4jo8",
    "outputId": "c20d165d-ab5b-4e4c-e4cb-e5807d155549"
   },
   "outputs": [
    {
     "name": "stdout",
     "output_type": "stream",
     "text": [
      "The Spearman's correlation coefficient is: 0.215\n",
      "The Spearman's correlation coefficient is: 0.045\n"
     ]
    }
   ],
   "source": [
    "Get_score(predictions_test, y_test)"
   ]
  },
  {
   "cell_type": "markdown",
   "metadata": {
    "id": "supwpSeX3vdD"
   },
   "source": [
    "### LBP Feature"
   ]
  },
  {
   "cell_type": "code",
   "execution_count": null,
   "metadata": {
    "colab": {
     "base_uri": "https://localhost:8080/"
    },
    "id": "esbgrYav40iS",
    "outputId": "7f5fa3b9-d3f6-45e1-b16e-2bcb9fecc20f"
   },
   "outputs": [
    {
     "name": "stderr",
     "output_type": "stream",
     "text": [
      "/usr/local/lib/python3.7/dist-packages/ipykernel_launcher.py:6: SettingWithCopyWarning: \n",
      "A value is trying to be set on a copy of a slice from a DataFrame\n",
      "\n",
      "See the caveats in the documentation: https://pandas.pydata.org/pandas-docs/stable/user_guide/indexing.html#returning-a-view-versus-a-copy\n",
      "  \n"
     ]
    }
   ],
   "source": [
    "# Reusing same variable names to reduce memory.\n",
    "result_array = np.empty((0, 366))\n",
    "\n",
    "for i in lbp.index:\n",
    "  while len(lbp['video-0'][i]) < 122:\n",
    "    lbp['video-0'][i] = np.append((lbp['video-0'][i]), 0)\n",
    "  while len(lbp['video-56'][i]) < 122:\n",
    "    lbp['video-56'][i] = np.append((lbp['video-56'][i]), 0)\n",
    "  while len(lbp['video-112'][i]) < 122:\n",
    "    lbp['video-112'][i] = np.append((lbp['video-112'][i]), 0)\n",
    "  res = np.hstack((lbp['video-0'][i], lbp['video-56'][i], lbp['video-112'][i]))\n",
    "  result_array = np.append(result_array, np.array([res]), axis = 0)"
   ]
  },
  {
   "cell_type": "code",
   "execution_count": null,
   "metadata": {
    "colab": {
     "base_uri": "https://localhost:8080/"
    },
    "id": "7iRvEo4F42WR",
    "outputId": "bb3c8d94-1020-4107-9c4e-acb0ed080a9c"
   },
   "outputs": [
    {
     "name": "stdout",
     "output_type": "stream",
     "text": [
      "<class 'numpy.ndarray'>\n"
     ]
    },
    {
     "data": {
      "text/plain": [
       "array([[0.00966435, 0.00291811, 0.00219425, ..., 0.00153356, 0.02053385,\n",
       "        0.46106385],\n",
       "       [0.01084008, 0.00189525, 0.00154128, ..., 0.00201196, 0.1233642 ,\n",
       "        0.48225502],\n",
       "       [0.01163436, 0.00431472, 0.00321277, ..., 0.00585455, 0.22441985,\n",
       "        0.53576003],\n",
       "       ...,\n",
       "       [0.01986834, 0.00499807, 0.00462867, ..., 0.00459732, 0.02559655,\n",
       "        0.77324701],\n",
       "       [0.01122299, 0.00182677, 0.00189284, ..., 0.00292197, 0.03341098,\n",
       "        0.53772618],\n",
       "       [0.00933883, 0.00161941, 0.00137346, ..., 0.00222029, 0.03523389,\n",
       "        0.49374518]])"
      ]
     },
     "execution_count": 40,
     "metadata": {
      "tags": []
     },
     "output_type": "execute_result"
    }
   ],
   "source": [
    "X_arrLBP = result_array\n",
    "del result_array\n",
    "print(type(X_arrLBP))\n",
    "X_arrLBP"
   ]
  },
  {
   "cell_type": "code",
   "execution_count": null,
   "metadata": {
    "id": "wUdTP0Ee44fH"
   },
   "outputs": [],
   "source": [
    "y = lbp[['short-term_memorability','long-term_memorability']].values"
   ]
  },
  {
   "cell_type": "code",
   "execution_count": null,
   "metadata": {
    "id": "xQYxdGfX471P"
   },
   "outputs": [],
   "source": [
    "x_train, x_test, y_train, y_test = train_test_split(X_arrLBP, y, test_size=0.2, random_state=42)"
   ]
  },
  {
   "cell_type": "code",
   "execution_count": null,
   "metadata": {
    "colab": {
     "base_uri": "https://localhost:8080/"
    },
    "id": "1zobtmC94_C4",
    "outputId": "2aa35ef3-8dc0-4741-de3e-476868c06393"
   },
   "outputs": [
    {
     "data": {
      "text/plain": [
       "KNeighborsRegressor(algorithm='auto', leaf_size=30, metric='minkowski',\n",
       "                    metric_params=None, n_jobs=None, n_neighbors=5, p=2,\n",
       "                    weights='uniform')"
      ]
     },
     "execution_count": 43,
     "metadata": {
      "tags": []
     },
     "output_type": "execute_result"
    }
   ],
   "source": [
    "knn = KNeighborsRegressor(n_neighbors=5)\n",
    "knn.fit(x_train, y_train)"
   ]
  },
  {
   "cell_type": "code",
   "execution_count": null,
   "metadata": {
    "id": "5Gsepr_p5Aji"
   },
   "outputs": [],
   "source": [
    "predictions_test = knn.predict(x_test)"
   ]
  },
  {
   "cell_type": "code",
   "execution_count": null,
   "metadata": {
    "colab": {
     "base_uri": "https://localhost:8080/"
    },
    "id": "jQuW8cBy5CCY",
    "outputId": "7a8dfd55-d653-42da-90e5-a79d11caf2c7"
   },
   "outputs": [
    {
     "name": "stdout",
     "output_type": "stream",
     "text": [
      "The Spearman's correlation coefficient is: 0.154\n",
      "The Spearman's correlation coefficient is: 0.110\n"
     ]
    }
   ],
   "source": [
    "Get_score(predictions_test, y_test)"
   ]
  },
  {
   "cell_type": "markdown",
   "metadata": {
    "id": "2xjnpznD3xh3"
   },
   "source": [
    "### InceptionV3"
   ]
  },
  {
   "cell_type": "code",
   "execution_count": null,
   "metadata": {
    "id": "wyKS-wqi5F3Z"
   },
   "outputs": [],
   "source": [
    "# Reusing same variable names to reduce memory.\n",
    "result_array = np.empty((0, 3000))\n",
    "\n",
    "for i in inceptionv3.index:\n",
    "  while len(inceptionv3['video-0'][i]) < 1000:\n",
    "    inceptionv3['video-0'][i] = np.append((inceptionv3['video-0'][i]), 0)\n",
    "  while len(inceptionv3['video-56'][i]) < 1000:\n",
    "    inceptionv3['video-56'][i] = np.append((inceptionv3['video-56'][i]), 0)\n",
    "  while len(inceptionv3['video-112'][i]) < 1000:\n",
    "    inceptionv3['video-112'][i] = np.append((inceptionv3['video-112'][i]), 0)\n",
    "  res = np.hstack((inceptionv3['video-0'][i], inceptionv3['video-56'][i], inceptionv3['video-112'][i]))\n",
    "  result_array = np.append(result_array, np.array([res]), axis = 0)"
   ]
  },
  {
   "cell_type": "code",
   "execution_count": null,
   "metadata": {
    "colab": {
     "base_uri": "https://localhost:8080/"
    },
    "id": "ZttwDLSR5HgQ",
    "outputId": "c3e39f4d-b60d-4966-c336-a105134d175f"
   },
   "outputs": [
    {
     "name": "stdout",
     "output_type": "stream",
     "text": [
      "<class 'numpy.ndarray'>\n"
     ]
    },
    {
     "data": {
      "text/plain": [
       "array([[2.926813e-18, 3.022254e-19, 4.139101e-19, ..., 3.913046e-23,\n",
       "        2.295526e-20, 2.015046e-17],\n",
       "       [0.000000e+00, 0.000000e+00, 0.000000e+00, ..., 0.000000e+00,\n",
       "        0.000000e+00, 0.000000e+00],\n",
       "       [1.619819e-33, 0.000000e+00, 0.000000e+00, ..., 0.000000e+00,\n",
       "        0.000000e+00, 0.000000e+00],\n",
       "       ...,\n",
       "       [0.000000e+00, 0.000000e+00, 0.000000e+00, ..., 0.000000e+00,\n",
       "        0.000000e+00, 0.000000e+00],\n",
       "       [7.332495e-25, 2.549710e-34, 7.246693e-37, ..., 0.000000e+00,\n",
       "        0.000000e+00, 6.700695e-37],\n",
       "       [0.000000e+00, 0.000000e+00, 0.000000e+00, ..., 0.000000e+00,\n",
       "        0.000000e+00, 0.000000e+00]])"
      ]
     },
     "execution_count": 47,
     "metadata": {
      "tags": []
     },
     "output_type": "execute_result"
    }
   ],
   "source": [
    "X_arr_inception = result_array\n",
    "del result_array\n",
    "print(type(X_arr_inception))\n",
    "X_arr_inception"
   ]
  },
  {
   "cell_type": "code",
   "execution_count": null,
   "metadata": {
    "id": "CFN8txvJ5KIJ"
   },
   "outputs": [],
   "source": [
    "y = inceptionv3[['short-term_memorability','long-term_memorability']].values"
   ]
  },
  {
   "cell_type": "code",
   "execution_count": null,
   "metadata": {
    "id": "fC1VbcVC5N42"
   },
   "outputs": [],
   "source": [
    "x_train, x_test, y_train, y_test = train_test_split(X_arr_inception, y, test_size=0.2, random_state=42)"
   ]
  },
  {
   "cell_type": "code",
   "execution_count": null,
   "metadata": {
    "colab": {
     "base_uri": "https://localhost:8080/"
    },
    "id": "cE9aap5P5REH",
    "outputId": "8988a975-ec59-42e7-f99f-47bde4659834"
   },
   "outputs": [
    {
     "data": {
      "text/plain": [
       "KNeighborsRegressor(algorithm='auto', leaf_size=30, metric='minkowski',\n",
       "                    metric_params=None, n_jobs=None, n_neighbors=5, p=2,\n",
       "                    weights='uniform')"
      ]
     },
     "execution_count": 50,
     "metadata": {
      "tags": []
     },
     "output_type": "execute_result"
    }
   ],
   "source": [
    "knn = KNeighborsRegressor(n_neighbors=5)\n",
    "knn.fit(x_train, y_train)"
   ]
  },
  {
   "cell_type": "code",
   "execution_count": null,
   "metadata": {
    "id": "l2Ipbzp_5SZu"
   },
   "outputs": [],
   "source": [
    "predictions_test = knn.predict(x_test)"
   ]
  },
  {
   "cell_type": "code",
   "execution_count": null,
   "metadata": {
    "colab": {
     "base_uri": "https://localhost:8080/"
    },
    "id": "AWaCtklF5TpZ",
    "outputId": "02b73191-082e-4d89-e775-5fbefef98a90"
   },
   "outputs": [
    {
     "name": "stdout",
     "output_type": "stream",
     "text": [
      "The Spearman's correlation coefficient is: 0.040\n",
      "The Spearman's correlation coefficient is: 0.018\n"
     ]
    }
   ],
   "source": [
    "Get_score(predictions_test, y_test)"
   ]
  },
  {
   "cell_type": "markdown",
   "metadata": {
    "id": "DM7NYHASht0M"
   },
   "source": [
    "### Aesthetics"
   ]
  },
  {
   "cell_type": "code",
   "execution_count": null,
   "metadata": {
    "id": "f0S5WWUEhzpz"
   },
   "outputs": [],
   "source": [
    "result_array = np.empty((0, 218))\n",
    "\n",
    "for i in aesthetics.index:\n",
    "  while len(aesthetics['aesthetic_feat_dev-set_mean'][i]) < 109:\n",
    "    aesthetics['aesthetic_feat_dev-set_mean'][i] = np.append((aesthetics['aesthetic_feat_dev-set_mean'][i]), 0)\n",
    "  while len(aesthetics['aesthetic_feat_dev-set_median'][i]) < 109:\n",
    "    aesthetics['aesthetic_feat_dev-set_median'][i] = np.append((aesthetics['aesthetic_feat_dev-set_median'][i]), 0)\n",
    "  res = np.hstack((aesthetics['aesthetic_feat_dev-set_mean'][i], aesthetics['aesthetic_feat_dev-set_median'][i]))\n",
    "  result_array = np.append(result_array, np.array([res]), axis = 0)"
   ]
  },
  {
   "cell_type": "code",
   "execution_count": null,
   "metadata": {
    "colab": {
     "base_uri": "https://localhost:8080/"
    },
    "id": "ek_8Wn3-h2Dz",
    "outputId": "ef580333-8192-4bd7-9d53-9283b7793f0f"
   },
   "outputs": [
    {
     "name": "stdout",
     "output_type": "stream",
     "text": [
      "<class 'numpy.ndarray'>\n"
     ]
    },
    {
     "data": {
      "text/plain": [
       "array([[ 0.18389 ,  0.713733,  0.202302, ...,  0.129661,  0.412381,\n",
       "         0.788761],\n",
       "       [ 0.147255,  0.550718,  0.460299, ...,  0.692224,  0.762354,\n",
       "        -0.561793],\n",
       "       [ 0.063933,  0.826933,  0.214129, ...,  0.438261, -0.21956 ,\n",
       "         0.276687],\n",
       "       ...,\n",
       "       [ 0.178087,  0.220956,  0.671676, ...,  0.38719 ,  0.244293,\n",
       "         0.341741],\n",
       "       [ 0.113677,  0.585402,  0.496425, ...,  0.00308 ,  0.365075,\n",
       "        -1.04308 ],\n",
       "       [ 0.554591,  0.134659,  0.691026, ...,  0.783961,  0.621886,\n",
       "        -0.569049]])"
      ]
     },
     "execution_count": 39,
     "metadata": {
      "tags": []
     },
     "output_type": "execute_result"
    }
   ],
   "source": [
    "X_arr_aesthetics = result_array\n",
    "del result_array\n",
    "print(type(X_arr_aesthetics))\n",
    "X_arr_aesthetics"
   ]
  },
  {
   "cell_type": "code",
   "execution_count": null,
   "metadata": {
    "id": "sRdEjDfkh4pd"
   },
   "outputs": [],
   "source": [
    "y = aesthetics[['short-term_memorability','long-term_memorability']].values\n",
    "x_train, x_test, y_train, y_test = train_test_split(X_arr_aesthetics, y, test_size=0.2, random_state=42)"
   ]
  },
  {
   "cell_type": "code",
   "execution_count": null,
   "metadata": {
    "colab": {
     "base_uri": "https://localhost:8080/"
    },
    "id": "AgN0cFNEh8Bn",
    "outputId": "eaf56581-b922-4d18-928b-d4cdc2430c15"
   },
   "outputs": [
    {
     "data": {
      "text/plain": [
       "KNeighborsRegressor(algorithm='auto', leaf_size=30, metric='minkowski',\n",
       "                    metric_params=None, n_jobs=None, n_neighbors=5, p=2,\n",
       "                    weights='uniform')"
      ]
     },
     "execution_count": 41,
     "metadata": {
      "tags": []
     },
     "output_type": "execute_result"
    }
   ],
   "source": [
    "knn = KNeighborsRegressor(n_neighbors=5)\n",
    "knn.fit(x_train, y_train)"
   ]
  },
  {
   "cell_type": "code",
   "execution_count": null,
   "metadata": {
    "id": "235s_f-Vh9ll"
   },
   "outputs": [],
   "source": [
    "predictions_test = knn.predict(x_test)"
   ]
  },
  {
   "cell_type": "code",
   "execution_count": null,
   "metadata": {
    "colab": {
     "base_uri": "https://localhost:8080/"
    },
    "id": "H-Ngf8EKh_Be",
    "outputId": "1535d862-3b14-4dc8-aa99-e8a6e842d08d"
   },
   "outputs": [
    {
     "name": "stdout",
     "output_type": "stream",
     "text": [
      "The Spearman's correlation coefficient is: 0.100\n",
      "The Spearman's correlation coefficient is: 0.027\n"
     ]
    }
   ],
   "source": [
    "Get_score(predictions_test, y_test)"
   ]
  },
  {
   "cell_type": "markdown",
   "metadata": {
    "id": "kaZkHl4fxZJB"
   },
   "source": [
    "### ColorHistogram"
   ]
  },
  {
   "cell_type": "code",
   "execution_count": null,
   "metadata": {
    "colab": {
     "base_uri": "https://localhost:8080/"
    },
    "id": "kxPId4Ecxczh",
    "outputId": "815b2322-c4b4-4d45-e79a-d960f4a51ec0"
   },
   "outputs": [
    {
     "name": "stderr",
     "output_type": "stream",
     "text": [
      "/usr/local/lib/python3.7/dist-packages/ipykernel_launcher.py:5: SettingWithCopyWarning: \n",
      "A value is trying to be set on a copy of a slice from a DataFrame\n",
      "\n",
      "See the caveats in the documentation: https://pandas.pydata.org/pandas-docs/stable/user_guide/indexing.html#returning-a-view-versus-a-copy\n",
      "  \"\"\"\n",
      "/usr/local/lib/python3.7/dist-packages/ipykernel_launcher.py:6: SettingWithCopyWarning: \n",
      "A value is trying to be set on a copy of a slice from a DataFrame\n",
      "\n",
      "See the caveats in the documentation: https://pandas.pydata.org/pandas-docs/stable/user_guide/indexing.html#returning-a-view-versus-a-copy\n",
      "  \n",
      "/usr/local/lib/python3.7/dist-packages/ipykernel_launcher.py:7: SettingWithCopyWarning: \n",
      "A value is trying to be set on a copy of a slice from a DataFrame\n",
      "\n",
      "See the caveats in the documentation: https://pandas.pydata.org/pandas-docs/stable/user_guide/indexing.html#returning-a-view-versus-a-copy\n",
      "  import sys\n"
     ]
    }
   ],
   "source": [
    "# Reusing same variable names to reduce memory.\n",
    "result_array = np.empty((0, 768))\n",
    "\n",
    "for i in ch.index:\n",
    "  ch['video-0'][i] = ch['video-0'][i][0] + ch['video-0'][i][1] + ch['video-0'][i][2]\n",
    "  ch['video-56'][i] = ch['video-56'][i][0] + ch['video-56'][i][1] + ch['video-56'][i][2]\n",
    "  ch['video-112'][i] = ch['video-112'][i][0] + ch['video-112'][i][1] + ch['video-112'][i][2]\n",
    "  res = np.hstack((ch['video-0'][i], ch['video-56'][i], ch['video-112'][i]))\n",
    "  result_array = np.append(result_array, np.array([res]), axis = 0)"
   ]
  },
  {
   "cell_type": "code",
   "execution_count": null,
   "metadata": {
    "colab": {
     "base_uri": "https://localhost:8080/"
    },
    "id": "SuYvgjGPxjYM",
    "outputId": "d30e9c03-6c2b-4e06-e932-4517650e1b8f"
   },
   "outputs": [
    {
     "name": "stdout",
     "output_type": "stream",
     "text": [
      "<class 'numpy.ndarray'>\n"
     ]
    },
    {
     "data": {
      "text/plain": [
       "array([[8.54550e+04, 1.74820e+04, 1.61940e+04, ..., 1.43900e+04,\n",
       "        2.09500e+03, 3.16360e+04],\n",
       "       [6.51922e+05, 2.05142e+05, 2.40695e+05, ..., 0.00000e+00,\n",
       "        0.00000e+00, 0.00000e+00],\n",
       "       [1.56000e+02, 6.40000e+01, 9.30000e+01, ..., 1.02950e+04,\n",
       "        1.99100e+03, 1.16530e+04],\n",
       "       ...,\n",
       "       [2.00000e+01, 7.00000e+00, 1.70000e+01, ..., 7.18000e+02,\n",
       "        2.31000e+02, 1.67000e+02],\n",
       "       [7.02000e+02, 2.59000e+02, 3.56000e+02, ..., 2.58900e+03,\n",
       "        7.32000e+02, 1.39610e+04],\n",
       "       [0.00000e+00, 0.00000e+00, 0.00000e+00, ..., 1.91000e+02,\n",
       "        1.47000e+02, 8.82000e+02]])"
      ]
     },
     "execution_count": 192,
     "metadata": {
      "tags": []
     },
     "output_type": "execute_result"
    }
   ],
   "source": [
    "X_arr_ch = result_array\n",
    "del result_array\n",
    "print(type(X_arr_ch))\n",
    "X_arr_ch"
   ]
  },
  {
   "cell_type": "code",
   "execution_count": null,
   "metadata": {
    "id": "Wq7TVKCtxnTo"
   },
   "outputs": [],
   "source": [
    "y = ch[['short-term_memorability','long-term_memorability']].values\n",
    "x_train, x_test, y_train, y_test = train_test_split(X_arr_ch, y, test_size=0.2, random_state=42)"
   ]
  },
  {
   "cell_type": "code",
   "execution_count": null,
   "metadata": {
    "colab": {
     "base_uri": "https://localhost:8080/"
    },
    "id": "5mBSQU8vxsef",
    "outputId": "f2eb3915-fb1c-4f31-ab4c-830a63c823be"
   },
   "outputs": [
    {
     "data": {
      "text/plain": [
       "KNeighborsRegressor(algorithm='auto', leaf_size=30, metric='minkowski',\n",
       "                    metric_params=None, n_jobs=None, n_neighbors=5, p=2,\n",
       "                    weights='uniform')"
      ]
     },
     "execution_count": 194,
     "metadata": {
      "tags": []
     },
     "output_type": "execute_result"
    }
   ],
   "source": [
    "knn = KNeighborsRegressor(n_neighbors=5)\n",
    "knn.fit(x_train, y_train)"
   ]
  },
  {
   "cell_type": "code",
   "execution_count": null,
   "metadata": {
    "id": "1j8h_k-DxvfX"
   },
   "outputs": [],
   "source": [
    "predictions_test = knn.predict(x_test)"
   ]
  },
  {
   "cell_type": "code",
   "execution_count": null,
   "metadata": {
    "colab": {
     "base_uri": "https://localhost:8080/"
    },
    "id": "jXr1xIJGxyQA",
    "outputId": "49b47bb9-fabf-4ae9-c373-81d8392b6674"
   },
   "outputs": [
    {
     "name": "stdout",
     "output_type": "stream",
     "text": [
      "The Spearman's correlation coefficient is: 0.116\n",
      "The Spearman's correlation coefficient is: 0.014\n"
     ]
    }
   ],
   "source": [
    "Get_score(predictions_test, y_test)"
   ]
  },
  {
   "cell_type": "markdown",
   "metadata": {
    "id": "auuYgg4W7ML2"
   },
   "source": [
    "## Finding Optimum n_neighbors value by plotting graph"
   ]
  },
  {
   "cell_type": "markdown",
   "metadata": {
    "id": "P7Qiwzpx7R-8"
   },
   "source": [
    "### Convolution 3D Feature"
   ]
  },
  {
   "cell_type": "code",
   "execution_count": null,
   "metadata": {
    "colab": {
     "base_uri": "https://localhost:8080/",
     "height": 421
    },
    "id": "Pjvr_Wok7aHe",
    "outputId": "7870319d-a28e-418e-d790-7aacf5925cf8"
   },
   "outputs": [
    {
     "name": "stdout",
     "output_type": "stream",
     "text": [
      "Minimum error:- 0.9808347529812607 at K = 0\n"
     ]
    },
    {
     "data": {
      "image/png": "[encoded data removed]",
      "text/plain": [
       "<Figure size 720x432 with 1 Axes>"
      ]
     },
     "metadata": {
      "needs_background": "light",
      "tags": []
     },
     "output_type": "display_data"
    }
   ],
   "source": [
    "error_rate = []\n",
    "for i in range(1,40):\n",
    "  knn = KNeighborsRegressor(n_neighbors=i)\n",
    "  knn.fit(x_train, y_train)\n",
    "  pred_i = knn.predict(x_test)\n",
    "  error_rate.append(np.mean(pred_i != y_test))\n",
    "\n",
    "plt.figure(figsize=(10,6))\n",
    "plt.plot(range(1,40),error_rate,color='blue', linestyle='dashed', \n",
    "         marker='o',markerfacecolor='red', markersize=10)\n",
    "plt.title('Error Rate vs. K Value')\n",
    "plt.xlabel('K')\n",
    "plt.ylabel('Error Rate')\n",
    "print(\"Minimum error:-\",min(error_rate),\"at K =\",error_rate.index(min(error_rate)))"
   ]
  },
  {
   "cell_type": "markdown",
   "metadata": {
    "id": "CwUJPTy47Us0"
   },
   "source": [
    "### HMP Feature"
   ]
  },
  {
   "cell_type": "code",
   "execution_count": null,
   "metadata": {
    "colab": {
     "base_uri": "https://localhost:8080/",
     "height": 421
    },
    "id": "YCbZIAdH7ywl",
    "outputId": "1af7ed74-31eb-4bb6-b7fc-083acbaa3e43"
   },
   "outputs": [
    {
     "name": "stdout",
     "output_type": "stream",
     "text": [
      "Minimum error:- 0.9758679085520745 at K = 0\n"
     ]
    },
    {
     "data": {
      "image/png": "[encoded data removed]",
      "text/plain": [
       "<Figure size 720x432 with 1 Axes>"
      ]
     },
     "metadata": {
      "needs_background": "light",
      "tags": []
     },
     "output_type": "display_data"
    }
   ],
   "source": [
    "error_rate = []\n",
    "for i in range(1,40):\n",
    "  knn = KNeighborsRegressor(n_neighbors=i)\n",
    "  knn.fit(x_train, y_train)\n",
    "  pred_i = knn.predict(x_test)\n",
    "  error_rate.append(np.mean(pred_i != y_test))\n",
    "\n",
    "plt.figure(figsize=(10,6))\n",
    "plt.plot(range(1,40),error_rate,color='blue', linestyle='dashed', \n",
    "         marker='o',markerfacecolor='red', markersize=10)\n",
    "plt.title('Error Rate vs. K Value')\n",
    "plt.xlabel('K')\n",
    "plt.ylabel('Error Rate')\n",
    "print(\"Minimum error:-\",min(error_rate),\"at K =\",error_rate.index(min(error_rate)))"
   ]
  },
  {
   "cell_type": "markdown",
   "metadata": {
    "id": "2txOy6LZ7WOY"
   },
   "source": [
    "### LBP Feature"
   ]
  },
  {
   "cell_type": "code",
   "execution_count": null,
   "metadata": {
    "colab": {
     "base_uri": "https://localhost:8080/",
     "height": 421
    },
    "id": "y9q96Tjh7zu1",
    "outputId": "bef81c0f-8abe-4288-e461-21e578ead79a"
   },
   "outputs": [
    {
     "name": "stdout",
     "output_type": "stream",
     "text": [
      "Minimum error:- 0.9805475504322767 at K = 0\n"
     ]
    },
    {
     "data": {
      "image/png": "[encoded data removed]",
      "text/plain": [
       "<Figure size 720x432 with 1 Axes>"
      ]
     },
     "metadata": {
      "needs_background": "light",
      "tags": []
     },
     "output_type": "display_data"
    }
   ],
   "source": [
    "error_rate = []\n",
    "for i in range(1,40):\n",
    "  knn = KNeighborsRegressor(n_neighbors=i)\n",
    "  knn.fit(x_train, y_train)\n",
    "  pred_i = knn.predict(x_test)\n",
    "  error_rate.append(np.mean(pred_i != y_test))\n",
    "\n",
    "plt.figure(figsize=(10,6))\n",
    "plt.plot(range(1,40),error_rate,color='blue', linestyle='dashed', \n",
    "         marker='o',markerfacecolor='red', markersize=10)\n",
    "plt.title('Error Rate vs. K Value')\n",
    "plt.xlabel('K')\n",
    "plt.ylabel('Error Rate')\n",
    "print(\"Minimum error:-\",min(error_rate),\"at K =\",error_rate.index(min(error_rate)))"
   ]
  },
  {
   "cell_type": "markdown",
   "metadata": {
    "id": "42rVhw5N7X4S"
   },
   "source": [
    "### InceptionV3"
   ]
  },
  {
   "cell_type": "code",
   "execution_count": null,
   "metadata": {
    "colab": {
     "base_uri": "https://localhost:8080/",
     "height": 421
    },
    "id": "5KazDKkc71H0",
    "outputId": "1c3bc584-4091-4116-e8cd-73f4859081d4"
   },
   "outputs": [
    {
     "name": "stdout",
     "output_type": "stream",
     "text": [
      "Minimum error:- 0.9815384615384616 at K = 0\n"
     ]
    },
    {
     "data": {
      "image/png": "[encoded data removed]",
      "text/plain": [
       "<Figure size 720x432 with 1 Axes>"
      ]
     },
     "metadata": {
      "needs_background": "light",
      "tags": []
     },
     "output_type": "display_data"
    }
   ],
   "source": [
    "error_rate = []\n",
    "for i in range(1,40):\n",
    "  knn = KNeighborsRegressor(n_neighbors=i)\n",
    "  knn.fit(x_train, y_train)\n",
    "  pred_i = knn.predict(x_test)\n",
    "  error_rate.append(np.mean(pred_i != y_test))\n",
    "\n",
    "plt.figure(figsize=(10,6))\n",
    "plt.plot(range(1,40),error_rate,color='blue', linestyle='dashed', \n",
    "         marker='o',markerfacecolor='red', markersize=10)\n",
    "plt.title('Error Rate vs. K Value')\n",
    "plt.xlabel('K')\n",
    "plt.ylabel('Error Rate')\n",
    "print(\"Minimum error:-\",min(error_rate),\"at K =\",error_rate.index(min(error_rate)))"
   ]
  },
  {
   "cell_type": "markdown",
   "metadata": {
    "id": "i5VGXgGPiEg3"
   },
   "source": [
    "### Aesthetics"
   ]
  },
  {
   "cell_type": "code",
   "execution_count": null,
   "metadata": {
    "colab": {
     "base_uri": "https://localhost:8080/",
     "height": 421
    },
    "id": "dJCQN2UfiEBM",
    "outputId": "9aac5a71-3017-47e9-ff80-b1c552b029dd"
   },
   "outputs": [
    {
     "name": "stdout",
     "output_type": "stream",
     "text": [
      "Minimum error:- 0.975 at K = 0\n"
     ]
    },
    {
     "data": {
      "image/png": "[encoded data removed]",
      "text/plain": [
       "<Figure size 720x432 with 1 Axes>"
      ]
     },
     "metadata": {
      "needs_background": "light",
      "tags": []
     },
     "output_type": "display_data"
    }
   ],
   "source": [
    "error_rate = []\n",
    "for i in range(1,40):\n",
    "  knn = KNeighborsRegressor(n_neighbors=i)\n",
    "  knn.fit(x_train, y_train)\n",
    "  pred_i = knn.predict(x_test)\n",
    "  error_rate.append(np.mean(pred_i != y_test))\n",
    "\n",
    "plt.figure(figsize=(10,6))\n",
    "plt.plot(range(1,40),error_rate,color='blue', linestyle='dashed', \n",
    "         marker='o',markerfacecolor='red', markersize=10)\n",
    "plt.title('Error Rate vs. K Value')\n",
    "plt.xlabel('K')\n",
    "plt.ylabel('Error Rate')\n",
    "print(\"Minimum error:-\",min(error_rate),\"at K =\",error_rate.index(min(error_rate)))"
   ]
  },
  {
   "cell_type": "markdown",
   "metadata": {
    "id": "GrPRwneHyPD4"
   },
   "source": [
    "### ColorHistogram"
   ]
  },
  {
   "cell_type": "code",
   "execution_count": null,
   "metadata": {
    "colab": {
     "base_uri": "https://localhost:8080/",
     "height": 421
    },
    "id": "tLKkTuBCySfI",
    "outputId": "ef2134ee-e6aa-422a-81c5-09264346e846"
   },
   "outputs": [
    {
     "name": "stdout",
     "output_type": "stream",
     "text": [
      "Minimum error:- 0.9774281805745554 at K = 0\n"
     ]
    },
    {
     "data": {
      "image/png": "[encoded data removed]",
      "text/plain": [
       "<Figure size 720x432 with 1 Axes>"
      ]
     },
     "metadata": {
      "needs_background": "light",
      "tags": []
     },
     "output_type": "display_data"
    }
   ],
   "source": [
    "error_rate = []\n",
    "for i in range(1,40):\n",
    "  knn = KNeighborsRegressor(n_neighbors=i)\n",
    "  knn.fit(x_train, y_train)\n",
    "  pred_i = knn.predict(x_test)\n",
    "  error_rate.append(np.mean(pred_i != y_test))\n",
    "\n",
    "plt.figure(figsize=(10,6))\n",
    "plt.plot(range(1,40),error_rate,color='blue', linestyle='dashed', \n",
    "         marker='o',markerfacecolor='red', markersize=10)\n",
    "plt.title('Error Rate vs. K Value')\n",
    "plt.xlabel('K')\n",
    "plt.ylabel('Error Rate')\n",
    "print(\"Minimum error:-\",min(error_rate),\"at K =\",error_rate.index(min(error_rate)))"
   ]
  },
  {
   "cell_type": "markdown",
   "metadata": {
    "id": "-jJNGEUREO6P"
   },
   "source": [
    "## Training using Optimum n_neighbors Value"
   ]
  },
  {
   "cell_type": "markdown",
   "metadata": {
    "id": "mHAwoLwmEX08"
   },
   "source": [
    "### Convolution 3D Feature"
   ]
  },
  {
   "cell_type": "code",
   "execution_count": null,
   "metadata": {
    "colab": {
     "base_uri": "https://localhost:8080/"
    },
    "id": "yCje_ZsnEoqS",
    "outputId": "99abe4a0-6b8c-40a6-d4ac-cd1a905748f9"
   },
   "outputs": [
    {
     "data": {
      "text/plain": [
       "KNeighborsRegressor(algorithm='auto', leaf_size=30, metric='minkowski',\n",
       "                    metric_params=None, n_jobs=None, n_neighbors=1, p=2,\n",
       "                    weights='uniform')"
      ]
     },
     "execution_count": 75,
     "metadata": {
      "tags": []
     },
     "output_type": "execute_result"
    }
   ],
   "source": [
    "knn = KNeighborsRegressor(n_neighbors=1)\n",
    "knn.fit(x_train, y_train)"
   ]
  },
  {
   "cell_type": "code",
   "execution_count": null,
   "metadata": {
    "id": "Lf1M0aWDErwY"
   },
   "outputs": [],
   "source": [
    "predictions_test = knn.predict(x_test)"
   ]
  },
  {
   "cell_type": "code",
   "execution_count": null,
   "metadata": {
    "colab": {
     "base_uri": "https://localhost:8080/"
    },
    "id": "7qgp939ZEugs",
    "outputId": "b41b400e-9ef5-4932-80ce-4f36710a185f"
   },
   "outputs": [
    {
     "name": "stdout",
     "output_type": "stream",
     "text": [
      "The Spearman's correlation coefficient is: 0.100\n",
      "The Spearman's correlation coefficient is: -0.009\n"
     ]
    }
   ],
   "source": [
    "Get_score(predictions_test, y_test)"
   ]
  },
  {
   "cell_type": "markdown",
   "metadata": {
    "id": "6RFM0FxbEZx5"
   },
   "source": [
    "### HMP Feature"
   ]
  },
  {
   "cell_type": "code",
   "execution_count": null,
   "metadata": {
    "colab": {
     "base_uri": "https://localhost:8080/"
    },
    "id": "KYdk6eISEwYU",
    "outputId": "97416d36-6cbc-403f-d93d-a4e82a97731a"
   },
   "outputs": [
    {
     "data": {
      "text/plain": [
       "KNeighborsRegressor(algorithm='auto', leaf_size=30, metric='minkowski',\n",
       "                    metric_params=None, n_jobs=None, n_neighbors=1, p=2,\n",
       "                    weights='uniform')"
      ]
     },
     "execution_count": 80,
     "metadata": {
      "tags": []
     },
     "output_type": "execute_result"
    }
   ],
   "source": [
    "knn = KNeighborsRegressor(n_neighbors=1)\n",
    "knn.fit(x_train, y_train)"
   ]
  },
  {
   "cell_type": "code",
   "execution_count": null,
   "metadata": {
    "id": "ygP04rjjExbf"
   },
   "outputs": [],
   "source": [
    "predictions_test = knn.predict(x_test)"
   ]
  },
  {
   "cell_type": "code",
   "execution_count": null,
   "metadata": {
    "colab": {
     "base_uri": "https://localhost:8080/"
    },
    "id": "55fxnoSyEyYe",
    "outputId": "5b060872-87a5-4638-a9f4-a61b9eabda8f"
   },
   "outputs": [
    {
     "name": "stdout",
     "output_type": "stream",
     "text": [
      "The Spearman's correlation coefficient is: 0.154\n",
      "The Spearman's correlation coefficient is: 0.047\n"
     ]
    }
   ],
   "source": [
    "Get_score(predictions_test, y_test)"
   ]
  },
  {
   "cell_type": "markdown",
   "metadata": {
    "id": "U1t3PlsKEbWJ"
   },
   "source": [
    "### LBP Feature"
   ]
  },
  {
   "cell_type": "code",
   "execution_count": null,
   "metadata": {
    "colab": {
     "base_uri": "https://localhost:8080/"
    },
    "id": "DVHjJVTWE0XQ",
    "outputId": "9e17f145-6224-4a1a-cf11-2f1fad4bb938"
   },
   "outputs": [
    {
     "data": {
      "text/plain": [
       "KNeighborsRegressor(algorithm='auto', leaf_size=30, metric='minkowski',\n",
       "                    metric_params=None, n_jobs=None, n_neighbors=1, p=2,\n",
       "                    weights='uniform')"
      ]
     },
     "execution_count": 85,
     "metadata": {
      "tags": []
     },
     "output_type": "execute_result"
    }
   ],
   "source": [
    "knn = KNeighborsRegressor(n_neighbors=1)\n",
    "knn.fit(x_train, y_train)"
   ]
  },
  {
   "cell_type": "code",
   "execution_count": null,
   "metadata": {
    "id": "YTwS3yneE028"
   },
   "outputs": [],
   "source": [
    "predictions_test = knn.predict(x_test)"
   ]
  },
  {
   "cell_type": "code",
   "execution_count": null,
   "metadata": {
    "colab": {
     "base_uri": "https://localhost:8080/"
    },
    "id": "QNj5QwXnE2Dl",
    "outputId": "81d0df13-f7f6-4d52-f922-41a485ee30ad"
   },
   "outputs": [
    {
     "name": "stdout",
     "output_type": "stream",
     "text": [
      "The Spearman's correlation coefficient is: 0.072\n",
      "The Spearman's correlation coefficient is: 0.073\n"
     ]
    }
   ],
   "source": [
    "Get_score(predictions_test, y_test)"
   ]
  },
  {
   "cell_type": "markdown",
   "metadata": {
    "id": "QDznK1taEcrE"
   },
   "source": [
    "### InceptionV3"
   ]
  },
  {
   "cell_type": "code",
   "execution_count": null,
   "metadata": {
    "colab": {
     "base_uri": "https://localhost:8080/"
    },
    "id": "dkffLBLME4Ac",
    "outputId": "403f8a9e-2646-413b-e3b9-509d3c1373e4"
   },
   "outputs": [
    {
     "data": {
      "text/plain": [
       "KNeighborsRegressor(algorithm='auto', leaf_size=30, metric='minkowski',\n",
       "                    metric_params=None, n_jobs=None, n_neighbors=15, p=2,\n",
       "                    weights='uniform')"
      ]
     },
     "execution_count": 117,
     "metadata": {
      "tags": []
     },
     "output_type": "execute_result"
    }
   ],
   "source": [
    "knn = KNeighborsRegressor(n_neighbors=15)\n",
    "knn.fit(x_train, y_train)"
   ]
  },
  {
   "cell_type": "code",
   "execution_count": null,
   "metadata": {
    "id": "62DUi7rhE42Y"
   },
   "outputs": [],
   "source": [
    "predictions_test = knn.predict(x_test)"
   ]
  },
  {
   "cell_type": "code",
   "execution_count": null,
   "metadata": {
    "colab": {
     "base_uri": "https://localhost:8080/"
    },
    "id": "3NcIHqNcE50C",
    "outputId": "b902fec2-7582-4f5c-c5e4-b4d7c97f80d7"
   },
   "outputs": [
    {
     "name": "stdout",
     "output_type": "stream",
     "text": [
      "The Spearman's correlation coefficient is: 0.097\n",
      "The Spearman's correlation coefficient is: 0.022\n"
     ]
    }
   ],
   "source": [
    "Get_score(predictions_test, y_test)"
   ]
  },
  {
   "cell_type": "markdown",
   "metadata": {
    "id": "8O-CgbcKiwA1"
   },
   "source": [
    "### Aesthetics"
   ]
  },
  {
   "cell_type": "code",
   "execution_count": null,
   "metadata": {
    "colab": {
     "base_uri": "https://localhost:8080/"
    },
    "id": "rHowM0fKitxQ",
    "outputId": "f816cad5-094d-41b3-e3d8-09c4e7c4a531"
   },
   "outputs": [
    {
     "data": {
      "text/plain": [
       "KNeighborsRegressor(algorithm='auto', leaf_size=30, metric='minkowski',\n",
       "                    metric_params=None, n_jobs=None, n_neighbors=50, p=2,\n",
       "                    weights='uniform')"
      ]
     },
     "execution_count": 48,
     "metadata": {
      "tags": []
     },
     "output_type": "execute_result"
    }
   ],
   "source": [
    "knn = KNeighborsRegressor(n_neighbors=50)\n",
    "knn.fit(x_train, y_train)"
   ]
  },
  {
   "cell_type": "code",
   "execution_count": null,
   "metadata": {
    "id": "8oM0_zbbiyq1"
   },
   "outputs": [],
   "source": [
    "predictions_test = knn.predict(x_test)"
   ]
  },
  {
   "cell_type": "code",
   "execution_count": null,
   "metadata": {
    "colab": {
     "base_uri": "https://localhost:8080/"
    },
    "id": "cOG-v9ldi0RU",
    "outputId": "9cbdd90f-deee-4dc8-f749-8ecf1a2914d7"
   },
   "outputs": [
    {
     "name": "stdout",
     "output_type": "stream",
     "text": [
      "The Spearman's correlation coefficient is: 0.137\n",
      "The Spearman's correlation coefficient is: 0.057\n"
     ]
    }
   ],
   "source": [
    "Get_score(predictions_test, y_test)"
   ]
  },
  {
   "cell_type": "markdown",
   "metadata": {
    "id": "BCu2X3DPyXNl"
   },
   "source": [
    "### ColorHistogram"
   ]
  },
  {
   "cell_type": "code",
   "execution_count": null,
   "metadata": {
    "colab": {
     "base_uri": "https://localhost:8080/"
    },
    "id": "0KH46Y-wyao9",
    "outputId": "34ae03fa-fad4-4a45-9dc3-a14b1384d3c0"
   },
   "outputs": [
    {
     "name": "stdout",
     "output_type": "stream",
     "text": [
      "The Spearman's correlation coefficient is: 0.116\n",
      "The Spearman's correlation coefficient is: 0.014\n"
     ]
    }
   ],
   "source": [
    "knn = KNeighborsRegressor(n_neighbors=5)\n",
    "knn.fit(x_train, y_train)\n",
    "predictions_test = knn.predict(x_test)\n",
    "Get_score(predictions_test, y_test)"
   ]
  },
  {
   "cell_type": "markdown",
   "metadata": {
    "id": "ze9FTpZOGgmH"
   },
   "source": [
    "NOTE: As the number of neighbors are growing the spearman coefficient is increasing. Check out InceptionV3"
   ]
  },
  {
   "cell_type": "markdown",
   "metadata": {
    "id": "-gX3DxLkCuy7"
   },
   "source": [
    "# Model 5: Extreme Gradient Boosting Algorithm using Scikit-Learn API"
   ]
  },
  {
   "cell_type": "markdown",
   "metadata": {
    "id": "k7oUdI3QBFTp"
   },
   "source": [
    "**NOTE:** n-estimator value for Extreme Gradient Boosting was found out by running the model for multiple values follow the hit and trial method"
   ]
  },
  {
   "cell_type": "markdown",
   "metadata": {
    "id": "ySNX8TX5C6C5"
   },
   "source": [
    "## Convolution 3D Feature"
   ]
  },
  {
   "cell_type": "code",
   "execution_count": null,
   "metadata": {
    "id": "ZzmOotYvD21Q"
   },
   "outputs": [],
   "source": [
    "## Length of C3D feature is 101\n",
    "result_array = np.empty((0, 101))\n",
    "for line in c3d['c3d']:\n",
    "    result_array = np.append(result_array, np.array([line]), axis = 0)"
   ]
  },
  {
   "cell_type": "code",
   "execution_count": null,
   "metadata": {
    "colab": {
     "base_uri": "https://localhost:8080/"
    },
    "id": "d8U3NXP0D5tn",
    "outputId": "5deac88a-3aa2-4cea-aeb3-39250f199ca7"
   },
   "outputs": [
    {
     "name": "stdout",
     "output_type": "stream",
     "text": [
      "<class 'numpy.ndarray'>\n"
     ]
    },
    {
     "data": {
      "text/plain": [
       "array([[2.0249420e-02, 1.5778000e-03, 8.2625000e-04, ..., 3.3907000e-04,\n",
       "        8.4368300e-03, 4.7004000e-04],\n",
       "       [1.1800000e-04, 8.9075000e-04, 1.8769000e-04, ..., 1.5891000e-04,\n",
       "        1.0252100e-03, 2.0460000e-05],\n",
       "       [1.1765220e-02, 7.4577000e-04, 7.8353000e-04, ..., 5.3803300e-03,\n",
       "        1.0274800e-03, 1.3844800e-03],\n",
       "       ...,\n",
       "       [2.5890000e-05, 1.2192000e-04, 2.7810000e-05, ..., 7.1593200e-03,\n",
       "        4.9575200e-03, 8.9156000e-04],\n",
       "       [2.6509121e-01, 9.6539180e-02, 5.9710000e-05, ..., 1.0834000e-04,\n",
       "        1.2682000e-03, 7.1027000e-04],\n",
       "       [2.0589490e-02, 1.2214100e-03, 2.0660700e-03, ..., 8.2839000e-04,\n",
       "        4.9012800e-03, 1.1848300e-03]])"
      ]
     },
     "execution_count": 111,
     "metadata": {
      "tags": []
     },
     "output_type": "execute_result"
    }
   ],
   "source": [
    "X_arrC3D = result_array\n",
    "del result_array\n",
    "print(type(X_arrC3D))\n",
    "X_arrC3D"
   ]
  },
  {
   "cell_type": "code",
   "execution_count": null,
   "metadata": {
    "id": "lNFrR50oD8tZ"
   },
   "outputs": [],
   "source": [
    "y_short = c3d[['short-term_memorability']].values\n",
    "y_long = c3d[['long-term_memorability']].values"
   ]
  },
  {
   "cell_type": "code",
   "execution_count": null,
   "metadata": {
    "id": "01mZRTsiEACA"
   },
   "outputs": [],
   "source": [
    "# Splitting the dataset into the Training set and Test set\n",
    "short_x_train,short_x_test,short_y_train,short_y_test = train_test_split(X_arrC3D,y_short,test_size=0.2,random_state=42)\n",
    "long_x_train,long_x_test,long_y_train,long_y_test = train_test_split(X_arrC3D,y_long,test_size=0.2,random_state=42)"
   ]
  },
  {
   "cell_type": "code",
   "execution_count": null,
   "metadata": {
    "colab": {
     "base_uri": "https://localhost:8080/"
    },
    "id": "wkKsf6yVIPP0",
    "outputId": "d7586e5d-9dd1-447c-a1b6-2eadaa86f3da"
   },
   "outputs": [
    {
     "name": "stdout",
     "output_type": "stream",
     "text": [
      "[10:45:14] WARNING: /workspace/src/objective/regression_obj.cu:152: reg:linear is now deprecated in favor of reg:squarederror.\n",
      "[10:45:20] WARNING: /workspace/src/objective/regression_obj.cu:152: reg:linear is now deprecated in favor of reg:squarederror.\n"
     ]
    },
    {
     "data": {
      "text/plain": [
       "XGBRegressor(base_score=0.5, booster='gbtree', colsample_bylevel=1,\n",
       "             colsample_bynode=1, colsample_bytree=1, gamma=0,\n",
       "             importance_type='gain', learning_rate=0.1, max_delta_step=0,\n",
       "             max_depth=3, min_child_weight=1, missing=None, n_estimators=200,\n",
       "             n_jobs=1, nthread=None, objective='reg:linear', random_state=0,\n",
       "             reg_alpha=0, reg_lambda=1, scale_pos_weight=1, seed=None,\n",
       "             silent=None, subsample=1, verbosity=1)"
      ]
     },
     "execution_count": 114,
     "metadata": {
      "tags": []
     },
     "output_type": "execute_result"
    }
   ],
   "source": [
    "short_xgb = XGBRegressor(n_estimators=200)\n",
    "long_xgb = XGBRegressor(n_estimators=200)\n",
    "short_xgb.fit(short_x_train, short_y_train)\n",
    "long_xgb.fit(long_x_train,long_y_train)"
   ]
  },
  {
   "cell_type": "code",
   "execution_count": null,
   "metadata": {
    "id": "ed5l4Q1yEDsy"
   },
   "outputs": [],
   "source": [
    "short_pred = short_xgb.predict(short_x_test)\n",
    "long_pred = long_xgb.predict(long_x_test)"
   ]
  },
  {
   "cell_type": "code",
   "execution_count": null,
   "metadata": {
    "colab": {
     "base_uri": "https://localhost:8080/"
    },
    "id": "Qfp4AHw0EKWm",
    "outputId": "03cc98ab-90d4-4e7d-b86a-50471465328b"
   },
   "outputs": [
    {
     "name": "stdout",
     "output_type": "stream",
     "text": [
      "The Spearman's correlation coefficient is: 0.281\n",
      "The Spearman's correlation coefficient is: 0.116\n"
     ]
    }
   ],
   "source": [
    "Get_score(short_pred, short_y_test)\n",
    "Get_score(long_pred, long_y_test)"
   ]
  },
  {
   "cell_type": "markdown",
   "metadata": {
    "id": "6tL6RsgsC9gK"
   },
   "source": [
    "## HMP Feature"
   ]
  },
  {
   "cell_type": "code",
   "execution_count": null,
   "metadata": {
    "id": "-QYjzwl7KwNO"
   },
   "outputs": [],
   "source": [
    "# Reusing same variable names to reduce memory.\n",
    "result_array = np.empty((0, 6075))\n",
    "for line in hmp['hmp']:\n",
    "    result_array = np.append(result_array, np.array([line]), axis = 0)"
   ]
  },
  {
   "cell_type": "code",
   "execution_count": null,
   "metadata": {
    "colab": {
     "base_uri": "https://localhost:8080/"
    },
    "id": "evvE2gr6LreL",
    "outputId": "a1ecb4fb-7589-4f1d-f629-8cb316eb0105"
   },
   "outputs": [
    {
     "name": "stdout",
     "output_type": "stream",
     "text": [
      "<class 'numpy.ndarray'>\n"
     ]
    },
    {
     "data": {
      "text/plain": [
       "array([[1.25563e-01, 2.40360e-02, 3.14000e-04, ..., 8.60000e-05,\n",
       "        5.80000e-04, 0.00000e+00],\n",
       "       [7.52600e-03, 1.42100e-03, 6.80000e-05, ..., 2.20000e-04,\n",
       "        7.62000e-04, 1.22400e-03],\n",
       "       [1.09584e-01, 1.89780e-02, 2.89000e-04, ..., 5.20000e-05,\n",
       "        2.58000e-04, 2.15000e-04],\n",
       "       ...,\n",
       "       [2.31390e-02, 7.43500e-03, 3.22000e-04, ..., 7.56000e-04,\n",
       "        7.38000e-04, 2.14000e-04],\n",
       "       [1.49000e-02, 4.60700e-03, 9.90000e-05, ..., 6.40000e-05,\n",
       "        6.40000e-05, 1.10000e-05],\n",
       "       [4.15920e-02, 1.30470e-02, 4.48000e-04, ..., 2.89000e-04,\n",
       "        9.88000e-04, 1.61000e-04]])"
      ]
     },
     "execution_count": 90,
     "metadata": {
      "tags": []
     },
     "output_type": "execute_result"
    }
   ],
   "source": [
    "X_arrHMP = result_array\n",
    "del result_array\n",
    "print(type(X_arrHMP))\n",
    "X_arrHMP"
   ]
  },
  {
   "cell_type": "code",
   "execution_count": null,
   "metadata": {
    "id": "87cOSzLOLumN"
   },
   "outputs": [],
   "source": [
    "y_short = hmp[['short-term_memorability']].values\n",
    "y_long = hmp[['long-term_memorability']].values"
   ]
  },
  {
   "cell_type": "code",
   "execution_count": null,
   "metadata": {
    "id": "9T8DYCyrL0Xc"
   },
   "outputs": [],
   "source": [
    "# Splitting the dataset into the Training set and Test set\n",
    "short_x_train,short_x_test,short_y_train,short_y_test = train_test_split(X_arrHMP,y_short,test_size=0.2,random_state=42)\n",
    "long_x_train,long_x_test,long_y_train,long_y_test = train_test_split(X_arrHMP,y_long,test_size=0.2,random_state=42)"
   ]
  },
  {
   "cell_type": "code",
   "execution_count": null,
   "metadata": {
    "colab": {
     "base_uri": "https://localhost:8080/"
    },
    "id": "hJ26ceVeEY3u",
    "outputId": "fec218f2-f15c-4def-ccea-d24417260c3b"
   },
   "outputs": [
    {
     "name": "stdout",
     "output_type": "stream",
     "text": [
      "[10:34:48] WARNING: /workspace/src/objective/regression_obj.cu:152: reg:linear is now deprecated in favor of reg:squarederror.\n",
      "[10:37:11] WARNING: /workspace/src/objective/regression_obj.cu:152: reg:linear is now deprecated in favor of reg:squarederror.\n"
     ]
    },
    {
     "data": {
      "text/plain": [
       "XGBRegressor(base_score=0.5, booster='gbtree', colsample_bylevel=1,\n",
       "             colsample_bynode=1, colsample_bytree=1, gamma=0,\n",
       "             importance_type='gain', learning_rate=0.1, max_delta_step=0,\n",
       "             max_depth=3, min_child_weight=1, missing=None, n_estimators=200,\n",
       "             n_jobs=1, nthread=None, objective='reg:linear', random_state=0,\n",
       "             reg_alpha=0, reg_lambda=1, scale_pos_weight=1, seed=None,\n",
       "             silent=None, subsample=1, verbosity=1)"
      ]
     },
     "execution_count": 93,
     "metadata": {
      "tags": []
     },
     "output_type": "execute_result"
    }
   ],
   "source": [
    "short_xgb = XGBRegressor(n_estimators=200)\n",
    "long_xgb = XGBRegressor(n_estimators=200)\n",
    "short_xgb.fit(short_x_train, short_y_train)\n",
    "long_xgb.fit(long_x_train,long_y_train)"
   ]
  },
  {
   "cell_type": "code",
   "execution_count": null,
   "metadata": {
    "id": "lvW4FdtKEddE"
   },
   "outputs": [],
   "source": [
    "short_pred = short_xgb.predict(short_x_test)\n",
    "long_pred = long_xgb.predict(long_x_test)"
   ]
  },
  {
   "cell_type": "code",
   "execution_count": null,
   "metadata": {
    "colab": {
     "base_uri": "https://localhost:8080/"
    },
    "id": "Qq3cBE1Pcczx",
    "outputId": "a0a41d99-fd90-42c8-ddab-0b48539556dc"
   },
   "outputs": [
    {
     "data": {
      "text/plain": [
       "(1181,)"
      ]
     },
     "execution_count": 95,
     "metadata": {
      "tags": []
     },
     "output_type": "execute_result"
    }
   ],
   "source": [
    "long_pred.shape"
   ]
  },
  {
   "cell_type": "code",
   "execution_count": null,
   "metadata": {
    "colab": {
     "base_uri": "https://localhost:8080/"
    },
    "id": "5SN87O1BEe_J",
    "outputId": "14e46966-8fed-4f60-c2ec-c5f7bb3836fb"
   },
   "outputs": [
    {
     "name": "stdout",
     "output_type": "stream",
     "text": [
      "The Spearman's correlation coefficient is: 0.287\n",
      "The Spearman's correlation coefficient is: 0.079\n"
     ]
    }
   ],
   "source": [
    "Get_score(short_pred, short_y_test)\n",
    "Get_score(long_pred, long_y_test)"
   ]
  },
  {
   "cell_type": "markdown",
   "metadata": {
    "id": "SlWfz3r2C-4c"
   },
   "source": [
    "## LBP Feature"
   ]
  },
  {
   "cell_type": "code",
   "execution_count": null,
   "metadata": {
    "colab": {
     "base_uri": "https://localhost:8080/"
    },
    "id": "8_RdAERlFrBW",
    "outputId": "a6ded5d1-e947-4210-d0c8-153a1af72e1a"
   },
   "outputs": [
    {
     "name": "stderr",
     "output_type": "stream",
     "text": [
      "/usr/local/lib/python3.7/dist-packages/ipykernel_launcher.py:6: SettingWithCopyWarning: \n",
      "A value is trying to be set on a copy of a slice from a DataFrame\n",
      "\n",
      "See the caveats in the documentation: https://pandas.pydata.org/pandas-docs/stable/user_guide/indexing.html#returning-a-view-versus-a-copy\n",
      "  \n"
     ]
    }
   ],
   "source": [
    "# Reusing same variable names to reduce memory.\n",
    "result_array = np.empty((0, 366))\n",
    "\n",
    "for i in lbp.index:\n",
    "  while len(lbp['video-0'][i]) < 122:\n",
    "    lbp['video-0'][i] = np.append((lbp['video-0'][i]), 0)\n",
    "  while len(lbp['video-56'][i]) < 122:\n",
    "    lbp['video-56'][i] = np.append((lbp['video-56'][i]), 0)\n",
    "  while len(lbp['video-112'][i]) < 122:\n",
    "    lbp['video-112'][i] = np.append((lbp['video-112'][i]), 0)\n",
    "  res = np.hstack((lbp['video-0'][i], lbp['video-56'][i], lbp['video-112'][i]))\n",
    "  result_array = np.append(result_array, np.array([res]), axis = 0)"
   ]
  },
  {
   "cell_type": "code",
   "execution_count": null,
   "metadata": {
    "colab": {
     "base_uri": "https://localhost:8080/"
    },
    "id": "bwLjegvWGWKe",
    "outputId": "ce8fff92-8fe2-44e9-aa18-f0cd907a69f7"
   },
   "outputs": [
    {
     "name": "stdout",
     "output_type": "stream",
     "text": [
      "<class 'numpy.ndarray'>\n"
     ]
    },
    {
     "data": {
      "text/plain": [
       "array([[0.00966435, 0.00291811, 0.00219425, ..., 0.00153356, 0.02053385,\n",
       "        0.46106385],\n",
       "       [0.01084008, 0.00189525, 0.00154128, ..., 0.00201196, 0.1233642 ,\n",
       "        0.48225502],\n",
       "       [0.01163436, 0.00431472, 0.00321277, ..., 0.00585455, 0.22441985,\n",
       "        0.53576003],\n",
       "       ...,\n",
       "       [0.01986834, 0.00499807, 0.00462867, ..., 0.00459732, 0.02559655,\n",
       "        0.77324701],\n",
       "       [0.01122299, 0.00182677, 0.00189284, ..., 0.00292197, 0.03341098,\n",
       "        0.53772618],\n",
       "       [0.00933883, 0.00161941, 0.00137346, ..., 0.00222029, 0.03523389,\n",
       "        0.49374518]])"
      ]
     },
     "execution_count": 124,
     "metadata": {
      "tags": []
     },
     "output_type": "execute_result"
    }
   ],
   "source": [
    "X_arrLBP = result_array\n",
    "del result_array\n",
    "print(type(X_arrLBP))\n",
    "X_arrLBP"
   ]
  },
  {
   "cell_type": "code",
   "execution_count": null,
   "metadata": {
    "id": "aLVjt0c4GaOy"
   },
   "outputs": [],
   "source": [
    "y_short = lbp[['short-term_memorability']].values\n",
    "y_long = lbp[['long-term_memorability']].values"
   ]
  },
  {
   "cell_type": "code",
   "execution_count": null,
   "metadata": {
    "id": "g89KWGJKGfTa"
   },
   "outputs": [],
   "source": [
    "# Splitting the dataset into the Training set and Test set\n",
    "short_x_train,short_x_test,short_y_train,short_y_test = train_test_split(X_arrLBP,y_short,test_size=0.2,random_state=42)\n",
    "long_x_train,long_x_test,long_y_train,long_y_test = train_test_split(X_arrLBP,y_long,test_size=0.2,random_state=42)"
   ]
  },
  {
   "cell_type": "code",
   "execution_count": null,
   "metadata": {
    "colab": {
     "base_uri": "https://localhost:8080/"
    },
    "id": "D3Ix3xsTGtL6",
    "outputId": "61e9e7c4-dc23-4532-8751-c3a0acab4087"
   },
   "outputs": [
    {
     "name": "stdout",
     "output_type": "stream",
     "text": [
      "[10:48:00] WARNING: /workspace/src/objective/regression_obj.cu:152: reg:linear is now deprecated in favor of reg:squarederror.\n",
      "[10:48:12] WARNING: /workspace/src/objective/regression_obj.cu:152: reg:linear is now deprecated in favor of reg:squarederror.\n"
     ]
    },
    {
     "data": {
      "text/plain": [
       "XGBRegressor(base_score=0.5, booster='gbtree', colsample_bylevel=1,\n",
       "             colsample_bynode=1, colsample_bytree=1, gamma=0,\n",
       "             importance_type='gain', learning_rate=0.1, max_delta_step=0,\n",
       "             max_depth=3, min_child_weight=1, missing=None, n_estimators=250,\n",
       "             n_jobs=1, nthread=None, objective='reg:linear', random_state=0,\n",
       "             reg_alpha=0, reg_lambda=1, scale_pos_weight=1, seed=None,\n",
       "             silent=None, subsample=1, verbosity=1)"
      ]
     },
     "execution_count": 133,
     "metadata": {
      "tags": []
     },
     "output_type": "execute_result"
    }
   ],
   "source": [
    "short_xgb = XGBRegressor(n_estimators=200)\n",
    "long_xgb = XGBRegressor(n_estimators=250)\n",
    "short_xgb.fit(short_x_train, short_y_train)\n",
    "long_xgb.fit(long_x_train,long_y_train)"
   ]
  },
  {
   "cell_type": "code",
   "execution_count": null,
   "metadata": {
    "id": "z9TE4dJ3G2eh"
   },
   "outputs": [],
   "source": [
    "short_pred = short_xgb.predict(short_x_test)\n",
    "long_pred = long_xgb.predict(long_x_test)"
   ]
  },
  {
   "cell_type": "code",
   "execution_count": null,
   "metadata": {
    "colab": {
     "base_uri": "https://localhost:8080/"
    },
    "id": "SLU9CyeKG4Yr",
    "outputId": "267cfed3-b640-4ba9-e3b6-0892e19195cb"
   },
   "outputs": [
    {
     "name": "stdout",
     "output_type": "stream",
     "text": [
      "The Spearman's correlation coefficient is: 0.227\n",
      "The Spearman's correlation coefficient is: 0.068\n"
     ]
    }
   ],
   "source": [
    "Get_score(short_pred, short_y_test)\n",
    "Get_score(long_pred, long_y_test)"
   ]
  },
  {
   "cell_type": "markdown",
   "metadata": {
    "id": "sa9w7L8KDBw_"
   },
   "source": [
    "## InceptionV3"
   ]
  },
  {
   "cell_type": "code",
   "execution_count": null,
   "metadata": {
    "id": "qwvWXoqyH9YE"
   },
   "outputs": [],
   "source": [
    "# Reusing same variable names to reduce memory.\n",
    "# Reusing same variable names to reduce memory.\n",
    "result_array = np.empty((0, 3000))\n",
    "\n",
    "for i in inceptionv3.index:\n",
    "  while len(inceptionv3['video-0'][i]) < 1000:\n",
    "    inceptionv3['video-0'][i] = np.append((inceptionv3['video-0'][i]), 0)\n",
    "  while len(inceptionv3['video-56'][i]) < 1000:\n",
    "    inceptionv3['video-56'][i] = np.append((inceptionv3['video-56'][i]), 0)\n",
    "  while len(inceptionv3['video-112'][i]) < 1000:\n",
    "    inceptionv3['video-112'][i] = np.append((inceptionv3['video-112'][i]), 0)\n",
    "  res = np.hstack((inceptionv3['video-0'][i], inceptionv3['video-56'][i], inceptionv3['video-112'][i]))\n",
    "  result_array = np.append(result_array, np.array([res]), axis = 0)"
   ]
  },
  {
   "cell_type": "code",
   "execution_count": null,
   "metadata": {
    "colab": {
     "base_uri": "https://localhost:8080/"
    },
    "id": "0jNN78_sIAqo",
    "outputId": "3c09e294-ecb5-4c30-d27e-5d7d73fa17bc"
   },
   "outputs": [
    {
     "name": "stdout",
     "output_type": "stream",
     "text": [
      "<class 'numpy.ndarray'>\n"
     ]
    },
    {
     "data": {
      "text/plain": [
       "array([[2.926813e-18, 3.022254e-19, 4.139101e-19, ..., 3.913046e-23,\n",
       "        2.295526e-20, 2.015046e-17],\n",
       "       [0.000000e+00, 0.000000e+00, 0.000000e+00, ..., 0.000000e+00,\n",
       "        0.000000e+00, 0.000000e+00],\n",
       "       [1.619819e-33, 0.000000e+00, 0.000000e+00, ..., 0.000000e+00,\n",
       "        0.000000e+00, 0.000000e+00],\n",
       "       ...,\n",
       "       [0.000000e+00, 0.000000e+00, 0.000000e+00, ..., 0.000000e+00,\n",
       "        0.000000e+00, 0.000000e+00],\n",
       "       [7.332495e-25, 2.549710e-34, 7.246693e-37, ..., 0.000000e+00,\n",
       "        0.000000e+00, 6.700695e-37],\n",
       "       [0.000000e+00, 0.000000e+00, 0.000000e+00, ..., 0.000000e+00,\n",
       "        0.000000e+00, 0.000000e+00]])"
      ]
     },
     "execution_count": 41,
     "metadata": {
      "tags": []
     },
     "output_type": "execute_result"
    }
   ],
   "source": [
    "X_arr_inception = result_array\n",
    "del result_array\n",
    "print(type(X_arr_inception))\n",
    "X_arr_inception"
   ]
  },
  {
   "cell_type": "code",
   "execution_count": null,
   "metadata": {
    "id": "TOtJoKbsIEb8"
   },
   "outputs": [],
   "source": [
    "y_short = inceptionv3[['short-term_memorability']].values\n",
    "y_long = inceptionv3[['long-term_memorability']].values"
   ]
  },
  {
   "cell_type": "code",
   "execution_count": null,
   "metadata": {
    "id": "cmllCpRzII4R"
   },
   "outputs": [],
   "source": [
    "# Splitting the dataset into the Training set and Test set\n",
    "short_x_train,short_x_test,short_y_train,short_y_test = train_test_split(X_arr_inception,y_short,test_size=0.2,random_state=42)\n",
    "long_x_train,long_x_test,long_y_train,long_y_test = train_test_split(X_arr_inception,y_long,test_size=0.2,random_state=42)"
   ]
  },
  {
   "cell_type": "code",
   "execution_count": null,
   "metadata": {
    "colab": {
     "base_uri": "https://localhost:8080/"
    },
    "id": "N24RBjncILGr",
    "outputId": "8d50c79b-995e-437c-eeae-9937b3bbf0a6"
   },
   "outputs": [
    {
     "name": "stdout",
     "output_type": "stream",
     "text": [
      "[09:48:39] WARNING: /workspace/src/objective/regression_obj.cu:152: reg:linear is now deprecated in favor of reg:squarederror.\n",
      "[09:49:14] WARNING: /workspace/src/objective/regression_obj.cu:152: reg:linear is now deprecated in favor of reg:squarederror.\n"
     ]
    },
    {
     "data": {
      "text/plain": [
       "XGBRegressor(base_score=0.5, booster='gbtree', colsample_bylevel=1,\n",
       "             colsample_bynode=1, colsample_bytree=1, gamma=0,\n",
       "             importance_type='gain', learning_rate=0.1, max_delta_step=0,\n",
       "             max_depth=3, min_child_weight=1, missing=None, n_estimators=250,\n",
       "             n_jobs=1, nthread=None, objective='reg:linear', random_state=0,\n",
       "             reg_alpha=0, reg_lambda=1, scale_pos_weight=1, seed=None,\n",
       "             silent=None, subsample=1, verbosity=1)"
      ]
     },
     "execution_count": 44,
     "metadata": {
      "tags": []
     },
     "output_type": "execute_result"
    }
   ],
   "source": [
    "short_xgb = XGBRegressor(n_estimators=150)\n",
    "long_xgb = XGBRegressor(n_estimators=250)\n",
    "short_xgb.fit(short_x_train, short_y_train)\n",
    "long_xgb.fit(long_x_train,long_y_train)"
   ]
  },
  {
   "cell_type": "code",
   "execution_count": null,
   "metadata": {
    "id": "_q49sxfCING0"
   },
   "outputs": [],
   "source": [
    "short_pred = short_xgb.predict(short_x_test)\n",
    "long_pred = long_xgb.predict(long_x_test)"
   ]
  },
  {
   "cell_type": "code",
   "execution_count": null,
   "metadata": {
    "colab": {
     "base_uri": "https://localhost:8080/"
    },
    "id": "0dqWrK-_IO2f",
    "outputId": "c70061f0-493b-4513-a6e8-3c9a9c9d54b8"
   },
   "outputs": [
    {
     "name": "stdout",
     "output_type": "stream",
     "text": [
      "The Spearman's correlation coefficient is: 0.198\n",
      "The Spearman's correlation coefficient is: 0.086\n"
     ]
    }
   ],
   "source": [
    "Get_score(short_pred, short_y_test)\n",
    "Get_score(long_pred, long_y_test)"
   ]
  },
  {
   "cell_type": "markdown",
   "metadata": {
    "id": "n3E9M56pjD1B"
   },
   "source": [
    "## Aesthetics"
   ]
  },
  {
   "cell_type": "code",
   "execution_count": null,
   "metadata": {
    "id": "7q4a8f1TjGgu"
   },
   "outputs": [],
   "source": [
    "result_array = np.empty((0, 218))\n",
    "\n",
    "for i in aesthetics.index:\n",
    "  while len(aesthetics['aesthetic_feat_dev-set_mean'][i]) < 109:\n",
    "    aesthetics['aesthetic_feat_dev-set_mean'][i] = np.append((aesthetics['aesthetic_feat_dev-set_mean'][i]), 0)\n",
    "  while len(aesthetics['aesthetic_feat_dev-set_median'][i]) < 109:\n",
    "    aesthetics['aesthetic_feat_dev-set_median'][i] = np.append((aesthetics['aesthetic_feat_dev-set_median'][i]), 0)\n",
    "  res = np.hstack((aesthetics['aesthetic_feat_dev-set_mean'][i], aesthetics['aesthetic_feat_dev-set_median'][i]))\n",
    "  result_array = np.append(result_array, np.array([res]), axis = 0)"
   ]
  },
  {
   "cell_type": "code",
   "execution_count": null,
   "metadata": {
    "colab": {
     "base_uri": "https://localhost:8080/"
    },
    "id": "aFnbjMtEjSiH",
    "outputId": "f73b8e54-c69d-493d-f89b-245a0e8191aa"
   },
   "outputs": [
    {
     "name": "stdout",
     "output_type": "stream",
     "text": [
      "<class 'numpy.ndarray'>\n"
     ]
    },
    {
     "data": {
      "text/plain": [
       "array([[ 0.18389 ,  0.713733,  0.202302, ...,  0.129661,  0.412381,\n",
       "         0.788761],\n",
       "       [ 0.147255,  0.550718,  0.460299, ...,  0.692224,  0.762354,\n",
       "        -0.561793],\n",
       "       [ 0.063933,  0.826933,  0.214129, ...,  0.438261, -0.21956 ,\n",
       "         0.276687],\n",
       "       ...,\n",
       "       [ 0.178087,  0.220956,  0.671676, ...,  0.38719 ,  0.244293,\n",
       "         0.341741],\n",
       "       [ 0.113677,  0.585402,  0.496425, ...,  0.00308 ,  0.365075,\n",
       "        -1.04308 ],\n",
       "       [ 0.554591,  0.134659,  0.691026, ...,  0.783961,  0.621886,\n",
       "        -0.569049]])"
      ]
     },
     "execution_count": 52,
     "metadata": {
      "tags": []
     },
     "output_type": "execute_result"
    }
   ],
   "source": [
    "X_arr_aesthetics = result_array\n",
    "del result_array\n",
    "print(type(X_arr_aesthetics))\n",
    "X_arr_aesthetics"
   ]
  },
  {
   "cell_type": "code",
   "execution_count": null,
   "metadata": {
    "id": "UJmbiumsjY6F"
   },
   "outputs": [],
   "source": [
    "y_short = aesthetics[['short-term_memorability']].values\n",
    "y_long = aesthetics[['long-term_memorability']].values\n",
    "\n",
    "# Splitting the dataset into the Training set and Test set\n",
    "short_x_train,short_x_test,short_y_train,short_y_test = train_test_split(X_arr_aesthetics,y_short,test_size=0.2,random_state=42)\n",
    "long_x_train,long_x_test,long_y_train,long_y_test = train_test_split(X_arr_aesthetics,y_long,test_size=0.2,random_state=42)"
   ]
  },
  {
   "cell_type": "code",
   "execution_count": null,
   "metadata": {
    "colab": {
     "base_uri": "https://localhost:8080/"
    },
    "id": "XTWQ0stUjsYy",
    "outputId": "5f43b288-838f-4d2d-8f58-165c20d3ad2a"
   },
   "outputs": [
    {
     "name": "stdout",
     "output_type": "stream",
     "text": [
      "[10:29:13] WARNING: /workspace/src/objective/regression_obj.cu:152: reg:linear is now deprecated in favor of reg:squarederror.\n",
      "[10:29:24] WARNING: /workspace/src/objective/regression_obj.cu:152: reg:linear is now deprecated in favor of reg:squarederror.\n"
     ]
    },
    {
     "data": {
      "text/plain": [
       "XGBRegressor(base_score=0.5, booster='gbtree', colsample_bylevel=1,\n",
       "             colsample_bynode=1, colsample_bytree=1, gamma=0,\n",
       "             importance_type='gain', learning_rate=0.1, max_delta_step=0,\n",
       "             max_depth=3, min_child_weight=1, missing=None, n_estimators=200,\n",
       "             n_jobs=1, nthread=None, objective='reg:linear', random_state=0,\n",
       "             reg_alpha=0, reg_lambda=1, scale_pos_weight=1, seed=None,\n",
       "             silent=None, subsample=1, verbosity=1)"
      ]
     },
     "execution_count": 77,
     "metadata": {
      "tags": []
     },
     "output_type": "execute_result"
    }
   ],
   "source": [
    "short_xgb = XGBRegressor(n_estimators=200)\n",
    "long_xgb = XGBRegressor(n_estimators=200)\n",
    "short_xgb.fit(short_x_train, short_y_train)\n",
    "long_xgb.fit(long_x_train,long_y_train)"
   ]
  },
  {
   "cell_type": "code",
   "execution_count": null,
   "metadata": {
    "id": "tddMNlKSjwdb"
   },
   "outputs": [],
   "source": [
    "short_pred = short_xgb.predict(short_x_test)\n",
    "long_pred = long_xgb.predict(long_x_test)"
   ]
  },
  {
   "cell_type": "code",
   "execution_count": null,
   "metadata": {
    "colab": {
     "base_uri": "https://localhost:8080/"
    },
    "id": "RFWRVVyEjy7D",
    "outputId": "6cd7b256-347e-4844-e22b-a3f8645c32ce"
   },
   "outputs": [
    {
     "name": "stdout",
     "output_type": "stream",
     "text": [
      "The Spearman's correlation coefficient is: 0.294\n",
      "The Spearman's correlation coefficient is: 0.102\n"
     ]
    }
   ],
   "source": [
    "Get_score(short_pred, short_y_test)\n",
    "Get_score(long_pred, long_y_test)"
   ]
  },
  {
   "cell_type": "markdown",
   "metadata": {
    "id": "DcbBFOs1zSRS"
   },
   "source": [
    "## ColorHistogram"
   ]
  },
  {
   "cell_type": "code",
   "execution_count": null,
   "metadata": {
    "colab": {
     "base_uri": "https://localhost:8080/"
    },
    "id": "vGjP-r1xzUtF",
    "outputId": "55114f92-1c2d-4f59-e059-553037c4fb4f"
   },
   "outputs": [
    {
     "name": "stderr",
     "output_type": "stream",
     "text": [
      "/usr/local/lib/python3.7/dist-packages/ipykernel_launcher.py:5: SettingWithCopyWarning: \n",
      "A value is trying to be set on a copy of a slice from a DataFrame\n",
      "\n",
      "See the caveats in the documentation: https://pandas.pydata.org/pandas-docs/stable/user_guide/indexing.html#returning-a-view-versus-a-copy\n",
      "  \"\"\"\n",
      "/usr/local/lib/python3.7/dist-packages/ipykernel_launcher.py:6: SettingWithCopyWarning: \n",
      "A value is trying to be set on a copy of a slice from a DataFrame\n",
      "\n",
      "See the caveats in the documentation: https://pandas.pydata.org/pandas-docs/stable/user_guide/indexing.html#returning-a-view-versus-a-copy\n",
      "  \n",
      "/usr/local/lib/python3.7/dist-packages/ipykernel_launcher.py:7: SettingWithCopyWarning: \n",
      "A value is trying to be set on a copy of a slice from a DataFrame\n",
      "\n",
      "See the caveats in the documentation: https://pandas.pydata.org/pandas-docs/stable/user_guide/indexing.html#returning-a-view-versus-a-copy\n",
      "  import sys\n"
     ]
    }
   ],
   "source": [
    "# Reusing same variable names to reduce memory.\n",
    "result_array = np.empty((0, 768))\n",
    "\n",
    "for i in ch.index:\n",
    "  ch['video-0'][i] = ch['video-0'][i][0] + ch['video-0'][i][1] + ch['video-0'][i][2]\n",
    "  ch['video-56'][i] = ch['video-56'][i][0] + ch['video-56'][i][1] + ch['video-56'][i][2]\n",
    "  ch['video-112'][i] = ch['video-112'][i][0] + ch['video-112'][i][1] + ch['video-112'][i][2]\n",
    "  res = np.hstack((ch['video-0'][i], ch['video-56'][i], ch['video-112'][i]))\n",
    "  result_array = np.append(result_array, np.array([res]), axis = 0)"
   ]
  },
  {
   "cell_type": "code",
   "execution_count": null,
   "metadata": {
    "colab": {
     "base_uri": "https://localhost:8080/"
    },
    "id": "enwzkPWNzd6O",
    "outputId": "08afea82-55c8-4048-ab48-44bb3f163984"
   },
   "outputs": [
    {
     "name": "stdout",
     "output_type": "stream",
     "text": [
      "<class 'numpy.ndarray'>\n"
     ]
    },
    {
     "data": {
      "text/plain": [
       "array([[8.54550e+04, 1.74820e+04, 1.61940e+04, ..., 1.43900e+04,\n",
       "        2.09500e+03, 3.16360e+04],\n",
       "       [6.51922e+05, 2.05142e+05, 2.40695e+05, ..., 0.00000e+00,\n",
       "        0.00000e+00, 0.00000e+00],\n",
       "       [1.56000e+02, 6.40000e+01, 9.30000e+01, ..., 1.02950e+04,\n",
       "        1.99100e+03, 1.16530e+04],\n",
       "       ...,\n",
       "       [2.00000e+01, 7.00000e+00, 1.70000e+01, ..., 7.18000e+02,\n",
       "        2.31000e+02, 1.67000e+02],\n",
       "       [7.02000e+02, 2.59000e+02, 3.56000e+02, ..., 2.58900e+03,\n",
       "        7.32000e+02, 1.39610e+04],\n",
       "       [0.00000e+00, 0.00000e+00, 0.00000e+00, ..., 1.91000e+02,\n",
       "        1.47000e+02, 8.82000e+02]])"
      ]
     },
     "execution_count": 208,
     "metadata": {
      "tags": []
     },
     "output_type": "execute_result"
    }
   ],
   "source": [
    "X_arr_ch = result_array\n",
    "del result_array\n",
    "print(type(X_arr_ch))\n",
    "X_arr_ch"
   ]
  },
  {
   "cell_type": "code",
   "execution_count": null,
   "metadata": {
    "id": "GVNQ5piDzjkT"
   },
   "outputs": [],
   "source": [
    "y_short = ch[['short-term_memorability']].values\n",
    "y_long = ch[['long-term_memorability']].values\n",
    "\n",
    "# Splitting the dataset into the Training set and Test set\n",
    "short_x_train,short_x_test,short_y_train,short_y_test = train_test_split(X_arr_ch,y_short,test_size=0.2,random_state=42)\n",
    "long_x_train,long_x_test,long_y_train,long_y_test = train_test_split(X_arr_ch,y_long,test_size=0.2,random_state=42)"
   ]
  },
  {
   "cell_type": "code",
   "execution_count": null,
   "metadata": {
    "colab": {
     "base_uri": "https://localhost:8080/"
    },
    "id": "ALHPwKvGzplJ",
    "outputId": "6125963f-f05d-46d4-a294-e0f60f7a777d"
   },
   "outputs": [
    {
     "name": "stdout",
     "output_type": "stream",
     "text": [
      "[11:34:50] WARNING: /workspace/src/objective/regression_obj.cu:152: reg:linear is now deprecated in favor of reg:squarederror.\n",
      "[11:35:16] WARNING: /workspace/src/objective/regression_obj.cu:152: reg:linear is now deprecated in favor of reg:squarederror.\n"
     ]
    },
    {
     "data": {
      "text/plain": [
       "XGBRegressor(base_score=0.5, booster='gbtree', colsample_bylevel=1,\n",
       "             colsample_bynode=1, colsample_bytree=1, gamma=0,\n",
       "             importance_type='gain', learning_rate=0.1, max_delta_step=0,\n",
       "             max_depth=3, min_child_weight=1, missing=None, n_estimators=200,\n",
       "             n_jobs=1, nthread=None, objective='reg:linear', random_state=0,\n",
       "             reg_alpha=0, reg_lambda=1, scale_pos_weight=1, seed=None,\n",
       "             silent=None, subsample=1, verbosity=1)"
      ]
     },
     "execution_count": 210,
     "metadata": {
      "tags": []
     },
     "output_type": "execute_result"
    }
   ],
   "source": [
    "short_xgb = XGBRegressor(n_estimators=200)\n",
    "long_xgb = XGBRegressor(n_estimators=200)\n",
    "short_xgb.fit(short_x_train, short_y_train)\n",
    "long_xgb.fit(long_x_train,long_y_train)"
   ]
  },
  {
   "cell_type": "code",
   "execution_count": null,
   "metadata": {
    "id": "lbAxlv6AzsjM"
   },
   "outputs": [],
   "source": [
    "short_pred = short_xgb.predict(short_x_test)\n",
    "long_pred = long_xgb.predict(long_x_test)"
   ]
  },
  {
   "cell_type": "code",
   "execution_count": null,
   "metadata": {
    "colab": {
     "base_uri": "https://localhost:8080/"
    },
    "id": "jEYCYdPTzvbI",
    "outputId": "7d8ff183-bd65-4ff5-d208-976283f3aa87"
   },
   "outputs": [
    {
     "name": "stdout",
     "output_type": "stream",
     "text": [
      "The Spearman's correlation coefficient is: 0.096\n",
      "The Spearman's correlation coefficient is: 0.047\n"
     ]
    }
   ],
   "source": [
    "Get_score(short_pred, short_y_test)\n",
    "Get_score(long_pred, long_y_test)"
   ]
  },
  {
   "cell_type": "markdown",
   "metadata": {
    "id": "cZncq9PBPm84"
   },
   "source": [
    "# Weighted Average Ensembling"
   ]
  },
  {
   "cell_type": "markdown",
   "metadata": {
    "id": "0Xj8fjQWBYFV"
   },
   "source": [
    "**NOTE:** The initial idea for weighted Average ensembling was to drop the missing columns from every feature and get the all the features with common video names. By doing so the I observed that the spearman coefficient drastically decreased. \n",
    "\n",
    "Therefore, I dropped this plan and filled the missing values with list of \"0\" of appropriate length for each feature"
   ]
  },
  {
   "cell_type": "markdown",
   "metadata": {
    "id": "qnDfLQcFeYA-"
   },
   "source": [
    "## Creating Feature with common video names\n",
    "\n",
    "There are missing values for each of these videos. Therefore, creating a new dataframe with only the video names for which the values are available is important for further ensembling technique."
   ]
  },
  {
   "cell_type": "code",
   "execution_count": null,
   "metadata": {
    "id": "Gn0D7K90eqcc"
   },
   "outputs": [],
   "source": [
    "c3d_video_names = c3d.index\n",
    "inception_video_names = inceptionv3.index\n",
    "hmp_video_names = hmp.index\n",
    "lbp_video_names = lbp.index"
   ]
  },
  {
   "cell_type": "code",
   "execution_count": null,
   "metadata": {
    "id": "RJCyGDC7fW84"
   },
   "outputs": [],
   "source": [
    "## Selecting the intersection of these lists\n",
    "video_names = set(c3d_video_names) & set(inception_video_names) & set(hmp_video_names) & set(lbp_video_names)"
   ]
  },
  {
   "cell_type": "code",
   "execution_count": null,
   "metadata": {
    "colab": {
     "base_uri": "https://localhost:8080/"
    },
    "id": "uOzqbFt5fjza",
    "outputId": "8800c633-d192-40e8-cc74-12be6ee0f284"
   },
   "outputs": [
    {
     "data": {
      "text/plain": [
       "3018"
      ]
     },
     "execution_count": 60,
     "metadata": {
      "tags": []
     },
     "output_type": "execute_result"
    }
   ],
   "source": [
    "len(video_names)"
   ]
  },
  {
   "cell_type": "markdown",
   "metadata": {
    "id": "rNOtm4KSiZU6"
   },
   "source": [
    "### Selecting predictions \"y\" for these videos"
   ]
  },
  {
   "cell_type": "code",
   "execution_count": null,
   "metadata": {
    "id": "gTBGZ_JSl2ka"
   },
   "outputs": [],
   "source": [
    "df_y = c3d.loc[list(video_names)]\n",
    "y = df_y[['short-term_memorability','long-term_memorability']].values"
   ]
  },
  {
   "cell_type": "markdown",
   "metadata": {
    "id": "skML8Ufxh47h"
   },
   "source": [
    "### Training C3D using Random Forest"
   ]
  },
  {
   "cell_type": "code",
   "execution_count": null,
   "metadata": {
    "id": "brrHy8HNftlO"
   },
   "outputs": [],
   "source": [
    "## Creating dataframes with these indexes\n",
    "\n",
    "## Length of C3D feature is 101\n",
    "result_array = np.empty((0, 101))\n",
    "for index in c3d.index:\n",
    "  if index in video_names:\n",
    "    result_array = np.append(result_array, np.array([c3d['c3d'][index]]), axis = 0)"
   ]
  },
  {
   "cell_type": "code",
   "execution_count": null,
   "metadata": {
    "colab": {
     "base_uri": "https://localhost:8080/"
    },
    "id": "SqtEjzEjaJ4r",
    "outputId": "3176abad-b719-4521-9ee8-b93a768d2932"
   },
   "outputs": [
    {
     "name": "stdout",
     "output_type": "stream",
     "text": [
      "<class 'numpy.ndarray'>\n"
     ]
    },
    {
     "data": {
      "text/plain": [
       "array([[1.1765220e-02, 7.4577000e-04, 7.8353000e-04, ..., 5.3803300e-03,\n",
       "        1.0274800e-03, 1.3844800e-03],\n",
       "       [6.3948100e-03, 7.3140900e-03, 2.2434700e-03, ..., 1.5610234e-01,\n",
       "        3.4805939e-01, 3.8712620e-02],\n",
       "       [1.4891000e-04, 5.6307000e-04, 7.8970000e-05, ..., 5.7000000e-06,\n",
       "        3.3100000e-06, 4.9986460e-02],\n",
       "       ...,\n",
       "       [2.5890000e-05, 1.2192000e-04, 2.7810000e-05, ..., 7.1593200e-03,\n",
       "        4.9575200e-03, 8.9156000e-04],\n",
       "       [2.6509121e-01, 9.6539180e-02, 5.9710000e-05, ..., 1.0834000e-04,\n",
       "        1.2682000e-03, 7.1027000e-04],\n",
       "       [2.0589490e-02, 1.2214100e-03, 2.0660700e-03, ..., 8.2839000e-04,\n",
       "        4.9012800e-03, 1.1848300e-03]])"
      ]
     },
     "execution_count": 91,
     "metadata": {
      "tags": []
     },
     "output_type": "execute_result"
    }
   ],
   "source": [
    "X_arrC3D = result_array\n",
    "del result_array\n",
    "print(type(X_arrC3D))\n",
    "X_arrC3D"
   ]
  },
  {
   "cell_type": "code",
   "execution_count": null,
   "metadata": {
    "id": "V7Z6Oh6xpqPF"
   },
   "outputs": [],
   "source": [
    "x_train, x_test, y_train, y_test = train_test_split(X_arrC3D, y, test_size=0.2, random_state=42)"
   ]
  },
  {
   "cell_type": "code",
   "execution_count": null,
   "metadata": {
    "colab": {
     "base_uri": "https://localhost:8080/"
    },
    "id": "nN2spJDGpvDJ",
    "outputId": "1e832128-c664-4e17-b07b-c407e729286d"
   },
   "outputs": [
    {
     "data": {
      "text/plain": [
       "RandomForestRegressor(bootstrap=True, ccp_alpha=0.0, criterion='mse',\n",
       "                      max_depth=None, max_features='auto', max_leaf_nodes=None,\n",
       "                      max_samples=None, min_impurity_decrease=0.0,\n",
       "                      min_impurity_split=None, min_samples_leaf=1,\n",
       "                      min_samples_split=2, min_weight_fraction_leaf=0.0,\n",
       "                      n_estimators=100, n_jobs=None, oob_score=False,\n",
       "                      random_state=None, verbose=0, warm_start=False)"
      ]
     },
     "execution_count": 97,
     "metadata": {
      "tags": []
     },
     "output_type": "execute_result"
    }
   ],
   "source": [
    "random_forest = RandomForestRegressor(n_estimators=100)\n",
    "random_forest.fit(x_train, y_train)"
   ]
  },
  {
   "cell_type": "code",
   "execution_count": null,
   "metadata": {
    "id": "vcDv29gFpy81"
   },
   "outputs": [],
   "source": [
    "predictions_test = random_forest.predict(x_test)"
   ]
  },
  {
   "cell_type": "code",
   "execution_count": null,
   "metadata": {
    "colab": {
     "base_uri": "https://localhost:8080/"
    },
    "id": "ruJKEElDp3-R",
    "outputId": "d6b63d81-7285-4431-a8b7-0428fce1e2f9"
   },
   "outputs": [
    {
     "data": {
      "text/plain": [
       "array([[0.86019, 0.79031],\n",
       "       [0.85846, 0.75343],\n",
       "       [0.85243, 0.7747 ],\n",
       "       ...,\n",
       "       [0.86391, 0.76027],\n",
       "       [0.84443, 0.72498],\n",
       "       [0.86901, 0.80281]])"
      ]
     },
     "execution_count": 99,
     "metadata": {
      "tags": []
     },
     "output_type": "execute_result"
    }
   ],
   "source": [
    "c3d_pred = predictions_test\n",
    "c3d_pred"
   ]
  },
  {
   "cell_type": "code",
   "execution_count": null,
   "metadata": {
    "colab": {
     "base_uri": "https://localhost:8080/"
    },
    "id": "vaLsywu8p_Iv",
    "outputId": "d4fe76a8-58c6-4dd7-db20-fc131f2e7bbe"
   },
   "outputs": [
    {
     "name": "stdout",
     "output_type": "stream",
     "text": [
      "The Spearman's correlation coefficient is: -0.002\n",
      "The Spearman's correlation coefficient is: -0.081\n"
     ]
    }
   ],
   "source": [
    "Get_score(predictions_test, y_test)"
   ]
  },
  {
   "cell_type": "markdown",
   "metadata": {
    "id": "oKDzF1w2CJTw"
   },
   "source": [
    "**Dropping this approach as it is giving bad score**"
   ]
  },
  {
   "cell_type": "markdown",
   "metadata": {
    "id": "DdpQttHyqzqc"
   },
   "source": [
    "# Training best performing models without ignoring missing values"
   ]
  },
  {
   "cell_type": "markdown",
   "metadata": {
    "id": "R-Ge0PIBq6Qf"
   },
   "source": [
    "## Random Forest on C3D"
   ]
  },
  {
   "cell_type": "code",
   "execution_count": null,
   "metadata": {
    "colab": {
     "base_uri": "https://localhost:8080/"
    },
    "id": "XeO5LEWpq4GU",
    "outputId": "04bf285e-487c-459b-c7b9-444e1aa26afb"
   },
   "outputs": [
    {
     "name": "stderr",
     "output_type": "stream",
     "text": [
      "/usr/local/lib/python3.7/dist-packages/ipykernel_launcher.py:7: SettingWithCopyWarning: \n",
      "A value is trying to be set on a copy of a slice from a DataFrame\n",
      "\n",
      "See the caveats in the documentation: https://pandas.pydata.org/pandas-docs/stable/user_guide/indexing.html#returning-a-view-versus-a-copy\n",
      "  import sys\n"
     ]
    }
   ],
   "source": [
    "c3d = pd.read_pickle('/content/drive/MyDrive/ML Assignment/c3d')\n",
    "\n",
    "\n",
    "## Relacing missing values with list of 101 zeros.\n",
    "for i in c3d.index:\n",
    "  if isinstance(c3d['c3d'][i],int):\n",
    "    c3d['c3d'][i] = [0] * 101    \n",
    "\n",
    "\n",
    "\n",
    "## Length of C3D feature is 101\n",
    "result_array = np.empty((0, 101))\n",
    "for line in c3d['c3d']:\n",
    "    result_array = np.append(result_array, np.array([line]), axis = 0)"
   ]
  },
  {
   "cell_type": "code",
   "execution_count": null,
   "metadata": {
    "colab": {
     "base_uri": "https://localhost:8080/"
    },
    "id": "mTZPmFUarM_E",
    "outputId": "d5b5fd7a-cdfc-45ae-adb5-073c95d6fe03"
   },
   "outputs": [
    {
     "name": "stdout",
     "output_type": "stream",
     "text": [
      "<class 'numpy.ndarray'>\n"
     ]
    },
    {
     "data": {
      "text/plain": [
       "array([[2.0249420e-02, 1.5778000e-03, 8.2625000e-04, ..., 3.3907000e-04,\n",
       "        8.4368300e-03, 4.7004000e-04],\n",
       "       [1.1800000e-04, 8.9075000e-04, 1.8769000e-04, ..., 1.5891000e-04,\n",
       "        1.0252100e-03, 2.0460000e-05],\n",
       "       [1.1765220e-02, 7.4577000e-04, 7.8353000e-04, ..., 5.3803300e-03,\n",
       "        1.0274800e-03, 1.3844800e-03],\n",
       "       ...,\n",
       "       [2.5890000e-05, 1.2192000e-04, 2.7810000e-05, ..., 7.1593200e-03,\n",
       "        4.9575200e-03, 8.9156000e-04],\n",
       "       [2.6509121e-01, 9.6539180e-02, 5.9710000e-05, ..., 1.0834000e-04,\n",
       "        1.2682000e-03, 7.1027000e-04],\n",
       "       [2.0589490e-02, 1.2214100e-03, 2.0660700e-03, ..., 8.2839000e-04,\n",
       "        4.9012800e-03, 1.1848300e-03]])"
      ]
     },
     "execution_count": 88,
     "metadata": {
      "tags": []
     },
     "output_type": "execute_result"
    }
   ],
   "source": [
    "X_arrC3D = result_array\n",
    "del result_array\n",
    "print(type(X_arrC3D))\n",
    "X_arrC3D"
   ]
  },
  {
   "cell_type": "code",
   "execution_count": null,
   "metadata": {
    "id": "3edNqR8LrQM5"
   },
   "outputs": [],
   "source": [
    "y = c3d[['short-term_memorability','long-term_memorability']].values"
   ]
  },
  {
   "cell_type": "code",
   "execution_count": null,
   "metadata": {
    "id": "JRDc3XYvrTXg"
   },
   "outputs": [],
   "source": [
    "x_train, x_test, y_train, y_test = train_test_split(X_arrC3D, y, test_size=0.2,random_state=42)"
   ]
  },
  {
   "cell_type": "code",
   "execution_count": null,
   "metadata": {
    "colab": {
     "base_uri": "https://localhost:8080/"
    },
    "id": "l2KtQLfarXgH",
    "outputId": "abd5e4b9-3efb-4755-9ee0-6f1a29417623"
   },
   "outputs": [
    {
     "name": "stdout",
     "output_type": "stream",
     "text": [
      "Train set has total 4800\n",
      "Test set has total 1200\n",
      "Y_Test set has total 1200\n",
      "Y_Train set has total 4800\n"
     ]
    }
   ],
   "source": [
    "print(\"Train set has total {0}\".format(len(x_train)))\n",
    "print(\"Test set has total {0}\".format(len(x_test)))\n",
    "print(\"Y_Test set has total {0}\".format(len(y_test)))\n",
    "print(\"Y_Train set has total {0}\".format(len(y_train)))"
   ]
  },
  {
   "cell_type": "code",
   "execution_count": null,
   "metadata": {
    "colab": {
     "base_uri": "https://localhost:8080/"
    },
    "id": "V1HGQUwnrjkt",
    "outputId": "0fc4665b-4ee9-48d8-80d8-a8fdebabef81"
   },
   "outputs": [
    {
     "data": {
      "text/plain": [
       "RandomForestRegressor(bootstrap=True, ccp_alpha=0.0, criterion='mse',\n",
       "                      max_depth=None, max_features='auto', max_leaf_nodes=None,\n",
       "                      max_samples=None, min_impurity_decrease=0.0,\n",
       "                      min_impurity_split=None, min_samples_leaf=1,\n",
       "                      min_samples_split=2, min_weight_fraction_leaf=0.0,\n",
       "                      n_estimators=100, n_jobs=None, oob_score=False,\n",
       "                      random_state=None, verbose=0, warm_start=False)"
      ]
     },
     "execution_count": 92,
     "metadata": {
      "tags": []
     },
     "output_type": "execute_result"
    }
   ],
   "source": [
    "random_forest = RandomForestRegressor(n_estimators=100)\n",
    "random_forest.fit(x_train, y_train)"
   ]
  },
  {
   "cell_type": "code",
   "execution_count": null,
   "metadata": {
    "id": "qUkVWZz1rnnK"
   },
   "outputs": [],
   "source": [
    "predictions_test = random_forest.predict(x_test)"
   ]
  },
  {
   "cell_type": "code",
   "execution_count": null,
   "metadata": {
    "colab": {
     "base_uri": "https://localhost:8080/"
    },
    "id": "KB3gj8jPcpUD",
    "outputId": "afe2ab72-dc32-4546-f896-696b018f116e"
   },
   "outputs": [
    {
     "data": {
      "text/plain": [
       "(1200, 2)"
      ]
     },
     "execution_count": 94,
     "metadata": {
      "tags": []
     },
     "output_type": "execute_result"
    }
   ],
   "source": [
    "y_test.shape"
   ]
  },
  {
   "cell_type": "code",
   "execution_count": null,
   "metadata": {
    "colab": {
     "base_uri": "https://localhost:8080/"
    },
    "id": "piC-uhQ2ru9n",
    "outputId": "a93fe36c-ae86-4549-e902-e9acf9272aea"
   },
   "outputs": [
    {
     "data": {
      "text/plain": [
       "array([[0.89221 , 0.78328 ],\n",
       "       [0.84366 , 0.73867 ],\n",
       "       [0.87946 , 0.78075 ],\n",
       "       ...,\n",
       "       [0.88292 , 0.78    ],\n",
       "       [0.910298, 0.85297 ],\n",
       "       [0.87488 , 0.82443 ]])"
      ]
     },
     "execution_count": 95,
     "metadata": {
      "tags": []
     },
     "output_type": "execute_result"
    }
   ],
   "source": [
    "c3d_pred = predictions_test\n",
    "c3d_pred"
   ]
  },
  {
   "cell_type": "code",
   "execution_count": null,
   "metadata": {
    "colab": {
     "base_uri": "https://localhost:8080/"
    },
    "id": "twoCX-Nlrva5",
    "outputId": "bb118bd3-7971-4b8e-ee9a-1dc7a60ca5e6"
   },
   "outputs": [
    {
     "name": "stdout",
     "output_type": "stream",
     "text": [
      "The Spearman's correlation coefficient is: 0.324\n",
      "The Spearman's correlation coefficient is: 0.106\n"
     ]
    }
   ],
   "source": [
    "Get_score(predictions_test, y_test)"
   ]
  },
  {
   "cell_type": "code",
   "execution_count": null,
   "metadata": {
    "id": "BSj9zQhB7JJu"
   },
   "outputs": [],
   "source": [
    "## Saving the predictions to local for future ensemble\n",
    "save('/content/drive/MyDrive/ML Assignment/Predictions/c3d_pred_RF.npy', c3d_pred)"
   ]
  },
  {
   "cell_type": "markdown",
   "metadata": {
    "id": "um9_IBZxwq3p"
   },
   "source": [
    "## Random Forest on LBP"
   ]
  },
  {
   "cell_type": "code",
   "execution_count": null,
   "metadata": {
    "id": "JIuz_wChwxGB"
   },
   "outputs": [],
   "source": [
    "lbp = pd.read_pickle('/content/drive/MyDrive/ML Assignment/lbp')"
   ]
  },
  {
   "cell_type": "code",
   "execution_count": null,
   "metadata": {
    "colab": {
     "base_uri": "https://localhost:8080/"
    },
    "id": "OlLr3vK6xN7o",
    "outputId": "07c2236b-f54a-4174-bca9-d2818cd68319"
   },
   "outputs": [
    {
     "name": "stderr",
     "output_type": "stream",
     "text": [
      "/usr/local/lib/python3.7/dist-packages/ipykernel_launcher.py:4: SettingWithCopyWarning: \n",
      "A value is trying to be set on a copy of a slice from a DataFrame\n",
      "\n",
      "See the caveats in the documentation: https://pandas.pydata.org/pandas-docs/stable/user_guide/indexing.html#returning-a-view-versus-a-copy\n",
      "  after removing the cwd from sys.path.\n",
      "/usr/local/lib/python3.7/dist-packages/ipykernel_launcher.py:6: SettingWithCopyWarning: \n",
      "A value is trying to be set on a copy of a slice from a DataFrame\n",
      "\n",
      "See the caveats in the documentation: https://pandas.pydata.org/pandas-docs/stable/user_guide/indexing.html#returning-a-view-versus-a-copy\n",
      "  \n",
      "/usr/local/lib/python3.7/dist-packages/ipykernel_launcher.py:8: SettingWithCopyWarning: \n",
      "A value is trying to be set on a copy of a slice from a DataFrame\n",
      "\n",
      "See the caveats in the documentation: https://pandas.pydata.org/pandas-docs/stable/user_guide/indexing.html#returning-a-view-versus-a-copy\n",
      "  \n",
      "/usr/local/lib/python3.7/dist-packages/ipykernel_launcher.py:15: SettingWithCopyWarning: \n",
      "A value is trying to be set on a copy of a slice from a DataFrame\n",
      "\n",
      "See the caveats in the documentation: https://pandas.pydata.org/pandas-docs/stable/user_guide/indexing.html#returning-a-view-versus-a-copy\n",
      "  from ipykernel import kernelapp as app\n"
     ]
    }
   ],
   "source": [
    "## Relacing missing values with list of 122 zeros.\n",
    "for i in lbp.index:\n",
    "  if isinstance(lbp['video-0'][i],int):\n",
    "    lbp['video-0'][i] = [0] * 122\n",
    "  if isinstance(lbp['video-56'][i],int):\n",
    "    lbp['video-56'][i] = [0] * 122\n",
    "  if isinstance(lbp['video-112'][i],int):\n",
    "    lbp['video-112'][i] = [0] * 122\n",
    "\n",
    "\n",
    "result_array = np.empty((0, 366))\n",
    "\n",
    "for i in lbp.index:\n",
    "  while len(lbp['video-0'][i]) < 122:\n",
    "    lbp['video-0'][i] = np.append((lbp['video-0'][i]), 0)\n",
    "  while len(lbp['video-56'][i]) < 122:\n",
    "    lbp['video-56'][i] = np.append((lbp['video-56'][i]), 0)\n",
    "  while len(lbp['video-112'][i]) < 122:\n",
    "    lbp['video-112'][i] = np.append((lbp['video-112'][i]), 0)\n",
    "  res = np.hstack((lbp['video-0'][i], lbp['video-56'][i], lbp['video-112'][i]))\n",
    "  result_array = np.append(result_array, np.array([res]), axis = 0)"
   ]
  },
  {
   "cell_type": "code",
   "execution_count": null,
   "metadata": {
    "colab": {
     "base_uri": "https://localhost:8080/"
    },
    "id": "7RyW6QonybZj",
    "outputId": "935ce9a4-9507-49cf-cc39-e9d888bf405f"
   },
   "outputs": [
    {
     "name": "stdout",
     "output_type": "stream",
     "text": [
      "<class 'numpy.ndarray'>\n"
     ]
    },
    {
     "data": {
      "text/plain": [
       "array([[0.        , 0.        , 0.        , ..., 0.        , 0.        ,\n",
       "        0.        ],\n",
       "       [0.00966435, 0.00291811, 0.00219425, ..., 0.00153356, 0.02053385,\n",
       "        0.46106385],\n",
       "       [0.01084008, 0.00189525, 0.00154128, ..., 0.00201196, 0.1233642 ,\n",
       "        0.48225502],\n",
       "       ...,\n",
       "       [0.01986834, 0.00499807, 0.00462867, ..., 0.00459732, 0.02559655,\n",
       "        0.77324701],\n",
       "       [0.01122299, 0.00182677, 0.00189284, ..., 0.00292197, 0.03341098,\n",
       "        0.53772618],\n",
       "       [0.00933883, 0.00161941, 0.00137346, ..., 0.00222029, 0.03523389,\n",
       "        0.49374518]])"
      ]
     },
     "execution_count": 100,
     "metadata": {
      "tags": []
     },
     "output_type": "execute_result"
    }
   ],
   "source": [
    "X_arrLBP = result_array\n",
    "del result_array\n",
    "print(type(X_arrLBP))\n",
    "X_arrLBP"
   ]
  },
  {
   "cell_type": "code",
   "execution_count": null,
   "metadata": {
    "id": "sV_u_-rjyfxk"
   },
   "outputs": [],
   "source": [
    "y = lbp[['short-term_memorability','long-term_memorability']].values\n",
    "x_train, x_test, y_train, y_test = train_test_split(X_arrLBP, y, test_size=0.2,random_state=42)"
   ]
  },
  {
   "cell_type": "code",
   "execution_count": null,
   "metadata": {
    "colab": {
     "base_uri": "https://localhost:8080/"
    },
    "id": "w7r4o7Fvym-K",
    "outputId": "3cf005a4-855e-4e78-b259-732fa775ff29"
   },
   "outputs": [
    {
     "data": {
      "text/plain": [
       "RandomForestRegressor(bootstrap=True, ccp_alpha=0.0, criterion='mse',\n",
       "                      max_depth=None, max_features='auto', max_leaf_nodes=None,\n",
       "                      max_samples=None, min_impurity_decrease=0.0,\n",
       "                      min_impurity_split=None, min_samples_leaf=1,\n",
       "                      min_samples_split=2, min_weight_fraction_leaf=0.0,\n",
       "                      n_estimators=100, n_jobs=None, oob_score=False,\n",
       "                      random_state=None, verbose=0, warm_start=False)"
      ]
     },
     "execution_count": 102,
     "metadata": {
      "tags": []
     },
     "output_type": "execute_result"
    }
   ],
   "source": [
    "random_forest = RandomForestRegressor(n_estimators=100)\n",
    "random_forest.fit(x_train, y_train)"
   ]
  },
  {
   "cell_type": "code",
   "execution_count": null,
   "metadata": {
    "colab": {
     "base_uri": "https://localhost:8080/"
    },
    "id": "FbWSgUmIyrqD",
    "outputId": "a3d15f24-2276-4c3f-c1cc-74ad8d44a574"
   },
   "outputs": [
    {
     "data": {
      "text/plain": [
       "array([[0.86242914, 0.78330989],\n",
       "       [0.86713   , 0.78965   ],\n",
       "       [0.86242914, 0.78330989],\n",
       "       ...,\n",
       "       [0.86242914, 0.78330989],\n",
       "       [0.86242914, 0.78330989],\n",
       "       [0.86242914, 0.78330989]])"
      ]
     },
     "execution_count": 103,
     "metadata": {
      "tags": []
     },
     "output_type": "execute_result"
    }
   ],
   "source": [
    "predictions_test = random_forest.predict(x_test)\n",
    "lbp_pred = predictions_test\n",
    "lbp_pred"
   ]
  },
  {
   "cell_type": "code",
   "execution_count": null,
   "metadata": {
    "colab": {
     "base_uri": "https://localhost:8080/"
    },
    "id": "RHp6vRnpyvfl",
    "outputId": "711eadaa-4030-43b4-c15d-68a8b9a096ec"
   },
   "outputs": [
    {
     "name": "stdout",
     "output_type": "stream",
     "text": [
      "The Spearman's correlation coefficient is: 0.255\n",
      "The Spearman's correlation coefficient is: 0.050\n"
     ]
    }
   ],
   "source": [
    "Get_score(predictions_test, y_test)"
   ]
  },
  {
   "cell_type": "code",
   "execution_count": null,
   "metadata": {
    "id": "s1EonWDg7pzP"
   },
   "outputs": [],
   "source": [
    "save('/content/drive/MyDrive/ML Assignment/Predictions/lbp_pred_RF.npy', lbp_pred)"
   ]
  },
  {
   "cell_type": "markdown",
   "metadata": {
    "id": "Z8KO7AvF4Mw_"
   },
   "source": [
    "## XGBoost on HMP"
   ]
  },
  {
   "cell_type": "code",
   "execution_count": null,
   "metadata": {
    "id": "vGJVnrUR4VO9"
   },
   "outputs": [],
   "source": [
    "hmp = pd.read_pickle('/content/drive/MyDrive/ML Assignment/hmp')"
   ]
  },
  {
   "cell_type": "code",
   "execution_count": null,
   "metadata": {
    "colab": {
     "base_uri": "https://localhost:8080/"
    },
    "id": "Cdzm1uDG4ndn",
    "outputId": "51c9397a-c083-43a1-8494-4250f8b3746a"
   },
   "outputs": [
    {
     "name": "stderr",
     "output_type": "stream",
     "text": [
      "/usr/local/lib/python3.7/dist-packages/ipykernel_launcher.py:3: SettingWithCopyWarning: \n",
      "A value is trying to be set on a copy of a slice from a DataFrame\n",
      "\n",
      "See the caveats in the documentation: https://pandas.pydata.org/pandas-docs/stable/user_guide/indexing.html#returning-a-view-versus-a-copy\n",
      "  This is separate from the ipykernel package so we can avoid doing imports until\n"
     ]
    }
   ],
   "source": [
    "for i in hmp.index:\n",
    "  if isinstance(hmp['hmp'][i],int):\n",
    "    hmp['hmp'][i] = [0] * 6075\n",
    "\n",
    "\n",
    "# Reusing same variable names to reduce memory.\n",
    "result_array = np.empty((0, 6075))\n",
    "for line in hmp['hmp']:\n",
    "    result_array = np.append(result_array, np.array([line]), axis = 0)"
   ]
  },
  {
   "cell_type": "code",
   "execution_count": null,
   "metadata": {
    "colab": {
     "base_uri": "https://localhost:8080/"
    },
    "id": "JJVPIszl4_xs",
    "outputId": "fd7ad6b7-fafb-4b5d-d737-44e4d0e64631"
   },
   "outputs": [
    {
     "name": "stdout",
     "output_type": "stream",
     "text": [
      "<class 'numpy.ndarray'>\n"
     ]
    },
    {
     "data": {
      "text/plain": [
       "array([[1.25563e-01, 2.40360e-02, 3.14000e-04, ..., 8.60000e-05,\n",
       "        5.80000e-04, 0.00000e+00],\n",
       "       [7.52600e-03, 1.42100e-03, 6.80000e-05, ..., 2.20000e-04,\n",
       "        7.62000e-04, 1.22400e-03],\n",
       "       [1.09584e-01, 1.89780e-02, 2.89000e-04, ..., 5.20000e-05,\n",
       "        2.58000e-04, 2.15000e-04],\n",
       "       ...,\n",
       "       [2.31390e-02, 7.43500e-03, 3.22000e-04, ..., 7.56000e-04,\n",
       "        7.38000e-04, 2.14000e-04],\n",
       "       [1.49000e-02, 4.60700e-03, 9.90000e-05, ..., 6.40000e-05,\n",
       "        6.40000e-05, 1.10000e-05],\n",
       "       [4.15920e-02, 1.30470e-02, 4.48000e-04, ..., 2.89000e-04,\n",
       "        9.88000e-04, 1.61000e-04]])"
      ]
     },
     "execution_count": 108,
     "metadata": {
      "tags": []
     },
     "output_type": "execute_result"
    }
   ],
   "source": [
    "X_arrHMP = result_array\n",
    "del result_array\n",
    "print(type(X_arrHMP))\n",
    "X_arrHMP"
   ]
  },
  {
   "cell_type": "code",
   "execution_count": null,
   "metadata": {
    "id": "zztGhEvQ5DAu"
   },
   "outputs": [],
   "source": [
    "y_short = hmp[['short-term_memorability']].values\n",
    "y_long = hmp[['long-term_memorability']].values"
   ]
  },
  {
   "cell_type": "code",
   "execution_count": null,
   "metadata": {
    "id": "peFVsb0g5GcM"
   },
   "outputs": [],
   "source": [
    "# Splitting the dataset into the Training set and Test set\n",
    "short_x_train,short_x_test,short_y_train,short_y_test = train_test_split(X_arrHMP,y_short,test_size=0.2,random_state=42)\n",
    "long_x_train,long_x_test,long_y_train,long_y_test = train_test_split(X_arrHMP,y_long,test_size=0.2,random_state=42)"
   ]
  },
  {
   "cell_type": "code",
   "execution_count": null,
   "metadata": {
    "colab": {
     "base_uri": "https://localhost:8080/"
    },
    "id": "kuE5tOnv5LPy",
    "outputId": "d13055e8-7b00-4577-f0b7-d7a5b7e15a0e"
   },
   "outputs": [
    {
     "name": "stdout",
     "output_type": "stream",
     "text": [
      "[20:52:11] WARNING: /workspace/src/objective/regression_obj.cu:152: reg:linear is now deprecated in favor of reg:squarederror.\n",
      "[20:54:09] WARNING: /workspace/src/objective/regression_obj.cu:152: reg:linear is now deprecated in favor of reg:squarederror.\n"
     ]
    },
    {
     "data": {
      "text/plain": [
       "XGBRegressor(base_score=0.5, booster='gbtree', colsample_bylevel=1,\n",
       "             colsample_bynode=1, colsample_bytree=1, gamma=0,\n",
       "             importance_type='gain', learning_rate=0.1, max_delta_step=0,\n",
       "             max_depth=3, min_child_weight=1, missing=None, n_estimators=200,\n",
       "             n_jobs=1, nthread=None, objective='reg:linear', random_state=0,\n",
       "             reg_alpha=0, reg_lambda=1, scale_pos_weight=1, seed=None,\n",
       "             silent=None, subsample=1, verbosity=1)"
      ]
     },
     "execution_count": 111,
     "metadata": {
      "tags": []
     },
     "output_type": "execute_result"
    }
   ],
   "source": [
    "short_xgb = XGBRegressor(n_estimators=150)\n",
    "long_xgb = XGBRegressor(n_estimators=200)\n",
    "short_xgb.fit(short_x_train, short_y_train)\n",
    "long_xgb.fit(long_x_train,long_y_train)"
   ]
  },
  {
   "cell_type": "code",
   "execution_count": null,
   "metadata": {
    "id": "WVa4j4t95Pdr"
   },
   "outputs": [],
   "source": [
    "short_pred = short_xgb.predict(short_x_test)\n",
    "long_pred = long_xgb.predict(long_x_test)"
   ]
  },
  {
   "cell_type": "code",
   "execution_count": null,
   "metadata": {
    "id": "12QFcl5U7wKe"
   },
   "outputs": [],
   "source": [
    "save('/content/drive/MyDrive/ML Assignment/Predictions/hmp_short_pred_XGB.npy', short_pred)\n",
    "save('/content/drive/MyDrive/ML Assignment/Predictions/hmp_long_pred_XGB.npy', long_pred)"
   ]
  },
  {
   "cell_type": "code",
   "execution_count": null,
   "metadata": {
    "colab": {
     "base_uri": "https://localhost:8080/"
    },
    "id": "rCCwt22m5TVO",
    "outputId": "c2a872eb-faba-4e25-e87b-761d7c54781a"
   },
   "outputs": [
    {
     "name": "stdout",
     "output_type": "stream",
     "text": [
      "The Spearman's correlation coefficient is: 0.317\n",
      "The Spearman's correlation coefficient is: 0.121\n"
     ]
    }
   ],
   "source": [
    "Get_score(short_pred, short_y_test)\n",
    "Get_score(long_pred, long_y_test)"
   ]
  },
  {
   "cell_type": "markdown",
   "metadata": {
    "id": "cXXvze3L4Q0f"
   },
   "source": [
    "## XGBoost on InceptionV3"
   ]
  },
  {
   "cell_type": "code",
   "execution_count": null,
   "metadata": {
    "colab": {
     "base_uri": "https://localhost:8080/"
    },
    "id": "u7-5f9kAXAWa",
    "outputId": "cb599dfd-baf6-4c71-c318-8b3d93c2df5e"
   },
   "outputs": [
    {
     "name": "stderr",
     "output_type": "stream",
     "text": [
      "/usr/local/lib/python3.7/dist-packages/ipykernel_launcher.py:5: SettingWithCopyWarning: \n",
      "A value is trying to be set on a copy of a slice from a DataFrame\n",
      "\n",
      "See the caveats in the documentation: https://pandas.pydata.org/pandas-docs/stable/user_guide/indexing.html#returning-a-view-versus-a-copy\n",
      "  \"\"\"\n",
      "/usr/local/lib/python3.7/dist-packages/ipykernel_launcher.py:7: SettingWithCopyWarning: \n",
      "A value is trying to be set on a copy of a slice from a DataFrame\n",
      "\n",
      "See the caveats in the documentation: https://pandas.pydata.org/pandas-docs/stable/user_guide/indexing.html#returning-a-view-versus-a-copy\n",
      "  import sys\n",
      "/usr/local/lib/python3.7/dist-packages/ipykernel_launcher.py:9: SettingWithCopyWarning: \n",
      "A value is trying to be set on a copy of a slice from a DataFrame\n",
      "\n",
      "See the caveats in the documentation: https://pandas.pydata.org/pandas-docs/stable/user_guide/indexing.html#returning-a-view-versus-a-copy\n",
      "  if __name__ == '__main__':\n"
     ]
    }
   ],
   "source": [
    "inceptionv3 = pd.read_pickle('/content/drive/MyDrive/ML Assignment/inception_v3')\n",
    "\n",
    "for i in inceptionv3.index:\n",
    "  if isinstance(inceptionv3['video-0'][i],int):\n",
    "    inceptionv3['video-0'][i] = [0] * 1000\n",
    "  if isinstance(inceptionv3['video-56'][i],int):\n",
    "    inceptionv3['video-56'][i] = [0] * 1000\n",
    "  if isinstance(inceptionv3['video-112'][i],int):\n",
    "    inceptionv3['video-112'][i] = [0] * 1000\n",
    "\n",
    "\n",
    "\n",
    "result_array = np.empty((0, 3000))\n",
    "\n",
    "for i in inceptionv3.index:\n",
    "  while len(inceptionv3['video-0'][i]) < 1000:\n",
    "    inceptionv3['video-0'][i] = np.append((inceptionv3['video-0'][i]), 0)\n",
    "  while len(inceptionv3['video-56'][i]) < 1000:\n",
    "    inceptionv3['video-56'][i] = np.append((inceptionv3['video-56'][i]), 0)\n",
    "  while len(inceptionv3['video-112'][i]) < 1000:\n",
    "    inceptionv3['video-112'][i] = np.append((inceptionv3['video-112'][i]), 0)\n",
    "  res = np.hstack((inceptionv3['video-0'][i], inceptionv3['video-56'][i], inceptionv3['video-112'][i]))\n",
    "  result_array = np.append(result_array, np.array([res]), axis = 0)"
   ]
  },
  {
   "cell_type": "code",
   "execution_count": null,
   "metadata": {
    "colab": {
     "base_uri": "https://localhost:8080/"
    },
    "id": "GxB_yDDVXls-",
    "outputId": "52b31d8f-f6fc-4464-e00c-804927fdea7c"
   },
   "outputs": [
    {
     "name": "stdout",
     "output_type": "stream",
     "text": [
      "<class 'numpy.ndarray'>\n"
     ]
    },
    {
     "data": {
      "text/plain": [
       "array([[0.000000e+00, 0.000000e+00, 0.000000e+00, ..., 0.000000e+00,\n",
       "        0.000000e+00, 0.000000e+00],\n",
       "       [0.000000e+00, 0.000000e+00, 0.000000e+00, ..., 0.000000e+00,\n",
       "        0.000000e+00, 0.000000e+00],\n",
       "       [2.926813e-18, 3.022254e-19, 4.139101e-19, ..., 3.913046e-23,\n",
       "        2.295526e-20, 2.015046e-17],\n",
       "       ...,\n",
       "       [0.000000e+00, 0.000000e+00, 0.000000e+00, ..., 0.000000e+00,\n",
       "        0.000000e+00, 0.000000e+00],\n",
       "       [7.332495e-25, 2.549710e-34, 7.246693e-37, ..., 0.000000e+00,\n",
       "        0.000000e+00, 6.700695e-37],\n",
       "       [0.000000e+00, 0.000000e+00, 0.000000e+00, ..., 0.000000e+00,\n",
       "        0.000000e+00, 0.000000e+00]])"
      ]
     },
     "execution_count": 116,
     "metadata": {
      "tags": []
     },
     "output_type": "execute_result"
    }
   ],
   "source": [
    "X_arr_inception = result_array\n",
    "del result_array\n",
    "print(type(X_arr_inception))\n",
    "X_arr_inception"
   ]
  },
  {
   "cell_type": "code",
   "execution_count": null,
   "metadata": {
    "id": "dI42RG_SXtxG"
   },
   "outputs": [],
   "source": [
    "y_short = inceptionv3[['short-term_memorability']].values\n",
    "y_long = inceptionv3[['long-term_memorability']].values"
   ]
  },
  {
   "cell_type": "code",
   "execution_count": null,
   "metadata": {
    "id": "ddVMHI6tXxKl"
   },
   "outputs": [],
   "source": [
    "# Splitting the dataset into the Training set and Test set\n",
    "short_x_train,short_x_test,short_y_train,short_y_test = train_test_split(X_arr_inception,y_short,test_size=0.2,random_state=42)\n",
    "long_x_train,long_x_test,long_y_train,long_y_test = train_test_split(X_arr_inception,y_long,test_size=0.2,random_state=42)"
   ]
  },
  {
   "cell_type": "code",
   "execution_count": null,
   "metadata": {
    "colab": {
     "base_uri": "https://localhost:8080/"
    },
    "id": "rWBqQnWjX0jS",
    "outputId": "20425d32-c3e9-4930-de05-5555d552e0d1"
   },
   "outputs": [
    {
     "name": "stdout",
     "output_type": "stream",
     "text": [
      "[21:05:36] WARNING: /workspace/src/objective/regression_obj.cu:152: reg:linear is now deprecated in favor of reg:squarederror.\n",
      "[21:06:31] WARNING: /workspace/src/objective/regression_obj.cu:152: reg:linear is now deprecated in favor of reg:squarederror.\n"
     ]
    },
    {
     "data": {
      "text/plain": [
       "XGBRegressor(base_score=0.5, booster='gbtree', colsample_bylevel=1,\n",
       "             colsample_bynode=1, colsample_bytree=1, gamma=0,\n",
       "             importance_type='gain', learning_rate=0.1, max_delta_step=0,\n",
       "             max_depth=3, min_child_weight=1, missing=None, n_estimators=200,\n",
       "             n_jobs=1, nthread=None, objective='reg:linear', random_state=0,\n",
       "             reg_alpha=0, reg_lambda=1, scale_pos_weight=1, seed=None,\n",
       "             silent=None, subsample=1, verbosity=1)"
      ]
     },
     "execution_count": 127,
     "metadata": {
      "tags": []
     },
     "output_type": "execute_result"
    }
   ],
   "source": [
    "short_xgb = XGBRegressor(n_estimators=150)\n",
    "long_xgb = XGBRegressor(n_estimators=200)\n",
    "short_xgb.fit(short_x_train, short_y_train)\n",
    "long_xgb.fit(long_x_train,long_y_train)"
   ]
  },
  {
   "cell_type": "code",
   "execution_count": null,
   "metadata": {
    "id": "Qqbd9EgZX3yh"
   },
   "outputs": [],
   "source": [
    "short_pred = short_xgb.predict(short_x_test)\n",
    "long_pred = long_xgb.predict(long_x_test)"
   ]
  },
  {
   "cell_type": "code",
   "execution_count": null,
   "metadata": {
    "colab": {
     "base_uri": "https://localhost:8080/"
    },
    "id": "QyhoZUzjX6pl",
    "outputId": "f7cd0805-1d04-4c24-9e11-b90f2b3ed27d"
   },
   "outputs": [
    {
     "name": "stdout",
     "output_type": "stream",
     "text": [
      "The Spearman's correlation coefficient is: 0.156\n",
      "The Spearman's correlation coefficient is: 0.040\n"
     ]
    }
   ],
   "source": [
    "Get_score(short_pred, short_y_test)\n",
    "Get_score(long_pred, long_y_test)"
   ]
  },
  {
   "cell_type": "code",
   "execution_count": null,
   "metadata": {
    "id": "6QuYUcCScaTy"
   },
   "outputs": [],
   "source": [
    "save('/content/drive/MyDrive/ML Assignment/Predictions/IV3_short_pred_XGB.npy', short_pred)\n",
    "save('/content/drive/MyDrive/ML Assignment/Predictions/IV3_long_pred_XGB.npy', long_pred)"
   ]
  },
  {
   "cell_type": "markdown",
   "metadata": {
    "id": "luHLA2XgFJne"
   },
   "source": [
    "## XGBoost on Aesthetics"
   ]
  },
  {
   "cell_type": "code",
   "execution_count": null,
   "metadata": {
    "id": "Actc4SXzFaur"
   },
   "outputs": [],
   "source": [
    "aesthetics = pd.read_pickle('/content/drive/MyDrive/ML Assignment/aesthetic_feature')\n",
    "result_array = np.empty((0, 218))\n",
    "\n",
    "for i in aesthetics.index:\n",
    "  while len(aesthetics['aesthetic_feat_dev-set_mean'][i]) < 109:\n",
    "    aesthetics['aesthetic_feat_dev-set_mean'][i] = np.append((aesthetics['aesthetic_feat_dev-set_mean'][i]), 0)\n",
    "  while len(aesthetics['aesthetic_feat_dev-set_median'][i]) < 109:\n",
    "    aesthetics['aesthetic_feat_dev-set_median'][i] = np.append((aesthetics['aesthetic_feat_dev-set_median'][i]), 0)\n",
    "  res = np.hstack((aesthetics['aesthetic_feat_dev-set_mean'][i], aesthetics['aesthetic_feat_dev-set_median'][i]))\n",
    "  result_array = np.append(result_array, np.array([res]), axis = 0)"
   ]
  },
  {
   "cell_type": "code",
   "execution_count": null,
   "metadata": {
    "colab": {
     "base_uri": "https://localhost:8080/"
    },
    "id": "i56oB4hWFaur",
    "outputId": "f52f59a3-61c6-49f7-e003-e9ae793f09ff"
   },
   "outputs": [
    {
     "name": "stdout",
     "output_type": "stream",
     "text": [
      "<class 'numpy.ndarray'>\n"
     ]
    },
    {
     "data": {
      "text/plain": [
       "array([[ 0.18389 ,  0.713733,  0.202302, ...,  0.129661,  0.412381,\n",
       "         0.788761],\n",
       "       [ 0.147255,  0.550718,  0.460299, ...,  0.692224,  0.762354,\n",
       "        -0.561793],\n",
       "       [ 0.063933,  0.826933,  0.214129, ...,  0.438261, -0.21956 ,\n",
       "         0.276687],\n",
       "       ...,\n",
       "       [ 0.178087,  0.220956,  0.671676, ...,  0.38719 ,  0.244293,\n",
       "         0.341741],\n",
       "       [ 0.113677,  0.585402,  0.496425, ...,  0.00308 ,  0.365075,\n",
       "        -1.04308 ],\n",
       "       [ 0.554591,  0.134659,  0.691026, ...,  0.783961,  0.621886,\n",
       "        -0.569049]])"
      ]
     },
     "execution_count": 132,
     "metadata": {
      "tags": []
     },
     "output_type": "execute_result"
    }
   ],
   "source": [
    "X_arr_aesthetics = result_array\n",
    "del result_array\n",
    "print(type(X_arr_aesthetics))\n",
    "X_arr_aesthetics"
   ]
  },
  {
   "cell_type": "code",
   "execution_count": null,
   "metadata": {
    "id": "cqvd2nlSFaus"
   },
   "outputs": [],
   "source": [
    "y_short = aesthetics[['short-term_memorability']].values\n",
    "y_long = aesthetics[['long-term_memorability']].values\n",
    "\n",
    "# Splitting the dataset into the Training set and Test set\n",
    "short_x_train,short_x_test,short_y_train,short_y_test = train_test_split(X_arr_aesthetics,y_short,test_size=0.2,random_state=42)\n",
    "long_x_train,long_x_test,long_y_train,long_y_test = train_test_split(X_arr_aesthetics,y_long,test_size=0.2,random_state=42)"
   ]
  },
  {
   "cell_type": "code",
   "execution_count": null,
   "metadata": {
    "colab": {
     "base_uri": "https://localhost:8080/"
    },
    "id": "jnSFT_BoFaus",
    "outputId": "fdf8d62f-79bd-4889-e7ee-04c1b728841b"
   },
   "outputs": [
    {
     "name": "stdout",
     "output_type": "stream",
     "text": [
      "[21:11:57] WARNING: /workspace/src/objective/regression_obj.cu:152: reg:linear is now deprecated in favor of reg:squarederror.\n",
      "[21:12:09] WARNING: /workspace/src/objective/regression_obj.cu:152: reg:linear is now deprecated in favor of reg:squarederror.\n"
     ]
    },
    {
     "data": {
      "text/plain": [
       "XGBRegressor(base_score=0.5, booster='gbtree', colsample_bylevel=1,\n",
       "             colsample_bynode=1, colsample_bytree=1, gamma=0,\n",
       "             importance_type='gain', learning_rate=0.1, max_delta_step=0,\n",
       "             max_depth=3, min_child_weight=1, missing=None, n_estimators=200,\n",
       "             n_jobs=1, nthread=None, objective='reg:linear', random_state=0,\n",
       "             reg_alpha=0, reg_lambda=1, scale_pos_weight=1, seed=None,\n",
       "             silent=None, subsample=1, verbosity=1)"
      ]
     },
     "execution_count": 134,
     "metadata": {
      "tags": []
     },
     "output_type": "execute_result"
    }
   ],
   "source": [
    "short_xgb = XGBRegressor(n_estimators=200)\n",
    "long_xgb = XGBRegressor(n_estimators=200)\n",
    "short_xgb.fit(short_x_train, short_y_train)\n",
    "long_xgb.fit(long_x_train,long_y_train)"
   ]
  },
  {
   "cell_type": "code",
   "execution_count": null,
   "metadata": {
    "id": "t725fj1uFaut"
   },
   "outputs": [],
   "source": [
    "short_pred = short_xgb.predict(short_x_test)\n",
    "long_pred = long_xgb.predict(long_x_test)"
   ]
  },
  {
   "cell_type": "code",
   "execution_count": null,
   "metadata": {
    "colab": {
     "base_uri": "https://localhost:8080/"
    },
    "id": "nLraowDwFaut",
    "outputId": "d8241d91-ea11-46e9-ed2d-8cd06ee120f5"
   },
   "outputs": [
    {
     "name": "stdout",
     "output_type": "stream",
     "text": [
      "The Spearman's correlation coefficient is: 0.294\n",
      "The Spearman's correlation coefficient is: 0.102\n"
     ]
    }
   ],
   "source": [
    "Get_score(short_pred, short_y_test)\n",
    "Get_score(long_pred, long_y_test)"
   ]
  },
  {
   "cell_type": "code",
   "execution_count": null,
   "metadata": {
    "id": "Esw7LJQFYFkV"
   },
   "outputs": [],
   "source": [
    "save('/content/drive/MyDrive/ML Assignment/Predictions/aesthetics_short_pred_XGB.npy', short_pred)\n",
    "save('/content/drive/MyDrive/ML Assignment/Predictions/aesthetics_long_pred_XGB.npy', long_pred)"
   ]
  },
  {
   "cell_type": "markdown",
   "metadata": {
    "id": "c_05qxoTfN7Y"
   },
   "source": [
    "## XGBoost on ColorHistogram"
   ]
  },
  {
   "cell_type": "code",
   "execution_count": null,
   "metadata": {
    "colab": {
     "base_uri": "https://localhost:8080/"
    },
    "id": "75jH8-ZSfRmj",
    "outputId": "607e5d37-eff2-481d-ec0d-83cadc4ef57f"
   },
   "outputs": [
    {
     "name": "stderr",
     "output_type": "stream",
     "text": [
      "/usr/local/lib/python3.7/dist-packages/ipykernel_launcher.py:8: SettingWithCopyWarning: \n",
      "A value is trying to be set on a copy of a slice from a DataFrame\n",
      "\n",
      "See the caveats in the documentation: https://pandas.pydata.org/pandas-docs/stable/user_guide/indexing.html#returning-a-view-versus-a-copy\n",
      "  \n",
      "/usr/local/lib/python3.7/dist-packages/ipykernel_launcher.py:13: SettingWithCopyWarning: \n",
      "A value is trying to be set on a copy of a slice from a DataFrame\n",
      "\n",
      "See the caveats in the documentation: https://pandas.pydata.org/pandas-docs/stable/user_guide/indexing.html#returning-a-view-versus-a-copy\n",
      "  del sys.path[0]\n",
      "/usr/local/lib/python3.7/dist-packages/ipykernel_launcher.py:18: SettingWithCopyWarning: \n",
      "A value is trying to be set on a copy of a slice from a DataFrame\n",
      "\n",
      "See the caveats in the documentation: https://pandas.pydata.org/pandas-docs/stable/user_guide/indexing.html#returning-a-view-versus-a-copy\n",
      "/usr/local/lib/python3.7/dist-packages/ipykernel_launcher.py:10: SettingWithCopyWarning: \n",
      "A value is trying to be set on a copy of a slice from a DataFrame\n",
      "\n",
      "See the caveats in the documentation: https://pandas.pydata.org/pandas-docs/stable/user_guide/indexing.html#returning-a-view-versus-a-copy\n",
      "  # Remove the CWD from sys.path while we load stuff.\n",
      "/usr/local/lib/python3.7/dist-packages/ipykernel_launcher.py:15: SettingWithCopyWarning: \n",
      "A value is trying to be set on a copy of a slice from a DataFrame\n",
      "\n",
      "See the caveats in the documentation: https://pandas.pydata.org/pandas-docs/stable/user_guide/indexing.html#returning-a-view-versus-a-copy\n",
      "  from ipykernel import kernelapp as app\n",
      "/usr/local/lib/python3.7/dist-packages/ipykernel_launcher.py:20: SettingWithCopyWarning: \n",
      "A value is trying to be set on a copy of a slice from a DataFrame\n",
      "\n",
      "See the caveats in the documentation: https://pandas.pydata.org/pandas-docs/stable/user_guide/indexing.html#returning-a-view-versus-a-copy\n"
     ]
    }
   ],
   "source": [
    "ch = pd.read_pickle('/content/drive/MyDrive/ML Assignment/color_histogram')\n",
    "\n",
    "# Reusing same variable names to reduce memory.\n",
    "result_array = np.empty((0, 768))\n",
    "\n",
    "for i in ch.index:\n",
    "  if isinstance(ch['video-0'][i],int):\n",
    "    ch['video-0'][i] = [0] * 256\n",
    "  else:\n",
    "    ch['video-0'][i] = ch['video-0'][i][0] + ch['video-0'][i][1] + ch['video-0'][i][2]\n",
    "  \n",
    "  if isinstance(ch['video-56'][i],int):\n",
    "    ch['video-56'][i] = [0] * 256\n",
    "  else:\n",
    "    ch['video-56'][i] = ch['video-56'][i][0] + ch['video-56'][i][1] + ch['video-56'][i][2]\n",
    "  \n",
    "  if isinstance(ch['video-112'][i],int):\n",
    "    ch['video-112'][i] = [0] * 256\n",
    "  else:\n",
    "    ch['video-112'][i] = ch['video-112'][i][0] + ch['video-112'][i][1] + ch['video-112'][i][2]\n",
    "\n",
    "  res = np.hstack((ch['video-0'][i], ch['video-56'][i], ch['video-112'][i]))\n",
    "  result_array = np.append(result_array, np.array([res]), axis = 0)"
   ]
  },
  {
   "cell_type": "code",
   "execution_count": null,
   "metadata": {
    "colab": {
     "base_uri": "https://localhost:8080/"
    },
    "id": "f8_IZOYkfXD-",
    "outputId": "39d67ae9-5e05-40a2-a0fa-da11a5a35e40"
   },
   "outputs": [
    {
     "name": "stdout",
     "output_type": "stream",
     "text": [
      "<class 'numpy.ndarray'>\n"
     ]
    },
    {
     "data": {
      "text/plain": [
       "array([[0.00000e+00, 0.00000e+00, 0.00000e+00, ..., 0.00000e+00,\n",
       "        0.00000e+00, 0.00000e+00],\n",
       "       [8.54550e+04, 1.74820e+04, 1.61940e+04, ..., 1.43900e+04,\n",
       "        2.09500e+03, 3.16360e+04],\n",
       "       [6.51922e+05, 2.05142e+05, 2.40695e+05, ..., 0.00000e+00,\n",
       "        0.00000e+00, 0.00000e+00],\n",
       "       ...,\n",
       "       [2.00000e+01, 7.00000e+00, 1.70000e+01, ..., 7.18000e+02,\n",
       "        2.31000e+02, 1.67000e+02],\n",
       "       [7.02000e+02, 2.59000e+02, 3.56000e+02, ..., 2.58900e+03,\n",
       "        7.32000e+02, 1.39610e+04],\n",
       "       [0.00000e+00, 0.00000e+00, 0.00000e+00, ..., 1.91000e+02,\n",
       "        1.47000e+02, 8.82000e+02]])"
      ]
     },
     "execution_count": 139,
     "metadata": {
      "tags": []
     },
     "output_type": "execute_result"
    }
   ],
   "source": [
    "X_arr_ch = result_array\n",
    "del result_array\n",
    "print(type(X_arr_ch))\n",
    "X_arr_ch"
   ]
  },
  {
   "cell_type": "code",
   "execution_count": null,
   "metadata": {
    "id": "aKf5FOMFfho2"
   },
   "outputs": [],
   "source": [
    "y_short = ch[['short-term_memorability']].values\n",
    "y_long = ch[['long-term_memorability']].values"
   ]
  },
  {
   "cell_type": "code",
   "execution_count": null,
   "metadata": {
    "id": "-uTqRtRTfogm"
   },
   "outputs": [],
   "source": [
    "# Splitting the dataset into the Training set and Test set\n",
    "short_x_train,short_x_test,short_y_train,short_y_test = train_test_split(X_arr_inception,y_short,test_size=0.2,random_state=42)\n",
    "long_x_train,long_x_test,long_y_train,long_y_test = train_test_split(X_arr_inception,y_long,test_size=0.2,random_state=42)"
   ]
  },
  {
   "cell_type": "code",
   "execution_count": null,
   "metadata": {
    "colab": {
     "base_uri": "https://localhost:8080/"
    },
    "id": "M9CfbYWifoZZ",
    "outputId": "505abff7-456b-49f2-a2f4-6ee0ce3517e1"
   },
   "outputs": [
    {
     "name": "stdout",
     "output_type": "stream",
     "text": [
      "[21:14:03] WARNING: /workspace/src/objective/regression_obj.cu:152: reg:linear is now deprecated in favor of reg:squarederror.\n",
      "[21:14:57] WARNING: /workspace/src/objective/regression_obj.cu:152: reg:linear is now deprecated in favor of reg:squarederror.\n"
     ]
    },
    {
     "data": {
      "text/plain": [
       "XGBRegressor(base_score=0.5, booster='gbtree', colsample_bylevel=1,\n",
       "             colsample_bynode=1, colsample_bytree=1, gamma=0,\n",
       "             importance_type='gain', learning_rate=0.1, max_delta_step=0,\n",
       "             max_depth=3, min_child_weight=1, missing=None, n_estimators=200,\n",
       "             n_jobs=1, nthread=None, objective='reg:linear', random_state=0,\n",
       "             reg_alpha=0, reg_lambda=1, scale_pos_weight=1, seed=None,\n",
       "             silent=None, subsample=1, verbosity=1)"
      ]
     },
     "execution_count": 142,
     "metadata": {
      "tags": []
     },
     "output_type": "execute_result"
    }
   ],
   "source": [
    "short_xgb = XGBRegressor(n_estimators=150)\n",
    "long_xgb = XGBRegressor(n_estimators=200)\n",
    "short_xgb.fit(short_x_train, short_y_train)\n",
    "long_xgb.fit(long_x_train,long_y_train)"
   ]
  },
  {
   "cell_type": "code",
   "execution_count": null,
   "metadata": {
    "id": "w_iDSv0ufwQe"
   },
   "outputs": [],
   "source": [
    "short_pred = short_xgb.predict(short_x_test)\n",
    "long_pred = long_xgb.predict(long_x_test)"
   ]
  },
  {
   "cell_type": "code",
   "execution_count": null,
   "metadata": {
    "colab": {
     "base_uri": "https://localhost:8080/"
    },
    "id": "J8wRCIGtf0SV",
    "outputId": "0bd3a7cc-953b-463b-922e-0caf016bb02d"
   },
   "outputs": [
    {
     "name": "stdout",
     "output_type": "stream",
     "text": [
      "The Spearman's correlation coefficient is: 0.156\n",
      "The Spearman's correlation coefficient is: 0.040\n"
     ]
    }
   ],
   "source": [
    "Get_score(short_pred, short_y_test)\n",
    "Get_score(long_pred, long_y_test)"
   ]
  },
  {
   "cell_type": "code",
   "execution_count": null,
   "metadata": {
    "id": "1pSEDJt9f2zg"
   },
   "outputs": [],
   "source": [
    "save('/content/drive/MyDrive/ML Assignment/Predictions/color_histogram_short_pred_XGB.npy', short_pred)\n",
    "save('/content/drive/MyDrive/ML Assignment/Predictions/color_histogram_long_pred_XGB.npy', long_pred)"
   ]
  },
  {
   "cell_type": "markdown",
   "metadata": {
    "id": "4hD5HuwTtqJ9"
   },
   "source": [
    "# Weighted Average Ensembling"
   ]
  },
  {
   "cell_type": "code",
   "execution_count": null,
   "metadata": {
    "colab": {
     "base_uri": "https://localhost:8080/"
    },
    "id": "AXXKh9CltuGw",
    "outputId": "fc1b8779-b65b-4473-cbff-93bd87046418"
   },
   "outputs": [
    {
     "name": "stdout",
     "output_type": "stream",
     "text": [
      "Shape of IV3_short_pred_XGB is = (1200,)\n",
      "Shape of IV3_long_pred_XGB is = (1200,)\n",
      "Shape of hmp_short_pred_XGB is = (1200,)\n",
      "Shape of hmp_long_pred_XGB is = (1200,)\n",
      "Shape of lbp_pred_RF is = (1200, 2)\n",
      "Shape of c3d_pred_RF is = (1200, 2)\n",
      "Shape of color_histogram_short_pred_XGB is = (1200,)\n",
      "Shape of color_histogram_long_pred_XGB is = (1200,)\n",
      "Shape of aesthetics_short_pred_XGB is = (1200,)\n",
      "Shape of aesthetics_long_pred_XGB is = (1200,)\n",
      "\n",
      "\n",
      "Converting HMP Predictions to share (1200,2)...\n",
      "Shape of HMP Prediction now is = (1200, 2)\n",
      "\n",
      "Converting Inception V3 Predictions to share (1200,2)...\n",
      "Shape of Inception V3 Prediction now is = (1200, 2)\n",
      "\n",
      "Converting Aesthetics Predictions to share (1200,2)...\n",
      "Shape of Aesthetics Prediction now is = (1200, 2)\n",
      "\n",
      "Converting Color Histogram Predictions to share (1200,2)...\n",
      "Shape of Color Histogram Prediction now is = (1200, 2)\n"
     ]
    }
   ],
   "source": [
    "## Assigning y_test \n",
    "ch = pd.read_pickle('/content/drive/MyDrive/ML Assignment/color_histogram')\n",
    "y = ch[['short-term_memorability','long-term_memorability']].values\n",
    "y_train, y_test = train_test_split(y, test_size=0.2,random_state=42)\n",
    "\n",
    "\n",
    "## Loading saved predictions\n",
    "IV3_short_pred_XGB = load('/content/drive/MyDrive/ML Assignment/Predictions/IV3_short_pred_XGB.npy')\n",
    "IV3_long_pred_XGB = load('/content/drive/MyDrive/ML Assignment/Predictions/IV3_long_pred_XGB.npy')\n",
    "hmp_short_pred_XGB = load('/content/drive/MyDrive/ML Assignment/Predictions/hmp_short_pred_XGB.npy')\n",
    "hmp_long_pred_XGB = load('/content/drive/MyDrive/ML Assignment/Predictions/hmp_long_pred_XGB.npy')\n",
    "lbp_pred_RF = load('/content/drive/MyDrive/ML Assignment/Predictions/lbp_pred_RF.npy')\n",
    "c3d_pred_RF = load('/content/drive/MyDrive/ML Assignment/Predictions/c3d_pred_RF.npy')\n",
    "color_histogram_short_pred_XGB = load('/content/drive/MyDrive/ML Assignment/Predictions/color_histogram_short_pred_XGB.npy')\n",
    "color_histogram_long_pred_XGB = load('/content/drive/MyDrive/ML Assignment/Predictions/color_histogram_long_pred_XGB.npy')\n",
    "aesthetics_short_pred_XGB = load('/content/drive/MyDrive/ML Assignment/Predictions/aesthetics_short_pred_XGB.npy')\n",
    "aesthetics_long_pred_XGB = load('/content/drive/MyDrive/ML Assignment/Predictions/aesthetics_long_pred_XGB.npy')\n",
    "\n",
    "print(\"Shape of IV3_short_pred_XGB is =\", IV3_short_pred_XGB.shape)\n",
    "print(\"Shape of IV3_long_pred_XGB is =\", IV3_long_pred_XGB.shape)\n",
    "print(\"Shape of hmp_short_pred_XGB is =\", hmp_short_pred_XGB.shape)\n",
    "print(\"Shape of hmp_long_pred_XGB is =\", hmp_long_pred_XGB.shape)\n",
    "print(\"Shape of lbp_pred_RF is =\", lbp_pred_RF.shape)\n",
    "print(\"Shape of c3d_pred_RF is =\", c3d_pred_RF.shape)\n",
    "print(\"Shape of color_histogram_short_pred_XGB is =\", color_histogram_short_pred_XGB.shape)\n",
    "print(\"Shape of color_histogram_long_pred_XGB is =\", color_histogram_long_pred_XGB.shape)\n",
    "print(\"Shape of aesthetics_short_pred_XGB is =\", aesthetics_short_pred_XGB.shape)\n",
    "print(\"Shape of aesthetics_long_pred_XGB is =\", aesthetics_long_pred_XGB.shape)\n",
    "print()\n",
    "print()\n",
    "\n",
    "## Coverting XGB oost predictions to the same shape as others\n",
    "print(\"Converting HMP Predictions to share (1200,2)...\")\n",
    "hmp_pred = np.column_stack((hmp_short_pred_XGB, hmp_long_pred_XGB))\n",
    "print(\"Shape of HMP Prediction now is =\", hmp_pred.shape)\n",
    "\n",
    "print()\n",
    "\n",
    "print(\"Converting Inception V3 Predictions to share (1200,2)...\")\n",
    "iv3_pred = np.column_stack((IV3_short_pred_XGB, IV3_long_pred_XGB))\n",
    "print(\"Shape of Inception V3 Prediction now is =\", iv3_pred.shape)\n",
    "\n",
    "print()\n",
    "\n",
    "print(\"Converting Aesthetics Predictions to share (1200,2)...\")\n",
    "aesthetics_pred = np.column_stack((aesthetics_short_pred_XGB, aesthetics_long_pred_XGB))\n",
    "print(\"Shape of Aesthetics Prediction now is =\", iv3_pred.shape)\n",
    "\n",
    "print()\n",
    "\n",
    "print(\"Converting Color Histogram Predictions to share (1200,2)...\")\n",
    "ch_pred = np.column_stack((color_histogram_short_pred_XGB, color_histogram_long_pred_XGB))\n",
    "print(\"Shape of Color Histogram Prediction now is =\", iv3_pred.shape)\n"
   ]
  },
  {
   "cell_type": "markdown",
   "metadata": {
    "id": "wm0Uc39aCYxa"
   },
   "source": [
    "**Tweaked the Get_score function to accomodate it with find_appropriate_weight function**"
   ]
  },
  {
   "cell_type": "code",
   "execution_count": null,
   "metadata": {
    "id": "RofnaABfJSKI"
   },
   "outputs": [],
   "source": [
    "def Get_score_updated(Y_pred,Y_true):\n",
    "    '''Calculate the Spearmann\"s correlation coefficient'''\n",
    "    Y_pred = np.squeeze(Y_pred)\n",
    "    Y_true = np.squeeze(Y_true)\n",
    "    \n",
    "    if Y_pred.shape != Y_true.shape:\n",
    "        print('Input shapes don\\'t match!')\n",
    "    else:\n",
    "        if len(Y_pred.shape) == 1:\n",
    "            Res = pd.DataFrame({'Y_true':Y_true,'Y_pred':Y_pred})\n",
    "            score_mat = Res[['Y_true','Y_pred']].corr(method='spearman',min_periods=1)\n",
    "            # print('The Spearman\\'s correlation coefficient is: %.3f' % score_mat.iloc[1][0])\n",
    "            results.append(score_mat.iloc[1][0])\n",
    "        else:\n",
    "            for ii in range(Y_pred.shape[1]):\n",
    "                Get_score_updated(Y_pred[:,ii],Y_true[:,ii])\n",
    "    return results"
   ]
  },
  {
   "cell_type": "markdown",
   "metadata": {
    "id": "yBQzDABKCjK7"
   },
   "source": [
    "**find_appropriate_weight function follows hit and trial method to find the optimum weights to be used for the input feature list to get the best spearman coefficient.**"
   ]
  },
  {
   "cell_type": "code",
   "execution_count": null,
   "metadata": {
    "id": "BK_R0aD6xzbG"
   },
   "outputs": [],
   "source": [
    "def find_appropriate_weight(predictions, true):\n",
    "\n",
    "  # Creating a list of permutations of input predictions\n",
    "  predictions_permutation = list(itertools.permutations(predictions))\n",
    "\n",
    "  # Pointer to get best Short term score\n",
    "  best_score = 0\n",
    "  best_result = []\n",
    "\n",
    "  # Pointers for weights and corresponding features.\n",
    "  final_weights = []\n",
    "  final_features = []\n",
    "  \n",
    "  # Creating list with weights from 0.10 to 0.99\n",
    "  weights_list = [i for i in range(10, 100, 1)]\n",
    "  weights_list = [x / 100 for x in weights_list]\n",
    "\n",
    "  # Getting all the combinations of weights with length equal to length of input prections\n",
    "  weights_list = list(itertools.combinations(weights_list, len(predictions)))\n",
    "  weights_list_combination = []\n",
    "\n",
    "  # Keeping the combinations where the sum is equal to 1.\n",
    "  for i in weights_list:\n",
    "    if sum(i) == 1.0:\n",
    "      weights_list_combination.append(i)\n",
    "\n",
    "  # Ensembling with all combinations\n",
    "  for i in predictions_permutation:\n",
    "    for j in weights_list_combination:\n",
    "      summ = np.empty(predictions_permutation[0][0].shape)\n",
    "      for k in range(len(predictions)):\n",
    "        summ += np.multiply(np.array(i)[k], np.array(j)[k])\n",
    "      global results\n",
    "      results = []\n",
    "      temp = Get_score_updated(summ, true)\n",
    "      del results\n",
    "      if temp[0] > best_score:\n",
    "        best_score = temp[0]\n",
    "        best_result = temp\n",
    "      final_weights = list(j)\n",
    "      final_features = list(i)\n",
    "  \n",
    "  return (best_result, final_weights, final_features)"
   ]
  },
  {
   "cell_type": "markdown",
   "metadata": {
    "id": "J7TRJHYZlmjz"
   },
   "source": [
    "## Ensembling the 4 features (C3D, LBP, HMP, IV3)"
   ]
  },
  {
   "cell_type": "code",
   "execution_count": null,
   "metadata": {
    "id": "HXGYyPauOV0h"
   },
   "outputs": [],
   "source": [
    "predictions = [lbp_pred_RF, c3d_pred_RF, hmp_pred, iv3_pred]\n",
    "best_result, final_weights, final_features = find_appropriate_weight(predictions, y_test)"
   ]
  },
  {
   "cell_type": "code",
   "execution_count": null,
   "metadata": {
    "colab": {
     "base_uri": "https://localhost:8080/"
    },
    "id": "aPWng3ZvkQ2D",
    "outputId": "2423012c-0087-4962-f8d5-a8d0409ad07e"
   },
   "outputs": [
    {
     "name": "stdout",
     "output_type": "stream",
     "text": [
      "Best results are : [0.34520668028464035, 0.024235957452438107]\n",
      "\n",
      "Best weights are : [0.23, 0.24, 0.26, 0.27]\n",
      "\n",
      "Final Features : [array([[0.8628242 , 0.7837635 ],\n",
      "       [0.853126  , 0.7930182 ],\n",
      "       [0.8628242 , 0.7837635 ],\n",
      "       ...,\n",
      "       [0.8628242 , 0.7837635 ],\n",
      "       [0.8767178 , 0.85061413],\n",
      "       [0.8628242 , 0.7837635 ]], dtype=float32), array([[0.8893162 , 0.77821195],\n",
      "       [0.8532839 , 0.7953186 ],\n",
      "       [0.8819634 , 0.8046951 ],\n",
      "       ...,\n",
      "       [0.8931877 , 0.7826072 ],\n",
      "       [0.8903656 , 0.79383165],\n",
      "       [0.877746  , 0.7910184 ]], dtype=float32), array([[0.89221 , 0.78328 ],\n",
      "       [0.84366 , 0.73867 ],\n",
      "       [0.87946 , 0.78075 ],\n",
      "       ...,\n",
      "       [0.88292 , 0.78    ],\n",
      "       [0.910298, 0.85297 ],\n",
      "       [0.87488 , 0.82443 ]]), array([[0.86242914, 0.78330989],\n",
      "       [0.86713   , 0.78965   ],\n",
      "       [0.86242914, 0.78330989],\n",
      "       ...,\n",
      "       [0.86242914, 0.78330989],\n",
      "       [0.86242914, 0.78330989],\n",
      "       [0.86242914, 0.78330989]])]\n",
      "\n"
     ]
    }
   ],
   "source": [
    "print(\"Best results are :\", best_result)\n",
    "print()\n",
    "print(\"Best weights are :\", final_weights)\n",
    "print()\n",
    "print(\"Final Features :\", final_features)\n",
    "print()"
   ]
  },
  {
   "cell_type": "markdown",
   "metadata": {
    "id": "yqwtYcUflqcH"
   },
   "source": [
    "## Ensembling 2 features (C3D & HMP)"
   ]
  },
  {
   "cell_type": "code",
   "execution_count": null,
   "metadata": {
    "colab": {
     "base_uri": "https://localhost:8080/"
    },
    "id": "imkq5Lmplxt1",
    "outputId": "809ab16c-bc58-4407-c0fe-0343c8f65556"
   },
   "outputs": [
    {
     "name": "stdout",
     "output_type": "stream",
     "text": [
      "Best results are : [0.3443432978165853, 0.029009474033079775]\n",
      "\n",
      "Best weights are : [0.49, 0.51]\n",
      "\n",
      "Final Features : [array([[0.8893162 , 0.77821195],\n",
      "       [0.8532839 , 0.7953186 ],\n",
      "       [0.8819634 , 0.8046951 ],\n",
      "       ...,\n",
      "       [0.8931877 , 0.7826072 ],\n",
      "       [0.8903656 , 0.79383165],\n",
      "       [0.877746  , 0.7910184 ]], dtype=float32), array([[0.89221 , 0.78328 ],\n",
      "       [0.84366 , 0.73867 ],\n",
      "       [0.87946 , 0.78075 ],\n",
      "       ...,\n",
      "       [0.88292 , 0.78    ],\n",
      "       [0.910298, 0.85297 ],\n",
      "       [0.87488 , 0.82443 ]])]\n",
      "\n"
     ]
    }
   ],
   "source": [
    "predictions = [c3d_pred_RF, hmp_pred]\n",
    "best_result, final_weights, final_features = find_appropriate_weight(predictions, y_test)\n",
    "print(\"Best results are :\", best_result)\n",
    "print()\n",
    "print(\"Best weights are :\", final_weights)\n",
    "print()\n",
    "print(\"Final Features :\", final_features)\n",
    "print()"
   ]
  },
  {
   "cell_type": "markdown",
   "metadata": {
    "id": "n8aVDPismBAv"
   },
   "source": [
    "## Ensemblin 3 Features (C3D, HMP, & LBP)"
   ]
  },
  {
   "cell_type": "code",
   "execution_count": null,
   "metadata": {
    "colab": {
     "base_uri": "https://localhost:8080/"
    },
    "id": "9CK9WiFUmAuj",
    "outputId": "9339b389-8e54-48fb-830d-c6e890d6b3fe"
   },
   "outputs": [
    {
     "name": "stdout",
     "output_type": "stream",
     "text": [
      "Best results are : [0.3454376100934223, 0.02615837727261591]\n",
      "\n",
      "Best weights are : [0.32, 0.33, 0.35]\n",
      "\n",
      "Final Features : [array([[0.86242914, 0.78330989],\n",
      "       [0.86713   , 0.78965   ],\n",
      "       [0.86242914, 0.78330989],\n",
      "       ...,\n",
      "       [0.86242914, 0.78330989],\n",
      "       [0.86242914, 0.78330989],\n",
      "       [0.86242914, 0.78330989]]), array([[0.8893162 , 0.77821195],\n",
      "       [0.8532839 , 0.7953186 ],\n",
      "       [0.8819634 , 0.8046951 ],\n",
      "       ...,\n",
      "       [0.8931877 , 0.7826072 ],\n",
      "       [0.8903656 , 0.79383165],\n",
      "       [0.877746  , 0.7910184 ]], dtype=float32), array([[0.89221 , 0.78328 ],\n",
      "       [0.84366 , 0.73867 ],\n",
      "       [0.87946 , 0.78075 ],\n",
      "       ...,\n",
      "       [0.88292 , 0.78    ],\n",
      "       [0.910298, 0.85297 ],\n",
      "       [0.87488 , 0.82443 ]])]\n",
      "\n"
     ]
    }
   ],
   "source": [
    "predictions = [c3d_pred_RF, hmp_pred, lbp_pred_RF]\n",
    "best_result, final_weights, final_features = find_appropriate_weight(predictions, y_test)\n",
    "print(\"Best results are :\", best_result)\n",
    "print()\n",
    "print(\"Best weights are :\", final_weights)\n",
    "print()\n",
    "print(\"Final Features :\", final_features)\n",
    "print()"
   ]
  },
  {
   "cell_type": "markdown",
   "metadata": {
    "id": "h0iKnWM7osDE"
   },
   "source": [
    "## Ensembling 3 best perfroming models (C3D, HMP, Aesthetics)"
   ]
  },
  {
   "cell_type": "code",
   "execution_count": null,
   "metadata": {
    "colab": {
     "base_uri": "https://localhost:8080/"
    },
    "id": "F90hP3xZo4S-",
    "outputId": "84aa150d-e2e0-46ac-a6f8-ab5776f04ec5"
   },
   "outputs": [
    {
     "name": "stdout",
     "output_type": "stream",
     "text": [
      "Best results are : [0.3456971769485927, 0.028349494681350052]\n",
      "\n",
      "Best weights are : [0.32, 0.33, 0.35]\n",
      "\n",
      "Final Features : [array([[0.8814357 , 0.8358618 ],\n",
      "       [0.78449804, 0.74279517],\n",
      "       [0.8845825 , 0.81615466],\n",
      "       ...,\n",
      "       [0.8648213 , 0.757097  ],\n",
      "       [0.86922324, 0.7260919 ],\n",
      "       [0.85038483, 0.7568128 ]], dtype=float32), array([[0.8893162 , 0.77821195],\n",
      "       [0.8532839 , 0.7953186 ],\n",
      "       [0.8819634 , 0.8046951 ],\n",
      "       ...,\n",
      "       [0.8931877 , 0.7826072 ],\n",
      "       [0.8903656 , 0.79383165],\n",
      "       [0.877746  , 0.7910184 ]], dtype=float32), array([[0.89221 , 0.78328 ],\n",
      "       [0.84366 , 0.73867 ],\n",
      "       [0.87946 , 0.78075 ],\n",
      "       ...,\n",
      "       [0.88292 , 0.78    ],\n",
      "       [0.910298, 0.85297 ],\n",
      "       [0.87488 , 0.82443 ]])]\n",
      "\n"
     ]
    }
   ],
   "source": [
    "predictions = [c3d_pred_RF, hmp_pred, aesthetics_pred]\n",
    "best_result, final_weights, final_features = find_appropriate_weight(predictions, y_test)\n",
    "print(\"Best results are :\", best_result)\n",
    "print()\n",
    "print(\"Best weights are :\", final_weights)\n",
    "print()\n",
    "print(\"Final Features :\", final_features)\n",
    "print()"
   ]
  },
  {
   "cell_type": "markdown",
   "metadata": {
    "id": "SO8eU8JOoOlx"
   },
   "source": [
    "## Ensembling 4 features (C3D, HMP, LBP, Aesthetics)"
   ]
  },
  {
   "cell_type": "code",
   "execution_count": null,
   "metadata": {
    "colab": {
     "base_uri": "https://localhost:8080/"
    },
    "id": "hOQloOe5oTt_",
    "outputId": "a2712211-42a9-4438-bcf1-27202173c896"
   },
   "outputs": [
    {
     "name": "stdout",
     "output_type": "stream",
     "text": [
      "Best results are : [0.34622329716764394, 0.02687530495901011]\n",
      "\n",
      "Best weights are : [0.23, 0.24, 0.26, 0.27]\n",
      "\n",
      "Final Features : [array([[0.8814357 , 0.8358618 ],\n",
      "       [0.78449804, 0.74279517],\n",
      "       [0.8845825 , 0.81615466],\n",
      "       ...,\n",
      "       [0.8648213 , 0.757097  ],\n",
      "       [0.86922324, 0.7260919 ],\n",
      "       [0.85038483, 0.7568128 ]], dtype=float32), array([[0.86242914, 0.78330989],\n",
      "       [0.86713   , 0.78965   ],\n",
      "       [0.86242914, 0.78330989],\n",
      "       ...,\n",
      "       [0.86242914, 0.78330989],\n",
      "       [0.86242914, 0.78330989],\n",
      "       [0.86242914, 0.78330989]]), array([[0.8893162 , 0.77821195],\n",
      "       [0.8532839 , 0.7953186 ],\n",
      "       [0.8819634 , 0.8046951 ],\n",
      "       ...,\n",
      "       [0.8931877 , 0.7826072 ],\n",
      "       [0.8903656 , 0.79383165],\n",
      "       [0.877746  , 0.7910184 ]], dtype=float32), array([[0.89221 , 0.78328 ],\n",
      "       [0.84366 , 0.73867 ],\n",
      "       [0.87946 , 0.78075 ],\n",
      "       ...,\n",
      "       [0.88292 , 0.78    ],\n",
      "       [0.910298, 0.85297 ],\n",
      "       [0.87488 , 0.82443 ]])]\n",
      "\n"
     ]
    }
   ],
   "source": [
    "predictions = [c3d_pred_RF, hmp_pred, lbp_pred_RF, aesthetics_pred]\n",
    "best_result, final_weights, final_features = find_appropriate_weight(predictions, y_test)\n",
    "print(\"Best results are :\", best_result)\n",
    "print()\n",
    "print(\"Best weights are :\", final_weights)\n",
    "print()\n",
    "print(\"Final Features :\", final_features)\n",
    "print()"
   ]
  },
  {
   "cell_type": "code",
   "execution_count": null,
   "metadata": {
    "id": "-mbmVoAgNxth"
   },
   "outputs": [],
   "source": [
    "# [aesthetics_pred, lbp_pred_RF, hmp_pred, c3d_pred_RF]"
   ]
  },
  {
   "cell_type": "markdown",
   "metadata": {
    "id": "AnshsUDsQkS6"
   },
   "source": [
    "NOTE: Finally, I can conclude that the best performing models are as follows:\n",
    "\n",
    "**For Short-term**: Ensemble of the below models\n",
    "\n",
    "Feature--------Model---------------Weight\n",
    "\n",
    "Aesthetics-----XGBoost-------------0.23\n",
    "\n",
    "LBP------------RandomForest-------0.24\n",
    "\n",
    "HMP------------XGBoost------------0.26\n",
    "\n",
    "C3D------------RandomFOrest-------0.27\n",
    "\n",
    "**For Long Term**: XGBoost on HMP"
   ]
  },
  {
   "cell_type": "markdown",
   "metadata": {
    "id": "JKJPKRYQOcKc"
   },
   "source": [
    "# Train Final model on full DEV Set"
   ]
  },
  {
   "cell_type": "markdown",
   "metadata": {
    "id": "CwJ4gACWS832"
   },
   "source": [
    "## For short-term memorability"
   ]
  },
  {
   "cell_type": "markdown",
   "metadata": {
    "id": "npdloBmjSeIi"
   },
   "source": [
    "### XGBoost on Aesthetics Feature"
   ]
  },
  {
   "cell_type": "code",
   "execution_count": null,
   "metadata": {
    "id": "uzEYpqWxOhsQ"
   },
   "outputs": [],
   "source": [
    "aesthetics = pd.read_pickle('/content/drive/MyDrive/ML Assignment/aesthetic_feature')\n",
    "result_array = np.empty((0, 218))\n",
    "\n",
    "for i in aesthetics.index:\n",
    "  while len(aesthetics['aesthetic_feat_dev-set_mean'][i]) < 109:\n",
    "    aesthetics['aesthetic_feat_dev-set_mean'][i] = np.append((aesthetics['aesthetic_feat_dev-set_mean'][i]), 0)\n",
    "  while len(aesthetics['aesthetic_feat_dev-set_median'][i]) < 109:\n",
    "    aesthetics['aesthetic_feat_dev-set_median'][i] = np.append((aesthetics['aesthetic_feat_dev-set_median'][i]), 0)\n",
    "  res = np.hstack((aesthetics['aesthetic_feat_dev-set_mean'][i], aesthetics['aesthetic_feat_dev-set_median'][i]))\n",
    "  result_array = np.append(result_array, np.array([res]), axis = 0)"
   ]
  },
  {
   "cell_type": "code",
   "execution_count": null,
   "metadata": {
    "colab": {
     "base_uri": "https://localhost:8080/"
    },
    "id": "BCyuz9tBTkUD",
    "outputId": "14ec3cfd-175e-4a11-b24f-867ee78635ea"
   },
   "outputs": [
    {
     "name": "stdout",
     "output_type": "stream",
     "text": [
      "<class 'numpy.ndarray'>\n"
     ]
    },
    {
     "data": {
      "text/plain": [
       "array([[ 0.18389 ,  0.713733,  0.202302, ...,  0.129661,  0.412381,\n",
       "         0.788761],\n",
       "       [ 0.147255,  0.550718,  0.460299, ...,  0.692224,  0.762354,\n",
       "        -0.561793],\n",
       "       [ 0.063933,  0.826933,  0.214129, ...,  0.438261, -0.21956 ,\n",
       "         0.276687],\n",
       "       ...,\n",
       "       [ 0.178087,  0.220956,  0.671676, ...,  0.38719 ,  0.244293,\n",
       "         0.341741],\n",
       "       [ 0.113677,  0.585402,  0.496425, ...,  0.00308 ,  0.365075,\n",
       "        -1.04308 ],\n",
       "       [ 0.554591,  0.134659,  0.691026, ...,  0.783961,  0.621886,\n",
       "        -0.569049]])"
      ]
     },
     "execution_count": 21,
     "metadata": {
      "tags": []
     },
     "output_type": "execute_result"
    }
   ],
   "source": [
    "X_arr_aesthetics = result_array\n",
    "del result_array\n",
    "print(type(X_arr_aesthetics))\n",
    "X_arr_aesthetics"
   ]
  },
  {
   "cell_type": "code",
   "execution_count": null,
   "metadata": {
    "colab": {
     "base_uri": "https://localhost:8080/"
    },
    "id": "9NfhGNa7Tuxh",
    "outputId": "026c697c-e7c9-4ab2-e8ab-2d46058a9006"
   },
   "outputs": [
    {
     "name": "stdout",
     "output_type": "stream",
     "text": [
      "[23:21:40] WARNING: /workspace/src/objective/regression_obj.cu:152: reg:linear is now deprecated in favor of reg:squarederror.\n"
     ]
    },
    {
     "data": {
      "text/plain": [
       "XGBRegressor(base_score=0.5, booster='gbtree', colsample_bylevel=1,\n",
       "             colsample_bynode=1, colsample_bytree=1, gamma=0,\n",
       "             importance_type='gain', learning_rate=0.1, max_delta_step=0,\n",
       "             max_depth=3, min_child_weight=1, missing=None, n_estimators=200,\n",
       "             n_jobs=1, nthread=None, objective='reg:linear', random_state=0,\n",
       "             reg_alpha=0, reg_lambda=1, scale_pos_weight=1, seed=None,\n",
       "             silent=None, subsample=1, verbosity=1)"
      ]
     },
     "execution_count": 22,
     "metadata": {
      "tags": []
     },
     "output_type": "execute_result"
    }
   ],
   "source": [
    "y_short = aesthetics[['short-term_memorability']].values\n",
    "aesthetics_short_xgb = XGBRegressor(n_estimators=200)\n",
    "aesthetics_short_xgb.fit(X_arr_aesthetics, y_short)"
   ]
  },
  {
   "cell_type": "markdown",
   "metadata": {
    "id": "j9MPjrUTSlui"
   },
   "source": [
    "### XGBoost on HMP"
   ]
  },
  {
   "cell_type": "code",
   "execution_count": null,
   "metadata": {
    "colab": {
     "base_uri": "https://localhost:8080/"
    },
    "id": "yNyyintFSpPw",
    "outputId": "e2707bd3-f4e2-4102-b8d0-ef8a2e14455d"
   },
   "outputs": [
    {
     "name": "stderr",
     "output_type": "stream",
     "text": [
      "/usr/local/lib/python3.7/dist-packages/ipykernel_launcher.py:5: SettingWithCopyWarning: \n",
      "A value is trying to be set on a copy of a slice from a DataFrame\n",
      "\n",
      "See the caveats in the documentation: https://pandas.pydata.org/pandas-docs/stable/user_guide/indexing.html#returning-a-view-versus-a-copy\n",
      "  \"\"\"\n"
     ]
    }
   ],
   "source": [
    "hmp = pd.read_pickle('/content/drive/MyDrive/ML Assignment/hmp')\n",
    "\n",
    "for i in hmp.index:\n",
    "  if isinstance(hmp['hmp'][i],int):\n",
    "    hmp['hmp'][i] = [0] * 6075\n",
    "\n",
    "\n",
    "# Reusing same variable names to reduce memory.\n",
    "result_array = np.empty((0, 6075))\n",
    "for line in hmp['hmp']:\n",
    "    result_array = np.append(result_array, np.array([line]), axis = 0)"
   ]
  },
  {
   "cell_type": "code",
   "execution_count": null,
   "metadata": {
    "colab": {
     "base_uri": "https://localhost:8080/"
    },
    "id": "zZ4FM6sMV05h",
    "outputId": "98a6e479-e840-43a7-a82a-a101bd8f2a71"
   },
   "outputs": [
    {
     "name": "stdout",
     "output_type": "stream",
     "text": [
      "<class 'numpy.ndarray'>\n"
     ]
    },
    {
     "data": {
      "text/plain": [
       "array([[1.25563e-01, 2.40360e-02, 3.14000e-04, ..., 8.60000e-05,\n",
       "        5.80000e-04, 0.00000e+00],\n",
       "       [7.52600e-03, 1.42100e-03, 6.80000e-05, ..., 2.20000e-04,\n",
       "        7.62000e-04, 1.22400e-03],\n",
       "       [1.09584e-01, 1.89780e-02, 2.89000e-04, ..., 5.20000e-05,\n",
       "        2.58000e-04, 2.15000e-04],\n",
       "       ...,\n",
       "       [2.31390e-02, 7.43500e-03, 3.22000e-04, ..., 7.56000e-04,\n",
       "        7.38000e-04, 2.14000e-04],\n",
       "       [1.49000e-02, 4.60700e-03, 9.90000e-05, ..., 6.40000e-05,\n",
       "        6.40000e-05, 1.10000e-05],\n",
       "       [4.15920e-02, 1.30470e-02, 4.48000e-04, ..., 2.89000e-04,\n",
       "        9.88000e-04, 1.61000e-04]])"
      ]
     },
     "execution_count": 24,
     "metadata": {
      "tags": []
     },
     "output_type": "execute_result"
    }
   ],
   "source": [
    "X_arrHMP = result_array\n",
    "del result_array\n",
    "print(type(X_arrHMP))\n",
    "X_arrHMP"
   ]
  },
  {
   "cell_type": "code",
   "execution_count": null,
   "metadata": {
    "colab": {
     "base_uri": "https://localhost:8080/"
    },
    "id": "rndIVdolV5k7",
    "outputId": "f546b2e7-a505-4728-b878-e1f229239718"
   },
   "outputs": [
    {
     "name": "stdout",
     "output_type": "stream",
     "text": [
      "[23:28:24] WARNING: /workspace/src/objective/regression_obj.cu:152: reg:linear is now deprecated in favor of reg:squarederror.\n"
     ]
    },
    {
     "data": {
      "text/plain": [
       "XGBRegressor(base_score=0.5, booster='gbtree', colsample_bylevel=1,\n",
       "             colsample_bynode=1, colsample_bytree=1, gamma=0,\n",
       "             importance_type='gain', learning_rate=0.1, max_delta_step=0,\n",
       "             max_depth=3, min_child_weight=1, missing=None, n_estimators=150,\n",
       "             n_jobs=1, nthread=None, objective='reg:linear', random_state=0,\n",
       "             reg_alpha=0, reg_lambda=1, scale_pos_weight=1, seed=None,\n",
       "             silent=None, subsample=1, verbosity=1)"
      ]
     },
     "execution_count": 25,
     "metadata": {
      "tags": []
     },
     "output_type": "execute_result"
    }
   ],
   "source": [
    "y_short = hmp[['short-term_memorability']].values\n",
    "hmp_short_xgb = XGBRegressor(n_estimators=150)\n",
    "hmp_short_xgb.fit(X_arrHMP, y_short)"
   ]
  },
  {
   "cell_type": "markdown",
   "metadata": {
    "id": "2pHOI4sdSp6T"
   },
   "source": [
    "### Random Forest on LBP"
   ]
  },
  {
   "cell_type": "code",
   "execution_count": null,
   "metadata": {
    "colab": {
     "base_uri": "https://localhost:8080/"
    },
    "id": "aodiGDkQSv_8",
    "outputId": "b65355a7-03a7-4c97-a73a-72cb533a584b"
   },
   "outputs": [
    {
     "name": "stderr",
     "output_type": "stream",
     "text": [
      "/usr/local/lib/python3.7/dist-packages/ipykernel_launcher.py:6: SettingWithCopyWarning: \n",
      "A value is trying to be set on a copy of a slice from a DataFrame\n",
      "\n",
      "See the caveats in the documentation: https://pandas.pydata.org/pandas-docs/stable/user_guide/indexing.html#returning-a-view-versus-a-copy\n",
      "  \n",
      "/usr/local/lib/python3.7/dist-packages/ipykernel_launcher.py:8: SettingWithCopyWarning: \n",
      "A value is trying to be set on a copy of a slice from a DataFrame\n",
      "\n",
      "See the caveats in the documentation: https://pandas.pydata.org/pandas-docs/stable/user_guide/indexing.html#returning-a-view-versus-a-copy\n",
      "  \n",
      "/usr/local/lib/python3.7/dist-packages/ipykernel_launcher.py:10: SettingWithCopyWarning: \n",
      "A value is trying to be set on a copy of a slice from a DataFrame\n",
      "\n",
      "See the caveats in the documentation: https://pandas.pydata.org/pandas-docs/stable/user_guide/indexing.html#returning-a-view-versus-a-copy\n",
      "  # Remove the CWD from sys.path while we load stuff.\n",
      "/usr/local/lib/python3.7/dist-packages/ipykernel_launcher.py:17: SettingWithCopyWarning: \n",
      "A value is trying to be set on a copy of a slice from a DataFrame\n",
      "\n",
      "See the caveats in the documentation: https://pandas.pydata.org/pandas-docs/stable/user_guide/indexing.html#returning-a-view-versus-a-copy\n"
     ]
    }
   ],
   "source": [
    "lbp = pd.read_pickle('/content/drive/MyDrive/ML Assignment/lbp')\n",
    "\n",
    "## Relacing missing values with list of 122 zeros.\n",
    "for i in lbp.index:\n",
    "  if isinstance(lbp['video-0'][i],int):\n",
    "    lbp['video-0'][i] = [0] * 122\n",
    "  if isinstance(lbp['video-56'][i],int):\n",
    "    lbp['video-56'][i] = [0] * 122\n",
    "  if isinstance(lbp['video-112'][i],int):\n",
    "    lbp['video-112'][i] = [0] * 122\n",
    "\n",
    "\n",
    "result_array = np.empty((0, 366))\n",
    "\n",
    "for i in lbp.index:\n",
    "  while len(lbp['video-0'][i]) < 122:\n",
    "    lbp['video-0'][i] = np.append((lbp['video-0'][i]), 0)\n",
    "  while len(lbp['video-56'][i]) < 122:\n",
    "    lbp['video-56'][i] = np.append((lbp['video-56'][i]), 0)\n",
    "  while len(lbp['video-112'][i]) < 122:\n",
    "    lbp['video-112'][i] = np.append((lbp['video-112'][i]), 0)\n",
    "  res = np.hstack((lbp['video-0'][i], lbp['video-56'][i], lbp['video-112'][i]))\n",
    "  result_array = np.append(result_array, np.array([res]), axis = 0)"
   ]
  },
  {
   "cell_type": "code",
   "execution_count": null,
   "metadata": {
    "colab": {
     "base_uri": "https://localhost:8080/"
    },
    "id": "sd6Ts1m5WS3s",
    "outputId": "ca913cce-f0f4-42ba-ad69-4d15a62ecb4b"
   },
   "outputs": [
    {
     "name": "stdout",
     "output_type": "stream",
     "text": [
      "<class 'numpy.ndarray'>\n"
     ]
    },
    {
     "data": {
      "text/plain": [
       "array([[0.        , 0.        , 0.        , ..., 0.        , 0.        ,\n",
       "        0.        ],\n",
       "       [0.00966435, 0.00291811, 0.00219425, ..., 0.00153356, 0.02053385,\n",
       "        0.46106385],\n",
       "       [0.01084008, 0.00189525, 0.00154128, ..., 0.00201196, 0.1233642 ,\n",
       "        0.48225502],\n",
       "       ...,\n",
       "       [0.01986834, 0.00499807, 0.00462867, ..., 0.00459732, 0.02559655,\n",
       "        0.77324701],\n",
       "       [0.01122299, 0.00182677, 0.00189284, ..., 0.00292197, 0.03341098,\n",
       "        0.53772618],\n",
       "       [0.00933883, 0.00161941, 0.00137346, ..., 0.00222029, 0.03523389,\n",
       "        0.49374518]])"
      ]
     },
     "execution_count": 28,
     "metadata": {
      "tags": []
     },
     "output_type": "execute_result"
    }
   ],
   "source": [
    "X_arrLBP = result_array\n",
    "del result_array\n",
    "print(type(X_arrLBP))\n",
    "X_arrLBP"
   ]
  },
  {
   "cell_type": "code",
   "execution_count": null,
   "metadata": {
    "colab": {
     "base_uri": "https://localhost:8080/"
    },
    "id": "YOXoFioAWXIE",
    "outputId": "2d23c1a7-018e-4ae6-d5a8-bed146b615fd"
   },
   "outputs": [
    {
     "data": {
      "text/plain": [
       "RandomForestRegressor(bootstrap=True, ccp_alpha=0.0, criterion='mse',\n",
       "                      max_depth=None, max_features='auto', max_leaf_nodes=None,\n",
       "                      max_samples=None, min_impurity_decrease=0.0,\n",
       "                      min_impurity_split=None, min_samples_leaf=1,\n",
       "                      min_samples_split=2, min_weight_fraction_leaf=0.0,\n",
       "                      n_estimators=100, n_jobs=None, oob_score=False,\n",
       "                      random_state=None, verbose=0, warm_start=False)"
      ]
     },
     "execution_count": 29,
     "metadata": {
      "tags": []
     },
     "output_type": "execute_result"
    }
   ],
   "source": [
    "y = lbp[['short-term_memorability','long-term_memorability']].values\n",
    "lbp_random_forest = RandomForestRegressor(n_estimators=100)\n",
    "lbp_random_forest.fit(X_arrLBP, y)"
   ]
  },
  {
   "cell_type": "markdown",
   "metadata": {
    "id": "cKF7HndASwYU"
   },
   "source": [
    "### Random Forest on C3D"
   ]
  },
  {
   "cell_type": "code",
   "execution_count": null,
   "metadata": {
    "colab": {
     "base_uri": "https://localhost:8080/"
    },
    "id": "eaqBdKTkS0Fw",
    "outputId": "f868ff11-9666-462f-c6d6-ebd312d4a58c"
   },
   "outputs": [
    {
     "name": "stderr",
     "output_type": "stream",
     "text": [
      "/usr/local/lib/python3.7/dist-packages/ipykernel_launcher.py:7: SettingWithCopyWarning: \n",
      "A value is trying to be set on a copy of a slice from a DataFrame\n",
      "\n",
      "See the caveats in the documentation: https://pandas.pydata.org/pandas-docs/stable/user_guide/indexing.html#returning-a-view-versus-a-copy\n",
      "  import sys\n"
     ]
    }
   ],
   "source": [
    "c3d = pd.read_pickle('/content/drive/MyDrive/ML Assignment/c3d')\n",
    "\n",
    "\n",
    "## Relacing missing values with list of 101 zeros.\n",
    "for i in c3d.index:\n",
    "  if isinstance(c3d['c3d'][i],int):\n",
    "    c3d['c3d'][i] = [0] * 101    \n",
    "\n",
    "\n",
    "\n",
    "## Length of C3D feature is 101\n",
    "result_array = np.empty((0, 101))\n",
    "for line in c3d['c3d']:\n",
    "    result_array = np.append(result_array, np.array([line]), axis = 0)"
   ]
  },
  {
   "cell_type": "code",
   "execution_count": null,
   "metadata": {
    "colab": {
     "base_uri": "https://localhost:8080/"
    },
    "id": "Tu2gQFciW5Iy",
    "outputId": "1ab12354-ecd5-4b9d-d75a-104565bc76d2"
   },
   "outputs": [
    {
     "name": "stdout",
     "output_type": "stream",
     "text": [
      "<class 'numpy.ndarray'>\n"
     ]
    },
    {
     "data": {
      "text/plain": [
       "array([[2.0249420e-02, 1.5778000e-03, 8.2625000e-04, ..., 3.3907000e-04,\n",
       "        8.4368300e-03, 4.7004000e-04],\n",
       "       [1.1800000e-04, 8.9075000e-04, 1.8769000e-04, ..., 1.5891000e-04,\n",
       "        1.0252100e-03, 2.0460000e-05],\n",
       "       [1.1765220e-02, 7.4577000e-04, 7.8353000e-04, ..., 5.3803300e-03,\n",
       "        1.0274800e-03, 1.3844800e-03],\n",
       "       ...,\n",
       "       [2.5890000e-05, 1.2192000e-04, 2.7810000e-05, ..., 7.1593200e-03,\n",
       "        4.9575200e-03, 8.9156000e-04],\n",
       "       [2.6509121e-01, 9.6539180e-02, 5.9710000e-05, ..., 1.0834000e-04,\n",
       "        1.2682000e-03, 7.1027000e-04],\n",
       "       [2.0589490e-02, 1.2214100e-03, 2.0660700e-03, ..., 8.2839000e-04,\n",
       "        4.9012800e-03, 1.1848300e-03]])"
      ]
     },
     "execution_count": 31,
     "metadata": {
      "tags": []
     },
     "output_type": "execute_result"
    }
   ],
   "source": [
    "X_arrC3D = result_array\n",
    "del result_array\n",
    "print(type(X_arrC3D))\n",
    "X_arrC3D"
   ]
  },
  {
   "cell_type": "code",
   "execution_count": null,
   "metadata": {
    "colab": {
     "base_uri": "https://localhost:8080/"
    },
    "id": "3HjKPnbLW4_W",
    "outputId": "ea7c2a4e-8ef4-47ef-e807-5f324e1900bf"
   },
   "outputs": [
    {
     "data": {
      "text/plain": [
       "RandomForestRegressor(bootstrap=True, ccp_alpha=0.0, criterion='mse',\n",
       "                      max_depth=None, max_features='auto', max_leaf_nodes=None,\n",
       "                      max_samples=None, min_impurity_decrease=0.0,\n",
       "                      min_impurity_split=None, min_samples_leaf=1,\n",
       "                      min_samples_split=2, min_weight_fraction_leaf=0.0,\n",
       "                      n_estimators=100, n_jobs=None, oob_score=False,\n",
       "                      random_state=None, verbose=0, warm_start=False)"
      ]
     },
     "execution_count": 32,
     "metadata": {
      "tags": []
     },
     "output_type": "execute_result"
    }
   ],
   "source": [
    "y = c3d[['short-term_memorability','long-term_memorability']].values\n",
    "c3d_random_forest = RandomForestRegressor(n_estimators=100)\n",
    "c3d_random_forest.fit(X_arrC3D, y)"
   ]
  },
  {
   "cell_type": "markdown",
   "metadata": {
    "id": "SGI-IT_tTSGI"
   },
   "source": [
    "## For long-term memorability"
   ]
  },
  {
   "cell_type": "markdown",
   "metadata": {
    "id": "8-Jyude4TWR5"
   },
   "source": [
    "### XGBoost on HMP"
   ]
  },
  {
   "cell_type": "code",
   "execution_count": null,
   "metadata": {
    "colab": {
     "base_uri": "https://localhost:8080/"
    },
    "id": "n88XvM8ATVeJ",
    "outputId": "8796ff8d-0416-4bb3-b0f0-a428be65a267"
   },
   "outputs": [
    {
     "name": "stderr",
     "output_type": "stream",
     "text": [
      "/usr/local/lib/python3.7/dist-packages/ipykernel_launcher.py:5: SettingWithCopyWarning: \n",
      "A value is trying to be set on a copy of a slice from a DataFrame\n",
      "\n",
      "See the caveats in the documentation: https://pandas.pydata.org/pandas-docs/stable/user_guide/indexing.html#returning-a-view-versus-a-copy\n",
      "  \"\"\"\n"
     ]
    }
   ],
   "source": [
    "hmp = pd.read_pickle('/content/drive/MyDrive/ML Assignment/hmp')\n",
    "\n",
    "for i in hmp.index:\n",
    "  if isinstance(hmp['hmp'][i],int):\n",
    "    hmp['hmp'][i] = [0] * 6075\n",
    "\n",
    "\n",
    "# Reusing same variable names to reduce memory.\n",
    "result_array = np.empty((0, 6075))\n",
    "for line in hmp['hmp']:\n",
    "    result_array = np.append(result_array, np.array([line]), axis = 0)"
   ]
  },
  {
   "cell_type": "code",
   "execution_count": null,
   "metadata": {
    "colab": {
     "base_uri": "https://localhost:8080/"
    },
    "id": "sZ0UZuPUYIXg",
    "outputId": "bb272e12-c946-4480-9ca3-b1c75e28cd18"
   },
   "outputs": [
    {
     "name": "stdout",
     "output_type": "stream",
     "text": [
      "<class 'numpy.ndarray'>\n"
     ]
    },
    {
     "data": {
      "text/plain": [
       "array([[1.25563e-01, 2.40360e-02, 3.14000e-04, ..., 8.60000e-05,\n",
       "        5.80000e-04, 0.00000e+00],\n",
       "       [7.52600e-03, 1.42100e-03, 6.80000e-05, ..., 2.20000e-04,\n",
       "        7.62000e-04, 1.22400e-03],\n",
       "       [1.09584e-01, 1.89780e-02, 2.89000e-04, ..., 5.20000e-05,\n",
       "        2.58000e-04, 2.15000e-04],\n",
       "       ...,\n",
       "       [2.31390e-02, 7.43500e-03, 3.22000e-04, ..., 7.56000e-04,\n",
       "        7.38000e-04, 2.14000e-04],\n",
       "       [1.49000e-02, 4.60700e-03, 9.90000e-05, ..., 6.40000e-05,\n",
       "        6.40000e-05, 1.10000e-05],\n",
       "       [4.15920e-02, 1.30470e-02, 4.48000e-04, ..., 2.89000e-04,\n",
       "        9.88000e-04, 1.61000e-04]])"
      ]
     },
     "execution_count": 34,
     "metadata": {
      "tags": []
     },
     "output_type": "execute_result"
    }
   ],
   "source": [
    "X_arrHMP = result_array\n",
    "del result_array\n",
    "print(type(X_arrHMP))\n",
    "X_arrHMP"
   ]
  },
  {
   "cell_type": "code",
   "execution_count": null,
   "metadata": {
    "colab": {
     "base_uri": "https://localhost:8080/"
    },
    "id": "5IMHz1bWYQMe",
    "outputId": "df86a6a6-4a3d-46f3-ce3b-ebcdcc3c11c5"
   },
   "outputs": [
    {
     "name": "stdout",
     "output_type": "stream",
     "text": [
      "[23:39:29] WARNING: /workspace/src/objective/regression_obj.cu:152: reg:linear is now deprecated in favor of reg:squarederror.\n"
     ]
    },
    {
     "data": {
      "text/plain": [
       "XGBRegressor(base_score=0.5, booster='gbtree', colsample_bylevel=1,\n",
       "             colsample_bynode=1, colsample_bytree=1, gamma=0,\n",
       "             importance_type='gain', learning_rate=0.1, max_delta_step=0,\n",
       "             max_depth=3, min_child_weight=1, missing=None, n_estimators=200,\n",
       "             n_jobs=1, nthread=None, objective='reg:linear', random_state=0,\n",
       "             reg_alpha=0, reg_lambda=1, scale_pos_weight=1, seed=None,\n",
       "             silent=None, subsample=1, verbosity=1)"
      ]
     },
     "execution_count": 35,
     "metadata": {
      "tags": []
     },
     "output_type": "execute_result"
    }
   ],
   "source": [
    "y_long = hmp[['long-term_memorability']].values\n",
    "hmp_long_xgb = XGBRegressor(n_estimators=200)\n",
    "hmp_long_xgb.fit(X_arrHMP,y_long)"
   ]
  },
  {
   "cell_type": "markdown",
   "metadata": {
    "id": "El5-v6_OYmdt"
   },
   "source": [
    "# Predicting on Test set"
   ]
  },
  {
   "cell_type": "markdown",
   "metadata": {
    "id": "JlqJ1CXeaWuo"
   },
   "source": [
    "## Short-Term memorability"
   ]
  },
  {
   "cell_type": "markdown",
   "metadata": {
    "id": "g_8sgvi1Y0G8"
   },
   "source": [
    "### Aesthetics Feature"
   ]
  },
  {
   "cell_type": "code",
   "execution_count": null,
   "metadata": {
    "id": "J7xKA0r2b-ZV"
   },
   "outputs": [],
   "source": [
    "## Calling the method for fetching Aesthetic features and storing them into a array list using loop\n",
    "## For Mean Values\n",
    "my_numlist= [] # Creating new list to store the Aesthetic features\n",
    "my_namelist = [] # Creating a new list to store the names of the videos\n",
    "for filename in glob.glob('/content/drive/MyDrive/ML Assignment/CA684_Assignment/Test-set/aesthetic_vis_features_test/mean/*.txt'):\n",
    "    s= read_aesthetic_features(filename)\n",
    "    my_numlist.append(s)\n",
    "    my_namelist.append(((filename.split('/')[-1]).split('.')[0]))\n",
    "\n",
    "asf1 = pd.DataFrame(list(zip(my_namelist, my_numlist)),\n",
    "               columns =['Name', 'aesthetic_feat_dev-set_mean'])"
   ]
  },
  {
   "cell_type": "code",
   "execution_count": null,
   "metadata": {
    "id": "VwYreBEol9ik"
   },
   "outputs": [],
   "source": [
    "##For Median Values\n",
    "my_numlist= [] # Creating new list to store the Aesthetic features\n",
    "my_namelist = [] \n",
    "for filename in glob.glob('/content/drive/MyDrive/ML Assignment/CA684_Assignment/Test-set/aesthetic_vis_features_test/median/*.txt'):\n",
    "    s= read_aesthetic_features(filename)\n",
    "    my_numlist.append(s)\n",
    "    my_namelist.append(((filename.split('/')[-1]).split('.')[0]))\n",
    "\n",
    "asf2 = pd.DataFrame(list(zip(my_namelist, my_numlist)),\n",
    "               columns =['Name', 'aesthetic_feat_dev-set_median'])"
   ]
  },
  {
   "cell_type": "code",
   "execution_count": null,
   "metadata": {
    "id": "P9_AmrzupkTb"
   },
   "outputs": [],
   "source": [
    "asf = asf1.merge(asf2, on='Name')"
   ]
  },
  {
   "cell_type": "code",
   "execution_count": null,
   "metadata": {
    "colab": {
     "base_uri": "https://localhost:8080/",
     "height": 202
    },
    "id": "JSoLs68jmSdQ",
    "outputId": "ac416f23-35af-47c2-8771-eb56a3b2b626"
   },
   "outputs": [
    {
     "data": {
      "text/html": [
       "<div>\n",
       "<style scoped>\n",
       "    .dataframe tbody tr th:only-of-type {\n",
       "        vertical-align: middle;\n",
       "    }\n",
       "\n",
       "    .dataframe tbody tr th {\n",
       "        vertical-align: top;\n",
       "    }\n",
       "\n",
       "    .dataframe thead th {\n",
       "        text-align: right;\n",
       "    }\n",
       "</style>\n",
       "<table border=\"1\" class=\"dataframe\">\n",
       "  <thead>\n",
       "    <tr style=\"text-align: right;\">\n",
       "      <th></th>\n",
       "      <th>Name</th>\n",
       "      <th>aesthetic_feat_dev-set_mean</th>\n",
       "      <th>aesthetic_feat_dev-set_median</th>\n",
       "    </tr>\n",
       "  </thead>\n",
       "  <tbody>\n",
       "    <tr>\n",
       "      <th>0</th>\n",
       "      <td>video8764</td>\n",
       "      <td>[0.105325, 0.895996, 0.877621, 0.901518, 0.480...</td>\n",
       "      <td>[0.105632, 0.897429, 0.881592, 0.902859, 0.481...</td>\n",
       "    </tr>\n",
       "    <tr>\n",
       "      <th>1</th>\n",
       "      <td>video8762</td>\n",
       "      <td>[0.547903, 0.299199, 0.832585, 0.574272, 0.706...</td>\n",
       "      <td>[0.547819, 0.299441, 0.832418, 0.574203, 0.706...</td>\n",
       "    </tr>\n",
       "    <tr>\n",
       "      <th>2</th>\n",
       "      <td>video8765</td>\n",
       "      <td>[0.208157, 0.145158, 0.720595, 0.201571, 0.666...</td>\n",
       "      <td>[0.195953, 0.145255, 0.717708, 0.198125, 0.663...</td>\n",
       "    </tr>\n",
       "    <tr>\n",
       "      <th>3</th>\n",
       "      <td>video8763</td>\n",
       "      <td>[0.138068, 0.58195, 0.442896, 0.442823, 0.3190...</td>\n",
       "      <td>[0.139101, 0.589167, 0.445613, 0.450643, 0.320...</td>\n",
       "    </tr>\n",
       "    <tr>\n",
       "      <th>4</th>\n",
       "      <td>video8782</td>\n",
       "      <td>[0.269971, 0.495211, 0.61853, 0.498659, 0.4551...</td>\n",
       "      <td>[0.268233, 0.492651, 0.608312, 0.492158, 0.447...</td>\n",
       "    </tr>\n",
       "  </tbody>\n",
       "</table>\n",
       "</div>"
      ],
      "text/plain": [
       "        Name  ...                      aesthetic_feat_dev-set_median\n",
       "0  video8764  ...  [0.105632, 0.897429, 0.881592, 0.902859, 0.481...\n",
       "1  video8762  ...  [0.547819, 0.299441, 0.832418, 0.574203, 0.706...\n",
       "2  video8765  ...  [0.195953, 0.145255, 0.717708, 0.198125, 0.663...\n",
       "3  video8763  ...  [0.139101, 0.589167, 0.445613, 0.450643, 0.320...\n",
       "4  video8782  ...  [0.268233, 0.492651, 0.608312, 0.492158, 0.447...\n",
       "\n",
       "[5 rows x 3 columns]"
      ]
     },
     "execution_count": 96,
     "metadata": {
      "tags": []
     },
     "output_type": "execute_result"
    }
   ],
   "source": [
    "asf.head()"
   ]
  },
  {
   "cell_type": "code",
   "execution_count": null,
   "metadata": {
    "id": "pOsT2vSpYrPR"
   },
   "outputs": [],
   "source": [
    "aesthetics = asf\n",
    "result_array = np.empty((0, 218))\n",
    "\n",
    "for i in aesthetics.index:\n",
    "  while len(aesthetics['aesthetic_feat_dev-set_mean'][i]) < 109:\n",
    "    aesthetics['aesthetic_feat_dev-set_mean'][i] = np.append((aesthetics['aesthetic_feat_dev-set_mean'][i]), 0)\n",
    "  while len(aesthetics['aesthetic_feat_dev-set_median'][i]) < 109:\n",
    "    aesthetics['aesthetic_feat_dev-set_median'][i] = np.append((aesthetics['aesthetic_feat_dev-set_median'][i]), 0)\n",
    "  res = np.hstack((aesthetics['aesthetic_feat_dev-set_mean'][i], aesthetics['aesthetic_feat_dev-set_median'][i]))\n",
    "  result_array = np.append(result_array, np.array([res]), axis = 0)"
   ]
  },
  {
   "cell_type": "code",
   "execution_count": null,
   "metadata": {
    "colab": {
     "base_uri": "https://localhost:8080/"
    },
    "id": "OuIrlinqZnBM",
    "outputId": "9ac2e694-5e94-4f93-c071-c782c66eebd3"
   },
   "outputs": [
    {
     "name": "stdout",
     "output_type": "stream",
     "text": [
      "<class 'numpy.ndarray'>\n"
     ]
    },
    {
     "data": {
      "text/plain": [
       "array([[ 0.105325,  0.895996,  0.877621, ..., -0.043129,  0.04818 ,\n",
       "         0.065384],\n",
       "       [ 0.547903,  0.299199,  0.832585, ...,  0.013718,  0.229135,\n",
       "         0.027516],\n",
       "       [ 0.208157,  0.145158,  0.720595, ..., -0.35641 , -0.110422,\n",
       "        -0.218997],\n",
       "       ...,\n",
       "       [ 0.1948  ,  0.341334,  0.41425 , ...,  0.154096, -0.560893,\n",
       "         0.370832],\n",
       "       [ 0.584438,  0.315514,  0.56167 , ...,  0.135311,  0.341999,\n",
       "         0.816055],\n",
       "       [ 0.413784,  0.237674,  0.527971, ...,  0.61625 ,  0.480776,\n",
       "         0.240629]])"
      ]
     },
     "execution_count": 98,
     "metadata": {
      "tags": []
     },
     "output_type": "execute_result"
    }
   ],
   "source": [
    "X_arr_aesthetics = result_array\n",
    "del result_array\n",
    "print(type(X_arr_aesthetics))\n",
    "X_arr_aesthetics"
   ]
  },
  {
   "cell_type": "code",
   "execution_count": null,
   "metadata": {
    "id": "66tWPGB8ZnzS"
   },
   "outputs": [],
   "source": [
    "aesthetic_short_pred = aesthetics_short_xgb.predict(X_arr_aesthetics)\n",
    "save('/content/drive/MyDrive/ML Assignment/Predictions/aesthetics_short_pred_final.npy', aesthetic_short_pred)"
   ]
  },
  {
   "cell_type": "code",
   "execution_count": null,
   "metadata": {
    "colab": {
     "base_uri": "https://localhost:8080/"
    },
    "id": "kVmjLvcmqai2",
    "outputId": "bf4e43d3-b932-48c8-c081-6bb6cf7a9951"
   },
   "outputs": [
    {
     "data": {
      "text/plain": [
       "array([0.8598074 , 0.7371714 , 0.8545997 , ..., 0.84759676, 0.8216872 ,\n",
       "       0.85800666], dtype=float32)"
      ]
     },
     "execution_count": 100,
     "metadata": {
      "tags": []
     },
     "output_type": "execute_result"
    }
   ],
   "source": [
    "aesthetic_short_pred"
   ]
  },
  {
   "cell_type": "markdown",
   "metadata": {
    "id": "fSn0r-0kY4cf"
   },
   "source": [
    "### HMP"
   ]
  },
  {
   "cell_type": "code",
   "execution_count": null,
   "metadata": {
    "id": "lMXcGy9sY5we"
   },
   "outputs": [],
   "source": [
    "HMP_feature_list= []\n",
    "video_names_list = []\n",
    "for filename in glob.glob('/content/drive/MyDrive/ML Assignment/CA684_Assignment/Test-set/HMP_test/*.txt'):\n",
    "    name = ((filename.split('/')[-1]).split('.')[0])\n",
    "    video_names_list.append(name)\n",
    "    HMP_features = read_HMP(filename)\n",
    "    HMP_feature_list.append(HMP_features)\n",
    "\n",
    "hmp = pd.DataFrame(list(zip(video_names_list, HMP_feature_list)),\n",
    "               columns =['Name', 'hmp'])"
   ]
  },
  {
   "cell_type": "code",
   "execution_count": null,
   "metadata": {
    "colab": {
     "base_uri": "https://localhost:8080/"
    },
    "id": "Lyfpx6LpuNp4",
    "outputId": "cbd62cea-e4fe-4bf8-be1d-9d7c7fdee872"
   },
   "outputs": [
    {
     "name": "stderr",
     "output_type": "stream",
     "text": [
      "/usr/local/lib/python3.7/dist-packages/pandas/core/missing.py:49: FutureWarning: elementwise comparison failed; returning scalar instead, but in the future will perform elementwise comparison\n",
      "  mask = arr == x\n"
     ]
    }
   ],
   "source": [
    "hmp = hmp.replace(to_replace ='', value =0)"
   ]
  },
  {
   "cell_type": "code",
   "execution_count": null,
   "metadata": {
    "colab": {
     "base_uri": "https://localhost:8080/",
     "height": 202
    },
    "id": "US_PlzYHrPeR",
    "outputId": "33198024-80b3-4084-f847-3dc59295f1af"
   },
   "outputs": [
    {
     "data": {
      "text/html": [
       "<div>\n",
       "<style scoped>\n",
       "    .dataframe tbody tr th:only-of-type {\n",
       "        vertical-align: middle;\n",
       "    }\n",
       "\n",
       "    .dataframe tbody tr th {\n",
       "        vertical-align: top;\n",
       "    }\n",
       "\n",
       "    .dataframe thead th {\n",
       "        text-align: right;\n",
       "    }\n",
       "</style>\n",
       "<table border=\"1\" class=\"dataframe\">\n",
       "  <thead>\n",
       "    <tr style=\"text-align: right;\">\n",
       "      <th></th>\n",
       "      <th>Name</th>\n",
       "      <th>hmp</th>\n",
       "    </tr>\n",
       "  </thead>\n",
       "  <tbody>\n",
       "    <tr>\n",
       "      <th>0</th>\n",
       "      <td>video8763</td>\n",
       "      <td>[0.00206, 0.000583, 1.1e-05, 0.0, 0.000395, 3....</td>\n",
       "    </tr>\n",
       "    <tr>\n",
       "      <th>1</th>\n",
       "      <td>video8758</td>\n",
       "      <td>[0.015623, 0.005571, 0.000267, 0.0, 0.003743, ...</td>\n",
       "    </tr>\n",
       "    <tr>\n",
       "      <th>2</th>\n",
       "      <td>video8768</td>\n",
       "      <td>[0.00533, 0.001166, 2e-06, 0.0, 0.000927, 1.1e...</td>\n",
       "    </tr>\n",
       "    <tr>\n",
       "      <th>3</th>\n",
       "      <td>video8764</td>\n",
       "      <td>[0.040748, 0.016237, 0.000303, 0.0, 0.007668, ...</td>\n",
       "    </tr>\n",
       "    <tr>\n",
       "      <th>4</th>\n",
       "      <td>video8760</td>\n",
       "      <td>[0.056045, 0.012873, 0.000278, 0.0, 0.006645, ...</td>\n",
       "    </tr>\n",
       "  </tbody>\n",
       "</table>\n",
       "</div>"
      ],
      "text/plain": [
       "        Name                                                hmp\n",
       "0  video8763  [0.00206, 0.000583, 1.1e-05, 0.0, 0.000395, 3....\n",
       "1  video8758  [0.015623, 0.005571, 0.000267, 0.0, 0.003743, ...\n",
       "2  video8768  [0.00533, 0.001166, 2e-06, 0.0, 0.000927, 1.1e...\n",
       "3  video8764  [0.040748, 0.016237, 0.000303, 0.0, 0.007668, ...\n",
       "4  video8760  [0.056045, 0.012873, 0.000278, 0.0, 0.006645, ..."
      ]
     },
     "execution_count": 121,
     "metadata": {
      "tags": []
     },
     "output_type": "execute_result"
    }
   ],
   "source": [
    "hmp.head()"
   ]
  },
  {
   "cell_type": "code",
   "execution_count": null,
   "metadata": {
    "id": "OkEG7YXZtIKV"
   },
   "outputs": [],
   "source": [
    "for i in hmp.index:\n",
    "  if isinstance(hmp['hmp'][i],int):\n",
    "    hmp['hmp'][i] = [0] * 6075\n",
    "\n",
    "\n",
    "# Reusing same variable names to reduce memory.\n",
    "result_array = np.empty((0, 6075))\n",
    "for line in hmp['hmp']:\n",
    "    result_array = np.append(result_array, np.array([line]), axis = 0)"
   ]
  },
  {
   "cell_type": "code",
   "execution_count": null,
   "metadata": {
    "colab": {
     "base_uri": "https://localhost:8080/"
    },
    "id": "EorrceV3tRSF",
    "outputId": "d3c7831b-d4e3-4ac8-8244-5fe5ff9767b0"
   },
   "outputs": [
    {
     "name": "stdout",
     "output_type": "stream",
     "text": [
      "<class 'numpy.ndarray'>\n"
     ]
    },
    {
     "data": {
      "text/plain": [
       "array([[2.0600e-03, 5.8300e-04, 1.1000e-05, ..., 6.5500e-04, 6.7100e-04,\n",
       "        5.5000e-05],\n",
       "       [1.5623e-02, 5.5710e-03, 2.6700e-04, ..., 8.5100e-04, 7.5200e-04,\n",
       "        2.7300e-04],\n",
       "       [5.3300e-03, 1.1660e-03, 2.0000e-06, ..., 1.5200e-04, 1.8800e-04,\n",
       "        9.2000e-05],\n",
       "       ...,\n",
       "       [4.5778e-02, 8.9350e-03, 1.3800e-04, ..., 2.4400e-04, 5.4600e-04,\n",
       "        7.0000e-05],\n",
       "       [9.7220e-03, 1.5440e-03, 9.0000e-05, ..., 1.5000e-04, 1.9800e-04,\n",
       "        4.5500e-04],\n",
       "       [2.3544e-02, 5.7500e-03, 2.6400e-04, ..., 3.9200e-04, 7.0600e-04,\n",
       "        3.4800e-04]])"
      ]
     },
     "execution_count": 123,
     "metadata": {
      "tags": []
     },
     "output_type": "execute_result"
    }
   ],
   "source": [
    "X_arrHMP = result_array\n",
    "del result_array\n",
    "print(type(X_arrHMP))\n",
    "X_arrHMP"
   ]
  },
  {
   "cell_type": "code",
   "execution_count": null,
   "metadata": {
    "id": "I95My-IqtYw-"
   },
   "outputs": [],
   "source": [
    "hmp_short_pred = hmp_short_xgb.predict(X_arrHMP)\n",
    "save('/content/drive/MyDrive/ML Assignment/Predictions/hmp_short_pred_final.npy', hmp_short_pred)"
   ]
  },
  {
   "cell_type": "code",
   "execution_count": null,
   "metadata": {
    "colab": {
     "base_uri": "https://localhost:8080/"
    },
    "id": "bul90UPEw41m",
    "outputId": "883f11ed-3a01-4da7-f46c-199cd31f75fa"
   },
   "outputs": [
    {
     "data": {
      "text/plain": [
       "array([0.8375105, 0.8456788, 0.8473674, ..., 0.8772437, 0.8755454,\n",
       "       0.8675737], dtype=float32)"
      ]
     },
     "execution_count": 144,
     "metadata": {
      "tags": []
     },
     "output_type": "execute_result"
    }
   ],
   "source": [
    "hmp_short_pred"
   ]
  },
  {
   "cell_type": "markdown",
   "metadata": {
    "id": "1Al-_ryfY6TO"
   },
   "source": [
    "### LBP"
   ]
  },
  {
   "cell_type": "code",
   "execution_count": null,
   "metadata": {
    "id": "o5kTZgYEY67b"
   },
   "outputs": [],
   "source": [
    "## Calling the method for fetching LBP features and storing them into a array list using loop\n",
    "\n",
    "my_numlist= [] # Creating new list to store the LBP features\n",
    "my_namelist = [] # Creating a new list to store the names of the videos\n",
    "full_namelist = []\n",
    "for filename in glob.glob('/content/drive/MyDrive/ML Assignment/CA684_Assignment/Test-set/LBP_test/*.txt'):\n",
    "    s = read_lbp(filename)\n",
    "    my_numlist.append(s)\n",
    "    full_namelist.append(((filename.split('/')[-1]).split('.')[0])) \n",
    "    my_namelist.append(((filename.split('/')[-1]).split('.')[0]).split('-')[0])"
   ]
  },
  {
   "cell_type": "code",
   "execution_count": null,
   "metadata": {
    "id": "PLeFp0LMxhLd"
   },
   "outputs": [],
   "source": [
    "lbp = pd.DataFrame(list(set(my_namelist)),\n",
    "               columns =['Name'])"
   ]
  },
  {
   "cell_type": "code",
   "execution_count": null,
   "metadata": {
    "colab": {
     "base_uri": "https://localhost:8080/",
     "height": 233
    },
    "id": "Yov1y4-a3G7R",
    "outputId": "67462c4a-167e-4371-970f-c7de2ad7f641"
   },
   "outputs": [
    {
     "data": {
      "text/html": [
       "<div>\n",
       "<style scoped>\n",
       "    .dataframe tbody tr th:only-of-type {\n",
       "        vertical-align: middle;\n",
       "    }\n",
       "\n",
       "    .dataframe tbody tr th {\n",
       "        vertical-align: top;\n",
       "    }\n",
       "\n",
       "    .dataframe thead th {\n",
       "        text-align: right;\n",
       "    }\n",
       "</style>\n",
       "<table border=\"1\" class=\"dataframe\">\n",
       "  <thead>\n",
       "    <tr style=\"text-align: right;\">\n",
       "      <th></th>\n",
       "      <th>video-0</th>\n",
       "      <th>video-56</th>\n",
       "      <th>video-112</th>\n",
       "    </tr>\n",
       "    <tr>\n",
       "      <th>Name</th>\n",
       "      <th></th>\n",
       "      <th></th>\n",
       "      <th></th>\n",
       "    </tr>\n",
       "  </thead>\n",
       "  <tbody>\n",
       "    <tr>\n",
       "      <th>video7738</th>\n",
       "      <td></td>\n",
       "      <td></td>\n",
       "      <td></td>\n",
       "    </tr>\n",
       "    <tr>\n",
       "      <th>video7732</th>\n",
       "      <td></td>\n",
       "      <td></td>\n",
       "      <td></td>\n",
       "    </tr>\n",
       "    <tr>\n",
       "      <th>video8178</th>\n",
       "      <td></td>\n",
       "      <td></td>\n",
       "      <td></td>\n",
       "    </tr>\n",
       "    <tr>\n",
       "      <th>video8489</th>\n",
       "      <td></td>\n",
       "      <td></td>\n",
       "      <td></td>\n",
       "    </tr>\n",
       "    <tr>\n",
       "      <th>video8276</th>\n",
       "      <td></td>\n",
       "      <td></td>\n",
       "      <td></td>\n",
       "    </tr>\n",
       "  </tbody>\n",
       "</table>\n",
       "</div>"
      ],
      "text/plain": [
       "          video-0 video-56 video-112\n",
       "Name                                \n",
       "video7738                           \n",
       "video7732                           \n",
       "video8178                           \n",
       "video8489                           \n",
       "video8276                           "
      ]
     },
     "execution_count": 136,
     "metadata": {
      "tags": []
     },
     "output_type": "execute_result"
    }
   ],
   "source": [
    "lbp['video-0'] = ''\n",
    "lbp['video-56'] = ''\n",
    "lbp['video-112' ] = ''\n",
    "lbp.index = lbp.Name\n",
    "del lbp['Name']\n",
    "lbp.head()"
   ]
  },
  {
   "cell_type": "code",
   "execution_count": null,
   "metadata": {
    "id": "g8FAoSTg3jOf"
   },
   "outputs": [],
   "source": [
    "for i in lbp.index:\n",
    "    for j in full_namelist:\n",
    "        if (i == j.split('-')[0]):\n",
    "            if (j.split('-')[-1] == \"0\"):\n",
    "                lbp.at[i, 'video-0'] = my_numlist[full_namelist.index(j)]\n",
    "            elif (j.split('-')[-1] == \"56\"):\n",
    "                lbp.at[i, 'video-56'] = my_numlist[full_namelist.index(j)]\n",
    "            elif (j.split('-')[-1] == \"112\"):\n",
    "                lbp.at[i, 'video-112'] = my_numlist[full_namelist.index(j)]"
   ]
  },
  {
   "cell_type": "code",
   "execution_count": null,
   "metadata": {
    "id": "hYaZJsLZ3pi_"
   },
   "outputs": [],
   "source": [
    "lbp = lbp.replace(to_replace ='', value =0)"
   ]
  },
  {
   "cell_type": "code",
   "execution_count": null,
   "metadata": {
    "colab": {
     "base_uri": "https://localhost:8080/",
     "height": 319
    },
    "id": "yxkty3TI3qjN",
    "outputId": "a980e096-c33e-40a4-d37c-1dee6a4579c8"
   },
   "outputs": [
    {
     "data": {
      "text/html": [
       "<div>\n",
       "<style scoped>\n",
       "    .dataframe tbody tr th:only-of-type {\n",
       "        vertical-align: middle;\n",
       "    }\n",
       "\n",
       "    .dataframe tbody tr th {\n",
       "        vertical-align: top;\n",
       "    }\n",
       "\n",
       "    .dataframe thead th {\n",
       "        text-align: right;\n",
       "    }\n",
       "</style>\n",
       "<table border=\"1\" class=\"dataframe\">\n",
       "  <thead>\n",
       "    <tr style=\"text-align: right;\">\n",
       "      <th></th>\n",
       "      <th>video-0</th>\n",
       "      <th>video-56</th>\n",
       "      <th>video-112</th>\n",
       "    </tr>\n",
       "    <tr>\n",
       "      <th>Name</th>\n",
       "      <th></th>\n",
       "      <th></th>\n",
       "      <th></th>\n",
       "    </tr>\n",
       "  </thead>\n",
       "  <tbody>\n",
       "    <tr>\n",
       "      <th>video7738</th>\n",
       "      <td>[0.02493827, 0.01315876, 0.00551408, 0.0014501...</td>\n",
       "      <td>[0.01086468, 0.00193866, 0.00143277, 0.0011106...</td>\n",
       "      <td>[0.01920959, 0.00258681, 0.00176022, 0.0017476...</td>\n",
       "    </tr>\n",
       "    <tr>\n",
       "      <th>video7732</th>\n",
       "      <td>[0.03556617, 0.00482832, 0.00457562, 0.0043340...</td>\n",
       "      <td>[0.03821566, 0.0045462, 0.00447145, 0.00451968...</td>\n",
       "      <td>[0.03757041, 0.00374807, 0.00381607, 0.0038647...</td>\n",
       "    </tr>\n",
       "    <tr>\n",
       "      <th>video8178</th>\n",
       "      <td>[0.01374035, 0.00315972, 0.00239728, 0.0010542...</td>\n",
       "      <td>[0.01233507, 0.00292294, 0.00232735, 0.0013758...</td>\n",
       "      <td>[0.01262635, 0.00258825, 0.00196711, 0.0012876...</td>\n",
       "    </tr>\n",
       "    <tr>\n",
       "      <th>video8489</th>\n",
       "      <td>[0.02772569, 0.0053723, 0.00468316, 0.00411217...</td>\n",
       "      <td>[0.02880691, 0.00465471, 0.00472512, 0.0047386...</td>\n",
       "      <td>[0.02843461, 0.00471354, 0.00484327, 0.0047029...</td>\n",
       "    </tr>\n",
       "    <tr>\n",
       "      <th>video8276</th>\n",
       "      <td>[0.02031057, 0.0038749, 0.00429253, 0.00383632...</td>\n",
       "      <td>[0.02285349, 0.00382137, 0.00429736, 0.0042640...</td>\n",
       "      <td>[0.02388648, 0.00371962, 0.00444637, 0.0043914...</td>\n",
       "    </tr>\n",
       "  </tbody>\n",
       "</table>\n",
       "</div>"
      ],
      "text/plain": [
       "                                                     video-0  ...                                          video-112\n",
       "Name                                                          ...                                                   \n",
       "video7738  [0.02493827, 0.01315876, 0.00551408, 0.0014501...  ...  [0.01920959, 0.00258681, 0.00176022, 0.0017476...\n",
       "video7732  [0.03556617, 0.00482832, 0.00457562, 0.0043340...  ...  [0.03757041, 0.00374807, 0.00381607, 0.0038647...\n",
       "video8178  [0.01374035, 0.00315972, 0.00239728, 0.0010542...  ...  [0.01262635, 0.00258825, 0.00196711, 0.0012876...\n",
       "video8489  [0.02772569, 0.0053723, 0.00468316, 0.00411217...  ...  [0.02843461, 0.00471354, 0.00484327, 0.0047029...\n",
       "video8276  [0.02031057, 0.0038749, 0.00429253, 0.00383632...  ...  [0.02388648, 0.00371962, 0.00444637, 0.0043914...\n",
       "\n",
       "[5 rows x 3 columns]"
      ]
     },
     "execution_count": 139,
     "metadata": {
      "tags": []
     },
     "output_type": "execute_result"
    }
   ],
   "source": [
    "lbp.head()"
   ]
  },
  {
   "cell_type": "code",
   "execution_count": null,
   "metadata": {
    "id": "-LuOORRk4EbG"
   },
   "outputs": [],
   "source": [
    "## Relacing missing values with list of 122 zeros.\n",
    "for i in lbp.index:\n",
    "  if isinstance(lbp['video-0'][i],int):\n",
    "    lbp['video-0'][i] = [0] * 122\n",
    "  if isinstance(lbp['video-56'][i],int):\n",
    "    lbp['video-56'][i] = [0] * 122\n",
    "  if isinstance(lbp['video-112'][i],int):\n",
    "    lbp['video-112'][i] = [0] * 122\n",
    "\n",
    "\n",
    "result_array = np.empty((0, 366))\n",
    "\n",
    "for i in lbp.index:\n",
    "  while len(lbp['video-0'][i]) < 122:\n",
    "    lbp['video-0'][i] = np.append((lbp['video-0'][i]), 0)\n",
    "  while len(lbp['video-56'][i]) < 122:\n",
    "    lbp['video-56'][i] = np.append((lbp['video-56'][i]), 0)\n",
    "  while len(lbp['video-112'][i]) < 122:\n",
    "    lbp['video-112'][i] = np.append((lbp['video-112'][i]), 0)\n",
    "  res = np.hstack((lbp['video-0'][i], lbp['video-56'][i], lbp['video-112'][i]))\n",
    "  result_array = np.append(result_array, np.array([res]), axis = 0)"
   ]
  },
  {
   "cell_type": "code",
   "execution_count": null,
   "metadata": {
    "colab": {
     "base_uri": "https://localhost:8080/"
    },
    "id": "xycBvatR4RJA",
    "outputId": "e399682a-98bf-404d-af3f-c1906b4402b1"
   },
   "outputs": [
    {
     "name": "stdout",
     "output_type": "stream",
     "text": [
      "<class 'numpy.ndarray'>\n"
     ]
    },
    {
     "data": {
      "text/plain": [
       "array([[0.02493827, 0.01315876, 0.00551408, ..., 0.00417294, 0.22659915,\n",
       "        0.46463059],\n",
       "       [0.03556617, 0.00482832, 0.00457562, ..., 0.00359037, 0.03852575,\n",
       "        0.59901717],\n",
       "       [0.01374035, 0.00315972, 0.00239728, ..., 0.00517892, 0.09268181,\n",
       "        0.61476321],\n",
       "       ...,\n",
       "       [0.02189333, 0.00527488, 0.00501833, ..., 0.00401958, 0.02484375,\n",
       "        0.77818239],\n",
       "       [0.01288387, 0.00202353, 0.00212432, ..., 0.00261285, 0.02160928,\n",
       "        0.61180797],\n",
       "       [0.03112124, 0.00410156, 0.00508343, ..., 0.0044782 , 0.05074315,\n",
       "        0.75056617]])"
      ]
     },
     "execution_count": 141,
     "metadata": {
      "tags": []
     },
     "output_type": "execute_result"
    }
   ],
   "source": [
    "X_arrLBP = result_array\n",
    "del result_array\n",
    "print(type(X_arrLBP))\n",
    "X_arrLBP"
   ]
  },
  {
   "cell_type": "code",
   "execution_count": null,
   "metadata": {
    "id": "Xaf6EAtW4eP1"
   },
   "outputs": [],
   "source": [
    "lbp_predictions_test = lbp_random_forest.predict(X_arrLBP)\n",
    "save('/content/drive/MyDrive/ML Assignment/Predictions/lbp_short_pred_final.npy', lbp_predictions_test)"
   ]
  },
  {
   "cell_type": "code",
   "execution_count": null,
   "metadata": {
    "colab": {
     "base_uri": "https://localhost:8080/"
    },
    "id": "2CnGUFeg4xK3",
    "outputId": "74188381-1f5c-4cf8-f2cc-181ace30671a"
   },
   "outputs": [
    {
     "data": {
      "text/plain": [
       "(2000, 2)"
      ]
     },
     "execution_count": 146,
     "metadata": {
      "tags": []
     },
     "output_type": "execute_result"
    }
   ],
   "source": [
    "lbp_predictions_test.shape"
   ]
  },
  {
   "cell_type": "markdown",
   "metadata": {
    "id": "wLzVumx2Y8w1"
   },
   "source": [
    "### C3D"
   ]
  },
  {
   "cell_type": "code",
   "execution_count": null,
   "metadata": {
    "id": "EuBSBGUQY9oe"
   },
   "outputs": [],
   "source": [
    "## Calling the method for fetching C3D features and storing them into a array list using loop\n",
    "\n",
    "my_numlist= [] # Creating new list to store the C3D features\n",
    "my_namelist = [] # Creating a new list to store the names of the videos\n",
    "for filename in glob.glob('/content/drive/MyDrive/ML Assignment/CA684_Assignment/Test-set/C3D_test/*.txt'):\n",
    "    s= read_C3D(filename)\n",
    "    my_numlist.append(s)\n",
    "    my_namelist.append(((filename.split('/')[-1]).split('.')[0])) ## Filename is \"Dev-set/C3D/video10.txt\"\n",
    "\n",
    "c3d = pd.DataFrame(list(zip(my_namelist, my_numlist)),\n",
    "               columns =['Name', 'c3d'])"
   ]
  },
  {
   "cell_type": "code",
   "execution_count": null,
   "metadata": {
    "colab": {
     "base_uri": "https://localhost:8080/",
     "height": 202
    },
    "id": "TMPXFpwM5sSk",
    "outputId": "b3ebb0ba-79f5-4a01-9963-388880922252"
   },
   "outputs": [
    {
     "data": {
      "text/html": [
       "<div>\n",
       "<style scoped>\n",
       "    .dataframe tbody tr th:only-of-type {\n",
       "        vertical-align: middle;\n",
       "    }\n",
       "\n",
       "    .dataframe tbody tr th {\n",
       "        vertical-align: top;\n",
       "    }\n",
       "\n",
       "    .dataframe thead th {\n",
       "        text-align: right;\n",
       "    }\n",
       "</style>\n",
       "<table border=\"1\" class=\"dataframe\">\n",
       "  <thead>\n",
       "    <tr style=\"text-align: right;\">\n",
       "      <th></th>\n",
       "      <th>Name</th>\n",
       "      <th>c3d</th>\n",
       "    </tr>\n",
       "  </thead>\n",
       "  <tbody>\n",
       "    <tr>\n",
       "      <th>0</th>\n",
       "      <td>video8768</td>\n",
       "      <td>[0.00352624, 0.00137636, 0.04618705, 7.76e-06,...</td>\n",
       "    </tr>\n",
       "    <tr>\n",
       "      <th>1</th>\n",
       "      <td>video8759</td>\n",
       "      <td>[0.00777159, 0.00230215, 0.00367146, 4.773e-05...</td>\n",
       "    </tr>\n",
       "    <tr>\n",
       "      <th>2</th>\n",
       "      <td>video8762</td>\n",
       "      <td>[0.00157295, 0.00139808, 0.07172299, 2.488e-05...</td>\n",
       "    </tr>\n",
       "    <tr>\n",
       "      <th>3</th>\n",
       "      <td>video8765</td>\n",
       "      <td>[0.00035768, 0.00397286, 0.0088033, 0.00774053...</td>\n",
       "    </tr>\n",
       "    <tr>\n",
       "      <th>4</th>\n",
       "      <td>video8758</td>\n",
       "      <td>[1.11e-06, 1.151e-05, 2.465e-05, 1.226e-05, 5....</td>\n",
       "    </tr>\n",
       "  </tbody>\n",
       "</table>\n",
       "</div>"
      ],
      "text/plain": [
       "        Name                                                c3d\n",
       "0  video8768  [0.00352624, 0.00137636, 0.04618705, 7.76e-06,...\n",
       "1  video8759  [0.00777159, 0.00230215, 0.00367146, 4.773e-05...\n",
       "2  video8762  [0.00157295, 0.00139808, 0.07172299, 2.488e-05...\n",
       "3  video8765  [0.00035768, 0.00397286, 0.0088033, 0.00774053...\n",
       "4  video8758  [1.11e-06, 1.151e-05, 2.465e-05, 1.226e-05, 5...."
      ]
     },
     "execution_count": 153,
     "metadata": {
      "tags": []
     },
     "output_type": "execute_result"
    }
   ],
   "source": [
    "c3d.head()"
   ]
  },
  {
   "cell_type": "code",
   "execution_count": null,
   "metadata": {
    "id": "WxUx-_0p51Yc"
   },
   "outputs": [],
   "source": [
    "## Relacing missing values with list of 101 zeros.\n",
    "for i in c3d.index:\n",
    "  if isinstance(c3d['c3d'][i],int):\n",
    "    c3d['c3d'][i] = [0] * 101    \n",
    "\n",
    "\n",
    "\n",
    "## Length of C3D feature is 101\n",
    "result_array = np.empty((0, 101))\n",
    "for line in c3d['c3d']:\n",
    "    result_array = np.append(result_array, np.array([line]), axis = 0)"
   ]
  },
  {
   "cell_type": "code",
   "execution_count": null,
   "metadata": {
    "colab": {
     "base_uri": "https://localhost:8080/"
    },
    "id": "KSaxGt7459gg",
    "outputId": "bfd0dc2f-7501-4a5a-9de7-aa5011dee8a9"
   },
   "outputs": [
    {
     "name": "stdout",
     "output_type": "stream",
     "text": [
      "<class 'numpy.ndarray'>\n"
     ]
    },
    {
     "data": {
      "text/plain": [
       "array([[3.5262400e-03, 1.3763600e-03, 4.6187050e-02, ..., 5.0880000e-05,\n",
       "        6.6530000e-05, 6.8281257e-01],\n",
       "       [7.7715900e-03, 2.3021500e-03, 3.6714600e-03, ..., 1.7517360e-02,\n",
       "        6.6693252e-01, 2.8582300e-03],\n",
       "       [1.5729500e-03, 1.3980800e-03, 7.1722990e-02, ..., 3.3770000e-05,\n",
       "        8.3744000e-04, 8.0448484e-01],\n",
       "       ...,\n",
       "       [2.1110000e-04, 5.8155900e-03, 2.3340000e-04, ..., 3.2178000e-04,\n",
       "        6.9276000e-04, 1.3163320e-02],\n",
       "       [2.1449800e-03, 3.5880870e-02, 2.3955000e-04, ..., 1.4710000e-05,\n",
       "        1.1600000e-06, 7.4280000e-04],\n",
       "       [1.0272900e-03, 8.8060000e-05, 1.0535000e-04, ..., 6.9846000e-04,\n",
       "        4.9600000e-06, 4.1440000e-05]])"
      ]
     },
     "execution_count": 155,
     "metadata": {
      "tags": []
     },
     "output_type": "execute_result"
    }
   ],
   "source": [
    "X_arrC3D = result_array\n",
    "del result_array\n",
    "print(type(X_arrC3D))\n",
    "X_arrC3D"
   ]
  },
  {
   "cell_type": "code",
   "execution_count": null,
   "metadata": {
    "id": "3pNI5Fwu6DDn"
   },
   "outputs": [],
   "source": [
    "c3d_predictions_test = c3d_random_forest.predict(X_arrC3D)\n",
    "save('/content/drive/MyDrive/ML Assignment/Predictions/c3d_short_pred_final.npy', c3d_predictions_test)"
   ]
  },
  {
   "cell_type": "code",
   "execution_count": null,
   "metadata": {
    "colab": {
     "base_uri": "https://localhost:8080/"
    },
    "id": "f1yq7HFY6VIo",
    "outputId": "25c3f8e5-7fa7-4481-95bb-767cab5dac1b"
   },
   "outputs": [
    {
     "data": {
      "text/plain": [
       "array([[0.8605525, 0.79583  ],\n",
       "       [0.85114  , 0.74798  ],\n",
       "       [0.83888  , 0.74481  ],\n",
       "       ...,\n",
       "       [0.86428  , 0.77125  ],\n",
       "       [0.87878  , 0.78327  ],\n",
       "       [0.88468  , 0.83285  ]])"
      ]
     },
     "execution_count": 157,
     "metadata": {
      "tags": []
     },
     "output_type": "execute_result"
    }
   ],
   "source": [
    "c3d_predictions_test"
   ]
  },
  {
   "cell_type": "markdown",
   "metadata": {
    "id": "a5T4cAiihDqk"
   },
   "source": [
    "## Weighted ensembling to get the final shprt-term memorability score"
   ]
  },
  {
   "cell_type": "code",
   "execution_count": null,
   "metadata": {
    "colab": {
     "base_uri": "https://localhost:8080/"
    },
    "id": "zMXmY93RhJpF",
    "outputId": "08be8c33-26be-4ca1-e6b1-4ae04eb2f5db"
   },
   "outputs": [
    {
     "name": "stdout",
     "output_type": "stream",
     "text": [
      "Shape of the short term memorability score prediction arrays are:\n",
      "Aesthetics Feature -->  (2000,)\n",
      "HMP Feature -->  (2000,)\n",
      "LBP Feature -->  (2000, 2)\n",
      "C3D Feature -->  (2000, 2)\n",
      "\n",
      "Removing long term predictions from LBP and C3D...\n",
      "Shape of features after removing the long term scores are:\n",
      "LBP Feature -->  (2000, 1)\n",
      "C3D Feature -->  (2000, 1)\n"
     ]
    }
   ],
   "source": [
    "## Loading saved predictions\n",
    "aesthetics_short = load('/content/drive/MyDrive/ML Assignment/Predictions/aesthetics_short_pred_final.npy')\n",
    "hmp_short = load('/content/drive/MyDrive/ML Assignment/Predictions/hmp_short_pred_final.npy')\n",
    "lbp_short = load('/content/drive/MyDrive/ML Assignment/Predictions/lbp_short_pred_final.npy')\n",
    "c3d_short = load('/content/drive/MyDrive/ML Assignment/Predictions/c3d_short_pred_final.npy')\n",
    "\n",
    "print(\"Shape of the short term memorability score prediction arrays are:\")\n",
    "print(\"Aesthetics Feature --> \", aesthetics_short.shape)\n",
    "print(\"HMP Feature --> \", hmp_short.shape)\n",
    "print(\"LBP Feature --> \", lbp_short.shape)\n",
    "print(\"C3D Feature --> \", c3d_short.shape)\n",
    "\n",
    "## LBP and C3D Predictions have 2 columns which also contain the long term memorability score. \n",
    "## Removing the long term memorability score.\n",
    "print()\n",
    "print(\"Removing long term predictions from LBP and C3D...\")\n",
    "lbp_short = np.delete(lbp_short,1,axis = 1) \n",
    "c3d_short = np.delete(c3d_short,1,axis = 1) \n",
    "print(\"Shape of features after removing the long term scores are:\")\n",
    "print(\"LBP Feature --> \", lbp_short.shape)\n",
    "print(\"C3D Feature --> \", c3d_short.shape)"
   ]
  },
  {
   "cell_type": "code",
   "execution_count": null,
   "metadata": {
    "colab": {
     "base_uri": "https://localhost:8080/"
    },
    "id": "EdqsNCPtk87h",
    "outputId": "4732cd5a-2884-4db4-bc9e-529af92e0451"
   },
   "outputs": [
    {
     "data": {
      "text/plain": [
       "array([0.84497919, 0.8217913 , 0.84669631, ..., 0.86423521, 0.86511245,\n",
       "       0.86140868])"
      ]
     },
     "execution_count": 27,
     "metadata": {
      "tags": []
     },
     "output_type": "execute_result"
    }
   ],
   "source": [
    "## Applying weights\n",
    "final_short_score = (aesthetics_short * 0.23) + (np.squeeze(lbp_short) * 0.24) + (hmp_short * 0.26) + (np.squeeze(c3d_short) * 0.27)\n",
    "final_short_score"
   ]
  },
  {
   "cell_type": "markdown",
   "metadata": {
    "id": "LB-U0Pfa7MmN"
   },
   "source": [
    "## Long-Term Memorability"
   ]
  },
  {
   "cell_type": "code",
   "execution_count": null,
   "metadata": {
    "id": "NZaeEvcy7Qk9"
   },
   "outputs": [],
   "source": [
    "HMP_feature_list= []\n",
    "video_names_list = []\n",
    "for filename in glob.glob('/content/drive/MyDrive/ML Assignment/CA684_Assignment/Test-set/HMP_test/*.txt'):\n",
    "    name = ((filename.split('/')[-1]).split('.')[0])\n",
    "    video_names_list.append(name)\n",
    "    HMP_features = read_HMP(filename)\n",
    "    HMP_feature_list.append(HMP_features)\n",
    "\n",
    "hmp = pd.DataFrame(list(zip(video_names_list, HMP_feature_list)),\n",
    "               columns =['Name', 'hmp'])"
   ]
  },
  {
   "cell_type": "code",
   "execution_count": null,
   "metadata": {
    "id": "7mXRQUOT7Zh7"
   },
   "outputs": [],
   "source": [
    "for i in hmp.index:\n",
    "  if isinstance(hmp['hmp'][i],int):\n",
    "    hmp['hmp'][i] = [0] * 6075\n",
    "\n",
    "\n",
    "# Reusing same variable names to reduce memory.\n",
    "result_array = np.empty((0, 6075))\n",
    "for line in hmp['hmp']:\n",
    "    result_array = np.append(result_array, np.array([line]), axis = 0)"
   ]
  },
  {
   "cell_type": "code",
   "execution_count": null,
   "metadata": {
    "colab": {
     "base_uri": "https://localhost:8080/"
    },
    "id": "IXLbQxFq7dsn",
    "outputId": "1b06ac84-d6a8-4870-e33a-c65ebc072c37"
   },
   "outputs": [
    {
     "name": "stdout",
     "output_type": "stream",
     "text": [
      "<class 'numpy.ndarray'>\n"
     ]
    },
    {
     "data": {
      "text/plain": [
       "array([[2.0600e-03, 5.8300e-04, 1.1000e-05, ..., 6.5500e-04, 6.7100e-04,\n",
       "        5.5000e-05],\n",
       "       [1.5623e-02, 5.5710e-03, 2.6700e-04, ..., 8.5100e-04, 7.5200e-04,\n",
       "        2.7300e-04],\n",
       "       [5.3300e-03, 1.1660e-03, 2.0000e-06, ..., 1.5200e-04, 1.8800e-04,\n",
       "        9.2000e-05],\n",
       "       ...,\n",
       "       [4.5778e-02, 8.9350e-03, 1.3800e-04, ..., 2.4400e-04, 5.4600e-04,\n",
       "        7.0000e-05],\n",
       "       [9.7220e-03, 1.5440e-03, 9.0000e-05, ..., 1.5000e-04, 1.9800e-04,\n",
       "        4.5500e-04],\n",
       "       [2.3544e-02, 5.7500e-03, 2.6400e-04, ..., 3.9200e-04, 7.0600e-04,\n",
       "        3.4800e-04]])"
      ]
     },
     "execution_count": 160,
     "metadata": {
      "tags": []
     },
     "output_type": "execute_result"
    }
   ],
   "source": [
    "X_arrHMP = result_array\n",
    "del result_array\n",
    "print(type(X_arrHMP))\n",
    "X_arrHMP"
   ]
  },
  {
   "cell_type": "code",
   "execution_count": null,
   "metadata": {
    "id": "NXyuriyv7h2e"
   },
   "outputs": [],
   "source": [
    "hmp_long_pred = hmp_long_xgb.predict(X_arrHMP)\n",
    "save('/content/drive/MyDrive/ML Assignment/Predictions/hmp_long_pred_final.npy', hmp_long_pred)"
   ]
  },
  {
   "cell_type": "code",
   "execution_count": null,
   "metadata": {
    "colab": {
     "base_uri": "https://localhost:8080/"
    },
    "id": "f2C_J_kq7v25",
    "outputId": "0e6d541f-cb7e-4440-faa5-3e4d4f1cafe0"
   },
   "outputs": [
    {
     "data": {
      "text/plain": [
       "array([0.7893516 , 0.73049796, 0.716335  , ..., 0.74184346, 0.7844802 ,\n",
       "       0.76926076], dtype=float32)"
      ]
     },
     "execution_count": 162,
     "metadata": {
      "tags": []
     },
     "output_type": "execute_result"
    }
   ],
   "source": [
    "hmp_long_pred"
   ]
  },
  {
   "cell_type": "markdown",
   "metadata": {
    "id": "hOgAm1Q0o4uT"
   },
   "source": [
    "## Merging Short and Long term scores and creating a CSV for this"
   ]
  },
  {
   "cell_type": "code",
   "execution_count": null,
   "metadata": {
    "id": "sx9njG0BqpTF"
   },
   "outputs": [],
   "source": [
    "## Extracting Video names\n",
    "my_namelist = [] # Creating a new list to store the names of the videos\n",
    "for filename in glob.glob('/content/drive/MyDrive/ML Assignment/CA684_Assignment/Test-set/C3D_test/*.txt'):\n",
    "    my_namelist.append(int(((filename.split('/')[-1]).split('.')[0])[5:]))"
   ]
  },
  {
   "cell_type": "code",
   "execution_count": null,
   "metadata": {
    "colab": {
     "base_uri": "https://localhost:8080/",
     "height": 415
    },
    "id": "gj1C5es9rmw9",
    "outputId": "ae20ec3d-7ecb-4153-d2d4-a26c5c91b0ce"
   },
   "outputs": [
    {
     "data": {
      "text/html": [
       "<div>\n",
       "<style scoped>\n",
       "    .dataframe tbody tr th:only-of-type {\n",
       "        vertical-align: middle;\n",
       "    }\n",
       "\n",
       "    .dataframe tbody tr th {\n",
       "        vertical-align: top;\n",
       "    }\n",
       "\n",
       "    .dataframe thead th {\n",
       "        text-align: right;\n",
       "    }\n",
       "</style>\n",
       "<table border=\"1\" class=\"dataframe\">\n",
       "  <thead>\n",
       "    <tr style=\"text-align: right;\">\n",
       "      <th></th>\n",
       "      <th>video</th>\n",
       "    </tr>\n",
       "  </thead>\n",
       "  <tbody>\n",
       "    <tr>\n",
       "      <th>0</th>\n",
       "      <td>8768</td>\n",
       "    </tr>\n",
       "    <tr>\n",
       "      <th>1</th>\n",
       "      <td>8759</td>\n",
       "    </tr>\n",
       "    <tr>\n",
       "      <th>2</th>\n",
       "      <td>8762</td>\n",
       "    </tr>\n",
       "    <tr>\n",
       "      <th>3</th>\n",
       "      <td>8765</td>\n",
       "    </tr>\n",
       "    <tr>\n",
       "      <th>4</th>\n",
       "      <td>8758</td>\n",
       "    </tr>\n",
       "    <tr>\n",
       "      <th>...</th>\n",
       "      <td>...</td>\n",
       "    </tr>\n",
       "    <tr>\n",
       "      <th>1995</th>\n",
       "      <td>8752</td>\n",
       "    </tr>\n",
       "    <tr>\n",
       "      <th>1996</th>\n",
       "      <td>8749</td>\n",
       "    </tr>\n",
       "    <tr>\n",
       "      <th>1997</th>\n",
       "      <td>8755</td>\n",
       "    </tr>\n",
       "    <tr>\n",
       "      <th>1998</th>\n",
       "      <td>8756</td>\n",
       "    </tr>\n",
       "    <tr>\n",
       "      <th>1999</th>\n",
       "      <td>8757</td>\n",
       "    </tr>\n",
       "  </tbody>\n",
       "</table>\n",
       "<p>2000 rows × 1 columns</p>\n",
       "</div>"
      ],
      "text/plain": [
       "      video\n",
       "0      8768\n",
       "1      8759\n",
       "2      8762\n",
       "3      8765\n",
       "4      8758\n",
       "...     ...\n",
       "1995   8752\n",
       "1996   8749\n",
       "1997   8755\n",
       "1998   8756\n",
       "1999   8757\n",
       "\n",
       "[2000 rows x 1 columns]"
      ]
     },
     "execution_count": 56,
     "metadata": {
      "tags": []
     },
     "output_type": "execute_result"
    }
   ],
   "source": [
    "final_score = pd.DataFrame((my_namelist),\n",
    "               columns =['video'])\n",
    "final_score"
   ]
  },
  {
   "cell_type": "code",
   "execution_count": null,
   "metadata": {
    "colab": {
     "base_uri": "https://localhost:8080/"
    },
    "id": "otygu5LusFDh",
    "outputId": "7397af1d-5a3e-4838-d452-2393a57054f9"
   },
   "outputs": [
    {
     "name": "stdout",
     "output_type": "stream",
     "text": [
      "<class 'pandas.core.frame.DataFrame'>\n",
      "RangeIndex: 2000 entries, 0 to 1999\n",
      "Data columns (total 3 columns):\n",
      " #   Column                   Non-Null Count  Dtype  \n",
      "---  ------                   --------------  -----  \n",
      " 0   video                    2000 non-null   int64  \n",
      " 1   short-term_memorability  2000 non-null   float64\n",
      " 2   long-term_memorability   2000 non-null   float64\n",
      "dtypes: float64(2), int64(1)\n",
      "memory usage: 47.0 KB\n"
     ]
    }
   ],
   "source": [
    "final_score['short-term_memorability'] = final_short_score.tolist()\n",
    "final_score['long-term_memorability'] = hmp_long_pred.tolist()\n",
    "final_score.info()"
   ]
  },
  {
   "cell_type": "code",
   "execution_count": null,
   "metadata": {
    "id": "-IAbal-LvgQD"
   },
   "outputs": [],
   "source": [
    "ground_truth = pd.read_csv('/content/drive/MyDrive/ML Assignment/CA684_Assignment/Test-set/Ground-truth_test/ground_truth_template.csv')"
   ]
  },
  {
   "cell_type": "code",
   "execution_count": null,
   "metadata": {
    "colab": {
     "base_uri": "https://localhost:8080/"
    },
    "id": "rlTw4OQ4v7nY",
    "outputId": "f90a0b5b-c87e-4880-acb7-4963c01ffcb9"
   },
   "outputs": [
    {
     "name": "stdout",
     "output_type": "stream",
     "text": [
      "<class 'pandas.core.frame.DataFrame'>\n",
      "RangeIndex: 2000 entries, 0 to 1999\n",
      "Data columns (total 3 columns):\n",
      " #   Column                     Non-Null Count  Dtype\n",
      "---  ------                     --------------  -----\n",
      " 0   video                      2000 non-null   int64\n",
      " 1   nb_short-term_annotations  2000 non-null   int64\n",
      " 2   nb_long-term_annotations   2000 non-null   int64\n",
      "dtypes: int64(3)\n",
      "memory usage: 47.0 KB\n"
     ]
    }
   ],
   "source": [
    "del ground_truth['short-term_memorability']\n",
    "del ground_truth['long-term_memorability']\n",
    "ground_truth.info()"
   ]
  },
  {
   "cell_type": "code",
   "execution_count": null,
   "metadata": {
    "id": "AWoXem5ywbS-"
   },
   "outputs": [],
   "source": [
    "final_df = ground_truth.merge(final_score, on='video')"
   ]
  },
  {
   "cell_type": "code",
   "execution_count": null,
   "metadata": {
    "colab": {
     "base_uri": "https://localhost:8080/",
     "height": 202
    },
    "id": "dhMqk1OIyHZO",
    "outputId": "943ca7b2-de2d-4d5f-b728-a5a09b663276"
   },
   "outputs": [
    {
     "data": {
      "text/html": [
       "<div>\n",
       "<style scoped>\n",
       "    .dataframe tbody tr th:only-of-type {\n",
       "        vertical-align: middle;\n",
       "    }\n",
       "\n",
       "    .dataframe tbody tr th {\n",
       "        vertical-align: top;\n",
       "    }\n",
       "\n",
       "    .dataframe thead th {\n",
       "        text-align: right;\n",
       "    }\n",
       "</style>\n",
       "<table border=\"1\" class=\"dataframe\">\n",
       "  <thead>\n",
       "    <tr style=\"text-align: right;\">\n",
       "      <th></th>\n",
       "      <th>video</th>\n",
       "      <th>nb_short-term_annotations</th>\n",
       "      <th>nb_long-term_annotations</th>\n",
       "      <th>short-term_memorability</th>\n",
       "      <th>long-term_memorability</th>\n",
       "    </tr>\n",
       "  </thead>\n",
       "  <tbody>\n",
       "    <tr>\n",
       "      <th>0</th>\n",
       "      <td>7494</td>\n",
       "      <td>33</td>\n",
       "      <td>12</td>\n",
       "      <td>0.864413</td>\n",
       "      <td>0.779815</td>\n",
       "    </tr>\n",
       "    <tr>\n",
       "      <th>1</th>\n",
       "      <td>7495</td>\n",
       "      <td>34</td>\n",
       "      <td>10</td>\n",
       "      <td>0.846164</td>\n",
       "      <td>0.790298</td>\n",
       "    </tr>\n",
       "    <tr>\n",
       "      <th>2</th>\n",
       "      <td>7496</td>\n",
       "      <td>32</td>\n",
       "      <td>13</td>\n",
       "      <td>0.869007</td>\n",
       "      <td>0.790462</td>\n",
       "    </tr>\n",
       "    <tr>\n",
       "      <th>3</th>\n",
       "      <td>7497</td>\n",
       "      <td>33</td>\n",
       "      <td>10</td>\n",
       "      <td>0.863214</td>\n",
       "      <td>0.803021</td>\n",
       "    </tr>\n",
       "    <tr>\n",
       "      <th>4</th>\n",
       "      <td>7498</td>\n",
       "      <td>33</td>\n",
       "      <td>10</td>\n",
       "      <td>0.854811</td>\n",
       "      <td>0.784844</td>\n",
       "    </tr>\n",
       "  </tbody>\n",
       "</table>\n",
       "</div>"
      ],
      "text/plain": [
       "   video  ...  long-term_memorability\n",
       "0   7494  ...                0.779815\n",
       "1   7495  ...                0.790298\n",
       "2   7496  ...                0.790462\n",
       "3   7497  ...                0.803021\n",
       "4   7498  ...                0.784844\n",
       "\n",
       "[5 rows x 5 columns]"
      ]
     },
     "execution_count": 61,
     "metadata": {
      "tags": []
     },
     "output_type": "execute_result"
    }
   ],
   "source": [
    "final_df.head()"
   ]
  },
  {
   "cell_type": "code",
   "execution_count": null,
   "metadata": {
    "id": "Pg70cv-Ns739"
   },
   "outputs": [],
   "source": [
    "final_df.to_csv('/content/drive/MyDrive/ML Assignment/Siddarth_Patil_20210993_predictions.csv', index = False)"
   ]
  }
 ],
 "metadata": {
  "colab": {
   "collapsed_sections": [],
   "name": "Siddarth_Patil_20210993_predicting_memorability.ipynb",
   "provenance": [],
   "toc_visible": true
  },
  "kernelspec": {
   "display_name": "Python 3",
   "language": "python",
   "name": "python3"
  },
  "language_info": {
   "codemirror_mode": {
    "name": "ipython",
    "version": 3
   },
   "file_extension": ".py",
   "mimetype": "text/x-python",
   "name": "python",
   "nbconvert_exporter": "python",
   "pygments_lexer": "ipython3",
   "version": "3.7.6"
  }
 },
 "nbformat": 4,
 "nbformat_minor": 1
}
